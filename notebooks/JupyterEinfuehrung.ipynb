{
 "cells": [
  {
   "cell_type": "markdown",
   "metadata": {},
   "source": [
    "# Einführung in Jupyter notebooks"
   ]
  },
  {
   "cell_type": "markdown",
   "metadata": {},
   "source": [
    "In diesem Notebook geben wir eine kleine Einführung in Jupyter Notebooks und zeigen wie man einfache Java Programme schreibt. Ausserdem führen wir Turtlegrafik ein, die wir während dem Kurs immer wieder verwenden werden um Programmierkonzepte zu illustrieren. "
   ]
  },
  {
   "cell_type": "markdown",
   "metadata": {},
   "source": [
    "### Einfache Java Programme in Jupyter Notebooks"
   ]
  },
  {
   "cell_type": "markdown",
   "metadata": {},
   "source": [
    "Jupyter Notebooks sind im Dokumente, die neben Text auch Programmcode enthalten. aus einer Sequenz von einzelnen Zellen bestehen. Die aktuelle Zelle erkennt man jeweils daran, dass diese umrahmt ist. Jede Zelle ist entweder eine Textzelle oder eine Code Zelle. Codezellen erkennt man dadurch, dass diese mit ```In [..]``` gekennzeichnet sind. \n",
    "Codezellen enthalten ausführbaren Java Code und können durch drücken von ```Shift+Enter``` ausgeführt werden. Die folgenden zwei Zellen sind Codezellen und können ausgeführt werden. "
   ]
  },
  {
   "cell_type": "code",
   "execution_count": null,
   "metadata": {},
   "outputs": [],
   "source": [
    "5 + 3;"
   ]
  },
  {
   "cell_type": "code",
   "execution_count": null,
   "metadata": {},
   "outputs": [],
   "source": [
    "System.out.println(\"Programmieren macht Spass\");"
   ]
  },
  {
   "cell_type": "markdown",
   "metadata": {},
   "source": [
    "#### Mini-Übung:\n",
    "* Führen Sie die obigen 2 Codezeilen aus. "
   ]
  },
  {
   "cell_type": "markdown",
   "metadata": {},
   "source": [
    "Wir wir sehen können wir hier im Gegensatz zu richtigen Java Programmen, direkt einzelne Java Ausdrücke eingeben, die dann direkt ausgeführt werden. Wir brauchen kein Klassengerüst und müssen nicht erst den Compiler aufrufen. Jeder Ausdruck wird direkt von Java (genauer dem Programm JShell) interpretiert. "
   ]
  },
  {
   "cell_type": "markdown",
   "metadata": {},
   "source": [
    "### Turtle grafik"
   ]
  },
  {
   "cell_type": "markdown",
   "metadata": {},
   "source": [
    "Wir werden in diesem Kurs häufig Turtle Grafik einsetzen um Konzepte zu illustrieren. Man kann sich vorstellen, dass eine Stifttragende Schildkröte sich auf einer Zeichnungsebene bewegt, und dabei eine Zeichnung erstellt. Die Bewegungen der Schildkröte folgen genau unseren Befehlen."
   ]
  },
  {
   "cell_type": "markdown",
   "metadata": {},
   "source": [
    "Damit wir Turtle Grafik nutzen können, müssen wir zuerst eine Programmbibliothek in Jupyter laden:"
   ]
  },
  {
   "cell_type": "code",
   "execution_count": null,
   "metadata": {},
   "outputs": [],
   "source": [
    "%mavenRepo bintray https://dl.bintray.com/egp/maven\n",
    "%maven ch.unibas.informatik:jturtle:0.5\n",
    "\n",
    "import ch.unibas.informatik.jturtle.Turtle;\n"
   ]
  },
  {
   "cell_type": "markdown",
   "metadata": {},
   "source": [
    "Danach können wir die Schildkröte mit Java-Befehlen steuern:"
   ]
  },
  {
   "cell_type": "code",
   "execution_count": null,
   "metadata": {},
   "outputs": [],
   "source": [
    "Turtle turtle = new Turtle();\n",
    "turtle.penDown();\n",
    "turtle.forward(50);\n",
    "turtle.turnRight(120);\n",
    "turtle.forward(50);\n",
    "turtle.turnRight(120);\n",
    "turtle.forward(50);\n",
    "\n",
    "turtle.toImage();"
   ]
  },
  {
   "cell_type": "markdown",
   "metadata": {},
   "source": [
    "Das System ist sehr einfach zu verstehen. Turtle wurde ursprünglich auch dazu entwickelt, Kindern das Programmieren beizubringen. Mithilfe von Turtle Grafik können jedoch auch sehr komplexe und abstrakte Konzepte graphisch illustriert werden. Das folgende Programm ist ein Beispiel für ein komplexes Programm, welches Sie am Ende dieser Vorlesung ohne Probleme verstehen werden."
   ]
  },
  {
   "cell_type": "code",
   "execution_count": null,
   "metadata": {},
   "outputs": [],
   "source": [
    "Random random = new Random(42);\n",
    "void randomTree(Turtle turtle, double length, double minLength, int thickness, int minThickness, double minAngle, double maxAngle, double minShrink, double maxShrink) {\n",
    "     if (length < minLength || thickness < minThickness) {\n",
    "        return;\n",
    "     } else {\n",
    "         double angle1 = minAngle + random.nextDouble() * (maxAngle - minAngle);\n",
    "         double angle2 = minAngle + random.nextDouble() * (maxAngle - minAngle);\n",
    "         double shrink1 = minShrink + random.nextDouble() * (maxShrink - minShrink);\n",
    "         double shrink2 = minShrink + random.nextDouble() * (maxShrink - minShrink);\n",
    "         turtle.penSize(thickness);\n",
    "         turtle.forward(length);\n",
    "         turtle.turnRight(angle1);\n",
    "         randomTree(turtle, length*shrink1, minLength, (int) (thickness * shrink1),  minThickness, minAngle, maxAngle, minShrink, maxShrink);\n",
    "         turtle.turnLeft(angle1 + angle2);         \n",
    "         randomTree(turtle, length*shrink2, minLength, (int) (thickness * shrink2), minThickness, minAngle, maxAngle, minShrink, maxShrink);\n",
    "         turtle.turnRight(angle2);\n",
    "         turtle.penSize(thickness);\n",
    "         turtle.backward(length);\n",
    "     }\n",
    "}\n",
    "\n",
    "Turtle t = new Turtle();\n",
    "t.home();\n",
    "t.turnRight(180);\n",
    "t.forward(100);\n",
    "t.turnRight(180);\n",
    "t.penColor(java.awt.Color.BLACK);\n",
    "t.penDown();\n",
    "randomTree(t, 20, 1, 12, 1, 10, 30, 0.75, 1.0);\n",
    "t.toImage();\n"
   ]
  },
  {
   "cell_type": "markdown",
   "metadata": {},
   "source": [
    "#### Miniübung\n",
    "\n",
    "* In der zweitletzten Zeile in obigem Programm wird die Funktion zum Zeichnen des Baumes aufgerufen. \n",
    "    * Was passiert wenn Sie die Zahlen ändern?\n",
    "    * Können Sie interessante Bäume erstellen?"
   ]
  },
  {
   "cell_type": "markdown",
   "metadata": {},
   "source": [
    "### Turtle Grafik Referenz\n",
    "\n",
    "Eine vollständige Referenz aller Turtle-Befehle finden Sie in separatem Notebook."
   ]
  },
  {
   "cell_type": "code",
   "execution_count": null,
   "metadata": {},
   "outputs": [],
   "source": []
  }
 ],
 "metadata": {
  "kernelspec": {
   "display_name": "Java",
   "language": "java",
   "name": "java"
  },
  "language_info": {
   "codemirror_mode": "java",
   "file_extension": ".java",
   "mimetype": "text/x-java-source",
   "name": "Java",
   "pygments_lexer": "java",
   "version": "11.0.4+11"
  }
 },
 "nbformat": 4,
 "nbformat_minor": 2
}
