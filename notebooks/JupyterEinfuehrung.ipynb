{
 "cells": [
  {
   "cell_type": "markdown",
   "metadata": {},
   "source": [
    "### Google Colab Integration\n",
    "\n",
    "Wenn Sie mit einer lokalen Installation von Jupyter Notebooks arbeiten, können Sie die folgende Zelle überspringen. Wenn Sie das Notebook auf Google-Colab ausführen, dann müssen Sie als erstes diese Zelle ausführen und danach die Seite neu laden (F5). Sie müssen den genauen Inhalt der Zelle nicht verstehen, da dies rein technische Tricks sind um Java in Google-Colab zum laufen zu bringen. "
   ]
  },
  {
   "cell_type": "code",
   "execution_count": 1,
   "metadata": {
    "slideshow": {
     "slide_type": "skip"
    }
   },
   "outputs": [
    {
     "ename": "CompilationException",
     "evalue": "",
     "output_type": "error",
     "traceback": [
      "\u001b[1m\u001b[30m|   \u001b[1m\u001b[30m!echo\u001b[0m\u001b[1m\u001b[30m\u001b[41m\u001b[0m\u001b[1m\u001b[30m \"Update environment...\"\u001b[0m",
      "\u001b[1m\u001b[31m';' expected\u001b[0m",
      "",
      "\u001b[1m\u001b[30m|   \u001b[1m\u001b[30m!apt update\u001b[0m\u001b[1m\u001b[30m\u001b[41m\u001b[0m\u001b[1m\u001b[30m -q  &> /dev/null\u001b[0m",
      "\u001b[1m\u001b[31m';' expected\u001b[0m",
      "",
      "\u001b[1m\u001b[30m|   \u001b[1m\u001b[30m!apt update -q  &\u001b[0m\u001b[1m\u001b[30m\u001b[41m\u001b[0m\u001b[1m\u001b[30m> /dev/null\u001b[0m",
      "\u001b[1m\u001b[31millegal start of expression\u001b[0m",
      "",
      "\u001b[1m\u001b[30m|   \u001b[1m\u001b[30m!apt update -q  &> \u001b[0m\u001b[1m\u001b[30m\u001b[41m\u001b[0m\u001b[1m\u001b[30m/dev/null\u001b[0m",
      "\u001b[1m\u001b[31millegal start of expression\u001b[0m",
      "",
      "\u001b[1m\u001b[30m|   \u001b[1m\u001b[30m!apt update -\u001b[0m\u001b[1m\u001b[30m\u001b[41mq  &> /dev/null\u001b[0m\u001b[1m\u001b[30m\u001b[0m",
      "\u001b[1m\u001b[31mnot a statement\u001b[0m",
      "",
      "\u001b[1m\u001b[30m|   \u001b[1m\u001b[30m!apt update -q  &> /dev/null\u001b[0m\u001b[1m\u001b[30m\u001b[41m\u001b[0m\u001b[1m\u001b[30m\u001b[0m",
      "\u001b[1m\u001b[31m';' expected\u001b[0m",
      "",
      "\u001b[1m\u001b[30m|   \u001b[1m\u001b[30m!\u001b[0m\u001b[1m\u001b[30m\u001b[41mecho\u001b[0m\u001b[1m\u001b[30m \"Install Java...\"\u001b[0m",
      "\u001b[1m\u001b[31mnot a statement\u001b[0m",
      "",
      "\u001b[1m\u001b[30m|   \u001b[1m\u001b[30m!echo\u001b[0m\u001b[1m\u001b[30m\u001b[41m\u001b[0m\u001b[1m\u001b[30m \"Install Java...\"\u001b[0m",
      "\u001b[1m\u001b[31m';' expected\u001b[0m",
      "",
      "\u001b[1m\u001b[30m|   \u001b[1m\u001b[30m!\u001b[0m\u001b[1m\u001b[30m\u001b[41mapt-get\u001b[0m\u001b[1m\u001b[30m install -q openjdk-11-jdk-headless &> /dev/null\u001b[0m",
      "\u001b[1m\u001b[31mnot a statement\u001b[0m",
      "",
      "\u001b[1m\u001b[30m|   \u001b[1m\u001b[30m!apt-get\u001b[0m\u001b[1m\u001b[30m\u001b[41m\u001b[0m\u001b[1m\u001b[30m install -q openjdk-11-jdk-headless &> /dev/null\u001b[0m",
      "\u001b[1m\u001b[31m';' expected\u001b[0m",
      "",
      "\u001b[1m\u001b[30m|   \u001b[1m\u001b[30m!apt-get \u001b[0m\u001b[1m\u001b[30m\u001b[41minstall -q\u001b[0m\u001b[1m\u001b[30m openjdk-11-jdk-headless &> /dev/null\u001b[0m",
      "\u001b[1m\u001b[31mnot a statement\u001b[0m",
      "",
      "\u001b[1m\u001b[30m|   \u001b[1m\u001b[30m!apt-get install -q\u001b[0m\u001b[1m\u001b[30m\u001b[41m\u001b[0m\u001b[1m\u001b[30m openjdk-11-jdk-headless &> /dev/null\u001b[0m",
      "\u001b[1m\u001b[31m';' expected\u001b[0m",
      "",
      "\u001b[1m\u001b[30m|   \u001b[1m\u001b[30m!apt-get install -q openjdk-11-jdk-headless &\u001b[0m\u001b[1m\u001b[30m\u001b[41m\u001b[0m\u001b[1m\u001b[30m> /dev/null\u001b[0m",
      "\u001b[1m\u001b[31millegal start of expression\u001b[0m",
      "",
      "\u001b[1m\u001b[30m|   \u001b[1m\u001b[30m!apt-get install -q openjdk-11-jdk-headless &> \u001b[0m\u001b[1m\u001b[30m\u001b[41m\u001b[0m\u001b[1m\u001b[30m/dev/null\u001b[0m",
      "\u001b[1m\u001b[31millegal start of expression\u001b[0m",
      "",
      "\u001b[1m\u001b[30m|   \u001b[1m\u001b[30m!apt-get install -q \u001b[0m\u001b[1m\u001b[30m\u001b[41mopenjdk-11-jdk-headless &> /dev/null\u001b[0m\u001b[1m\u001b[30m\u001b[0m",
      "\u001b[1m\u001b[31mnot a statement\u001b[0m",
      "",
      "\u001b[1m\u001b[30m|   \u001b[1m\u001b[30m!apt-get install -q openjdk-11-jdk-headless &> /dev/null\u001b[0m\u001b[1m\u001b[30m\u001b[41m\u001b[0m\u001b[1m\u001b[30m\u001b[0m",
      "\u001b[1m\u001b[31m';' expected\u001b[0m",
      "",
      "\u001b[1m\u001b[30m|   \u001b[1m\u001b[30m!\u001b[0m\u001b[1m\u001b[30m\u001b[41mecho\u001b[0m\u001b[1m\u001b[30m \"Install Jupyter java kernel...\"\u001b[0m",
      "\u001b[1m\u001b[31mnot a statement\u001b[0m",
      "",
      "\u001b[1m\u001b[30m|   \u001b[1m\u001b[30m!echo\u001b[0m\u001b[1m\u001b[30m\u001b[41m\u001b[0m\u001b[1m\u001b[30m \"Install Jupyter java kernel...\"\u001b[0m",
      "\u001b[1m\u001b[31m';' expected\u001b[0m",
      "",
      "\u001b[1m\u001b[30m|   \u001b[1m\u001b[30m!\u001b[0m\u001b[1m\u001b[30m\u001b[41mcurl -L\u001b[0m\u001b[1m\u001b[30m https://github.com/SpencerPark/IJava/releases/download/v1.3.0/ijava-1.3.0.zip -o ijava-kernel.zip &> /dev/null\u001b[0m",
      "\u001b[1m\u001b[31mnot a statement\u001b[0m",
      "",
      "\u001b[1m\u001b[30m|   \u001b[1m\u001b[30m!curl -L\u001b[0m\u001b[1m\u001b[30m\u001b[41m\u001b[0m\u001b[1m\u001b[30m https://github.com/SpencerPark/IJava/releases/download/v1.3.0/ijava-1.3.0.zip -o ijava-kernel.zip &> /dev/null\u001b[0m",
      "\u001b[1m\u001b[31m';' expected\u001b[0m",
      "",
      "\u001b[1m\u001b[30m|   \u001b[1m\u001b[30m\u001b[0m\u001b[1m\u001b[30m\u001b[41m!unzip -q\u001b[0m\u001b[1m\u001b[30m ijava-kernel.zip -d ijava-kernel && cd ijava-kernel && python3 install.py --sys-prefix &> /dev/null\u001b[0m",
      "\u001b[1m\u001b[31mnot a statement\u001b[0m",
      "",
      "\u001b[1m\u001b[30m|   \u001b[1m\u001b[30m!unzip -q\u001b[0m\u001b[1m\u001b[30m\u001b[41m\u001b[0m\u001b[1m\u001b[30m ijava-kernel.zip -d ijava-kernel && cd ijava-kernel && python3 install.py --sys-prefix &> /dev/null\u001b[0m",
      "\u001b[1m\u001b[31m';' expected\u001b[0m",
      "",
      "\u001b[1m\u001b[30m|   \u001b[1m\u001b[30m!unzip -q \u001b[0m\u001b[1m\u001b[30m\u001b[41mijava-kernel.zip -d\u001b[0m\u001b[1m\u001b[30m ijava-kernel && cd ijava-kernel && python3 install.py --sys-prefix &> /dev/null\u001b[0m",
      "\u001b[1m\u001b[31mnot a statement\u001b[0m",
      "",
      "\u001b[1m\u001b[30m|   \u001b[1m\u001b[30m!unzip -q ijava-kernel.zip -d\u001b[0m\u001b[1m\u001b[30m\u001b[41m\u001b[0m\u001b[1m\u001b[30m ijava-kernel && cd ijava-kernel && python3 install.py --sys-prefix &> /dev/null\u001b[0m",
      "\u001b[1m\u001b[31m';' expected\u001b[0m",
      "",
      "\u001b[1m\u001b[30m|   \u001b[1m\u001b[30m!unzip -q ijava-kernel.zip -d \u001b[0m\u001b[1m\u001b[30m\u001b[41mijava-kernel && cd\u001b[0m\u001b[1m\u001b[30m ijava-kernel && python3 install.py --sys-prefix &> /dev/null\u001b[0m",
      "\u001b[1m\u001b[31mnot a statement\u001b[0m",
      "",
      "\u001b[1m\u001b[30m|   \u001b[1m\u001b[30m!unzip -q ijava-kernel.zip -d ijava-kernel && cd\u001b[0m\u001b[1m\u001b[30m\u001b[41m\u001b[0m\u001b[1m\u001b[30m ijava-kernel && python3 install.py --sys-prefix &> /dev/null\u001b[0m",
      "\u001b[1m\u001b[31m';' expected\u001b[0m",
      "",
      "\u001b[1m\u001b[30m|   \u001b[1m\u001b[30m!unzip -q ijava-kernel.zip -d ijava-kernel && cd \u001b[0m\u001b[1m\u001b[30m\u001b[41mijava-kernel && python3\u001b[0m\u001b[1m\u001b[30m install.py --sys-prefix &> /dev/null\u001b[0m",
      "\u001b[1m\u001b[31mnot a statement\u001b[0m",
      "",
      "\u001b[1m\u001b[30m|   \u001b[1m\u001b[30m!unzip -q ijava-kernel.zip -d ijava-kernel && cd ijava-kernel && python3\u001b[0m\u001b[1m\u001b[30m\u001b[41m\u001b[0m\u001b[1m\u001b[30m install.py --sys-prefix &> /dev/null\u001b[0m",
      "\u001b[1m\u001b[31m';' expected\u001b[0m",
      "",
      "\u001b[1m\u001b[30m|   \u001b[1m\u001b[30m!unzip -q ijava-kernel.zip -d ijava-kernel && cd ijava-kernel && python3 install.py --\u001b[0m\u001b[1m\u001b[30m\u001b[41m\u001b[0m\u001b[1m\u001b[30msys-prefix &> /dev/null\u001b[0m",
      "\u001b[1m\u001b[31m';' expected\u001b[0m",
      "",
      "\u001b[1m\u001b[30m|   \u001b[1m\u001b[30m!unzip -q ijava-kernel.zip -d ijava-kernel && cd ijava-kernel && python3 install.py --sys-prefix &\u001b[0m\u001b[1m\u001b[30m\u001b[41m\u001b[0m\u001b[1m\u001b[30m> /dev/null\u001b[0m",
      "\u001b[1m\u001b[31millegal start of expression\u001b[0m",
      "",
      "\u001b[1m\u001b[30m|   \u001b[1m\u001b[30m!unzip -q ijava-kernel.zip -d ijava-kernel && cd ijava-kernel && python3 install.py --sys-prefix &> \u001b[0m\u001b[1m\u001b[30m\u001b[41m\u001b[0m\u001b[1m\u001b[30m/dev/null\u001b[0m",
      "\u001b[1m\u001b[31millegal start of expression\u001b[0m",
      "",
      "\u001b[1m\u001b[30m|   \u001b[1m\u001b[30m!unzip -q ijava-kernel.zip -d ijava-kernel && cd ijava-kernel && python3 install.py --\u001b[0m\u001b[1m\u001b[30m\u001b[41msys-prefix &> /dev/null\u001b[0m\u001b[1m\u001b[30m\u001b[0m",
      "\u001b[1m\u001b[31mnot a statement\u001b[0m",
      "",
      "\u001b[1m\u001b[30m|   \u001b[1m\u001b[30m!unzip -q ijava-kernel.zip -d ijava-kernel && cd ijava-kernel && python3 install.py --sys-prefix &> /dev/null\u001b[0m\u001b[1m\u001b[30m\u001b[41m\u001b[0m\u001b[1m\u001b[30m\u001b[0m",
      "\u001b[1m\u001b[31m';' expected\u001b[0m",
      "",
      "\u001b[1m\u001b[30m|   \u001b[1m\u001b[30m!\u001b[0m\u001b[1m\u001b[30m\u001b[41mecho\u001b[0m\u001b[1m\u001b[30m \"Downloading turtle jar ...\"\u001b[0m",
      "\u001b[1m\u001b[31mnot a statement\u001b[0m",
      "",
      "\u001b[1m\u001b[30m|   \u001b[1m\u001b[30m!echo\u001b[0m\u001b[1m\u001b[30m\u001b[41m\u001b[0m\u001b[1m\u001b[30m \"Downloading turtle jar ...\"\u001b[0m",
      "\u001b[1m\u001b[31m';' expected\u001b[0m",
      "",
      "\u001b[1m\u001b[30m|   \u001b[1m\u001b[30m!\u001b[0m\u001b[1m\u001b[30m\u001b[41mcurl -L\u001b[0m\u001b[1m\u001b[30m https://github.com/Andreas-Forster/gyminf-programmieren/raw/master/notebooks/jturtle-0.6.jar -o jturtle-0.6.jar &> /dev/null\u001b[0m",
      "\u001b[1m\u001b[31mnot a statement\u001b[0m",
      "",
      "\u001b[1m\u001b[30m|   \u001b[1m\u001b[30m!curl -L\u001b[0m\u001b[1m\u001b[30m\u001b[41m\u001b[0m\u001b[1m\u001b[30m https://github.com/Andreas-Forster/gyminf-programmieren/raw/master/notebooks/jturtle-0.6.jar -o jturtle-0.6.jar &> /dev/null\u001b[0m",
      "\u001b[1m\u001b[31m';' expected\u001b[0m",
      "",
      "\u001b[1m\u001b[30m|   \u001b[1m\u001b[30m\u001b[0m\u001b[1m\u001b[30m\u001b[41m!echo\u001b[0m\u001b[1m\u001b[30m \"Done.\"\u001b[0m",
      "\u001b[1m\u001b[31mnot a statement\u001b[0m",
      "",
      "\u001b[1m\u001b[30m|   \u001b[1m\u001b[30m!echo\u001b[0m\u001b[1m\u001b[30m\u001b[41m\u001b[0m\u001b[1m\u001b[30m \"Done.\"\u001b[0m",
      "\u001b[1m\u001b[31m';' expected\u001b[0m",
      "",
      "\u001b[1m\u001b[30m|   \u001b[1m\u001b[30m!\u001b[0m\u001b[1m\u001b[30m\u001b[41mecho\u001b[0m\u001b[1m\u001b[30m \"Update environment...\"\u001b[0m",
      "\u001b[1m\u001b[31mcannot find symbol\u001b[0m",
      "\u001b[1m\u001b[31m  symbol:   variable echo\u001b[0m",
      "",
      "\u001b[1m\u001b[30m|   \u001b[1m\u001b[30m!\u001b[0m\u001b[1m\u001b[30m\u001b[41mapt\u001b[0m\u001b[1m\u001b[30m update -q  &> /dev/null\u001b[0m",
      "\u001b[1m\u001b[31mcannot find symbol\u001b[0m",
      "\u001b[1m\u001b[31m  symbol:   class apt\u001b[0m",
      "",
      "\u001b[1m\u001b[30m|   \u001b[1m\u001b[30m!apt update -\u001b[0m\u001b[1m\u001b[30m\u001b[41mq\u001b[0m\u001b[1m\u001b[30m  &> /dev/null\u001b[0m",
      "\u001b[1m\u001b[31mcannot find symbol\u001b[0m",
      "\u001b[1m\u001b[31m  symbol:   variable q\u001b[0m",
      "",
      "\u001b[1m\u001b[30m|   \u001b[1m\u001b[30m!apt update -q  &> /\u001b[0m\u001b[1m\u001b[30m\u001b[41mdev\u001b[0m\u001b[1m\u001b[30m/null\u001b[0m",
      "\u001b[1m\u001b[31mcannot find symbol\u001b[0m",
      "\u001b[1m\u001b[31m  symbol:   variable dev\u001b[0m",
      "",
      "\u001b[1m\u001b[30m|   \u001b[1m\u001b[30m!\u001b[0m\u001b[1m\u001b[30m\u001b[41mapt\u001b[0m\u001b[1m\u001b[30m-get install -q openjdk-11-jdk-headless &> /dev/null\u001b[0m",
      "\u001b[1m\u001b[31mcannot find symbol\u001b[0m",
      "\u001b[1m\u001b[31m  symbol:   variable apt\u001b[0m",
      "",
      "\u001b[1m\u001b[30m|   \u001b[1m\u001b[30m!apt-\u001b[0m\u001b[1m\u001b[30m\u001b[41mget\u001b[0m\u001b[1m\u001b[30m install -q openjdk-11-jdk-headless &> /dev/null\u001b[0m",
      "\u001b[1m\u001b[31mcannot find symbol\u001b[0m",
      "\u001b[1m\u001b[31m  symbol:   variable get\u001b[0m",
      "",
      "\u001b[1m\u001b[30m|   \u001b[1m\u001b[30m!apt-get \u001b[0m\u001b[1m\u001b[30m\u001b[41minstall\u001b[0m\u001b[1m\u001b[30m -q openjdk-11-jdk-headless &> /dev/null\u001b[0m",
      "\u001b[1m\u001b[31mcannot find symbol\u001b[0m",
      "\u001b[1m\u001b[31m  symbol:   variable install\u001b[0m",
      "",
      "\u001b[1m\u001b[30m|   \u001b[1m\u001b[30m!apt-get install -\u001b[0m\u001b[1m\u001b[30m\u001b[41mq\u001b[0m\u001b[1m\u001b[30m openjdk-11-jdk-headless &> /dev/null\u001b[0m",
      "\u001b[1m\u001b[31mcannot find symbol\u001b[0m",
      "\u001b[1m\u001b[31m  symbol:   variable q\u001b[0m",
      "",
      "\u001b[1m\u001b[30m|   \u001b[1m\u001b[30m!apt-get install -q \u001b[0m\u001b[1m\u001b[30m\u001b[41mopenjdk\u001b[0m\u001b[1m\u001b[30m-11-jdk-headless &> /dev/null\u001b[0m",
      "\u001b[1m\u001b[31mcannot find symbol\u001b[0m",
      "\u001b[1m\u001b[31m  symbol:   variable openjdk\u001b[0m",
      "",
      "\u001b[1m\u001b[30m|   \u001b[1m\u001b[30m!apt-get install -q openjdk-11-\u001b[0m\u001b[1m\u001b[30m\u001b[41mjdk\u001b[0m\u001b[1m\u001b[30m-headless &> /dev/null\u001b[0m",
      "\u001b[1m\u001b[31mcannot find symbol\u001b[0m",
      "\u001b[1m\u001b[31m  symbol:   variable jdk\u001b[0m",
      "",
      "\u001b[1m\u001b[30m|   \u001b[1m\u001b[30m!apt-get install -q openjdk-11-jdk-\u001b[0m\u001b[1m\u001b[30m\u001b[41mheadless\u001b[0m\u001b[1m\u001b[30m &> /dev/null\u001b[0m",
      "\u001b[1m\u001b[31mcannot find symbol\u001b[0m",
      "\u001b[1m\u001b[31m  symbol:   variable headless\u001b[0m",
      "",
      "\u001b[1m\u001b[30m|   \u001b[1m\u001b[30m!apt-get install -q openjdk-11-jdk-headless &> /\u001b[0m\u001b[1m\u001b[30m\u001b[41mdev\u001b[0m\u001b[1m\u001b[30m/null\u001b[0m",
      "\u001b[1m\u001b[31mcannot find symbol\u001b[0m",
      "\u001b[1m\u001b[31m  symbol:   variable dev\u001b[0m",
      "",
      "\u001b[1m\u001b[30m|   \u001b[1m\u001b[30m!\u001b[0m\u001b[1m\u001b[30m\u001b[41mcurl\u001b[0m\u001b[1m\u001b[30m -L https://github.com/SpencerPark/IJava/releases/download/v1.3.0/ijava-1.3.0.zip -o ijava-kernel.zip &> /dev/null\u001b[0m",
      "\u001b[1m\u001b[31mcannot find symbol\u001b[0m",
      "\u001b[1m\u001b[31m  symbol:   variable curl\u001b[0m",
      "",
      "\u001b[1m\u001b[30m|   \u001b[1m\u001b[30m!curl -\u001b[0m\u001b[1m\u001b[30m\u001b[41mL\u001b[0m\u001b[1m\u001b[30m https://github.com/SpencerPark/IJava/releases/download/v1.3.0/ijava-1.3.0.zip -o ijava-kernel.zip &> /dev/null\u001b[0m",
      "\u001b[1m\u001b[31mcannot find symbol\u001b[0m",
      "\u001b[1m\u001b[31m  symbol:   variable L\u001b[0m",
      "",
      "\u001b[1m\u001b[30m|   \u001b[1m\u001b[30m!\u001b[0m\u001b[1m\u001b[30m\u001b[41munzip\u001b[0m\u001b[1m\u001b[30m -q ijava-kernel.zip -d ijava-kernel && cd ijava-kernel && python3 install.py --sys-prefix &> /dev/null\u001b[0m",
      "\u001b[1m\u001b[31mcannot find symbol\u001b[0m",
      "\u001b[1m\u001b[31m  symbol:   variable unzip\u001b[0m",
      "",
      "\u001b[1m\u001b[30m|   \u001b[1m\u001b[30m!unzip -\u001b[0m\u001b[1m\u001b[30m\u001b[41mq\u001b[0m\u001b[1m\u001b[30m ijava-kernel.zip -d ijava-kernel && cd ijava-kernel && python3 install.py --sys-prefix &> /dev/null\u001b[0m",
      "\u001b[1m\u001b[31mcannot find symbol\u001b[0m",
      "\u001b[1m\u001b[31m  symbol:   variable q\u001b[0m",
      "",
      "\u001b[1m\u001b[30m|   \u001b[1m\u001b[30m!unzip -q \u001b[0m\u001b[1m\u001b[30m\u001b[41mijava\u001b[0m\u001b[1m\u001b[30m-kernel.zip -d ijava-kernel && cd ijava-kernel && python3 install.py --sys-prefix &> /dev/null\u001b[0m",
      "\u001b[1m\u001b[31mcannot find symbol\u001b[0m",
      "\u001b[1m\u001b[31m  symbol:   variable ijava\u001b[0m",
      "",
      "\u001b[1m\u001b[30m|   \u001b[1m\u001b[30m!unzip -q ijava-\u001b[0m\u001b[1m\u001b[30m\u001b[41mkernel\u001b[0m\u001b[1m\u001b[30m.zip -d ijava-kernel && cd ijava-kernel && python3 install.py --sys-prefix &> /dev/null\u001b[0m",
      "\u001b[1m\u001b[31mcannot find symbol\u001b[0m",
      "\u001b[1m\u001b[31m  symbol:   variable kernel\u001b[0m",
      "",
      "\u001b[1m\u001b[30m|   \u001b[1m\u001b[30m!unzip -q ijava-kernel.zip -\u001b[0m\u001b[1m\u001b[30m\u001b[41md\u001b[0m\u001b[1m\u001b[30m ijava-kernel && cd ijava-kernel && python3 install.py --sys-prefix &> /dev/null\u001b[0m",
      "\u001b[1m\u001b[31mcannot find symbol\u001b[0m",
      "\u001b[1m\u001b[31m  symbol:   variable d\u001b[0m",
      "",
      "\u001b[1m\u001b[30m|   \u001b[1m\u001b[30m!unzip -q ijava-kernel.zip -d \u001b[0m\u001b[1m\u001b[30m\u001b[41mijava\u001b[0m\u001b[1m\u001b[30m-kernel && cd ijava-kernel && python3 install.py --sys-prefix &> /dev/null\u001b[0m",
      "\u001b[1m\u001b[31mcannot find symbol\u001b[0m",
      "\u001b[1m\u001b[31m  symbol:   variable ijava\u001b[0m",
      "",
      "\u001b[1m\u001b[30m|   \u001b[1m\u001b[30m!unzip -q ijava-kernel.zip -d ijava-\u001b[0m\u001b[1m\u001b[30m\u001b[41mkernel\u001b[0m\u001b[1m\u001b[30m && cd ijava-kernel && python3 install.py --sys-prefix &> /dev/null\u001b[0m",
      "\u001b[1m\u001b[31mcannot find symbol\u001b[0m",
      "\u001b[1m\u001b[31m  symbol:   variable kernel\u001b[0m",
      "",
      "\u001b[1m\u001b[30m|   \u001b[1m\u001b[30m!unzip -q ijava-kernel.zip -d ijava-kernel && \u001b[0m\u001b[1m\u001b[30m\u001b[41mcd\u001b[0m\u001b[1m\u001b[30m ijava-kernel && python3 install.py --sys-prefix &> /dev/null\u001b[0m",
      "\u001b[1m\u001b[31mcannot find symbol\u001b[0m",
      "\u001b[1m\u001b[31m  symbol:   variable cd\u001b[0m",
      "",
      "\u001b[1m\u001b[30m|   \u001b[1m\u001b[30m!unzip -q ijava-kernel.zip -d ijava-kernel && cd \u001b[0m\u001b[1m\u001b[30m\u001b[41mijava\u001b[0m\u001b[1m\u001b[30m-kernel && python3 install.py --sys-prefix &> /dev/null\u001b[0m",
      "\u001b[1m\u001b[31mcannot find symbol\u001b[0m",
      "\u001b[1m\u001b[31m  symbol:   variable ijava\u001b[0m",
      "",
      "\u001b[1m\u001b[30m|   \u001b[1m\u001b[30m!unzip -q ijava-kernel.zip -d ijava-kernel && cd ijava-\u001b[0m\u001b[1m\u001b[30m\u001b[41mkernel\u001b[0m\u001b[1m\u001b[30m && python3 install.py --sys-prefix &> /dev/null\u001b[0m",
      "\u001b[1m\u001b[31mcannot find symbol\u001b[0m",
      "\u001b[1m\u001b[31m  symbol:   variable kernel\u001b[0m",
      "",
      "\u001b[1m\u001b[30m|   \u001b[1m\u001b[30m!unzip -q ijava-kernel.zip -d ijava-kernel && cd ijava-kernel && \u001b[0m\u001b[1m\u001b[30m\u001b[41mpython3\u001b[0m\u001b[1m\u001b[30m install.py --sys-prefix &> /dev/null\u001b[0m",
      "\u001b[1m\u001b[31mcannot find symbol\u001b[0m",
      "\u001b[1m\u001b[31m  symbol:   variable python3\u001b[0m",
      "",
      "\u001b[1m\u001b[30m|   \u001b[1m\u001b[30m!unzip -q ijava-kernel.zip -d ijava-kernel && cd ijava-kernel && python3 \u001b[0m\u001b[1m\u001b[30m\u001b[41minstall\u001b[0m\u001b[1m\u001b[30m.py --sys-prefix &> /dev/null\u001b[0m",
      "\u001b[1m\u001b[31mcannot find symbol\u001b[0m",
      "\u001b[1m\u001b[31m  symbol:   variable install\u001b[0m",
      "",
      "\u001b[1m\u001b[30m|   \u001b[1m\u001b[30m!unzip -q ijava-kernel.zip -d ijava-kernel && cd ijava-kernel && python3 install.py --sys-\u001b[0m\u001b[1m\u001b[30m\u001b[41mprefix\u001b[0m\u001b[1m\u001b[30m &> /dev/null\u001b[0m",
      "\u001b[1m\u001b[31mcannot find symbol\u001b[0m",
      "\u001b[1m\u001b[31m  symbol:   variable prefix\u001b[0m",
      "",
      "\u001b[1m\u001b[30m|   \u001b[1m\u001b[30m!unzip -q ijava-kernel.zip -d ijava-kernel && cd ijava-kernel && python3 install.py --sys-prefix &> /\u001b[0m\u001b[1m\u001b[30m\u001b[41mdev\u001b[0m\u001b[1m\u001b[30m/null\u001b[0m",
      "\u001b[1m\u001b[31mcannot find symbol\u001b[0m",
      "\u001b[1m\u001b[31m  symbol:   variable dev\u001b[0m",
      "",
      "\u001b[1m\u001b[30m|   \u001b[1m\u001b[30m!\u001b[0m\u001b[1m\u001b[30m\u001b[41mcurl\u001b[0m\u001b[1m\u001b[30m -L https://github.com/Andreas-Forster/gyminf-programmieren/raw/master/notebooks/jturtle-0.6.jar -o jturtle-0.6.jar &> /dev/null\u001b[0m",
      "\u001b[1m\u001b[31mcannot find symbol\u001b[0m",
      "\u001b[1m\u001b[31m  symbol:   variable curl\u001b[0m",
      "",
      "\u001b[1m\u001b[30m|   \u001b[1m\u001b[30m!curl -\u001b[0m\u001b[1m\u001b[30m\u001b[41mL\u001b[0m\u001b[1m\u001b[30m https://github.com/Andreas-Forster/gyminf-programmieren/raw/master/notebooks/jturtle-0.6.jar -o jturtle-0.6.jar &> /dev/null\u001b[0m",
      "\u001b[1m\u001b[31mcannot find symbol\u001b[0m",
      "\u001b[1m\u001b[31m  symbol:   variable L\u001b[0m",
      "",
      "\u001b[1m\u001b[30m|   \u001b[1m\u001b[30m!\u001b[0m\u001b[1m\u001b[30m\u001b[41mecho\u001b[0m\u001b[1m\u001b[30m \"Done.\"\u001b[0m",
      "\u001b[1m\u001b[31mcannot find symbol\u001b[0m",
      "\u001b[1m\u001b[31m  symbol:   variable echo\u001b[0m",
      "",
      "\u001b[1m\u001b[30m|   \u001b[1m\u001b[30m!\u001b[0m\u001b[1m\u001b[30m\u001b[41mapt update \u001b[0m\u001b[1m\u001b[30m-q  &> /dev/null\u001b[0m",
      "\u001b[1m\u001b[31munreachable statement\u001b[0m",
      ""
     ]
    }
   ],
   "source": [
    "!echo \"Update environment...\"\n",
    "!apt update -q  &> /dev/null\n",
    "!echo \"Install Java...\"\n",
    "!apt-get install -q openjdk-11-jdk-headless &> /dev/null\n",
    "!echo \"Install Jupyter java kernel...\"\n",
    "!curl -L https://github.com/SpencerPark/IJava/releases/download/v1.3.0/ijava-1.3.0.zip -o ijava-kernel.zip &> /dev/null\n",
    "!unzip -q ijava-kernel.zip -d ijava-kernel && cd ijava-kernel && python3 install.py --sys-prefix &> /dev/null\n",
    "!echo \"Downloading turtle jar ...\"\n",
    "!curl -L https://github.com/Andreas-Forster/gyminf-programmieren/raw/master/notebooks/jturtle-0.6.jar -o jturtle-0.6.jar &> /dev/null\n",
    "!echo \"Done.\""
   ]
  },
  {
   "cell_type": "markdown",
   "metadata": {},
   "source": [
    "# Einführung in Jupyter Notebooks"
   ]
  },
  {
   "cell_type": "markdown",
   "metadata": {},
   "source": [
    "In diesem Notebook geben wir eine kleine Einführung in Jupyter Notebooks und zeigen, wie man einfache Java Programme schreibt. Ausserdem führen wir Turtlegrafik ein. Diese grafische Ausgabe werden wir während dem Kurs immer wieder verwenden um Programmierkonzepte zu illustrieren."
   ]
  },
  {
   "cell_type": "markdown",
   "metadata": {},
   "source": [
    "### Einfache Java Programme in Jupyter Notebooks"
   ]
  },
  {
   "cell_type": "markdown",
   "metadata": {},
   "source": [
    "Jupyter Notebooks sind Dokumente, die neben Text auch Programmcode enthalten. Die Notebooks bestehen aus einer Sequenz von einzelnen Zellen. Die aktuelle Zelle erkennt man jeweils daran, dass diese umrahmt ist. Jede Zelle ist entweder eine Textzelle oder eine Code Zelle. Codezellen erkennt man dadurch, dass diese mit ```In [..]``` gekennzeichnet sind. \n",
    "Codezellen enthalten ausführbaren Java Code und können durch Drücken von ```Shift+Enter``` ausgeführt werden. Die folgenden zwei Zellen sind Codezellen und können ausgeführt werden."
   ]
  },
  {
   "cell_type": "code",
   "execution_count": null,
   "metadata": {},
   "outputs": [],
   "source": [
    "5 + 3;"
   ]
  },
  {
   "cell_type": "code",
   "execution_count": null,
   "metadata": {},
   "outputs": [],
   "source": [
    "System.out.println(\"Programmieren macht Spass\");"
   ]
  },
  {
   "cell_type": "markdown",
   "metadata": {},
   "source": [
    "#### Mini-Übungen:\n",
    "* Führen Sie die obigen 2 Codezeilen aus. \n",
    "* Ändern Sie die Codezeilen geringfügig ab.\n",
    "* Fügen Sie über das Plus-Symbol oder mit ```Alt+Enter``` eine neue Codezeile ein. "
   ]
  },
  {
   "cell_type": "markdown",
   "metadata": {},
   "source": [
    "Wie wir sehen, können wir hier im Gegensatz zu richtigen Java Programmen, direkt einzelne Java Ausdrücke eingeben, die dann direkt ausgeführt werden. Wir brauchen kein Klassengerüst und müssen nicht erst den Compiler aufrufen. Jeder Ausdruck wird direkt von Java (genauer dem Programm JShell) interpretiert. "
   ]
  },
  {
   "cell_type": "markdown",
   "metadata": {},
   "source": [
    "### Bedienung Jupyter Notebooks\n",
    "\n",
    "#### Zellen Reihenfolge\n",
    "\n",
    "*Beim den Jupyter Notebooks ist es wichtig in welcher Reihenfolge Sie die Zellen ausführen. Wenn Sie ein Notebook neu laden, müssen Sie wider alle Zellen in der richtigen Reihenfolge ausführen.*\n",
    "\n",
    "Führen Sie die folgenden Zellen nacheinander aus. Sie müssen dazu die genaue Bedeutung der Zellen noch nicht kennen."
   ]
  },
  {
   "cell_type": "code",
   "execution_count": null,
   "metadata": {},
   "outputs": [],
   "source": [
    "int i = 1;"
   ]
  },
  {
   "cell_type": "code",
   "execution_count": null,
   "metadata": {},
   "outputs": [],
   "source": [
    "int i = 3;"
   ]
  },
  {
   "cell_type": "code",
   "execution_count": null,
   "metadata": {},
   "outputs": [],
   "source": [
    "System.out.println(\"i hat den Wert: \" + i);"
   ]
  },
  {
   "cell_type": "markdown",
   "metadata": {},
   "source": [
    "#### Mini-Übung\n",
    "\n",
    "- Können Sie die Zellen in einer anderen Reihenfolge ausführen (auswählen mit der Maus oder den Pfeiltasten und ausführen mit `Shift+Enter`), so dass \"i hat den Wert: 1\" ausgegeben wird? Sie sollen dafür den Inhalt der Zellen nicht verändern."
   ]
  },
  {
   "cell_type": "markdown",
   "metadata": {},
   "source": [
    "#### Tastaturkürzel\n",
    "\n",
    "Zwei wichtige Tastaturkürzel, die sich von Anfang an merken sollten sind:\n",
    "- `ESC` um das Editieren einer Zelle zu beenden.\n",
    "- `H` um eine Liste von Tastaturkürzel anzuzeigen."
   ]
  },
  {
   "cell_type": "markdown",
   "metadata": {},
   "source": [
    "#### &#42; Mini-Übungen:\n",
    "\n",
    "- Welcher Buchstaben macht eine Zelle zu einer Code-Zelle? Und welcher macht die Zelle zu einer Text-/Markdown-Zelle?\n",
    "- Welche Taste müssen Sie drücken um eine ausgewählte Zelle zu bearbeiten?\n",
    "- Mit Hilfe welcher Buchstabentaste fügen Sie eine neue Zelle unter der aktuellen Zelle ein?"
   ]
  },
  {
   "cell_type": "markdown",
   "metadata": {},
   "source": [
    "### Turtle Grafik"
   ]
  },
  {
   "cell_type": "markdown",
   "metadata": {},
   "source": [
    "Wir werden in diesem Kurs häufig Turtle Grafik einsetzen, um Konzepte zu illustrieren. Man kann sich vorstellen, dass eine stifttragende Schildkröte sich auf einer Zeichnungsebene bewegt und dabei eine Zeichnung erstellt. Die Bewegungen der Schildkröte folgen genau unseren Befehlen."
   ]
  },
  {
   "cell_type": "markdown",
   "metadata": {},
   "source": [
    "Wenn Sie Google-Colab verwenden, dann wurde die Turtle-Bibliothek schon mit dem Ausführen der ersten Zelle geladen. Wenn Sie eine lokale Installation der Jupyter Notebooks verwenden, laden Sie einmalig [diese](https://github.com/Andreas-Forster/gyminf-programmieren/raw/master/notebooks/jturtle-0.6.jar) Bibliothek (Datei) herunter und laden diese dann wie ein Notebook hoch in Ihre lokale Umgebung."
   ]
  },
  {
   "cell_type": "markdown",
   "metadata": {},
   "source": [
    "Damit wir Turtle Grafik nutzen können, müssen wir nun noch die Programmbibliothek in Jupyter laden:"
   ]
  },
  {
   "cell_type": "code",
   "execution_count": null,
   "metadata": {},
   "outputs": [],
   "source": [
    "%jars jturtle-0.6.jar\n",
    "\n",
    "import static ch.unibas.informatik.jturtle.TurtleCommands.*;"
   ]
  },
  {
   "cell_type": "markdown",
   "metadata": {},
   "source": [
    "Danach können wir die Schildkröte mit Java-Befehlen steuern:"
   ]
  },
  {
   "cell_type": "code",
   "execution_count": null,
   "metadata": {},
   "outputs": [],
   "source": [
    "clear();\n",
    "home();\n",
    "penDown();\n",
    "\n",
    "forward(100);\n",
    "turnRight(120);\n",
    "forward(100);\n",
    "turnRight(120);\n",
    "forward(100);\n",
    "\n",
    "display(drawing());"
   ]
  },
  {
   "cell_type": "markdown",
   "metadata": {},
   "source": [
    "Das Turtle-System wurde mit der Idee entwickelt, dass es einfach zu verstehen ist. Turtle wurde ursprünglich auch dazu entwickelt, Kindern das Programmieren beizubringen. Mithilfe von Turtle Grafik können jedoch auch sehr komplexe und abstrakte Konzepte graphisch illustriert werden. Das folgende Programm ist ein Beispiel für ein komplexes Programm, welches Sie am Ende dieser Vorlesung ohne Probleme verstehen werden.\n",
    "\n",
    "*Zu diesem Zeitpunkt können und müssen Sie das Programm noch nicht verstehen. Bis wir alle Konzepte eingeführt haben, die in diesem Programm vorkommen, dauert es noch etwas. Führen Sie das Programm jedoch einfach mal aus, indem Sie die folgenden 2 Zellen ausführen.*"
   ]
  },
  {
   "cell_type": "code",
   "execution_count": null,
   "metadata": {},
   "outputs": [],
   "source": [
    "import java.util.Random;\n",
    "class RandomTree {\n",
    "    \n",
    "    static Random random = new Random();\n",
    "    \n",
    "    static void randomTree(double length, double minLength, int thickness, int minThickness, double minAngle, double maxAngle, double minShrink, double maxShrink) {\n",
    "        if (length < minLength || thickness < minThickness) {\n",
    "            return;\n",
    "        } else {\n",
    "            double angle1 = minAngle + random.nextDouble() * (maxAngle - minAngle);\n",
    "             double angle2 = minAngle + random.nextDouble() * (maxAngle - minAngle);\n",
    "             double shrink1 = minShrink + random.nextDouble() * (maxShrink - minShrink);\n",
    "             double shrink2 = minShrink + random.nextDouble() * (maxShrink - minShrink);\n",
    "             penSize(thickness);\n",
    "             forward(length);\n",
    "             turnRight(angle1);\n",
    "             randomTree(length*shrink1, minLength, (int) (thickness * shrink1),  minThickness, minAngle, maxAngle, minShrink, maxShrink);\n",
    "             turnLeft(angle1 + angle2);         \n",
    "             randomTree(length*shrink2, minLength, (int) (thickness * shrink2), minThickness, minAngle, maxAngle, minShrink, maxShrink);\n",
    "             turnRight(angle2);\n",
    "             penSize(thickness);\n",
    "             backward(length);\n",
    "        }\n",
    "    }\n",
    "    \n",
    "    static void drawTree(double length, double minLength, int thickness, int minThickness, double minAngle, double maxAngle, double minShrink, double maxShrink) {\n",
    "        clear();\n",
    "        reset();\n",
    "        penUp();\n",
    "        turnRight(180);\n",
    "        forward(100);\n",
    "        turnRight(180);\n",
    "        penColor(java.awt.Color.BLACK);\n",
    "        penDown();\n",
    "        RandomTree.randomTree(length, minLength, thickness, minThickness, minAngle, maxAngle, minShrink, maxShrink);\n",
    "        display(drawing());\n",
    "    }\n",
    "};\n"
   ]
  },
  {
   "cell_type": "code",
   "execution_count": null,
   "metadata": {},
   "outputs": [],
   "source": [
    "RandomTree.drawTree(20, 2, 12, 1, 10, 30, 0.5, 1.2);"
   ]
  },
  {
   "cell_type": "markdown",
   "metadata": {},
   "source": [
    "#### Miniübung\n",
    "\n",
    "* In der obigen Zelle wird die Funktion zum Zeichnen des Baumes aufgerufen. \n",
    "    * Was passiert wenn Sie die Zahlen ändern?\n",
    "    * Können Sie die Änderungen gezielter machen, wenn Sie sich die Zeile in der letzten grossen Zelle anschauen welche mit `static void drawTree(` beginnt?"
   ]
  },
  {
   "cell_type": "markdown",
   "metadata": {},
   "source": [
    "### Turtle Grafik Referenz\n",
    "\n",
    "Eine vollständige Referenz aller Turtle-Befehle finden Sie in einem separaten Notebook. Das Jupyter-Notebook hat den Namen ***Turtle-Referenz***. In diesem Notebook werden das Konzept und die Ihnen zur Verfügung stehenden Befehle detaillierter erklärt."
   ]
  }
 ],
 "metadata": {
  "kernelspec": {
   "display_name": "Java",
   "language": "java",
   "name": "java"
  },
  "language_info": {
   "codemirror_mode": "java",
   "file_extension": ".jshell",
   "mimetype": "text/x-java-source",
   "name": "Java",
   "pygments_lexer": "java",
   "version": "16.0.1+9"
  }
 },
 "nbformat": 4,
 "nbformat_minor": 2
}
