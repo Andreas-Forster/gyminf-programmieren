{
 "cells": [
  {
   "cell_type": "markdown",
   "metadata": {
    "slideshow": {
     "slide_type": "slide"
    }
   },
   "source": [
    "# Einfache Programme\n",
    "\n",
    "#### Marcel Lüthi, Departement Mathematik und Informatik, Universität Basel"
   ]
  },
  {
   "cell_type": "markdown",
   "metadata": {
    "slideshow": {
     "slide_type": "slide"
    }
   },
   "source": [
    "## Grundsymbole\n"
   ]
  },
  {
   "cell_type": "markdown",
   "metadata": {
    "slideshow": {
     "slide_type": "slide"
    }
   },
   "source": [
    "### Ein typisches Java Programm\n",
    "\n",
    "<pre class=\"stretch highlight java\"><code data-trim>\n",
    "\n",
    "/* Berechnet die Kubikwurzen eines Programms mittels \n",
    "   dem Newton Verfahren */\n",
    "public class CubicRoot { \n",
    "\n",
    "    public static void main(String[] args) {\n",
    "        double a = Double.parseDouble(args[0]);\n",
    "        \n",
    "        double xn = 1.0;\n",
    "        double xnPlus1 = 1.0;\n",
    "        \n",
    "        do {\n",
    "            xn = xnPlus1;\n",
    "            xnPlus1 = 1.0 / 3.0 * ( 2.0 * xn + (a / (xn * xn))); \n",
    "        }  while (Math.abs(xn - xnPlus1) > 1e-8);\n",
    "\n",
    "\n",
    "        System.out.println(\"Resultat: \" +xnPlus1);\n",
    "    }\n",
    "}\n",
    "</code></pre>"
   ]
  },
  {
   "cell_type": "markdown",
   "metadata": {
    "slideshow": {
     "slide_type": "slide"
    }
   },
   "source": [
    "\n",
    "### Namen\n",
    "\n",
    "* bezeichnen Variablen, Typen, ... in einem Programm\n",
    "* bestehen aus Buchstaben, Ziffern und \"_\"\n",
    "* beginnen mit Buchstaben\n",
    "* Gross und Kleinschreibung wird unterschieden\n",
    "```java\n",
    "    System.out.println(\"hello world \");\n",
    "```"
   ]
  },
  {
   "cell_type": "markdown",
   "metadata": {
    "slideshow": {
     "slide_type": "fragment"
    }
   },
   "source": [
    "#### Beispiele\n",
    "```java\n",
    "a\n",
    "x \n",
    "xnPlus1\n",
    "args\n",
    "CubicRoot\n",
    "main\n",
    "```"
   ]
  },
  {
   "cell_type": "markdown",
   "metadata": {
    "slideshow": {
     "slide_type": "slide"
    }
   },
   "source": [
    "#### Schlüsselwörter\n",
    "\n",
    "![java keywords](images/java-keywords.png)\n",
    "\n",
    "> Schlüsselwörter dürfen nicht als Namen verwendet werden\n"
   ]
  },
  {
   "cell_type": "markdown",
   "metadata": {
    "slideshow": {
     "slide_type": "slide"
    }
   },
   "source": [
    "### Zahlen\n",
    "\n",
    "* Ganze Zahlen (dezimal oder hexadezimal)\n",
    "* Gleitkommazahlen\n",
    "\n",
    "#### Beispiele\n",
    "\n",
    "```\n",
    "376\n",
    "0x1A5\n",
    "3.14\n",
    "```\n"
   ]
  },
  {
   "cell_type": "markdown",
   "metadata": {
    "slideshow": {
     "slide_type": "slide"
    }
   },
   "source": [
    "### Zeichenketten\n",
    "\n",
    "* Beliebige Zeichen zwischen Hochkommas (\" \") \n",
    "* Falls man \" in Zeichenkette verwenden will, muss man ein Backslash ```\``` als Escape Character vor das \\\" voranstellen \n",
    "\n",
    "#### Beispiele\n",
    "\n",
    "```java\n",
    "\"a simple string\"\n",
    "\"sie sage \\\" Hallo \\\" \"\n",
    "```"
   ]
  },
  {
   "cell_type": "markdown",
   "metadata": {
    "slideshow": {
     "slide_type": "slide"
    }
   },
   "source": [
    "### Datentypen\n",
    "\n",
    "Datentypen definieren:\n",
    "\n",
    "1. Menge von Werten, die zu diesem Typ gehören\n",
    "2. Menge von Operationen, die auf diesem Typ ausgeführt werden können\n",
    "\n",
    "#### Ganzzahltypen:\n",
    "\n",
    "| Name | Grösse | Wertebereich <img width=100/> |  |\n",
    "|------|--------|-------------------------------|--|\n",
    "| byte  | 8 Bit | $-2^7 \\ldots, 2^7-1 $ | $(-128, \\ldots, 127 )$  |\n",
    "| short | 16 Bit | $-2^{15} \\ldots, 2^{15} - 1$ | $(-32768, \\ldots, 32767)$ |\n",
    "| int   | 32 Bit | $-2^{31} \\ldots, 2^{31}-1$ | $(-2141483648, \\ldots,  2147483647)$|\n",
    "| long  | 64 Bit | $-2^{63} \\ldots, 2^{63}-1$ | |"
   ]
  },
  {
   "cell_type": "markdown",
   "metadata": {
    "slideshow": {
     "slide_type": "slide"
    }
   },
   "source": [
    "### Variablendeklaration"
   ]
  },
  {
   "cell_type": "markdown",
   "metadata": {},
   "source": [
    "Jede Variable muss vor ihrer Verwendung deklariert werden\n",
    "\n",
    "* macht Namen und Typ der Variablen bekannt\n",
    "* Speicherplatz wird reserviert\n",
    "\n",
    "```java\n",
    "int x;\n",
    "short a;\n",
    "```"
   ]
  },
  {
   "cell_type": "markdown",
   "metadata": {
    "slideshow": {
     "slide_type": "fragment"
    }
   },
   "source": [
    "### Initialisierung\n",
    "\n",
    "* Variable kann bei Erzeugung direkt initialisiert werden\n",
    "```java\n",
    "int x = 100;\n",
    "short a = 1;\n",
    "```"
   ]
  },
  {
   "cell_type": "markdown",
   "metadata": {
    "slideshow": {
     "slide_type": "slide"
    }
   },
   "source": [
    "### Namenswahl für Variablen\n",
    "\n",
    "Einige Tips:\n",
    "\n",
    "* lesbar \n",
    "    * z.B. sum, phoneNumber, zipCode\n",
    "* Hilfsvariablen können kurz gehalten werden\n",
    "    * z.B. i, j, k\n",
    "* Variablen, die man im ganzen Programm braucht, eher länger\n",
    "    * z.B. inputTest, streetNumber, expirationDate\n",
    "* Worttrennung durch Grossbuchstaben (camelCase)\n",
    "    * z.B. inputTest\n",
    "    \n",
    "> Variablennamen sollten Konzept klar machen"
   ]
  },
  {
   "cell_type": "markdown",
   "metadata": {
    "slideshow": {
     "slide_type": "slide"
    }
   },
   "source": [
    "### Kommentare"
   ]
  },
  {
   "cell_type": "markdown",
   "metadata": {
    "slideshow": {
     "slide_type": "-"
    }
   },
   "source": [
    "Java unterscheidet zwei Arten von Kommentaren:\n",
    "\n",
    "1. Zeilenendekommentare ```//```\n",
    "    * kommentiert ab aktueller Position bis Zeilenende\n",
    "2. Klammerkommentare ```/* ... */```\n",
    "    * kommentiert allen Code zwischen ```/*``` und ```*/``` \n",
    "\n",
    "> Alles was nicht in Kommentaren steht wird als gültiger Java Code betrachtet. \n"
   ]
  },
  {
   "cell_type": "markdown",
   "metadata": {
    "slideshow": {
     "slide_type": "slide"
    }
   },
   "source": [
    "### Kommentare: Beispiele"
   ]
  },
  {
   "cell_type": "markdown",
   "metadata": {},
   "source": [
    "Folgendes kompiliert nicht:"
   ]
  },
  {
   "cell_type": "code",
   "execution_count": 1,
   "metadata": {},
   "outputs": [
    {
     "ename": "CompilationException",
     "evalue": "",
     "output_type": "error",
     "traceback": [
      "\u001b[1m\u001b[30m|   \u001b[1m\u001b[30mDies gibt\u001b[0m\u001b[1m\u001b[30m\u001b[41m\u001b[0m\u001b[1m\u001b[30m beim Kompilieren einen Fehler;\u001b[0m",
      "\u001b[1m\u001b[31m';' expected\u001b[0m",
      ""
     ]
    }
   ],
   "source": [
    "Dies gibt beim Kompilieren einen Fehler"
   ]
  },
  {
   "cell_type": "markdown",
   "metadata": {},
   "source": [
    "Folgendes kompiliert:"
   ]
  },
  {
   "cell_type": "code",
   "execution_count": 2,
   "metadata": {},
   "outputs": [],
   "source": [
    "/* Dies gibt beim Kompilieren keinen Fehler */"
   ]
  },
  {
   "cell_type": "code",
   "execution_count": 3,
   "metadata": {},
   "outputs": [],
   "source": [
    "// Und dies auch nicht"
   ]
  },
  {
   "cell_type": "markdown",
   "metadata": {
    "slideshow": {
     "slide_type": "slide"
    }
   },
   "source": [
    "#### Mini Übung\n",
    "\n",
    "* Die folgenden Codestücke sollen kommentiert werden, so dass nur noch \"Hello\" ausgegeben wird.\n",
    "    * Welche Art von Kommentar (```/* */``` oder ```//```) ist dafür besser geeignet?\n",
    "    * Weshalb ist beim letzten Codestück die Kommentarsetzung nicht ideal?\n",
    "    "
   ]
  },
  {
   "cell_type": "code",
   "execution_count": 8,
   "metadata": {},
   "outputs": [
    {
     "name": "stdout",
     "output_type": "stream",
     "text": [
      "Hello\n"
     ]
    }
   ],
   "source": [
    "System.out.println(\"Hello\");// + \" world\");"
   ]
  },
  {
   "cell_type": "code",
   "execution_count": 9,
   "metadata": {},
   "outputs": [
    {
     "name": "stdout",
     "output_type": "stream",
     "text": [
      "Hello\n"
     ]
    }
   ],
   "source": [
    "String s = \"Hello\";\n",
    "//s = s + \" world\"; // Mit + werden zwei Strings konkateniert\n",
    "System.out.println(s);"
   ]
  },
  {
   "cell_type": "code",
   "execution_count": 15,
   "metadata": {},
   "outputs": [
    {
     "ename": "CompilationException",
     "evalue": "",
     "output_type": "error",
     "traceback": [
      "\u001b[1m\u001b[30m|   \u001b[1m\u001b[30m \u001b[0m\u001b[1m\u001b[30m\u001b[41m\u001b[0m\u001b[1m\u001b[30m*//* Dritter Kommentar */\u001b[0m",
      "\u001b[1m\u001b[31millegal start of expression\u001b[0m",
      ""
     ]
    }
   ],
   "source": [
    "String s = \"Hello \";\n",
    "/*\n",
    "s = s + \"w\"; // Erster Kommentar\n",
    "s = s + \"o\"; /* Zweiter Kommentar */\n",
    "s = s + \"r\"; *//* Dritter Kommentar */\n",
    "s = s + \"l\"; /* Vierter Kommentar */\n",
    "s = s + \"d\"; /* Fünfter Kommentar */\n",
    "*/\n",
    "System.out.println(s);"
   ]
  },
  {
   "cell_type": "markdown",
   "metadata": {
    "slideshow": {
     "slide_type": "slide"
    }
   },
   "source": [
    "### Kommentare (Anmerkung)\n",
    "\n",
    "Sinnvolles kommentieren!\n",
    "\n",
    "* Kommentieren, was Erklärung bedarf\n",
    "* Kommentare und Code sollen auf unterschiedlicher \"Ebene\" Programm erklären\n",
    "* Nicht kommentieren, was ohnehin im Programm steht\n",
    "\n",
    "\n",
    "```java\n",
    "// Unsinniger Kommentar\n",
    "int sum = 0; // weist der Variable sum den Wert 0 zu\n",
    "\n",
    "// Sinnvoller Kommentar\n",
    "short sum = 0 // Summe kann nie grösser 20 werden. Short reicht deshalb aus\n",
    "```"
   ]
  },
  {
   "cell_type": "markdown",
   "metadata": {
    "slideshow": {
     "slide_type": "slide"
    }
   },
   "source": [
    "## Zuweisungen und arithmetische Funktionen"
   ]
  },
  {
   "cell_type": "markdown",
   "metadata": {
    "slideshow": {
     "slide_type": "slide"
    }
   },
   "source": [
    "### Zuweisungen (assignment)\n",
    "\n",
    "```java\n",
    "x = x + 1\n",
    "```\n",
    "\n",
    "1. Berechne Ausdruck auf rechter Seite\n",
    "2. Speichere den Wert in der Variablen (linke Seite)"
   ]
  },
  {
   "cell_type": "markdown",
   "metadata": {
    "slideshow": {
     "slide_type": "fragment"
    }
   },
   "source": [
    "#### Zuweisungskompatibilität\n",
    "\n",
    "linke und rechte Seite müssen \n",
    "* dieselben Typen haben, oder\n",
    "* Typ links $\\supseteq$ Typ rechts\n",
    " \n",
    " $\\text{long} \\supseteq \\text{int} \\supseteq \\text{short} \\supseteq \\text{byte}$"
   ]
  },
  {
   "cell_type": "code",
   "execution_count": 17,
   "metadata": {
    "slideshow": {
     "slide_type": "fragment"
    }
   },
   "outputs": [],
   "source": [
    "int i = 5;\n",
    "long s = i;"
   ]
  },
  {
   "cell_type": "markdown",
   "metadata": {
    "slideshow": {
     "slide_type": "slide"
    }
   },
   "source": [
    "### Statische Typenprüfung\n",
    "\n",
    "Compiler prüft\n",
    "\n",
    "* dass Variablen nur erlaubte Werte enthalten\n",
    "* dass auf Werte nur erlaubte Operationen ausgeführt werden\n",
    "\n",
    "#### Beispiel\n",
    "\n",
    "Folgendes funktioniert nicht:"
   ]
  },
  {
   "cell_type": "code",
   "execution_count": 21,
   "metadata": {},
   "outputs": [
    {
     "ename": "CompilationException",
     "evalue": "",
     "output_type": "error",
     "traceback": [
      "\u001b[1m\u001b[30m|   \u001b[1m\u001b[30mfloat f2 = \u001b[0m\u001b[1m\u001b[30m\u001b[41md\u001b[0m\u001b[1m\u001b[30m;\u001b[0m",
      "\u001b[1m\u001b[31mincompatible types: possible lossy conversion from double to float\u001b[0m",
      ""
     ]
    }
   ],
   "source": [
    "float f = 1.0f;\n",
    "double d = f;\n",
    "float f2 = d;"
   ]
  },
  {
   "cell_type": "code",
   "execution_count": 19,
   "metadata": {},
   "outputs": [
    {
     "ename": "CompilationException",
     "evalue": "",
     "output_type": "error",
     "traceback": [
      "\u001b[1m\u001b[30m|   \u001b[1m\u001b[30m\u001b[0m\u001b[1m\u001b[30m\u001b[41m\"abc\" / 7\u001b[0m\u001b[1m\u001b[30m\u001b[0m",
      "\u001b[1m\u001b[31mbad operand types for binary operator '/'\u001b[0m",
      "\u001b[1m\u001b[31m  first type:  java.lang.String\u001b[0m",
      "\u001b[1m\u001b[31m  second type: int\u001b[0m",
      ""
     ]
    }
   ],
   "source": [
    "\"abc\" / 7"
   ]
  },
  {
   "cell_type": "markdown",
   "metadata": {
    "slideshow": {
     "slide_type": "slide"
    }
   },
   "source": [
    "### Arithmetische Ausdrücke\n",
    "\n",
    "Beispiel:\n",
    "```java\n",
    "5 * 3 / -7 % (2 + 1);\n",
    "```\n",
    "\n",
    "Binäre Operatoren:\n",
    "\n",
    "``+`` Addition <br/>\n",
    "``-`` Subtraktion <br/>\n",
    "``*`` Multiplikation <br/>\n",
    "``/`` Division <br/>\n",
    "``%`` Modulo (Divisionsrest)\n",
    "\n",
    "Unäre Operatoren:\n",
    "\n",
    "`` + `` Identität ($+x = x$) <br/>\n",
    "`` - `` Vorzeichenumkehrung"
   ]
  },
  {
   "cell_type": "markdown",
   "metadata": {
    "slideshow": {
     "slide_type": "slide"
    }
   },
   "source": [
    "### Miniübung\n",
    "\n",
    "Experimentieren Sie mit arithmetischen Ausdrücken\n",
    "\n",
    "* Schreiben Sie einige einfache und zusammengesetzte arithmetische Ausdrücke\n",
    "    * Arbeiten Sie auch mit Variablen\n",
    "* Gilt die Punkt vor Strich Regel?\n",
    "* Was bindet stärker, ``*``  oder unäres Minus?\n",
    "* Was passiert, wenn eine berechnete Zahl grösser ist als die Resultatvariable?"
   ]
  },
  {
   "cell_type": "code",
   "execution_count": 29,
   "metadata": {
    "slideshow": {
     "slide_type": "slide"
    }
   },
   "outputs": [
    {
     "ename": "CompilationException",
     "evalue": "",
     "output_type": "error",
     "traceback": [
      "\u001b[1m\u001b[30m|   \u001b[1m\u001b[30mbyte b2 = \u001b[0m\u001b[1m\u001b[30m\u001b[41mb + 1\u001b[0m\u001b[1m\u001b[30m;\u001b[0m",
      "\u001b[1m\u001b[31mincompatible types: possible lossy conversion from int to byte\u001b[0m",
      ""
     ]
    }
   ],
   "source": [
    "byte b = 118;\n",
    "byte b2 = b + 1;"
   ]
  },
  {
   "cell_type": "markdown",
   "metadata": {
    "slideshow": {
     "slide_type": "slide"
    }
   },
   "source": [
    "### Typumwandlung\n",
    "\n",
    "Wenn Resultattyp zu klein ist, braucht es explizite Typumwandlung (type cast)\n",
    "\n",
    ">\n",
    "> (typ) Ausdruck\n",
    "> \n",
    "> wandelt Resultatwert vom Ausdruck in angegebenen Typ um\n",
    "\n",
    "* Präzision kann verloren gehen\n",
    "\n",
    "#### Beispiel"
   ]
  },
  {
   "cell_type": "code",
   "execution_count": 32,
   "metadata": {},
   "outputs": [
    {
     "data": {
      "text/plain": [
       "10"
      ]
     },
     "execution_count": 32,
     "metadata": {},
     "output_type": "execute_result"
    }
   ],
   "source": [
    "byte b = (byte) 10;\n",
    "b"
   ]
  },
  {
   "cell_type": "markdown",
   "metadata": {
    "slideshow": {
     "slide_type": "slide"
    }
   },
   "source": [
    "### Zuweisungsoperatoren\n",
    "\n",
    "Arithmetische Operationen lassen sich mit Zuweisungen kombinieren\n",
    "\n",
    "\n",
    "| &nbsp;   | Kurzform | Langform |\n",
    "|----|----------| ---------|\n",
    "|``+=`` | x += y | x = x + y |\n",
    "|``-=`` | x -= y | x = x - y |\n",
    "|``*=`` | x *= y | x = x * y |\n",
    "|``/=`` | x /= y | x = x / y |\n",
    "|``++`` | x++    | x = x + 1 |\n",
    "|``--`` | x-- | x = x -1 |\n",
    "\n",
    "\n",
    "Spart Schreibarbeit, sollte aber nur spärlich verwendet werden. \n"
   ]
  },
  {
   "cell_type": "markdown",
   "metadata": {
    "slideshow": {
     "slide_type": "slide"
    }
   },
   "source": [
    "### Konstanten\n",
    "\n",
    "Konstanten sind initialisierte \"Variablen\", deren Wert man nicht mehr ändern kann\n",
    "\n",
    "Definition in Java\n",
    "\n",
    "```java\n",
    "static final int MAX_VALUE = 100;\n",
    "```\n",
    "\n",
    "Zweck\n",
    "\n",
    "* bessere Lesbarkeit\n",
    "* bessere Wartbarkeit (muss nur an 1 Stelle geändert werden)\n"
   ]
  },
  {
   "cell_type": "markdown",
   "metadata": {
    "slideshow": {
     "slide_type": "slide"
    }
   },
   "source": [
    "### Beispiel:\n",
    "\n",
    "Wie kann man folgendes Programm verbessern?"
   ]
  },
  {
   "cell_type": "code",
   "execution_count": null,
   "metadata": {},
   "outputs": [],
   "source": [
    "\n",
    "public class CubicRoot { \n",
    "\n",
    "\n",
    "    // Führen Sie hier Konstantendefinitionen ein\n",
    "\n",
    "    public static void computeRoot(double a) {        \n",
    "        \n",
    "        double xn = 1.0;\n",
    "        double xnPlus1 = 1.0;\n",
    "        \n",
    "        do {\n",
    "            xn = xnPlus1;\n",
    "            xnPlus1 = 1.0 / 3.0 * ( 2.0 * xn + (a / (xn * xn))); \n",
    "        }  while (Math.abs(xn - xnPlus1) > 1e-8);\n",
    "\n",
    "\n",
    "        System.out.println(xnPlus1);\n",
    "    }\n",
    "}\n"
   ]
  }
 ],
 "metadata": {
  "celltoolbar": "Slideshow",
  "kernelspec": {
   "display_name": "Java",
   "language": "java",
   "name": "java"
  },
  "language_info": {
   "codemirror_mode": "java",
   "file_extension": ".java",
   "mimetype": "text/x-java-source",
   "name": "Java",
   "pygments_lexer": "java",
   "version": "11.0.4+11"
  },
  "rise": {}
 },
 "nbformat": 4,
 "nbformat_minor": 2
}
