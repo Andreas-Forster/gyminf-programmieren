{
 "cells": [
  {
   "cell_type": "markdown",
   "id": "c75df835",
   "metadata": {
    "slideshow": {
     "slide_type": "-"
    }
   },
   "source": [
    "## Google Colab Integration\n",
    "Die folgende Zelle können Sie überspringen, wenn Sie mit einer lokalen Installation arbeiten. Wenn Sie das Notebook auf Google-Colab ausführen, dann müssen Sie als erstes diese Zelle ausführen und danach die Seite neu laden (F5)."
   ]
  },
  {
   "cell_type": "code",
   "execution_count": null,
   "id": "94318dd1",
   "metadata": {
    "slideshow": {
     "slide_type": "-"
    }
   },
   "outputs": [],
   "source": [
    "!echo \"Update environment...\"\n",
    "!apt update -q  &> /dev/null\n",
    "!echo \"Install Java...\"\n",
    "!apt-get install -q openjdk-11-jdk-headless &> /dev/null\n",
    "!echo \"Install Jupyter java kernel...\"\n",
    "!curl -L https://github.com/SpencerPark/IJava/releases/download/v1.3.0/ijava-1.3.0.zip -o ijava-kernel.zip &> /dev/null\n",
    "!unzip -q ijava-kernel.zip -d ijava-kernel && cd ijava-kernel && python3 install.py --sys-prefix &> /dev/null\n",
    "!echo \"Downloading turtle jar ...\"\n",
    "!curl -L https://github.com/Andreas-Forster/gyminf-programmieren/raw/master/notebooks/jturtle-0.6.jar -o jturtle-0.6.jar &> /dev/null\n",
    "!echo \"Done.\""
   ]
  },
  {
   "cell_type": "markdown",
   "id": "9cd89929",
   "metadata": {
    "slideshow": {
     "slide_type": "slide"
    }
   },
   "source": [
    "## Block 8 - Einführung\n",
    "\n",
    "#### Andreas Morel-Forster, Deparement Mathematik und Informatik, Universität Basel"
   ]
  },
  {
   "cell_type": "markdown",
   "id": "2e09d209",
   "metadata": {
    "slideshow": {
     "slide_type": "slide"
    }
   },
   "source": [
    "### Übersicht\n",
    "\n",
    "* Java-Morgenturnen\n",
    "* Vererbung\n",
    "* Übungs Vorbesprechung\n",
    "* Übungsbesprechung & Fragen"
   ]
  },
  {
   "cell_type": "markdown",
   "id": "ac373343",
   "metadata": {},
   "source": [
    "### Kommentar zu den Übungen\n",
    "Schritte um zu lernen:\n",
    "\n",
    "1. Verstehen der Theorie (Vorlesung/Video, Buch, und Jupyter-Notebooks)\n",
    "1. Anwenden in den Übungen (nicht Theorie verstehen sondern vertiefen und festigen)\n",
    "\n",
    "Bemerkungen:\n",
    "\n",
    "* Informatik is 20% Mathematik, 20% Logik, 20% Puzzeln und 40% Fehlermeldungen lesen.\n",
    "* Es ist wichtig bei Problemen anzustehen und Zeit zu brauchen um auf die Lösung zu kommen.\n",
    "* Bitte nutzt das Forum für Fragen!"
   ]
  },
  {
   "cell_type": "markdown",
   "id": "685b5375",
   "metadata": {
    "slideshow": {
     "slide_type": "slide"
    }
   },
   "source": [
    "### Morgenturnen\n",
    "\n",
    "* Kleine Aufgaben 10-60 Sekunden\n",
    "* Buzzern wenn man fertig ist\n",
    "* Lösungen besprochen sobald Mehrheit fertig ist\n",
    "\n",
    "https://www.cosmobuzz.net/\n"
   ]
  },
  {
   "cell_type": "code",
   "execution_count": 1,
   "id": "34257f3a",
   "metadata": {
    "slideshow": {
     "slide_type": "slide"
    }
   },
   "outputs": [
    {
     "data": {
      "text/plain": [
       "5"
      ]
     },
     "execution_count": 1,
     "metadata": {},
     "output_type": "execute_result"
    }
   ],
   "source": [
    "// schreiben Sie einen Ausdruck welcher\n",
    "// ausgewertet vom Typ int ist\n",
    "5"
   ]
  },
  {
   "cell_type": "code",
   "execution_count": 2,
   "id": "f6710e8d",
   "metadata": {
    "slideshow": {
     "slide_type": "slide"
    }
   },
   "outputs": [],
   "source": [
    "// Deklarieren Sie eine Variable n vom Typ int und\n",
    "// initialisieren Sie diese mit ihrem Ausdruck.\n",
    "int n = 5;"
   ]
  },
  {
   "cell_type": "code",
   "execution_count": 3,
   "id": "89710a09",
   "metadata": {
    "slideshow": {
     "slide_type": "slide"
    }
   },
   "outputs": [
    {
     "name": "stdout",
     "output_type": "stream",
     "text": [
      "0\n",
      "1\n",
      "2\n",
      "3\n",
      "4\n"
     ]
    }
   ],
   "source": [
    "// Geben Sie alle Zahlen von 0 bis n auf eine\n",
    "// neue Zeile aus. Wenn nötig, ändern Sie n auf\n",
    "// einen Wert kleiner als 20.\n",
    "int n = 5;\n",
    "for( int i = 0; i < n; i += 1) {\n",
    "    System.out.println(i);\n",
    "}"
   ]
  },
  {
   "cell_type": "code",
   "execution_count": 4,
   "id": "16b51aea",
   "metadata": {
    "slideshow": {
     "slide_type": "slide"
    }
   },
   "outputs": [
    {
     "name": "stdout",
     "output_type": "stream",
     "text": [
      "0\n",
      "*1\n",
      "**2\n",
      "***3\n",
      "****4\n"
     ]
    }
   ],
   "source": [
    "// geben Sie auf der selben Linie vor jeder Zahl, der Zahl entsprechend viele\n",
    "// Sterne aus\n",
    "int n = 5;\n",
    "for( int i = 0; i < n; i += 1) {\n",
    "    for ( int j = 0; j < i; j += 1) {\n",
    "        System.out.print(\"*\");\n",
    "    }\n",
    "    System.out.println(i);\n",
    "}"
   ]
  },
  {
   "cell_type": "code",
   "execution_count": 5,
   "id": "dab86cc7",
   "metadata": {
    "slideshow": {
     "slide_type": "slide"
    }
   },
   "outputs": [
    {
     "name": "stdout",
     "output_type": "stream",
     "text": [
      "1\n",
      "*2\n",
      "**3\n",
      "***4\n"
     ]
    }
   ],
   "source": [
    "// ändern Sie ihren Code so, dass die Zeile mit der 0\n",
    "// nicht ausgegeben wird und das pro Zeile ein Stern\n",
    "// weniger ausgegeben wird\n",
    "int n = 5;\n",
    "for( int i = 1; i < n; i += 1) {\n",
    "    for ( int j = 1; j < i; j += 1) {\n",
    "        System.out.print(\"*\");\n",
    "    }\n",
    "    System.out.println(i);\n",
    "}"
   ]
  },
  {
   "cell_type": "code",
   "execution_count": 10,
   "id": "e78ff8fc",
   "metadata": {
    "slideshow": {
     "slide_type": "slide"
    }
   },
   "outputs": [
    {
     "name": "stdout",
     "output_type": "stream",
     "text": [
      "1\n",
      "*2\n",
      "* 3\n",
      "** 4\n",
      "*   5\n",
      "***  6\n",
      "*     7\n",
      "** *   8\n",
      "* *     9\n"
     ]
    }
   ],
   "source": [
    "// ändern Sie die Ausgabe der Sterne. Ein Stern soll\n",
    "// nur dann ausgegeben werden, wenn entweder die\n",
    "// Zeilennummer durch die Position des Sterns teilbar\n",
    "// ist oder umgekehrt. Sonst soll ein Leerzeichen\n",
    "// ausgegeben werden.\n",
    "int n = 10;\n",
    "for( int i = 1; i < n; i += 1) {\n",
    "    for ( int j = 1; j < i; j += 1) {\n",
    "        // modulo-operator %\n",
    "        if ((i % j == 0) || (j % i == 0) ) {\n",
    "            System.out.print(\"*\");\n",
    "        } else {\n",
    "            System.out.print(\" \");\n",
    "        }\n",
    "    }\n",
    "    System.out.println(i);\n",
    "}"
   ]
  },
  {
   "cell_type": "code",
   "execution_count": 14,
   "id": "9c254a25",
   "metadata": {
    "slideshow": {
     "slide_type": "slide"
    }
   },
   "outputs": [
    {
     "name": "stdout",
     "output_type": "stream",
     "text": [
      "******1\n",
      "** * *2\n",
      "* *  *3\n",
      "** *  4\n",
      "*   * 5\n",
      "***  *6\n"
     ]
    }
   ],
   "source": [
    "// Geben Sie immer so viele Sterne oder Leerzeichen\n",
    "// aus wie sie auch Zeilen ausgeben. Sie können auch\n",
    "// noch n erhöhen oder verkleinern. Sehen Sie ein Muster?\n",
    "// ********1\n",
    "// ** * * *2\n",
    "// * *  *  3\n",
    "// |------| immer n Sterne oder Leerschläge\n",
    "\n",
    "int n = 7;\n",
    "for( int i = 1; i < n; i += 1) {\n",
    "    for ( int j = 1; j < n; j += 1) {\n",
    "        // modulo-operator %\n",
    "        if ((i % j == 0) || (j % i == 0) ) {\n",
    "            System.out.print(\"*\");\n",
    "        } else {\n",
    "            System.out.print(\" \");\n",
    "        }\n",
    "    }\n",
    "    System.out.println(i);\n",
    "}"
   ]
  },
  {
   "cell_type": "code",
   "execution_count": 15,
   "id": "1f9ee5c4",
   "metadata": {
    "slideshow": {
     "slide_type": "slide"
    }
   },
   "outputs": [
    {
     "name": "stdout",
     "output_type": "stream",
     "text": [
      "******1\n",
      "** * *2\n",
      "* *  *3\n",
      "** *  4\n",
      "*   * 5\n",
      "***  *6\n"
     ]
    }
   ],
   "source": [
    "// verschieben Sie das Schreiben einer Zeile in eine Funktion\n",
    "\n",
    "// methode\n",
    "void printLine ( int i ) {\n",
    "    for ( int j = 1; j < n; j += 1) {\n",
    "        // modulo-operator %\n",
    "        if ((i % j == 0) || (j % i == 0) ) {\n",
    "            System.out.print(\"*\");\n",
    "        } else {\n",
    "            System.out.print(\" \");\n",
    "        }\n",
    "    }\n",
    "    System.out.println(i);\n",
    "}\n",
    "\n",
    "int n = 7;\n",
    "for( int i = 1; i < n; i += 1) {\n",
    "    printLine(i);\n",
    "}"
   ]
  },
  {
   "cell_type": "code",
   "execution_count": 3,
   "id": "1c1169aa",
   "metadata": {
    "slideshow": {
     "slide_type": "slide"
    }
   },
   "outputs": [
    {
     "name": "stdout",
     "output_type": "stream",
     "text": [
      "*************************************************1\n",
      "** * * * * * * * * * * * * * * * * * * * * * * * 2\n",
      "* *  *  *  *  *  *  *  *  *  *  *  *  *  *  *  * 3\n",
      "** *   *   *   *   *   *   *   *   *   *   *   * 4\n",
      "*   *    *    *    *    *    *    *    *    *    5\n",
      "***  *     *     *     *     *     *     *     * 6\n",
      "*     *      *      *      *      *      *      *7\n",
      "** *   *       *       *       *       *       * 8\n",
      "* *     *        *        *        *        *    9\n",
      "**  *    *         *         *         *         10\n",
      "*         *          *          *          *     11\n",
      "**** *     *           *           *           * 12\n",
      "*           *            *            *          13\n",
      "**    *      *             *             *       14\n",
      "* * *         *              *              *    15\n",
      "** *   *       *               *               * 16\n",
      "*               *                *               17\n",
      "***  *  *        *                 *             18\n",
      "*                 *                  *           19\n",
      "** **    *         *                   *         20\n",
      "* *   *             *                    *       21\n",
      "**        *          *                     *     22\n",
      "*                     *                      *   23\n",
      "**** * *   *           *                       * 24\n",
      "*   *                   *                        25\n",
      "**          *            *                       26\n",
      "* *     *                 *                      27\n",
      "** *  *      *             *                     28\n",
      "*                           *                    29\n",
      "*** **   *    *              *                   30\n",
      "*                             *                  31\n",
      "** *   *       *               *                 32\n",
      "* *       *                     *                33\n",
      "**              *                *               34\n",
      "*   * *                           *              35\n",
      "**** *  *  *     *                 *             36\n",
      "*                                   *            37\n",
      "**                *                  *           38\n",
      "* *         *                         *          39\n",
      "** **  * *         *                   *         40\n",
      "*                                       *        41\n",
      "***  **      *      *                    *       42\n",
      "*                                         *      43\n",
      "** *      *          *                     *     44\n",
      "* * *   *     *                             *    45\n",
      "**                    *                      *   46\n",
      "*                                             *  47\n",
      "**** * *   *   *       *                     "
     ]
    }
   ],
   "source": [
    "// Schreiben Sie nun Ihren Code so um, dass\n",
    "// eine weitere Methode den ganzen Output generiert.\n",
    "// n soll dabei als Parameter übergeben werden.\n",
    "\n",
    "void printLine ( int i, int n ) {\n",
    "    for ( int j = 1; j < n; j += 1) {\n",
    "        // modulo-operator %\n",
    "        if ((i % j == 0) || (j % i == 0) ) {\n",
    "            System.out.print(\"*\");\n",
    "        } else {\n",
    "            System.out.print(\" \");\n",
    "        }\n",
    "    }\n",
    "    System.out.println(i);\n",
    "}\n",
    "\n",
    "void printField(int n) {\n",
    "    for( int i = 1; i < n; i += 1) {\n",
    "        printLine(i, n); // hier muss nun auch noch n übergeben werden, da n sonst nicht in der Methode printLine verwendet werden kann\n",
    "    }\n",
    "}\n",
    "\n",
    "printField(50);"
   ]
  },
  {
   "cell_type": "markdown",
   "id": "d2816372",
   "metadata": {
    "slideshow": {
     "slide_type": "slide"
    }
   },
   "source": [
    "Gratulation! Sie haben den ersten Teil des Morgenturnen geschafft."
   ]
  },
  {
   "cell_type": "markdown",
   "id": "7c276df9",
   "metadata": {
    "slideshow": {
     "slide_type": "slide"
    }
   },
   "source": [
    "#### Morgenturnen Teil 2\n",
    "\n",
    "Nun wollen wir eine Klasse schreiben welche einen Buzzer repräsentiert."
   ]
  },
  {
   "cell_type": "code",
   "execution_count": 16,
   "id": "4144d26a",
   "metadata": {
    "slideshow": {
     "slide_type": "slide"
    }
   },
   "outputs": [],
   "source": [
    "// Schreiben Sie eine Klasse mit Namen Buzzer\n",
    "class Buzzer {\n",
    "    \n",
    "}"
   ]
  },
  {
   "cell_type": "code",
   "execution_count": 17,
   "id": "2195a6a7",
   "metadata": {
    "slideshow": {
     "slide_type": "slide"
    }
   },
   "outputs": [],
   "source": [
    "// Schreiben Sie eine Klassenmethode welche einen Text ausgibt\n",
    "class Buzzer {\n",
    "    static void print ( ) {\n",
    "        System.out.println(\"some text\");\n",
    "    }\n",
    "}"
   ]
  },
  {
   "cell_type": "code",
   "execution_count": 18,
   "id": "057d84c1",
   "metadata": {
    "slideshow": {
     "slide_type": "slide"
    }
   },
   "outputs": [
    {
     "name": "stdout",
     "output_type": "stream",
     "text": [
      "some text\r\n"
     ]
    }
   ],
   "source": [
    "// Rufen Sie die Klassenmethode auf\n",
    "class Buzzer {\n",
    "    static void print ( ) {\n",
    "        System.out.println(\"some text\");\n",
    "    }\n",
    "    \n",
    "}\n",
    "\n",
    "Buzzer.print();"
   ]
  },
  {
   "cell_type": "code",
   "execution_count": 24,
   "id": "b073eb6a",
   "metadata": {
    "slideshow": {
     "slide_type": "slide"
    }
   },
   "outputs": [
    {
     "name": "stdout",
     "output_type": "stream",
     "text": [
      "some text\r\n"
     ]
    }
   ],
   "source": [
    "// Erstellen Sie eine Variable der Klasse Buzzer\n",
    "// und initialisieren Sie dese.\n",
    "class Buzzer {\n",
    "    \n",
    "    static void print ( ) {\n",
    "        String s = \"some text\";\n",
    "        System.out.println(s);\n",
    "    }\n",
    "    \n",
    "}\n",
    "\n",
    "Buzzer.print();\n",
    "Buzzer buzz = new Buzzer();"
   ]
  },
  {
   "cell_type": "code",
   "execution_count": 25,
   "id": "693c4f63",
   "metadata": {
    "slideshow": {
     "slide_type": "slide"
    }
   },
   "outputs": [
    {
     "name": "stdout",
     "output_type": "stream",
     "text": [
      "some text\r\n"
     ]
    }
   ],
   "source": [
    "// Der Buzzer soll sich merken ob er schon betätigt\n",
    "// wurde oder nicht. Schreiben Sie dazu eine Objekt-\n",
    "// Variable wasPressed.\n",
    "class Buzzer {\n",
    "    \n",
    "    boolean wasPressed = false;\n",
    "    \n",
    "    static void print ( ) {\n",
    "        String s = \"some text\";\n",
    "        System.out.println(s);\n",
    "    }\n",
    "    \n",
    "}\n",
    "\n",
    "Buzzer.print();\n",
    "Buzzer buzz = new Buzzer();"
   ]
  },
  {
   "cell_type": "code",
   "execution_count": 26,
   "id": "ca83cd6f",
   "metadata": {
    "slideshow": {
     "slide_type": "slide"
    }
   },
   "outputs": [
    {
     "name": "stdout",
     "output_type": "stream",
     "text": [
      "some text\r\n"
     ]
    }
   ],
   "source": [
    "// Wir möchten den Buzzer nun auch drücken können.\n",
    "// Schreiben Sie dafür eine Objekt-Methode press()\n",
    "class Buzzer {\n",
    "    \n",
    "    boolean wasPressed = false;\n",
    "    \n",
    "    void press() {\n",
    "        wasPressed = true;\n",
    "    }\n",
    "    \n",
    "    static void print ( ) {\n",
    "        String s = \"some text\";\n",
    "        System.out.println(s);\n",
    "    }\n",
    "    \n",
    "}\n",
    "\n",
    "Buzzer.print();\n",
    "Buzzer buzz = new Buzzer();"
   ]
  },
  {
   "cell_type": "code",
   "execution_count": 4,
   "id": "829ded62",
   "metadata": {},
   "outputs": [
    {
     "name": "stdout",
     "output_type": "stream",
     "text": [
      "some text\n",
      "false\n",
      "true\n"
     ]
    }
   ],
   "source": [
    "// Betätigen Sie Ihren Buzzer.\n",
    "class Buzzer {\n",
    "    \n",
    "    boolean wasPressed = false;\n",
    "    \n",
    "    void press() {\n",
    "        wasPressed = true;\n",
    "    }\n",
    "    \n",
    "    static void print ( ) {\n",
    "        String s = \"some text\";\n",
    "        System.out.println(s);\n",
    "    }\n",
    "    \n",
    "}\n",
    "\n",
    "Buzzer.print(); // Aufruf Klassenmethode mit Klassenname\n",
    "Buzzer buzz = new Buzzer();\n",
    "System.out.println(buzz.wasPressed);\n",
    "buzz.press(); // Aufruf Objektmethode mit Objekt-Variable\n",
    "System.out.println(buzz.wasPressed);"
   ]
  },
  {
   "cell_type": "code",
   "execution_count": 35,
   "id": "5dfa7ab2",
   "metadata": {
    "slideshow": {
     "slide_type": "slide"
    }
   },
   "outputs": [
    {
     "name": "stdout",
     "output_type": "stream",
     "text": [
      "some text\r\n"
     ]
    }
   ],
   "source": [
    "// Um die Buzzer zu zählen müssen wir eine Klassen-Variable\n",
    "// buzzerCounter erstellen und einen Konstruktor implementieren,\n",
    "// der die Aufrufe mit der Variablen zählt.\n",
    "class Buzzer {\n",
    "    \n",
    "    boolean wasPressed = false;\n",
    "    static int buzzerCounter = 0;\n",
    "    \n",
    "    Buzzer ( ) {\n",
    "        Buzzer.buzzerCounter += 1;\n",
    "        // später nur: buzzerCounter += 1;\n",
    "    }\n",
    "    \n",
    "    void press() {\n",
    "        wasPressed = true;\n",
    "    }\n",
    "    \n",
    "    static void print ( ) {\n",
    "        String s = \"some text\";\n",
    "        System.out.println(s);\n",
    "    }\n",
    "    \n",
    "}\n",
    "\n",
    "Buzzer.print(); // Aufruf Klassenmethode mit Klassenname\n",
    "Buzzer buzz = new Buzzer();\n",
    "buzz.press(); // Aufruf Objektmethode mit Objekt-Variable\n"
   ]
  },
  {
   "cell_type": "code",
   "execution_count": 41,
   "id": "d5038a3f",
   "metadata": {},
   "outputs": [
    {
     "name": "stdout",
     "output_type": "stream",
     "text": [
      "some text\n",
      "1\n"
     ]
    }
   ],
   "source": [
    "// Geben Sie aus wieviele Buzzer erstellt worden sind.\n",
    "\n",
    "class Buzzer {\n",
    "    \n",
    "    boolean wasPressed = false;\n",
    "    static int buzzerCounter = 0;\n",
    "    \n",
    "    Buzzer ( ) {\n",
    "        Buzzer.buzzerCounter += 1;\n",
    "        // später nur: buzzerCounter += 1;\n",
    "    }\n",
    "    \n",
    "    void press() {\n",
    "        wasPressed = true;\n",
    "    }\n",
    "    \n",
    "    static void print ( ) {\n",
    "        String s = \"some text\";\n",
    "        System.out.println(s);\n",
    "    }\n",
    "    \n",
    "}\n",
    "\n",
    "Buzzer.print(); // Aufruf Klassenmethode mit Klassenname\n",
    "Buzzer buzz = new Buzzer();\n",
    "buzz.press(); // Aufruf Objektmethode mit Objekt-Variable\n",
    "System.out.println( Buzzer.buzzerCounter );"
   ]
  },
  {
   "cell_type": "code",
   "execution_count": 5,
   "id": "d8a746df",
   "metadata": {
    "slideshow": {
     "slide_type": "slide"
    }
   },
   "outputs": [
    {
     "name": "stdout",
     "output_type": "stream",
     "text": [
      "some text\n",
      "1\n"
     ]
    }
   ],
   "source": [
    "// Wir wollen nun zu jeder Zeit wissen, wieviel\n",
    "// Buzzer schon gedrückt wurden.\n",
    "// Verhindern Sie, dass ein Buzzer zweimal gezählt wird.\n",
    "\n",
    "class Buzzer {\n",
    "    \n",
    "    boolean wasPressed = false;\n",
    "    static int buzzerCounter = 0;\n",
    "    static int pressedCounter = 0;\n",
    "    \n",
    "    Buzzer ( ) {\n",
    "        Buzzer.buzzerCounter += 1;\n",
    "        // später nur: buzzerCounter += 1;\n",
    "    }\n",
    "    \n",
    "    void press() {\n",
    "        if ( !wasPressed ) {\n",
    "            wasPressed = true;\n",
    "            pressedCounter += 1;\n",
    "        }\n",
    "    }\n",
    "    \n",
    "    static void print ( ) {\n",
    "        String s = \"some text\";\n",
    "        System.out.println(s);\n",
    "    }\n",
    "    \n",
    "}\n",
    "\n",
    "Buzzer.print(); // Aufruf Klassenmethode mit Klassenname\n",
    "Buzzer buzz = new Buzzer();\n",
    "buzz.press(); // Aufruf Objektmethode mit Objekt-Variable\n",
    "System.out.println( Buzzer.buzzerCounter );"
   ]
  },
  {
   "cell_type": "code",
   "execution_count": 6,
   "id": "35a1d319",
   "metadata": {},
   "outputs": [
    {
     "name": "stdout",
     "output_type": "stream",
     "text": [
      "some text\n",
      "1\n",
      "1\n"
     ]
    }
   ],
   "source": [
    "// Geben Sie aus wieviele Buzzer gedrückt wurden.\n",
    "\n",
    "class Buzzer {\n",
    "    \n",
    "    boolean wasPressed = false;\n",
    "    static int buzzerCounter = 0;\n",
    "    static int pressedCounter = 0;\n",
    "    \n",
    "    Buzzer ( ) {\n",
    "        Buzzer.buzzerCounter += 1;\n",
    "        // später nur: buzzerCounter += 1;\n",
    "    }\n",
    "    \n",
    "    void press() {\n",
    "        if ( !wasPressed ) {\n",
    "            wasPressed = true;\n",
    "            pressedCounter += 1;\n",
    "        }\n",
    "    }\n",
    "    \n",
    "    static void print ( ) {\n",
    "        String s = \"some text\";\n",
    "        System.out.println(s);\n",
    "    }\n",
    "    \n",
    "}\n",
    "\n",
    "Buzzer.print(); // Aufruf Klassenmethode mit Klassenname\n",
    "Buzzer buzz = new Buzzer();\n",
    "buzz.press(); // Aufruf Objektmethode mit Objekt-Variable\n",
    "System.out.println( Buzzer.buzzerCounter );\n",
    "System.out.println( Buzzer.pressedCounter );"
   ]
  },
  {
   "cell_type": "code",
   "execution_count": 9,
   "id": "9c3411ab",
   "metadata": {},
   "outputs": [
    {
     "name": "stdout",
     "output_type": "stream",
     "text": [
      "some text to print\n",
      "1\n",
      "1\n",
      "\n",
      "4\n",
      "3\n"
     ]
    }
   ],
   "source": [
    "// Erstelle nun 3 weitere Objekte von der Buzzer Klasse\n",
    "// Drücke zwei der Buzzer, einer davon zwei mal.\n",
    "// Gib aus wieviele Buzzer erstellt wurden und wieviel gedrückt wurden.\n",
    "\n",
    "class Buzzer {\n",
    "    \n",
    "    boolean wasPressed = false;\n",
    "    static int buzzerCounter = 0;\n",
    "    static int pressedCounter = 0;\n",
    "    \n",
    "    Buzzer ( ) {\n",
    "        Buzzer.buzzerCounter += 1;\n",
    "        // später nur: buzzerCounter += 1;\n",
    "    }\n",
    "    \n",
    "    void press() {\n",
    "        if ( !wasPressed ) {\n",
    "            wasPressed = true;\n",
    "            pressedCounter += 1;\n",
    "        }\n",
    "    }\n",
    "    \n",
    "    static void print ( ) {\n",
    "        String s = \"some text to print\";\n",
    "        System.out.println(s);\n",
    "    }\n",
    "    \n",
    "}\n",
    "\n",
    "Buzzer.print(); // Aufruf Klassenmethode mit Klassenname\n",
    "Buzzer buzz = new Buzzer();\n",
    "buzz.press(); // Aufruf Objektmethode mit Objekt-Variable\n",
    "System.out.println( Buzzer.buzzerCounter );\n",
    "System.out.println( Buzzer.pressedCounter );\n",
    "\n",
    "\n",
    "System.out.println();\n",
    "\n",
    "\n",
    "Buzzer b1 = new Buzzer();\n",
    "Buzzer b2 = new Buzzer();\n",
    "Buzzer b3 = new Buzzer();\n",
    "b1.press();\n",
    "b2.press();\n",
    "b2.press();\n",
    "System.out.println( Buzzer.buzzerCounter );\n",
    "System.out.println( Buzzer.pressedCounter );"
   ]
  },
  {
   "cell_type": "markdown",
   "id": "0c2c025d",
   "metadata": {
    "slideshow": {
     "slide_type": "slide"
    }
   },
   "source": [
    "Gratulation! Dies ist das Ende des Morgenturnens."
   ]
  }
 ],
 "metadata": {
  "celltoolbar": "Slideshow",
  "kernelspec": {
   "display_name": "Java",
   "language": "java",
   "name": "java"
  },
  "language_info": {
   "codemirror_mode": "java",
   "file_extension": ".jshell",
   "mimetype": "text/x-java-source",
   "name": "Java",
   "pygments_lexer": "java",
   "version": "16.0.1+9"
  }
 },
 "nbformat": 4,
 "nbformat_minor": 5
}
