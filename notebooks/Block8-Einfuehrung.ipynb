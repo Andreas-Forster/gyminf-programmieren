{
 "cells": [
  {
   "cell_type": "markdown",
   "id": "c75df835",
   "metadata": {
    "slideshow": {
     "slide_type": "-"
    }
   },
   "source": [
    "## Google Colab Integration\n",
    "Die folgende Zelle können Sie überspringen, wenn Sie mit einer lokalen Installation arbeiten. Wenn Sie das Notebook auf Google-Colab ausführen, dann müssen Sie als erstes diese Zelle ausführen und danach die Seite neu laden (F5)."
   ]
  },
  {
   "cell_type": "code",
   "execution_count": null,
   "id": "94318dd1",
   "metadata": {
    "slideshow": {
     "slide_type": "-"
    }
   },
   "outputs": [],
   "source": [
    "!echo \"Update environment...\"\n",
    "!apt update -q  &> /dev/null\n",
    "!echo \"Install Java...\"\n",
    "!apt-get install -q openjdk-11-jdk-headless &> /dev/null\n",
    "!echo \"Install Jupyter java kernel...\"\n",
    "!curl -L https://github.com/SpencerPark/IJava/releases/download/v1.3.0/ijava-1.3.0.zip -o ijava-kernel.zip &> /dev/null\n",
    "!unzip -q ijava-kernel.zip -d ijava-kernel && cd ijava-kernel && python3 install.py --sys-prefix &> /dev/null\n",
    "!echo \"Downloading turtle jar ...\"\n",
    "!curl -L https://github.com/Andreas-Forster/gyminf-programmieren/raw/master/notebooks/jturtle-0.6.jar -o jturtle-0.6.jar &> /dev/null\n",
    "!echo \"Done.\""
   ]
  },
  {
   "cell_type": "markdown",
   "id": "9cd89929",
   "metadata": {
    "slideshow": {
     "slide_type": "slide"
    }
   },
   "source": [
    "## Block 8 - Einführung\n",
    "\n",
    "#### Andreas Morel-Forster, Deparement Mathematik und Informatik, Universität Basel"
   ]
  },
  {
   "cell_type": "markdown",
   "id": "2e09d209",
   "metadata": {
    "slideshow": {
     "slide_type": "slide"
    }
   },
   "source": [
    "### Übersicht\n",
    "\n",
    "* Java-Morgenturnen\n",
    "* Vererbung\n",
    "* Übungs Vorbesprechung\n",
    "* Übungsbesprechung & Fragen"
   ]
  },
  {
   "cell_type": "markdown",
   "id": "ac373343",
   "metadata": {},
   "source": [
    "### Kommentar zu den Übungen\n",
    "Schritte um zu lernen:\n",
    "\n",
    "1. Verstehen der Theorie (Vorlesung/Video, Buch, und Jupyter-Notebooks)\n",
    "1. Anwenden in den Übungen (nicht Theorie verstehen sondern vertiefen und festigen)\n",
    "\n",
    "Bemerkungen:\n",
    "\n",
    "* Informatik is 20% Mathematik, 20% Logik, 20% Puzzeln und 40% Fehlermeldungen lesen.\n",
    "* Es ist wichtig bei Problemen anzustehen und Zeit zu brauchen um auf die Lösung zu kommen.\n",
    "* Bitte nutzt das Forum für Fragen!"
   ]
  },
  {
   "cell_type": "markdown",
   "id": "685b5375",
   "metadata": {
    "slideshow": {
     "slide_type": "slide"
    }
   },
   "source": [
    "### Morgenturnen\n",
    "\n",
    "* Kleine Aufgaben 10-60 Sekunden\n",
    "* Buzzern wenn man fertig ist\n",
    "* Lösungen besprochen sobald Mehrheit fertig ist\n",
    "\n",
    "https://www.cosmobuzz.net/\n"
   ]
  },
  {
   "cell_type": "code",
   "execution_count": null,
   "id": "34257f3a",
   "metadata": {
    "slideshow": {
     "slide_type": "slide"
    }
   },
   "outputs": [],
   "source": [
    "// schreiben Sie einen Ausdruck welcher\n",
    "// ausgewertet vom Typ int ist\n"
   ]
  },
  {
   "cell_type": "code",
   "execution_count": null,
   "id": "f6710e8d",
   "metadata": {
    "slideshow": {
     "slide_type": "slide"
    }
   },
   "outputs": [],
   "source": [
    "// Deklarieren Sie eine Variable n vom Typ int und\n",
    "// initialisieren Sie diese mit ihrem Ausdruck.\n"
   ]
  },
  {
   "cell_type": "code",
   "execution_count": null,
   "id": "89710a09",
   "metadata": {
    "slideshow": {
     "slide_type": "slide"
    }
   },
   "outputs": [],
   "source": [
    "// Geben Sie alle Zahlen von 0 bis n auf eine\n",
    "// neue Zeile aus. Wenn nötig, ändern Sie n auf\n",
    "// einen Wert kleiner als 20.\n"
   ]
  },
  {
   "cell_type": "code",
   "execution_count": null,
   "id": "16b51aea",
   "metadata": {
    "slideshow": {
     "slide_type": "slide"
    }
   },
   "outputs": [],
   "source": [
    "// geben Sie auf der selben Linie vor jeder Zahl, der Zahl entsprechend viele\n",
    "// Sterne aus\n"
   ]
  },
  {
   "cell_type": "code",
   "execution_count": null,
   "id": "dab86cc7",
   "metadata": {
    "slideshow": {
     "slide_type": "slide"
    }
   },
   "outputs": [],
   "source": [
    "// ändern Sie ihren Code so, dass die Zeile mit der 0\n",
    "// nicht ausgegeben wird und das pro Zeile ein Stern\n",
    "// weniger ausgegeben wird\n"
   ]
  },
  {
   "cell_type": "code",
   "execution_count": null,
   "id": "e78ff8fc",
   "metadata": {
    "slideshow": {
     "slide_type": "slide"
    }
   },
   "outputs": [],
   "source": [
    "// ändern Sie die Ausgabe der Sterne. Ein Stern soll\n",
    "// nur dann ausgegeben werden, wenn entweder die\n",
    "// Zeilennummer durch die Position des Sterns teilbar\n",
    "// ist oder umgekehrt. Sonst soll ein Leerzeichen\n",
    "// ausgegeben werden.\n"
   ]
  },
  {
   "cell_type": "code",
   "execution_count": null,
   "id": "9c254a25",
   "metadata": {
    "slideshow": {
     "slide_type": "slide"
    }
   },
   "outputs": [],
   "source": [
    "// Geben Sie immer so viele Sterne oder Leerzeichen\n",
    "// aus wie sie auch Zeilen ausgeben. Sie können auch\n",
    "// noch n erhöhen oder verkleinern. Sehen Sie ein Muster?\n"
   ]
  },
  {
   "cell_type": "code",
   "execution_count": null,
   "id": "1f9ee5c4",
   "metadata": {
    "slideshow": {
     "slide_type": "slide"
    }
   },
   "outputs": [],
   "source": [
    "// verschieben Sie das Schreiben einer Zeile in eine Funktion\n"
   ]
  },
  {
   "cell_type": "code",
   "execution_count": null,
   "id": "1c1169aa",
   "metadata": {
    "slideshow": {
     "slide_type": "slide"
    }
   },
   "outputs": [],
   "source": [
    "// Schreiben Sie nun Ihren Code so um, dass\n",
    "// eine weitere Methode den ganzen Output generiert.\n",
    "// n soll dabei als Parameter übergeben werden.\n"
   ]
  },
  {
   "cell_type": "markdown",
   "id": "d2816372",
   "metadata": {
    "slideshow": {
     "slide_type": "slide"
    }
   },
   "source": [
    "Gratulation! Sie haben den ersten Teil des Morgenturnen geschafft."
   ]
  },
  {
   "cell_type": "markdown",
   "id": "7c276df9",
   "metadata": {
    "slideshow": {
     "slide_type": "slide"
    }
   },
   "source": [
    "#### Morgenturnen Teil 2\n",
    "\n",
    "Nun wollen wir eine Klasse schreiben welche einen Buzzer repräsentiert."
   ]
  },
  {
   "cell_type": "code",
   "execution_count": null,
   "id": "4144d26a",
   "metadata": {
    "slideshow": {
     "slide_type": "slide"
    }
   },
   "outputs": [],
   "source": [
    "// Schreiben Sie eine Klasse mit Namen Buzzer\n"
   ]
  },
  {
   "cell_type": "code",
   "execution_count": null,
   "id": "2195a6a7",
   "metadata": {},
   "outputs": [],
   "source": [
    "// Schreiben Sie eine Klassenmethode welche einen Text ausgibt\n"
   ]
  },
  {
   "cell_type": "code",
   "execution_count": null,
   "id": "057d84c1",
   "metadata": {},
   "outputs": [],
   "source": [
    "// Rufen Sie die Klassenmethode auf\n"
   ]
  },
  {
   "cell_type": "code",
   "execution_count": null,
   "id": "b073eb6a",
   "metadata": {},
   "outputs": [],
   "source": [
    "// Erstellen Sie eine Variable der Klasse Buzzer\n",
    "// und initialisieren Sie dese.\n"
   ]
  },
  {
   "cell_type": "code",
   "execution_count": null,
   "id": "693c4f63",
   "metadata": {
    "slideshow": {
     "slide_type": "slide"
    }
   },
   "outputs": [],
   "source": [
    "// Der Buzzer soll sich merken ob er schon betätigt\n",
    "// wurde oder nicht. Schreiben Sie dazu eine Objekt-\n",
    "// Variable wasPressed.\n"
   ]
  },
  {
   "cell_type": "code",
   "execution_count": null,
   "id": "ca83cd6f",
   "metadata": {
    "slideshow": {
     "slide_type": "slide"
    }
   },
   "outputs": [],
   "source": [
    "// Wir möchten den Buzzer nun auch drücken können.\n",
    "// Schreiben Sie dafür eine Objekt-Methode press()\n"
   ]
  },
  {
   "cell_type": "code",
   "execution_count": null,
   "id": "829ded62",
   "metadata": {},
   "outputs": [],
   "source": [
    "// Betätigen Sie Ihren Buzzer.\n"
   ]
  },
  {
   "cell_type": "code",
   "execution_count": null,
   "id": "5dfa7ab2",
   "metadata": {
    "slideshow": {
     "slide_type": "slide"
    }
   },
   "outputs": [],
   "source": [
    "// Um die Buzzer zu zählen müssen wir eine Klassen-Variable\n",
    "// buzzerCounter erstellen und einen Konstruktor implementieren,\n",
    "// der die aufrufe mit der Variablen zählt.\n"
   ]
  },
  {
   "cell_type": "code",
   "execution_count": null,
   "id": "d5038a3f",
   "metadata": {},
   "outputs": [],
   "source": [
    "// Geben Sie aus wieviele Buzzer erstellt worden sind.\n"
   ]
  },
  {
   "cell_type": "code",
   "execution_count": null,
   "id": "d8a746df",
   "metadata": {
    "slideshow": {
     "slide_type": "slide"
    }
   },
   "outputs": [],
   "source": [
    "// Wir wollen nun zu jeder Zeit wissen, wieviel\n",
    "// Buzzer schon gedrückt wurden.\n",
    "// Verhindern Sie, dass ein Buzzer zweimal gezählt wird.\n"
   ]
  },
  {
   "cell_type": "code",
   "execution_count": null,
   "id": "35a1d319",
   "metadata": {},
   "outputs": [],
   "source": [
    "// Geben Sie aus wieviele Buzzer gedrückt wurden.\n"
   ]
  },
  {
   "cell_type": "code",
   "execution_count": null,
   "id": "9c3411ab",
   "metadata": {},
   "outputs": [],
   "source": [
    "// Erstelle nun 3 weitere Objekte von der Buzzer Klasse\n",
    "// Drücke zwei der Buzzer, einer davon zwei mal.\n",
    "// Gib aus wieviele Buzzer erstellt wurden und wieviel gedrückt wurden.\n"
   ]
  },
  {
   "cell_type": "markdown",
   "id": "0c2c025d",
   "metadata": {
    "slideshow": {
     "slide_type": "slide"
    }
   },
   "source": [
    "Gratulation! Dies ist das Ende des Morgenturnens."
   ]
  }
 ],
 "metadata": {
  "celltoolbar": "Slideshow",
  "kernelspec": {
   "display_name": "Java",
   "language": "java",
   "name": "java"
  },
  "language_info": {
   "codemirror_mode": "java",
   "file_extension": ".jshell",
   "mimetype": "text/x-java-source",
   "name": "Java",
   "pygments_lexer": "java",
   "version": "16.0.1+9"
  }
 },
 "nbformat": 4,
 "nbformat_minor": 5
}
