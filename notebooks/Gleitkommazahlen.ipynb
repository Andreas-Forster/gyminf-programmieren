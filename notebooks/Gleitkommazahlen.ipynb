{
 "cells": [
  {
   "cell_type": "markdown",
   "metadata": {
    "slideshow": {
     "slide_type": "slide"
    }
   },
   "source": [
    "# Gleitkommazahlen\n",
    "\n",
    "#### Marcel Lüthi, Departement Mathematik und Informatik, Universität Basel"
   ]
  },
  {
   "cell_type": "markdown",
   "metadata": {
    "slideshow": {
     "slide_type": "slide"
    }
   },
   "source": [
    "### Die Typen float und double"
   ]
  },
  {
   "cell_type": "markdown",
   "metadata": {},
   "source": [
    "Variablen\n",
    "\n",
    "```java\n",
    "float x;   // 32 Bit gross\n",
    "double z;  // 64 Bit gross\n",
    "``` \n",
    "\n",
    "Konstanten\n",
    "```java\n",
    "3.14     // Typ double\n",
    "3.14f    // Typ float\n",
    "3.14e0   // Exponentialschreibweise für 3.14\n",
    "0.314e1  // Exponentialschreibweise für 3.14\n",
    "31.4e-1  // Exponentialschreibweise für 3.14\n",
    ".23      \n",
    "1.e2     // 100\n",
    "```"
   ]
  },
  {
   "cell_type": "markdown",
   "metadata": {
    "slideshow": {
     "slide_type": "slide"
    }
   },
   "source": [
    "#### Miniübung\n",
    "\n",
    "* Probieren Sie die verschiedenen Schreibweisen aus. \n",
    "* Kann das ```e``` in der Exponentialschreibweise auch gross geschrieben werden?\n",
    "* Gibt die Exponentialschreibweise immer Werte vom Typ double?"
   ]
  },
  {
   "cell_type": "code",
   "execution_count": null,
   "metadata": {
    "slideshow": {
     "slide_type": "fragment"
    }
   },
   "outputs": [],
   "source": [
    "// Probieren Sie es aus"
   ]
  },
  {
   "cell_type": "markdown",
   "metadata": {
    "slideshow": {
     "slide_type": "slide"
    }
   },
   "source": [
    "### Zuweisungen und Operationen\n",
    "\n",
    "#### Zuweisungskompatibilität\n",
    "\n",
    "$\\text{double} \\supseteq \\text{float} \\supseteq \\text{long} \\supseteq \\text{int} \\supseteq \\text{short} \\supseteq \\text{byte}$\n",
    "\n",
    "#### Erlaubte Operationen\n",
    "\n",
    "* Arithmetische Operationen (``+``, ``-``, ``*``, ``/``)\n",
    "* Vergleiche (``==``, ``!=``, ``<``, ``<=``, ``>``, ``>=``)\n",
    "\n",
    "> Achtung: Gleitkommazahlen sollte man nie auf Gleichheit prüfen. Warum?"
   ]
  },
  {
   "cell_type": "code",
   "execution_count": null,
   "metadata": {
    "slideshow": {
     "slide_type": "fragment"
    }
   },
   "outputs": [],
   "source": [
    "// Probieren Sie es aus\n",
    "0.1 + 0.1 + 0.1"
   ]
  },
  {
   "cell_type": "markdown",
   "metadata": {
    "slideshow": {
     "slide_type": "notes"
    }
   },
   "source": [
    "Im Folgenden schauen wir uns an, wie wir mit Variablen arbeiten und einfache Programme schreiben können. Durch das Arbeiten mit Variablen können wir Programme allgemeiner schreiben und von konkreten Beispielen abstrahieren. \n",
    "Als Beispiel nehmen wir die Berechnung der Hypothenuse eines rechtwinkligen Dreiecks. Anstatt die Berechnung direkt mit konkreten Werten durchzuführen, können wir Variablen einführen und die Formel dann allgemein hinschreiben. "
   ]
  },
  {
   "cell_type": "markdown",
   "metadata": {
    "slideshow": {
     "slide_type": "slide"
    }
   },
   "source": [
    "#### Beispiel: Satz von Pythagoras"
   ]
  },
  {
   "cell_type": "markdown",
   "metadata": {
    "slideshow": {
     "slide_type": "-"
    }
   },
   "source": [
    "Als erstes definieren wir uns zwei Variablen, die den Seitenlängen des Dreicks entsprechen:"
   ]
  },
  {
   "cell_type": "code",
   "execution_count": null,
   "metadata": {
    "slideshow": {
     "slide_type": "-"
    }
   },
   "outputs": [],
   "source": [
    "double a = 9.0;\n",
    "double b = 2;"
   ]
  },
  {
   "cell_type": "markdown",
   "metadata": {
    "slideshow": {
     "slide_type": "fragment"
    }
   },
   "source": [
    "Nun wissen wir vom Satz von Pythagoras, dass die Länge der Hypothenuse $c$ mit der Formel $c^2 = a^2 + b^2$ berechnet werden kann."
   ]
  },
  {
   "cell_type": "code",
   "execution_count": null,
   "metadata": {
    "slideshow": {
     "slide_type": "-"
    }
   },
   "outputs": [],
   "source": [
    "double cSquared = a * a + b * b;"
   ]
  },
  {
   "cell_type": "markdown",
   "metadata": {
    "slideshow": {
     "slide_type": "fragment"
    }
   },
   "source": [
    "Um ```c``` zu erhalten müssen wir noch die Wurzel ziehen. Dafür stellt uns Java die Funktion ```Math.sqrt``` zur Verfügung. "
   ]
  },
  {
   "cell_type": "code",
   "execution_count": null,
   "metadata": {
    "slideshow": {
     "slide_type": "-"
    }
   },
   "outputs": [],
   "source": [
    "double c = Math.sqrt(cSquared);\n",
    "System.out.println(c);"
   ]
  },
  {
   "cell_type": "markdown",
   "metadata": {
    "slideshow": {
     "slide_type": "fragment"
    }
   },
   "source": [
    "Die Werte der Variablen können wir dies mit dem Befehl ```System.out.println(variable)``` ausgeben lassen."
   ]
  },
  {
   "cell_type": "code",
   "execution_count": null,
   "metadata": {},
   "outputs": [],
   "source": []
  }
 ],
 "metadata": {
  "celltoolbar": "Slideshow",
  "kernelspec": {
   "display_name": "Java",
   "language": "java",
   "name": "java"
  },
  "language_info": {
   "codemirror_mode": "java",
   "file_extension": ".java",
   "mimetype": "text/x-java-source",
   "name": "Java",
   "pygments_lexer": "java",
   "version": "11.0.4+11"
  },
  "rise": {}
 },
 "nbformat": 4,
 "nbformat_minor": 2
}
