{
 "cells": [
  {
   "cell_type": "markdown",
   "metadata": {
    "slideshow": {
     "slide_type": "skip"
    }
   },
   "source": [
    "### Google Colab Integration\n",
    "\n",
    "Die folgende Zelle können Sie überspringen, wenn Sie mit einer lokalen Installation arbeiten. Wenn Sie das Notebook auf Google-Colab ausführen, dann müssen Sie als erstes diese Zelle ausführen und danach die Seite neu laden (F5)."
   ]
  },
  {
   "cell_type": "code",
   "execution_count": null,
   "metadata": {
    "slideshow": {
     "slide_type": "skip"
    }
   },
   "outputs": [],
   "source": [
    "!echo \"Update environment...\"\n",
    "!apt update -q  &> /dev/null\n",
    "!echo \"Install Java...\"\n",
    "!apt-get install -q openjdk-11-jdk-headless &> /dev/null\n",
    "!echo \"Install Jupyter java kernel...\"\n",
    "!curl -L https://github.com/SpencerPark/IJava/releases/download/v1.3.0/ijava-1.3.0.zip -o ijava-kernel.zip &> /dev/null\n",
    "!unzip -q ijava-kernel.zip -d ijava-kernel && cd ijava-kernel && python3 install.py --sys-prefix &> /dev/null\n",
    "!echo \"Downloading turtle jar ...\"\n",
    "!curl -L https://github.com/Andreas-Forster/gyminf-programmieren/raw/master/notebooks/jturtle-0.6.jar -o jturtle-0.6.jar &> /dev/null\n",
    "!echo \"Done.\""
   ]
  },
  {
   "cell_type": "markdown",
   "metadata": {
    "slideshow": {
     "slide_type": "slide"
    }
   },
   "source": [
    "# Verzweigung\n",
    "\n",
    "#### Andreas Morel-Forster, Departement Mathematik und Informatik, Universität Basel"
   ]
  },
  {
   "cell_type": "markdown",
   "metadata": {
    "slideshow": {
     "slide_type": "slide"
    }
   },
   "source": [
    "### If-Anweisung\n",
    "\n",
    "![if-statement](images/if-statement.png)"
   ]
  },
  {
   "cell_type": "markdown",
   "metadata": {
    "slideshow": {
     "slide_type": "slide"
    }
   },
   "source": [
    "### Anweisungsblöcke\n",
    "\n",
    "Anweisungsblöcke sind geklammerte Folgen von Anweisungen:\n",
    "```\n",
    "{ \n",
    "   Anweisung1;\n",
    "   Anweisung2;\n",
    "   ...\n",
    "   Anweisung3;\n",
    "}\n",
    "```\n",
    "\n",
    "``then`` und ``else``-Zweig in der ``if``-Anweisung entsprechen jeweils Anweisungsblöcken. \n",
    "\n"
   ]
  },
  {
   "cell_type": "markdown",
   "metadata": {
    "slideshow": {
     "slide_type": "slide"
    }
   },
   "source": [
    "### Lesbarkeit\n",
    "\n",
    "\n",
    "* Welche Schreibweise ist lesbarer?\n",
    "\n",
    "<div style=\"display: block; margin-top:0.0cm\">\n",
    "<div style=\"display: inline-block\">\n",
    "<pre><code class=\"language-java\" data-trim>       \n",
    "if (n != 0) {\n",
    "    n = n / 2;\n",
    "    n--;\n",
    "} else {\n",
    "    n = n * 2;\n",
    "    n++;        \n",
    "}    \n",
    "</code></pre></div>\n",
    "<div style=\"display: inline-block\">\n",
    "<pre><code class=\"language-java\" data-trim>       \n",
    "if (n != 0) {\n",
    "n = n / 2;\n",
    "n--;\n",
    "  } else {\n",
    "n = n * 2;\n",
    "  n++;        \n",
    "}    \n",
    "</code></pre></div>    \n",
    "</div>"
   ]
  },
  {
   "cell_type": "markdown",
   "metadata": {
    "slideshow": {
     "slide_type": "fragment"
    }
   },
   "source": [
    "> Anweisungen in Anweisungsblöcken sollten eingerückt werden\n",
    "\n",
    "* Die Einrückungen ist nicht wichtig für den Compiler oder für Java - aber für den Leser.\n"
   ]
  },
  {
   "cell_type": "markdown",
   "metadata": {
    "slideshow": {
     "slide_type": "slide"
    }
   },
   "source": [
    "### Vergleichsoperatoren\n",
    "\n",
    "Vergleich zweier Werte liefert wahr (``true``) oder falsch (``false``)\n",
    "\n",
    "| &nbsp;     | Bedeutung | Beispiel |\n",
    "|------|-----------|----------|\n",
    "| ==   | gleich    | x == 3 |\n",
    "| !=   | ungleich  | x != y |\n",
    "| >    | grösser   | 4 > 3 |\n",
    "| <    | kleiner   | x + 1 < 0 |\n",
    "| >=   | grösser oder gleich | x >= y| \n",
    "| <=   | kleiner oder gleich | x <= y|\n",
    "\n",
    "\n",
    "Wird z.B. in If-Anweisung verwendet\n"
   ]
  },
  {
   "cell_type": "markdown",
   "metadata": {
    "slideshow": {
     "slide_type": "slide"
    }
   },
   "source": [
    "#### Miniübung\n",
    "\n",
    "* Vervollständigen Sie das Programm mit `if`-Anweisungen, so dass jeweils nur die zutreffende Aussage für die Zahl z ausgegeben wird.\n",
    "* Testen Sie ob alle möglichen Fälle in dem Sie der Variable `z` geeigneten Werte zuweisen."
   ]
  },
  {
   "cell_type": "code",
   "execution_count": 6,
   "metadata": {},
   "outputs": [
    {
     "name": "stdout",
     "output_type": "stream",
     "text": [
      "z ist eine ungerade, positive Zahl\r\n"
     ]
    }
   ],
   "source": [
    "int z = 5;\n",
    "\n",
    "if ( z%2 == 0 && z >= 0) {\n",
    "    System.out.println(\"z ist eine gerade, positive Zahl\");\n",
    "} else if ( z%2 == 0 && z < 0 ) {\n",
    "    System.out.println(\"z ist eine gerade, negative Zahl\");\n",
    "} else if ( z%2 != 0  && z >= 0 ) {\n",
    "    System.out.println(\"z ist eine ungerade, positive Zahl\");\n",
    "} else {\n",
    "    System.out.println(\"z ist eine ungerade, negative Zahl\");\n",
    "}\n",
    "\n"
   ]
  },
  {
   "cell_type": "markdown",
   "metadata": {
    "slideshow": {
     "slide_type": "slide"
    }
   },
   "source": [
    "### Zusammengesetzte Vergleiche\n",
    "\n",
    "Und (&&) und Oder (||) Verknüpfung\n",
    "\n",
    "| x | y | x ``&&`` y| x &#124; &#124; y |\n",
    "|---|---|--------|----------------|\n",
    "| true | true | true | true |\n",
    "| true | false | false | true |\n",
    "| false | true | false | true | \n",
    "| false | false | false | false | "
   ]
  },
  {
   "cell_type": "markdown",
   "metadata": {
    "slideshow": {
     "slide_type": "slide"
    }
   },
   "source": [
    "### Zusammengesetzte Vergleiche\n",
    "\n",
    "! Nicht-Verknüpfung\n",
    "\n",
    "| x | !x |\n",
    "|---|---|\n",
    "| true | false |\n",
    "| false | true |"
   ]
  },
  {
   "cell_type": "markdown",
   "metadata": {},
   "source": [
    "Beispiel:\n",
    "```java\n",
    "if (x >= 0 && x <= 10 || x >= 100 && x <= 110) {\n",
    "    if ( !(x > y) ) { // x <= y\n",
    "        x = y; \n",
    "    } else {\n",
    "        y = x;\n",
    "    }\n",
    "}\n",
    "```"
   ]
  },
  {
   "cell_type": "markdown",
   "metadata": {
    "slideshow": {
     "slide_type": "slide"
    }
   },
   "source": [
    "### Datentyp boolean\n",
    "\n",
    "Datentyp wie ``int``, aber mit nur zwei Werten ``true`` und ``false``. \n",
    "\n",
    "Beispiel:\n"
   ]
  },
  {
   "cell_type": "code",
   "execution_count": 9,
   "metadata": {},
   "outputs": [
    {
     "data": {
      "text/plain": [
       "true"
      ]
     },
     "execution_count": 9,
     "metadata": {},
     "output_type": "execute_result"
    }
   ],
   "source": [
    "int x = 1;\n",
    "boolean p = false;\n",
    "boolean q = x > 0;\n",
    "p = p || q && x < 10; // Was bedeutet das erste Gleichheitszeichen auf dieser Zeile?\n",
    "p"
   ]
  },
  {
   "cell_type": "markdown",
   "metadata": {
    "slideshow": {
     "slide_type": "fragment"
    }
   },
   "source": [
    "#### Beachte\n",
    "\n",
    "* Boolesche Werte können mit &&, || und ! verknüpft werden.\n",
    "* Jeder Vergleich liefert einen Wert vom Typ boolean.\n",
    "* Boolesche Werte können in boolean- Variablen abgespeichert werden (\"flags\").\n",
    "* Namen für boolean- Variablen sollten mit Adjektiv beginnen: equal, full."
   ]
  },
  {
   "cell_type": "markdown",
   "metadata": {
    "slideshow": {
     "slide_type": "slide"
    }
   },
   "source": [
    "# Übungen"
   ]
  },
  {
   "cell_type": "markdown",
   "metadata": {
    "slideshow": {
     "slide_type": "slide"
    }
   },
   "source": [
    "### Übung 1: Maximum dreier Zahlen"
   ]
  },
  {
   "cell_type": "markdown",
   "metadata": {},
   "source": [
    "* Schreiben Sie ein Programm, welches das Maximum dreier Zahlen berechnet. \n",
    "* Schreiben Sie das Programm jeweils mit einfachen als auch mit zusammengesetzten Bedingungen"
   ]
  },
  {
   "cell_type": "markdown",
   "metadata": {},
   "source": [
    "![flowchart](images/max-flowchart.png)"
   ]
  },
  {
   "cell_type": "code",
   "execution_count": 23,
   "metadata": {
    "slideshow": {
     "slide_type": "notes"
    }
   },
   "outputs": [
    {
     "ename": "CompilationException",
     "evalue": "",
     "output_type": "error",
     "traceback": [
      "\u001b[1m\u001b[30m|   \u001b[1m\u001b[30m\u001b[0m",
      "\u001b[1m\u001b[30m|   \u001b[1m\u001b[30m\u001b[0m",
      "\u001b[1m\u001b[30m|   \u001b[1m\u001b[30mmax\u001b[0m",
      "\u001b[1m\u001b[30m|   \u001b[1m\u001b[30ma;\u001b[0m",
      "\u001b[1m\u001b[31mUnresolved dependencies:\u001b[0m",
      "\u001b[1m\u001b[31m   - class max\u001b[0m"
     ]
    }
   ],
   "source": [
    "int a = 29;\n",
    "int b = 32;\n",
    "int c = 31343;\n",
    "int max;\n",
    "String s = \"\";\n",
    "\n",
    "\n",
    "if ( a >= b && a >= c) {\n",
    "    max = a;\n",
    "} else {\n",
    "    if ( b >= a && b >= c ) {\n",
    "        max = b;\n",
    "    } else {\n",
    "        max = c;\n",
    "    }\n",
    "}\n"
   ]
  },
  {
   "cell_type": "markdown",
   "metadata": {
    "slideshow": {
     "slide_type": "slide"
    }
   },
   "source": [
    "### Übung 2: Parametrisieren Sie das gezeichnete Haus"
   ]
  },
  {
   "cell_type": "markdown",
   "metadata": {},
   "source": [
    "In längeren Programmen kommt es häufig vor, dass sich eine komplexe Anweisungsfolge nur in kleinen Teilen unterscheidet. Dies ist in folgendem Programm illustriert, wo wir mal wieder die Turtle Grafik verwenden.\n",
    "\n",
    "#### Miniübung\n",
    "\n",
    "* Führen Sie boolsche Variablen ```hasWindow``` und ``hasChimney`` ein, welche es erlauben ein Haus wahlweise mit Kamin, mit Fenster oder mit beidem zu zeichnen. \n",
    "* Führen Sie Variablen ein, um die Zeichnung einfacher parametrisieren zu können (Höhe/Breite des Hauses, etc.)."
   ]
  },
  {
   "cell_type": "code",
   "execution_count": 24,
   "metadata": {
    "slideshow": {
     "slide_type": "notes"
    }
   },
   "outputs": [],
   "source": [
    "// Laden der Turtle Bibliothek\n",
    "// Diese Kommandos funktionieren nur in Jupyter-notebooks und entsprechen nicht gültigem Java. \n",
    "%jars jturtle-0.6.jar\n",
    "\n",
    "import static ch.unibas.informatik.jturtle.TurtleCommands.*;"
   ]
  },
  {
   "cell_type": "code",
   "execution_count": 27,
   "metadata": {
    "slideshow": {
     "slide_type": "slide"
    }
   },
   "outputs": [
    {
     "data": {
      "image/png": "[encoded data removed]",
      "text/plain": [
       "BufferedImage@5b52cbe5: type = 2 DirectColorModel: rmask=ff0000 gmask=ff00 bmask=ff amask=ff000000 IntegerInterleavedRaster: width = 1024 height = 1024 #Bands = 4 xOff = 0 yOff = 0 dataOffset[0] 0"
      ]
     },
     "metadata": {},
     "output_type": "display_data"
    },
    {
     "data": {
      "text/plain": [
       "d9890d4e-631c-4477-954c-2b71f7c176a7"
      ]
     },
     "execution_count": 27,
     "metadata": {},
     "output_type": "execute_result"
    }
   ],
   "source": [
    "clear();\n",
    "home();\n",
    "penColor(BLACK);\n",
    "\n",
    "backward(50);\n",
    "penDown();\n",
    "forward(50);\n",
    "turnRight(45);\n",
    "forward(50);\n",
    "turnRight(90);\n",
    "forward(20);\n",
    "turnLeft(135);\n",
    "forward(10);\n",
    "turnRight(90);\n",
    "penColor(RED);\n",
    "forward(10);\n",
    "turnRight(90);\n",
    "forward(20);\n",
    "turnLeft(45);    \n",
    "forward(15);\n",
    "turnRight(45);\n",
    "forward(50);\n",
    "turnRight(90);\n",
    "forward(70);\n",
    "turnRight(90);\n",
    "penUp();\n",
    "forward(30);\n",
    "turnRight(90);\n",
    "forward(15);\n",
    "turnLeft(90);\n",
    "penDown();\n",
    "forward(15);\n",
    "turnRight(90);\n",
    "forward(15);\n",
    "turnRight(90);\n",
    "forward(15);\n",
    "turnRight(90);\n",
    "forward(15);\n",
    "\n",
    "display(drawing());"
   ]
  },
  {
   "cell_type": "code",
   "execution_count": null,
   "metadata": {},
   "outputs": [],
   "source": []
  }
 ],
 "metadata": {
  "celltoolbar": "Slideshow",
  "kernelspec": {
   "display_name": "Java",
   "language": "java",
   "name": "java"
  },
  "language_info": {
   "codemirror_mode": "java",
   "file_extension": ".jshell",
   "mimetype": "text/x-java-source",
   "name": "Java",
   "pygments_lexer": "java",
   "version": "16.0.1+9"
  },
  "rise": {}
 },
 "nbformat": 4,
 "nbformat_minor": 2
}
