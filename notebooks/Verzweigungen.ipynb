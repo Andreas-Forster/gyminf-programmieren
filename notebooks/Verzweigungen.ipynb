{
 "cells": [
  {
   "cell_type": "markdown",
   "metadata": {},
   "source": [
    "### Google Colab Integration\n",
    "\n",
    "Die folgende Zelle können Sie überspringen, wenn Sie mit einer lokalen Installation arbeiten. Wenn Sie das Notebook auf Google-Colab ausführen, dann müssen Sie als erstes diese Zelle ausführen und danach die Seite neu laden (F5)."
   ]
  },
  {
   "cell_type": "code",
   "execution_count": null,
   "metadata": {
    "slideshow": {
     "slide_type": "skip"
    }
   },
   "outputs": [],
   "source": [
    "!echo \"Update environment...\"\n",
    "!apt update -q  &> /dev/null\n",
    "!echo \"Install Java...\"\n",
    "!apt-get install -q openjdk-11-jdk-headless &> /dev/null\n",
    "!echo \"Install Jupyter java kernel...\"\n",
    "!curl -L https://github.com/SpencerPark/IJava/releases/download/v1.3.0/ijava-1.3.0.zip -o ijava-kernel.zip &> /dev/null\n",
    "!unzip -q ijava-kernel.zip -d ijava-kernel && cd ijava-kernel && python3 install.py --sys-prefix &> /dev/null\n",
    "!echo \"Downloading turtle jar ...\"\n",
    "!curl -L https://github.com/Andreas-Forster/gyminf-programmieren/raw/master/notebooks/jturtle-0.6.jar -o jturtle-0.6.jar &> /dev/null\n",
    "!echo \"Done.\""
   ]
  },
  {
   "cell_type": "markdown",
   "metadata": {
    "slideshow": {
     "slide_type": "slide"
    }
   },
   "source": [
    "# Verzweigung\n",
    "\n",
    "#### Marcel Lüthi, Departement Mathematik und Informatik, Universität Basel"
   ]
  },
  {
   "cell_type": "markdown",
   "metadata": {
    "slideshow": {
     "slide_type": "slide"
    }
   },
   "source": [
    "### If-Anweisung\n",
    "\n",
    "![if-statement](images/if-statement.png)"
   ]
  },
  {
   "cell_type": "markdown",
   "metadata": {
    "slideshow": {
     "slide_type": "slide"
    }
   },
   "source": [
    "### Anweisungsblöcke\n",
    "\n",
    "Anweisungsblöcke sind geklammerte Folgen von Anweisungen:\n",
    "```\n",
    "{ \n",
    "   Anweisung1;\n",
    "   Anweisung2;\n",
    "   ...\n",
    "   Anweisung3;\n",
    "}\n",
    "```\n",
    "\n",
    "``then`` und ``else``-Zweig in der ``if``-Anweisung entsprechen jeweils Anweisungsblöcken. \n",
    "\n"
   ]
  },
  {
   "cell_type": "markdown",
   "metadata": {
    "slideshow": {
     "slide_type": "slide"
    }
   },
   "source": [
    "### Randbemerkung: Einrückungen\n",
    "\n",
    "> Anweisungen in Anweisungsblöcken sollten eingerückt werden\n",
    "\n",
    "\n",
    "\n",
    "<div style=\"display: block; margin-top:0.0cm\">\n",
    "<div style=\"display: inline-block\">\n",
    "Gut\n",
    "<pre><code class=\"language-java\" data-trim>       \n",
    "if (n != 0) {\n",
    "    n = n / 2;\n",
    "    n--;\n",
    "} else {\n",
    "    n = n * 2;\n",
    "    n++;        \n",
    "}    \n",
    "</code></pre></div>\n",
    "<div style=\"display: inline-block\">\n",
    "Schlecht\n",
    "<pre><code class=\"language-java\" data-trim>       \n",
    "if (n != 0) {\n",
    "n = n / 2;\n",
    "n--;\n",
    "  } else {\n",
    "n = n * 2;\n",
    "  n++;        \n",
    "}    \n",
    "</code></pre></div>    \n",
    "</div>\n",
    "\n",
    "* Einrückungen nicht wichtig für Java - aber für den Leser\n"
   ]
  },
  {
   "cell_type": "markdown",
   "metadata": {
    "slideshow": {
     "slide_type": "slide"
    }
   },
   "source": [
    "### Vergleichsoperatoren\n",
    "\n",
    "Vergleich zweier Werte liefert wahr (``true``) oder falsch (``false``)\n",
    "\n",
    "| &nbsp;     | Bedeutung | Beispiel |\n",
    "|------|-----------|----------|\n",
    "| ==   | gleich    | x == 3 |\n",
    "| !=   | ungleich  | x != y |\n",
    "| >    | grösser   | 4 > 3 |\n",
    "| <    | kleiner   | x + 1 < 0 |\n",
    "| >=   | grösser oder gleich | x >= y| \n",
    "| <=   | kleiner oder gleich | x <= y|\n",
    "\n",
    "\n",
    "Wird z.B. in If-Anweisung verwendet\n"
   ]
  },
  {
   "cell_type": "markdown",
   "metadata": {
    "slideshow": {
     "slide_type": "slide"
    }
   },
   "source": [
    "#### Miniübung\n",
    "\n",
    "* Vervollständigen Sie das Programm, so dass jeweils nur die zutreffende Aussage für die Zahl z ausgegeben wird."
   ]
  },
  {
   "cell_type": "code",
   "execution_count": null,
   "metadata": {},
   "outputs": [],
   "source": [
    "int z = 5;\n",
    "\n",
    "System.out.println(\"z ist eine gerade, positive Zahl\");\n",
    "System.out.println(\"z ist eine gerade, negative Zahl\");\n",
    "System.out.println(\"z ist eine ungerade, positive Zahl\");\n",
    "System.out.println(\"z ist eine ungerade, negative Zahl\");"
   ]
  },
  {
   "cell_type": "markdown",
   "metadata": {
    "slideshow": {
     "slide_type": "slide"
    }
   },
   "source": [
    "### Zusammengesetzte Vergleiche"
   ]
  },
  {
   "cell_type": "markdown",
   "metadata": {},
   "source": [
    "Und (&&) und Oder (||) Verknüpfung\n",
    "\n",
    "| x | y | x ``&&`` y| x &#124; &#124; y |\n",
    "|---|---|--------|----------------|\n",
    "| true | true | true | true |\n",
    "| true | false | false | true |\n",
    "| false | true | false | true | \n",
    "| false | false | false | false | \n",
    "\n",
    "! Nicht-Verknüpfung\n",
    "\n",
    "| x | !x |\n",
    "|---|---|\n",
    "| true | false |\n",
    "| false | true |\n",
    "\n",
    "Beispiel:\n",
    "```java\n",
    "if (x >= 0 && x <= 10 || x >= 100 && x <= 110) {\n",
    "    x = y; \n",
    "}\n",
    "```"
   ]
  },
  {
   "cell_type": "markdown",
   "metadata": {
    "slideshow": {
     "slide_type": "slide"
    }
   },
   "source": [
    "### Datentyp boolean\n",
    "\n",
    "Datentyp wie ``int``, aber mit nur zwei Werten ``true`` und ``false``. \n",
    "\n",
    "Beispiel:\n"
   ]
  },
  {
   "cell_type": "code",
   "execution_count": 1,
   "metadata": {},
   "outputs": [],
   "source": [
    "int x = 1;\n",
    "boolean p = false;\n",
    "boolean q = x > 0;\n",
    "p = p || q && x < 10\n"
   ]
  },
  {
   "cell_type": "markdown",
   "metadata": {
    "slideshow": {
     "slide_type": "fragment"
    }
   },
   "source": [
    "#### Beachte\n",
    "\n",
    "* Boolesche Werte können mit &&, || und ! verknüpft werden.\n",
    "* Jeder Vergleich liefert einen Wert vom Typ boolean.\n",
    "* Boolesche Werte können in boolean- Variablen abgespeichert werden (\"flags\").\n",
    "* Namen für boolean- Variablen sollten mit Adjektiv beginnen: equal, full."
   ]
  },
  {
   "cell_type": "markdown",
   "metadata": {
    "slideshow": {
     "slide_type": "slide"
    }
   },
   "source": [
    "# Übungen"
   ]
  },
  {
   "cell_type": "markdown",
   "metadata": {
    "slideshow": {
     "slide_type": "slide"
    }
   },
   "source": [
    "### Übung 1: Maximum dreier Zahlen"
   ]
  },
  {
   "cell_type": "markdown",
   "metadata": {},
   "source": [
    "* Schreiben Sie ein Programm, welches das Maximum dreier Zahlen berechnet. \n",
    "* Schreiben Sie das Programm jeweils mit einfachen als auch mit zusammengesetzten Bedingungen"
   ]
  },
  {
   "cell_type": "markdown",
   "metadata": {},
   "source": [
    "![flowchart](images/max-flowchart.png)"
   ]
  },
  {
   "cell_type": "code",
   "execution_count": null,
   "metadata": {
    "slideshow": {
     "slide_type": "notes"
    }
   },
   "outputs": [],
   "source": []
  },
  {
   "cell_type": "markdown",
   "metadata": {
    "slideshow": {
     "slide_type": "slide"
    }
   },
   "source": [
    "### Übung 2: Parametrisieren Sie das gezeichnete Haus"
   ]
  },
  {
   "cell_type": "markdown",
   "metadata": {},
   "source": [
    "In längeren Programmen kommt es häufig vor, dass sich eine komplexe Anweisungsfolge nur in kleinen Teilen unterscheidet. Dies ist in folgendem Programm illustriert, wo wir mal wieder die Turtle Grafik verwenden. \n",
    "\n",
    "* Führen Sie boolsche Variablen ```hasWindow``` und ``hasChimney`` ein, welche es erlauben ein Haus wahlweise mit Kamin, mit Fenster oder mit beidem zu zeichnen. \n",
    "* Führen Sie Variablen ein, um die Zeichnung einfacher parametrisieren zu können. "
   ]
  },
  {
   "cell_type": "code",
   "execution_count": 1,
   "metadata": {
    "slideshow": {
     "slide_type": "notes"
    }
   },
   "outputs": [],
   "source": [
    "// Laden der Turtle Bibliothek\n",
    "// Diese Kommandos funktionieren nur in Jupyter-notebooks und entsprechen nicht gültigem Java. \n",
    "%jars jturtle-0.6.jar\n",
    "\n",
    "import static ch.unibas.informatik.jturtle.TurtleCommands.*;"
   ]
  },
  {
   "cell_type": "code",
   "execution_count": null,
   "metadata": {
    "slideshow": {
     "slide_type": "slide"
    }
   },
   "outputs": [],
   "source": [
    "Turtle t = new Turtle();\n",
    "\n",
    "// head\n",
    "t.home();\n",
    "t.penDown();\n",
    "t.backward(50);\n",
    "t.forward(50);\n",
    "t.turnRight(45);\n",
    "t.forward(50);\n",
    "t.turnRight(90);\n",
    "t.forward(20);\n",
    "\n",
    "\n",
    "t.turnLeft(135);\n",
    "t.forward(10);\n",
    "t.turnRight(90);\n",
    "t.forward(10);\n",
    "t.turnRight(90);\n",
    "t.forward(20);\n",
    "t.turnLeft(45);    \n",
    "\n",
    "t.forward(15);\n",
    "t.turnRight(45);\n",
    "t.forward(50);\n",
    "t.turnRight(90);\n",
    "t.forward(70);\n",
    "\n",
    "t.toImage();"
   ]
  },
  {
   "cell_type": "markdown",
   "metadata": {},
   "source": [
    "#### Mini Übung:\n",
    "\n",
    "* Fügen Sie eine Verzweigung ein, die ein Fenster zeichnet, wenn eine Variable ```hasWindow``` auf true gesetzt ist.\n",
    "* Führen Sie Variablen ein, um die Zeichnung zu parametrisieren (Höhe/Breite des Hauses, etc.)"
   ]
  }
 ],
 "metadata": {
  "celltoolbar": "Slideshow",
  "kernelspec": {
   "display_name": "Java",
   "language": "java",
   "name": "java"
  },
  "language_info": {
   "codemirror_mode": "java",
   "file_extension": ".jshell",
   "mimetype": "text/x-java-source",
   "name": "Java",
   "pygments_lexer": "java",
   "version": "16.0.1+9"
  },
  "rise": {}
 },
 "nbformat": 4,
 "nbformat_minor": 2
}
