{
 "cells": [
  {
   "cell_type": "markdown",
   "metadata": {},
   "source": [
    "### Google Colab Integration\n",
    "\n",
    "Die folgende Zelle können Sie überspringen, wenn Sie mit einer lokalen Installation arbeiten. Wenn Sie das Notebook auf Google-Colab ausführen, dann müssen Sie als erstes diese Zelle ausführen und danach die Seite neu laden (F5)."
   ]
  },
  {
   "cell_type": "code",
   "execution_count": null,
   "metadata": {
    "slideshow": {
     "slide_type": "skip"
    }
   },
   "outputs": [],
   "source": [
    "!echo \"Update environment...\"\n",
    "!apt update -q  &> /dev/null\n",
    "!echo \"Install Java...\"\n",
    "!apt-get install -q openjdk-11-jdk-headless &> /dev/null\n",
    "!echo \"Install Jupyter java kernel...\"\n",
    "!curl -L https://github.com/SpencerPark/IJava/releases/download/v1.3.0/ijava-1.3.0.zip -o ijava-kernel.zip &> /dev/null\n",
    "!unzip -q ijava-kernel.zip -d ijava-kernel && cd ijava-kernel && python3 install.py --sys-prefix &> /dev/null\n",
    "!echo \"Downloading turtle jar ...\"\n",
    "!curl -L https://github.com/Andreas-Forster/gyminf-programmieren/raw/master/notebooks/jturtle-0.6.jar -o jturtle-0.6.jar &> /dev/null\n",
    "!echo \"Done.\""
   ]
  },
  {
   "cell_type": "markdown",
   "metadata": {
    "slideshow": {
     "slide_type": "slide"
    }
   },
   "source": [
    "# Arrays\n",
    "\n",
    "#### Marcel Lüthi, Departement Mathematik und Informatik, Universität Basel"
   ]
  },
  {
   "cell_type": "code",
   "execution_count": null,
   "metadata": {
    "slideshow": {
     "slide_type": "notes"
    }
   },
   "outputs": [],
   "source": [
    "%jars jturtle-0.6.jar\n",
    "\n",
    "import static ch.unibas.informatik.jturtle.TurtleCommands.*;\n"
   ]
  },
  {
   "cell_type": "markdown",
   "metadata": {
    "slideshow": {
     "slide_type": "slide"
    }
   },
   "source": [
    "### Arrays\n",
    "\n",
    "> Array : Tabelle *gleichartiger* Elemente\n",
    "\n",
    "Array ```a```:\n",
    "\n",
    "|a[0]|a[1]|a[2]|a[3]|\n",
    "|----|----|----|----|\n",
    "| Wert 1 | Wert 2 | Wert 3 | Wert 4|\n",
    "\n",
    "* Name ```a``` bezeichnet das ganze Array\n",
    "* Elemente werden über Indizes angesprochen (z.B. ```a[3]```)\n",
    "    * *Achtung*: Indizierung beginnt bei 0\n",
    "* Elemente sind namenlose Variablen"
   ]
  },
  {
   "cell_type": "markdown",
   "metadata": {
    "slideshow": {
     "slide_type": "slide"
    }
   },
   "source": [
    "### Array als Referenzdatentyp\n",
    "\n",
    "<img src=\"images/arrays.png\" width=800/>\n"
   ]
  },
  {
   "cell_type": "markdown",
   "metadata": {
    "slideshow": {
     "slide_type": "slide"
    }
   },
   "source": [
    "### Deklaration von Arrays\n",
    "\n",
    "```java\n",
    "int[] a;\n",
    "```\n",
    "\n",
    "* Deklariert ein Array namens ```a```\n",
    "    * ```a``` ist vom Typ *int-Array* \n",
    "    * ```a``` kann Referenz (Adresse) auf int-Array speichern\n",
    "* Elemente sind vom Typ ```int```\n",
    "* Die Anzahl Elemente (Länge des Arrays) ist noch unbekannt\n",
    "\n",
    "> Achtung: ```a``` speichert nur Referenz - nicht die Elemente vom Array"
   ]
  },
  {
   "cell_type": "markdown",
   "metadata": {
    "slideshow": {
     "slide_type": "slide"
    }
   },
   "source": [
    "### Erzeugung von Arrays\n",
    "\n",
    "```\n",
    "a = new int[5];\n",
    "```\n",
    "\n",
    "* Legt ein neues int-Array mit 5 Elementen an\n",
    "* Weist Referenz (Adresse) der Variablen a zu. "
   ]
  },
  {
   "cell_type": "markdown",
   "metadata": {
    "slideshow": {
     "slide_type": "slide"
    }
   },
   "source": [
    "### Arbeiten mit Arrays\n",
    "\n",
    "##### Zugriff\n",
    "\n",
    "* Arrayelemente werden wie Variablen benutzt\n",
    "* Index kann ein ganzzahliger Ausdruck sein\n",
    "\n",
    "```java\n",
    "a[3] = 0;\n",
    "int i = 1;\n",
    "a[3 * i + 1] = a[3];\n",
    "```\n",
    "\n",
    "##### Abfragen der Arraylänge\n",
    "\n",
    "```java\n",
    "int len = a.length;\n",
    "```"
   ]
  },
  {
   "cell_type": "code",
   "execution_count": null,
   "metadata": {
    "slideshow": {
     "slide_type": "fragment"
    }
   },
   "outputs": [],
   "source": [
    "float[] fa = new float[5];\n",
    "System.out.println(fa[0]);"
   ]
  },
  {
   "cell_type": "markdown",
   "metadata": {
    "slideshow": {
     "slide_type": "slide"
    }
   },
   "source": [
    "### Arrayzuweisung\n",
    "\n",
    "```java\n",
    "int[] a = new int[7];\n",
    "```\n",
    "\n",
    "<img src=\"images/arrays-2.png\" width=800/>"
   ]
  },
  {
   "cell_type": "markdown",
   "metadata": {
    "slideshow": {
     "slide_type": "fragment"
    }
   },
   "source": [
    "```java\n",
    "int[] b = a;\n",
    "```\n",
    "<img src=\"images/arrays-3.png\" width=800/>"
   ]
  },
  {
   "cell_type": "markdown",
   "metadata": {
    "slideshow": {
     "slide_type": "slide"
    }
   },
   "source": [
    "### Arrayzuweisung (2)\n",
    "\n",
    "* Was ist der Wert von ```a[3]``` nach folgendem Code\n",
    "```java\n",
    "int[] a = new int[7];\n",
    "a[3] = 12;\n",
    "int[] b = a;\n",
    "b[3] = 8;\n",
    "```"
   ]
  },
  {
   "cell_type": "markdown",
   "metadata": {
    "slideshow": {
     "slide_type": "slide"
    }
   },
   "source": [
    "#### Miniübungen\n",
    "\n",
    "* Erzeugen Sie ein Float-Array und ein boolean-Array mit Grösse 7 und weisen Sie diese jeweils einer Variable zu\n",
    "* Was haben die Array-Elemente nach der Erzeugung für einen Wert?\n",
    "* Was passiert, wenn Sie auf ein Element mit nicht existierendem Index zuzugreifen?\n",
    "* Können Sie eine Variable vom Typ ```double[]``` ein Array vom Type ```int[]``` zuweisen?\n",
    "* Schreiben Sie eine Methode, die ein Array vom Typ ```int[]``` entgegennimmt und alle Elemente ausgibt. \n",
    "* Schreiben Sie eine Methode, die zwei Arrays entgegennimmt und zurückgibt ob zweimal dasselbe Array übergeben wurde\n",
    "* Schreiben Sie eine Methode, die zwei Arrays entgegennimmt und zurückgibt ob die beiden Arrays denselben Inhalt haben.\n"
   ]
  },
  {
   "cell_type": "code",
   "execution_count": null,
   "metadata": {
    "slideshow": {
     "slide_type": "-"
    }
   },
   "outputs": [],
   "source": [
    "// float-array\n",
    "float[] fa = new float[7];\n",
    "boolean[] ba = new boolean[7];\n",
    "\n",
    "// doesn't work (ArrayIndexOutOfBoundsException)\n",
    "//fa[9];\n",
    "\n",
    "// does not work either\n",
    "//double[] da = new int[7]; \n",
    "\n",
    "static void printArray(int[] a) {\n",
    "    for (int i = 0; i < a.length; i++) {\n",
    "        System.out.print(a[i]);\n",
    "        System.out.print(\" \");\n",
    "    }\n",
    "    System.out.println(\"\"); // newline\n",
    "}\n",
    "\n",
    "int[] a = {1, 3, 7};\n",
    "printArray(a);"
   ]
  },
  {
   "cell_type": "markdown",
   "metadata": {
    "slideshow": {
     "slide_type": "slide"
    }
   },
   "source": [
    "### null\n",
    "\n",
    "* Der Wert ```null``` kann jeder Referenzvariablen zugewiesen werden\n",
    "    * Die Variable werweist auf *nichts*\n",
    "    \n",
    "\n",
    "<img src=\"images/null.png\" width=500/>\n",
    "Quelle: https://tilics.dmi.unibas.ch/null"
   ]
  },
  {
   "cell_type": "markdown",
   "metadata": {
    "slideshow": {
     "slide_type": "slide"
    }
   },
   "source": [
    "### null\n",
    "\n",
    "Folgendes sind gültige Ausdrücke:"
   ]
  },
  {
   "cell_type": "code",
   "execution_count": null,
   "metadata": {
    "slideshow": {
     "slide_type": "-"
    }
   },
   "outputs": [],
   "source": [
    "int[] a = null;\n",
    "boolean[] b = new boolean[3];\n",
    "b = null;"
   ]
  },
  {
   "cell_type": "markdown",
   "metadata": {},
   "source": [
    "Folgendes geht nicht"
   ]
  },
  {
   "cell_type": "code",
   "execution_count": null,
   "metadata": {},
   "outputs": [],
   "source": [
    "int a = null;\n",
    "float b = null;"
   ]
  },
  {
   "cell_type": "markdown",
   "metadata": {
    "slideshow": {
     "slide_type": "slide"
    }
   },
   "source": [
    "### Garbage Collection\n",
    "\n",
    "* Nicht mehr benötigter Speicher wird freigegeben\n",
    "\n",
    "![arrays-gc](./images/arrays-gc.png)"
   ]
  },
  {
   "cell_type": "markdown",
   "metadata": {
    "slideshow": {
     "slide_type": "slide"
    }
   },
   "source": [
    "### Initialisierung von Arrays\n",
    "\n",
    "Folgendes ist mühsam:\n",
    "```java\n",
    "int[] primes = new int[4];\n",
    "primes[0] = 2;\n",
    "primes[1] = 3;\n",
    "primes[2] = 5;\n",
    "primes[3] = 7;\n",
    "```\n",
    "\n",
    "Gleichwertig aber kürzer:\n",
    "```java\n",
    "int[] primes = {2, 3, 5, 7};\n",
    "```"
   ]
  },
  {
   "cell_type": "markdown",
   "metadata": {
    "slideshow": {
     "slide_type": "fragment"
    }
   },
   "source": [
    "Initialisierung kann auch bei der Erzeugung erfolgen:\n",
    "```java\n",
    "int[] primes;\n",
    "primes = new int[] {2, 3, 5, 7}\n",
    "```"
   ]
  },
  {
   "cell_type": "markdown",
   "metadata": {
    "slideshow": {
     "slide_type": "slide"
    }
   },
   "source": [
    "### Kommandozeilenparameter\n",
    "\n",
    "Programmaufruf mit Parameters\n",
    "```\n",
    "java MyProgram arg1 arg2 ... argn\n",
    "```\n",
    "\n",
    "Parameter werden als String-Array an main-Methode übergeben\n",
    "```java\n",
    "class MyProgram {\n",
    "    public static void main(String[] arg) {\n",
    "        for (int i = 0; i < arg.length; i++) {\n",
    "            System.out.println(arg[i]);\n",
    "        }\n",
    "    }\n",
    "}\n",
    "```"
   ]
  },
  {
   "cell_type": "markdown",
   "metadata": {
    "slideshow": {
     "slide_type": "slide"
    }
   },
   "source": [
    "### Beispielanwendung 1: Suchen in Array"
   ]
  },
  {
   "cell_type": "code",
   "execution_count": null,
   "metadata": {},
   "outputs": [],
   "source": [
    "static int find(int[] haystack, int needle) {\n",
    "     int pos = -1;\n",
    "    for (int i = 0; i < haystack.length; i++) {\n",
    "        if (haystack[i] == needle) {\n",
    "            pos = i;\n",
    "        }\n",
    "    }\n",
    "    return pos;\n",
    "}\n",
    "\n",
    "int[] a = {7, 1, 3, 4};\n",
    "find(a, 4);"
   ]
  },
  {
   "cell_type": "markdown",
   "metadata": {
    "slideshow": {
     "slide_type": "slide"
    }
   },
   "source": [
    "### Beispielanwendung 2: Farbpaletten"
   ]
  },
  {
   "cell_type": "markdown",
   "metadata": {},
   "source": [
    "#### Schritt 1. Definieren der Farbpaletten"
   ]
  },
  {
   "cell_type": "code",
   "execution_count": null,
   "metadata": {},
   "outputs": [],
   "source": [
    "java.awt.Color[] colorPalette1 = {\n",
    "    java.awt.Color.BLACK, \n",
    "    java.awt.Color.DARK_GRAY, \n",
    "    java.awt.Color.GRAY,\n",
    "    java.awt.Color.LIGHT_GRAY\n",
    "};\n",
    "\n",
    "java.awt.Color[] colorPalette2 = {\n",
    "    java.awt.Color.MAGENTA,\n",
    "    java.awt.Color.RED, \n",
    "    java.awt.Color.ORANGE, \n",
    "\n",
    "    java.awt.Color.YELLOW\n",
    "};"
   ]
  },
  {
   "cell_type": "markdown",
   "metadata": {
    "slideshow": {
     "slide_type": "slide"
    }
   },
   "source": [
    "#### Schritt 2. Schreiben der Methoden"
   ]
  },
  {
   "cell_type": "code",
   "execution_count": null,
   "metadata": {},
   "outputs": [],
   "source": [
    "\n",
    "\n",
    "static void coloredPattern(java.awt.Color[] colors) {\n",
    "    Turtle turtle = new Turtle();\n",
    "    turtle.penDown();\n",
    "    turtle.penSize(5);\n",
    "    for (int i = 0; i < 1000; i++) {\n",
    "        turtle.penColor(colors[i % colors.length]);\n",
    "        turtle.forward(i / 10);\n",
    "        turtle.turnRight(98);\n",
    "    }\n",
    "    display(turtle.toImage());\n",
    "}\n",
    "\n"
   ]
  },
  {
   "cell_type": "markdown",
   "metadata": {
    "slideshow": {
     "slide_type": "slide"
    }
   },
   "source": [
    "#### Schritt 3. Aufruf"
   ]
  },
  {
   "cell_type": "code",
   "execution_count": null,
   "metadata": {},
   "outputs": [],
   "source": [
    "coloredPattern(colorPalette1);"
   ]
  },
  {
   "cell_type": "markdown",
   "metadata": {
    "slideshow": {
     "slide_type": "slide"
    }
   },
   "source": [
    "### Mehrdimensionale Arrays\n",
    "\n",
    "Deklaration und Erzeugung\n",
    "```\n",
    "int[][] a = new int[4][3];\n",
    "```\n",
    "\n",
    "![arrays-2d](images/arrays-2d.png)\n",
    "\n",
    "Zugriff auf Element $(i, j)$\n",
    "```\n",
    "a[i][j] \n",
    "```\n"
   ]
  },
  {
   "cell_type": "markdown",
   "metadata": {
    "slideshow": {
     "slide_type": "slide"
    }
   },
   "source": [
    "### Mehrdimensionale Arrays \n",
    "\n",
    "Initialisierung \n",
    "```java\n",
    "int[][] a = {{1, 2, 3}, {4, 5, 6}}\n",
    "```\n",
    "\n",
    "Zeilen können unterschiedlich lang sein\n",
    "```java\n",
    "int[][] b = {{1, 2}, {3, 4, 5, 6}}\n",
    "```"
   ]
  },
  {
   "cell_type": "markdown",
   "metadata": {
    "slideshow": {
     "slide_type": "slide"
    }
   },
   "source": [
    "### Beispiel: Matrixmultiplikation\n",
    "\n",
    "![matrix](images/matrix.png)\n"
   ]
  },
  {
   "cell_type": "code",
   "execution_count": null,
   "metadata": {},
   "outputs": [],
   "source": [
    "float[][] a = {{1,2}, {3, 4}, { 7, 8}};\n",
    "float[][] b = {{1, 7}, {2, 8}};\n",
    "\n",
    "static void printMatrix(float[][] matrix) {\n",
    "    for (int i = 0; i < matrix.length; i++) {\n",
    "        for (int j = 0; j < matrix[0].length; j++) {\n",
    "            System.out.print(matrix[i][j]);\n",
    "            System.out.print(\" \");\n",
    "        }\n",
    "        System.out.println(\"\");\n",
    "    }\n",
    "}\n",
    "\n",
    "static float[][] matrixMult(float[][] a, float[][] b) {\n",
    "    float[][] c = new float[a.length][b[0].length]; \n",
    "    for (int i = 0; i < a.length; i++) {\n",
    "        for (int j = 0; j < b[0].length; j++) {\n",
    "            for (int k = 0; k < a[0].length; k++) {\n",
    "                c[i][j] += a[i][k] * b[k][j];\n",
    "            }\n",
    "        }\n",
    "    }    \n",
    "    return c;\n",
    "}\n",
    "\n",
    "\n",
    "printMatrix(matrixMult(a, b));\n",
    "    "
   ]
  },
  {
   "cell_type": "code",
   "execution_count": null,
   "metadata": {},
   "outputs": [],
   "source": []
  }
 ],
 "metadata": {
  "celltoolbar": "Slideshow",
  "kernelspec": {
   "display_name": "Java",
   "language": "java",
   "name": "java"
  },
  "language_info": {
   "codemirror_mode": "java",
   "file_extension": ".jshell",
   "mimetype": "text/x-java-source",
   "name": "Java",
   "pygments_lexer": "java",
   "version": "16.0.1+9"
  },
  "rise": {}
 },
 "nbformat": 4,
 "nbformat_minor": 2
}
