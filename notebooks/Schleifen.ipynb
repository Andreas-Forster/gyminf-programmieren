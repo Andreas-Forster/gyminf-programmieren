{
 "cells": [
  {
   "cell_type": "markdown",
   "metadata": {
    "slideshow": {
     "slide_type": "slide"
    }
   },
   "source": [
    "# Schleifen\n",
    "\n",
    "### Marcel Lüthi, Departement Mathematik und Informatik, Universität Basel"
   ]
  },
  {
   "cell_type": "code",
   "execution_count": 1,
   "metadata": {
    "slideshow": {
     "slide_type": "notes"
    }
   },
   "outputs": [],
   "source": [
    "// Code um Turtle Bibliothek zu importieren, welche wir im Folgenden nutzen\n",
    "%mavenRepo bintray https://dl.bintray.com/egp/maven\n",
    "%maven ch.unibas.informatik:jturtle:0.5\n",
    "import ch.unibas.informatik.jturtle.Turtle;"
   ]
  },
  {
   "cell_type": "markdown",
   "metadata": {
    "slideshow": {
     "slide_type": "slide"
    }
   },
   "source": [
    "### While Schleife\n",
    "\n",
    "![while Schleifen](images/while-statement.png)\n",
    "\n",
    "* Schleifenrumpf entspricht Anweisungsblock"
   ]
  },
  {
   "cell_type": "markdown",
   "metadata": {
    "slideshow": {
     "slide_type": "slide"
    }
   },
   "source": [
    "### Beispiel 1\n",
    "\n",
    "* Anzahl Schleifendurchläufe sind bekannt\n"
   ]
  },
  {
   "cell_type": "code",
   "execution_count": 17,
   "metadata": {},
   "outputs": [
    {
     "name": "stdout",
     "output_type": "stream",
     "text": [
      "0\n",
      "1\n",
      "2\n",
      "3\n",
      "4\n",
      "5\n",
      "6\n",
      "7\n",
      "8\n",
      "9\n"
     ]
    }
   ],
   "source": [
    "int i = 0; \n",
    "while (i < 10) {\n",
    "    System.out.println(i);\n",
    "    i += 1;\n",
    "}"
   ]
  },
  {
   "cell_type": "markdown",
   "metadata": {
    "slideshow": {
     "slide_type": "slide"
    }
   },
   "source": [
    "### Beispiel 2 (GGT)\n",
    "\n",
    "* Anzahl Schleifendurchläufe nicht offensichtlich"
   ]
  },
  {
   "cell_type": "code",
   "execution_count": 18,
   "metadata": {},
   "outputs": [
    {
     "name": "stdout",
     "output_type": "stream",
     "text": [
      "6\n"
     ]
    }
   ],
   "source": [
    "int a = 6;\n",
    "int b = 24;\n",
    "\n",
    "int rest = a % b;\n",
    "while (rest != 0) {\n",
    "    a = b;\n",
    "    b = rest;\n",
    "    rest = a % b;\n",
    "}\n",
    "int ggt = b;\n",
    "System.out.println(ggt);"
   ]
  },
  {
   "cell_type": "markdown",
   "metadata": {
    "slideshow": {
     "slide_type": "slide"
    }
   },
   "source": [
    "### Beispiel 3 (Spirale)"
   ]
  },
  {
   "cell_type": "code",
   "execution_count": 24,
   "metadata": {},
   "outputs": [
    {
     "data": {
      "image/png": "[encoded data removed]",
      "text/plain": [
       "BufferedImage@7c977165: type = 2 DirectColorModel: rmask=ff0000 gmask=ff00 bmask=ff amask=ff000000 IntegerInterleavedRaster: width = 1024 height = 1024 #Bands = 4 xOff = 0 yOff = 0 dataOffset[0] 0"
      ]
     },
     "execution_count": 24,
     "metadata": {},
     "output_type": "execute_result"
    }
   ],
   "source": [
    "Turtle turtle = new Turtle();\n",
    "turtle.penDown();\n",
    "double dist = 2.0;\n",
    "double turn = 90;\n",
    "\n",
    "while (turn > 1.0) {\n",
    "    turtle.forward(dist);\n",
    "    turtle.turnRight(turn);\n",
    "    turn = turn * 0.99;\n",
    "}\n",
    "turtle.toImage()"
   ]
  },
  {
   "cell_type": "markdown",
   "metadata": {
    "slideshow": {
     "slide_type": "slide"
    }
   },
   "source": [
    "### Do-While-Schleife\n",
    "\n",
    "> Abbruchbedingung wird am Schleifenende geprüft\n",
    "\n",
    "Beispiel: Ziffern einer Zahl ausgeben\n",
    "![do-while-statement](images/do-while-statement.png)"
   ]
  },
  {
   "cell_type": "markdown",
   "metadata": {
    "slideshow": {
     "slide_type": "slide"
    }
   },
   "source": [
    "#### Miniübung\n",
    "\n",
    "* Implementieren Sie obigen Algorithmus (ersetzen Sie  ```readInt``` durch Variable\n",
    "* Weshalb ist hier die do-while Schleife besser geeignet?\n",
    "* Können Sie das mit einer while Schleife lösen?"
   ]
  },
  {
   "cell_type": "markdown",
   "metadata": {
    "slideshow": {
     "slide_type": "slide"
    }
   },
   "source": [
    "### For-Schleife\n",
    "\n",
    "Häufig ist Anzahl Schleifendurchläufe im Voraus bekannt.\n",
    "\n",
    "```java\n",
    "int sum = 0;\n",
    "for (int i = 1; i <= n; i++) {\n",
    "    sum = sum + i;\n",
    "}\n",
    "```"
   ]
  },
  {
   "cell_type": "markdown",
   "metadata": {
    "slideshow": {
     "slide_type": "fragment"
    }
   },
   "source": [
    "Äquivalentes Programm:\n",
    "\n",
    "```java\n",
    "int sum = 0; \n",
    "int i = 1;\n",
    "while (i <= n) { \n",
    "   sum = sum + 1;\n",
    "   i += 1; \n",
    "}\n",
    "```"
   ]
  },
  {
   "cell_type": "markdown",
   "metadata": {
    "slideshow": {
     "slide_type": "slide"
    }
   },
   "source": [
    "### Beispiel: Zeichnen eines Vielecks"
   ]
  },
  {
   "cell_type": "code",
   "execution_count": null,
   "metadata": {},
   "outputs": [],
   "source": [
    "Turtle turtle = new Turtle();\n",
    "int sideLength = 80;\n",
    "turtle.penDown();\n",
    "for (int i = 0; i < 4; i++) {\n",
    "    turtle.forward( sideLength );\n",
    "    turtle.turnRight(90);\n",
    "}\n",
    "turtle.toImage();"
   ]
  },
  {
   "cell_type": "markdown",
   "metadata": {
    "slideshow": {
     "slide_type": "fragment"
    }
   },
   "source": [
    "#### Mini-Übung\n",
    "\n",
    "* Verallgemeinern Sie den Code, so dass Sie ein n-Eck zeichnen können. (n soll eine Variable sein)\n",
    "* Können Sie einen Kreis zeichnen?\n",
    "* Schreiben Sie einen for loop, welche nur die geraden Zahlen zwischen 7 bis -3 ausgibt."
   ]
  },
  {
   "cell_type": "markdown",
   "metadata": {
    "slideshow": {
     "slide_type": "slide"
    }
   },
   "source": [
    "### Schleifen verschachteln"
   ]
  },
  {
   "cell_type": "markdown",
   "metadata": {},
   "source": [
    "Schleifen können beliebig ineinander verschachtelt werden"
   ]
  },
  {
   "cell_type": "code",
   "execution_count": 25,
   "metadata": {},
   "outputs": [
    {
     "name": "stdout",
     "output_type": "stream",
     "text": [
      "1er Reihe: 1 2 3 4 5 6 7 8 9 \n",
      "2er Reihe: 2 4 6 8 10 12 14 16 18 \n",
      "3er Reihe: 3 6 9 12 15 18 21 24 27 \n",
      "4er Reihe: 4 8 12 16 20 24 28 32 36 \n",
      "5er Reihe: 5 10 15 20 25 30 35 40 45 \n",
      "6er Reihe: 6 12 18 24 30 36 42 48 54 \n",
      "7er Reihe: 7 14 21 28 35 42 49 56 63 \n",
      "8er Reihe: 8 16 24 32 40 48 56 64 72 \n",
      "9er Reihe: 9 18 27 36 45 54 63 72 81 \n"
     ]
    }
   ],
   "source": [
    "for (int i = 1; i <= 9; i++) {\n",
    "    System.out.print(i);\n",
    "    System.out.print(\"er Reihe: \");\n",
    "    for (int j = 1; j <= 9; j++) {\n",
    "        System.out.print(i * j);\n",
    "        System.out.print(\" \");\n",
    "    }\n",
    "    System.out.println(\"\");\n",
    "}"
   ]
  },
  {
   "cell_type": "markdown",
   "metadata": {
    "slideshow": {
     "slide_type": "slide"
    }
   },
   "source": [
    "### Schleifen verschachteln\n",
    "\n",
    "Mit (verschachtelten) Schleifen können wir mit wenig Code sehr komplexe Verhalten programmieren. "
   ]
  },
  {
   "cell_type": "code",
   "execution_count": 1,
   "metadata": {},
   "outputs": [
    {
     "ename": "CompilationException",
     "evalue": "",
     "output_type": "error",
     "traceback": [
      "\u001b[1m\u001b[30m|   \u001b[1m\u001b[30m\u001b[0m\u001b[1m\u001b[30m\u001b[41mTurtle\u001b[0m\u001b[1m\u001b[30m turtle = new Turtle();\u001b[0m",
      "\u001b[1m\u001b[31mcannot find symbol\u001b[0m",
      "\u001b[1m\u001b[31m  symbol:   class Turtle\u001b[0m",
      "",
      "\u001b[1m\u001b[30m|   \u001b[1m\u001b[30mTurtle turtle = new \u001b[0m\u001b[1m\u001b[30m\u001b[41mTurtle\u001b[0m\u001b[1m\u001b[30m();\u001b[0m",
      "\u001b[1m\u001b[31mcannot find symbol\u001b[0m",
      "\u001b[1m\u001b[31m  symbol:   class Turtle\u001b[0m",
      ""
     ]
    }
   ],
   "source": [
    "Turtle turtle = new Turtle();\n",
    "turtle.penColor(java.awt.Color.BLACK);\n",
    "turtle.penDown();\n",
    "\n",
    "\n",
    "int x = 0;\n",
    "for (int i = 0; i < 150; i = i + 1) {\n",
    "    for (int j = 0; j < 5; j = j + 1) {\n",
    "        turtle.forward(20);\n",
    "        turtle.turnRight(60);\n",
    "    }\n",
    "    turtle.forward(50);\n",
    "    turtle.turnRight(11);\n",
    "}\n",
    "\n",
    "turtle.toImage();"
   ]
  },
  {
   "cell_type": "markdown",
   "metadata": {
    "slideshow": {
     "slide_type": "slide"
    }
   },
   "source": [
    "### Übungen\n",
    "\n",
    "* Welches Muster zeichnet der Innere Loop in obigem Programm?\n",
    "* Experimentieren Sie verschiedenen Parametern um andere Muster zu erzeugen\n",
    "\n",
    "##### Geometrische Reihe:\n",
    "\n",
    "Die geometrische Reihe ist definiert als $\\sum_{i=0}^n 1 / i$.\n",
    "\n",
    "* Implementieren sie ein Programm, welches diese Reihe berechnet. \n",
    "* Nutzen Sie geeignete Datentypen für die Variablen"
   ]
  },
  {
   "cell_type": "code",
   "execution_count": null,
   "metadata": {},
   "outputs": [],
   "source": []
  }
 ],
 "metadata": {
  "celltoolbar": "Slideshow",
  "kernelspec": {
   "display_name": "Java",
   "language": "java",
   "name": "java"
  },
  "language_info": {
   "codemirror_mode": "java",
   "file_extension": ".java",
   "mimetype": "text/x-java-source",
   "name": "Java",
   "pygments_lexer": "java",
   "version": "11.0.4+11"
  },
  "rise": {}
 },
 "nbformat": 4,
 "nbformat_minor": 2
}
