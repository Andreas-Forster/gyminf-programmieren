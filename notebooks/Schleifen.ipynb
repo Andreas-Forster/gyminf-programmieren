{
 "cells": [
  {
   "cell_type": "markdown",
   "metadata": {
    "slideshow": {
     "slide_type": "slide"
    }
   },
   "source": [
    "# Schleifen\n",
    "\n",
    "### Marcel Lüthi, Departement Mathematik und Informatik, Universität Basel"
   ]
  },
  {
   "cell_type": "code",
   "execution_count": 7,
   "metadata": {
    "slideshow": {
     "slide_type": "notes"
    }
   },
   "outputs": [],
   "source": [
    "// Code um Turtle Bibliothek zu importieren, welche wir im Folgenden nutzen\n",
    "%mavenRepo bintray https://dl.bintray.com/egp/maven\n",
    "%maven ch.unibas.informatik:jturtle:0.5\n",
    "import ch.unibas.informatik.jturtle.Turtle;"
   ]
  },
  {
   "cell_type": "markdown",
   "metadata": {
    "slideshow": {
     "slide_type": "slide"
    }
   },
   "source": [
    "### While Schleife\n",
    "\n",
    "![while Schleifen](images/while-statement.png)\n",
    "\n",
    "* Schleifenrumpf entspricht Anweisungsblock"
   ]
  },
  {
   "cell_type": "markdown",
   "metadata": {
    "slideshow": {
     "slide_type": "slide"
    }
   },
   "source": [
    "### Beispiel 1\n",
    "\n",
    "* Anzahl Schleifendurchläufe sind bekannt\n"
   ]
  },
  {
   "cell_type": "code",
   "execution_count": 4,
   "metadata": {},
   "outputs": [],
   "source": [
    "// Schleife "
   ]
  },
  {
   "cell_type": "markdown",
   "metadata": {
    "slideshow": {
     "slide_type": "slide"
    }
   },
   "source": [
    "### Beispiel 2 (GGT)\n",
    "\n",
    "* Anzahl Schleifendurchläufe nicht offensichtlich"
   ]
  },
  {
   "cell_type": "code",
   "execution_count": 5,
   "metadata": {},
   "outputs": [
    {
     "name": "stdout",
     "output_type": "stream",
     "text": [
      "6\n"
     ]
    }
   ],
   "source": [
    "int a = 6;\n",
    "int b = 24;\n",
    "\n",
    "int rest = a % b;\n",
    "while (rest != 0) {\n",
    "    a = b;\n",
    "    b = rest;\n",
    "    rest = a % b;\n",
    "}\n",
    "int ggt = b;\n",
    "System.out.println(ggt);"
   ]
  },
  {
   "cell_type": "markdown",
   "metadata": {
    "slideshow": {
     "slide_type": "slide"
    }
   },
   "source": [
    "### Beispiel 3 (Spirale)"
   ]
  },
  {
   "cell_type": "markdown",
   "metadata": {},
   "source": [
    "Zeichne Spirale mit Turtlegrafik"
   ]
  },
  {
   "cell_type": "code",
   "execution_count": 17,
   "metadata": {},
   "outputs": [],
   "source": [
    "Turtle turtle = new Turtle();\n",
    "turtle.penDown();\n",
    "// Code\n"
   ]
  },
  {
   "cell_type": "markdown",
   "metadata": {
    "slideshow": {
     "slide_type": "slide"
    }
   },
   "source": [
    "### Do-While-Schleife\n",
    "\n",
    "![coyote](images/do-while.jpg)"
   ]
  },
  {
   "cell_type": "markdown",
   "metadata": {
    "slideshow": {
     "slide_type": "slide"
    }
   },
   "source": [
    "### Do-While-Schleife\n",
    "\n",
    "> Abbruchbedingung wird am Schleifenende geprüft\n",
    "\n",
    "Beispiel: Ziffern einer Zahl ausgeben\n",
    "![do-while-statement](images/do-while-statement.png)"
   ]
  },
  {
   "cell_type": "markdown",
   "metadata": {
    "slideshow": {
     "slide_type": "slide"
    }
   },
   "source": [
    "#### Miniübung\n",
    "\n",
    "* Implementieren Sie obigen Algorithmus (ersetzen Sie  ```readInt``` durch Variable)\n",
    "* Weshalb ist hier die do-while Schleife besser geeignet?\n",
    "* Können Sie das mit einer while Schleife lösen?"
   ]
  },
  {
   "cell_type": "markdown",
   "metadata": {
    "slideshow": {
     "slide_type": "slide"
    }
   },
   "source": [
    "### For-Schleife\n",
    "\n",
    "Häufig ist Anzahl Schleifendurchläufe im Voraus bekannt.\n",
    "\n",
    "```java\n",
    "int sum = 0;\n",
    "for (int i = 1; i <= n; i++) {\n",
    "    sum = sum + i;\n",
    "}\n",
    "```"
   ]
  },
  {
   "cell_type": "markdown",
   "metadata": {
    "slideshow": {
     "slide_type": "fragment"
    }
   },
   "source": [
    "Äquivalentes Programm:\n",
    "\n",
    "```java\n",
    "int sum = 0; \n",
    "int i = 1;\n",
    "while (i <= n) { \n",
    "   sum = sum + 1;\n",
    "   i += 1; // oder i++\n",
    "}\n",
    "```"
   ]
  },
  {
   "cell_type": "markdown",
   "metadata": {
    "slideshow": {
     "slide_type": "slide"
    }
   },
   "source": [
    "### Beispiel: Zeichnen eines Vielecks"
   ]
  },
  {
   "cell_type": "code",
   "execution_count": null,
   "metadata": {},
   "outputs": [],
   "source": [
    "Turtle turtle = new Turtle();\n",
    "int sideLength = 80;\n",
    "turtle.penDown();\n",
    "for (int i = 0; i < 4; i++) {\n",
    "    turtle.forward( sideLength );\n",
    "    turtle.turnRight(90);\n",
    "}\n",
    "turtle.toImage();"
   ]
  },
  {
   "cell_type": "markdown",
   "metadata": {
    "slideshow": {
     "slide_type": "fragment"
    }
   },
   "source": [
    "#### Mini-Übung\n",
    "\n",
    "* Verallgemeinern Sie den Code, so dass Sie ein n-Eck zeichnen können. (n soll eine Variable sein)\n",
    "* Können Sie einen Kreis zeichnen?\n",
    "* Schreiben Sie einen for loop, welche nur die geraden Zahlen zwischen 7 bis -3 ausgibt."
   ]
  },
  {
   "cell_type": "markdown",
   "metadata": {
    "slideshow": {
     "slide_type": "slide"
    }
   },
   "source": [
    "### Schleifen verschachteln"
   ]
  },
  {
   "cell_type": "markdown",
   "metadata": {},
   "source": [
    "Schleifen können beliebig ineinander verschachtelt werden"
   ]
  },
  {
   "cell_type": "code",
   "execution_count": null,
   "metadata": {},
   "outputs": [],
   "source": [
    "// Multiplikationstabelle (Kleines 1 mal 1)"
   ]
  },
  {
   "cell_type": "markdown",
   "metadata": {
    "slideshow": {
     "slide_type": "slide"
    }
   },
   "source": [
    "### Schleifen verschachteln\n",
    "\n",
    "Mit (verschachtelten) Schleifen können wir mit wenig Code sehr komplexe Verhalten programmieren. "
   ]
  },
  {
   "cell_type": "code",
   "execution_count": null,
   "metadata": {},
   "outputs": [],
   "source": [
    "Turtle turtle = new Turtle();\n",
    "turtle.penColor(java.awt.Color.BLACK);\n",
    "turtle.penDown();\n",
    "\n",
    "\n",
    "int x = 0;\n",
    "for (int i = 0; i < 150; i = i + 1) {\n",
    "    for (int j = 0; j < 5; j = j + 1) {\n",
    "        turtle.forward(20);\n",
    "        turtle.turnRight(60);\n",
    "    }\n",
    "    turtle.forward(50);\n",
    "    turtle.turnRight(11);\n",
    "}\n",
    "\n",
    "turtle.toImage();"
   ]
  },
  {
   "cell_type": "markdown",
   "metadata": {
    "slideshow": {
     "slide_type": "slide"
    }
   },
   "source": [
    "### Übungen\n",
    "\n",
    "* Welches Muster zeichnet der Innere Loop in obigem Programm?\n",
    "* Experimentieren Sie verschiedenen Parametern um andere Muster zu erzeugen\n",
    "\n",
    "* Die geometrische Reihe ist definiert als $\\sum_{i=0}^n 1 / i$.\n",
    "    * Implementieren sie ein Programm, welches diese Reihe berechnet. \n",
    "    * Nutzen Sie geeignete Datentypen für die Variablen\n",
    "\n",
    "* Schreiben Sie ein Programm, das eine positive ganze Zahl in ihre Primfaktoren zerlegt. \n",
    "* Wandeln Sie die folgende Schleife in eine for-Schleife und in eine do while-Schleife um. \n",
    "```java\n",
    "int i = 16;\n",
    "while (i >= 2) {\n",
    "    System.out.println(i);\n",
    "    i = i / 2;        \n",
    "}\n",
    "```"
   ]
  },
  {
   "cell_type": "code",
   "execution_count": null,
   "metadata": {},
   "outputs": [],
   "source": []
  }
 ],
 "metadata": {
  "celltoolbar": "Slideshow",
  "kernelspec": {
   "display_name": "Java",
   "language": "java",
   "name": "java"
  },
  "language_info": {
   "codemirror_mode": "java",
   "file_extension": ".java",
   "mimetype": "text/x-java-source",
   "name": "Java",
   "pygments_lexer": "java",
   "version": "11.0.4+11"
  },
  "rise": {}
 },
 "nbformat": 4,
 "nbformat_minor": 2
}
