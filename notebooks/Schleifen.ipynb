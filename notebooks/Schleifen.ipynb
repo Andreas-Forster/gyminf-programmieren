{
 "cells": [
  {
   "cell_type": "markdown",
   "metadata": {
    "slideshow": {
     "slide_type": "slide"
    }
   },
   "source": [
    "# Schleifen\n",
    "\n",
    "### Marcel Lüthi, Departement Mathematik und Informatik, Universität Basel"
   ]
  },
  {
   "cell_type": "code",
   "execution_count": null,
   "metadata": {
    "slideshow": {
     "slide_type": "notes"
    }
   },
   "outputs": [],
   "source": [
    "// Code um Turtle Bibliothek zu importieren, welche wir im Folgenden nutzen\n",
    "%mavenRepo bintray https://dl.bintray.com/egp/maven\n",
    "%maven ch.unibas.informatik:jturtle:0.5\n",
    "import ch.unibas.informatik.jturtle.Turtle;"
   ]
  },
  {
   "cell_type": "markdown",
   "metadata": {
    "slideshow": {
     "slide_type": "slide"
    }
   },
   "source": [
    "### While Schleife\n",
    "\n",
    "![while Schleifen](images/while-statement.png)\n",
    "\n",
    "* Schleifenrumpf entspricht Anweisungsblock"
   ]
  },
  {
   "cell_type": "markdown",
   "metadata": {
    "slideshow": {
     "slide_type": "slide"
    }
   },
   "source": [
    "### Beispiel 1\n",
    "\n",
    "* Anzahl Schleifendurchläufe sind bekannt\n"
   ]
  },
  {
   "cell_type": "code",
   "execution_count": null,
   "metadata": {},
   "outputs": [],
   "source": [
    "// Schleife \n",
    "int i = 0;\n",
    "while (i < 4) {\n",
    "    System.out.println(i);\n",
    "    i = i + 1;\n",
    "}"
   ]
  },
  {
   "cell_type": "markdown",
   "metadata": {
    "slideshow": {
     "slide_type": "slide"
    }
   },
   "source": [
    "### Beispiel 2 (GGT)\n",
    "\n",
    "* Anzahl Schleifendurchläufe nicht offensichtlich"
   ]
  },
  {
   "cell_type": "code",
   "execution_count": null,
   "metadata": {},
   "outputs": [],
   "source": [
    "int a = 1;\n",
    "int b = 1;\n",
    "\n",
    "int rest = a % b;\n",
    "System.out.println(rest);\n",
    "while (rest != 0) {\n",
    "    System.out.println(rest);\n",
    "    a = b;\n",
    "    b = rest;\n",
    "    rest = a % b;\n",
    "}\n",
    "int ggt = b;\n",
    "//System.out.println(ggt);"
   ]
  },
  {
   "cell_type": "markdown",
   "metadata": {
    "slideshow": {
     "slide_type": "slide"
    }
   },
   "source": [
    "### Beispiel 3 (Spirale)"
   ]
  },
  {
   "cell_type": "markdown",
   "metadata": {},
   "source": [
    "Zeichne Spirale mit Turtlegrafik"
   ]
  },
  {
   "cell_type": "code",
   "execution_count": null,
   "metadata": {},
   "outputs": [],
   "source": [
    "Turtle turtle = new Turtle();\n",
    "turtle.penDown();\n",
    "\n",
    "double dist = 1.0;\n",
    "double angle = 90;\n",
    "\n",
    "while (angle > 1) {\n",
    "    turtle.forward(dist);\n",
    "    turtle.turnLeft(angle);\n",
    "    angle = angle / 1.001;\n",
    "}\n",
    "\n",
    "turtle.toImage();"
   ]
  },
  {
   "cell_type": "markdown",
   "metadata": {
    "slideshow": {
     "slide_type": "slide"
    }
   },
   "source": [
    "### Do-While-Schleife\n",
    "\n",
    "![coyote](images/do-while.jpg)"
   ]
  },
  {
   "cell_type": "markdown",
   "metadata": {
    "slideshow": {
     "slide_type": "slide"
    }
   },
   "source": [
    "### Do-While-Schleife\n",
    "\n",
    "> Abbruchbedingung wird am Schleifenende geprüft\n",
    "\n",
    "Beispiel: Ziffern einer Zahl ausgeben\n",
    "![do-while-statement](images/do-while-statement.png)"
   ]
  },
  {
   "cell_type": "markdown",
   "metadata": {
    "slideshow": {
     "slide_type": "slide"
    }
   },
   "source": [
    "#### Miniübung\n",
    "\n",
    "* Implementieren Sie obigen Algorithmus (ersetzen Sie  ```readInt``` durch Variable)\n",
    "* Weshalb ist hier die do-while Schleife besser geeignet?\n",
    "* Können Sie das mit einer while Schleife lösen?"
   ]
  },
  {
   "cell_type": "code",
   "execution_count": null,
   "metadata": {},
   "outputs": [],
   "source": [
    "int n = -5;\n",
    "boolean hasExecutedOnce = false;\n",
    "while(hasExecutedOnce == false || n > 0) {\n",
    "    System.out.println(n % 10);\n",
    "    n = n / 10;\n",
    "    hasExecutedOnce = true;\n",
    "}\n"
   ]
  },
  {
   "cell_type": "markdown",
   "metadata": {
    "slideshow": {
     "slide_type": "slide"
    }
   },
   "source": [
    "### For-Schleife\n",
    "\n",
    "Häufig ist Anzahl Schleifendurchläufe im Voraus bekannt.\n",
    "\n",
    "```java\n",
    "int sum = 0;\n",
    "for (int i = 1; i <= n; i++) {\n",
    "    sum = sum + i;\n",
    "}\n",
    "```"
   ]
  },
  {
   "cell_type": "markdown",
   "metadata": {
    "slideshow": {
     "slide_type": "fragment"
    }
   },
   "source": [
    "Äquivalentes Programm:\n",
    "\n",
    "```java\n",
    "int sum = 0; \n",
    "int i = 1;\n",
    "while (i <= n) { \n",
    "   sum = sum + 1;\n",
    "   i += 1; // oder i++\n",
    "}\n",
    "```"
   ]
  },
  {
   "cell_type": "markdown",
   "metadata": {
    "slideshow": {
     "slide_type": "slide"
    }
   },
   "source": [
    "### Beispiel: Zeichnen eines Vielecks"
   ]
  },
  {
   "cell_type": "code",
   "execution_count": null,
   "metadata": {},
   "outputs": [],
   "source": [
    "Turtle turtle = new Turtle();\n",
    "int sideLength = 80;\n",
    "turtle.penDown();\n",
    "for (int i = 0; i < 4; i++) {\n",
    "    turtle.forward( sideLength );\n",
    "    turtle.turnRight(90);\n",
    "}\n",
    "turtle.toImage();"
   ]
  },
  {
   "cell_type": "markdown",
   "metadata": {
    "slideshow": {
     "slide_type": "fragment"
    }
   },
   "source": [
    "#### Mini-Übung\n",
    "\n",
    "* Verallgemeinern Sie den Code, so dass Sie ein n-Eck zeichnen können. (n soll eine Variable sein)\n",
    "* Können Sie einen Kreis zeichnen?\n",
    "* Schreiben Sie einen for loop, welche nur die geraden Zahlen zwischen 7 bis -3 ausgibt."
   ]
  },
  {
   "cell_type": "markdown",
   "metadata": {
    "slideshow": {
     "slide_type": "slide"
    }
   },
   "source": [
    "### Schleifen verschachteln"
   ]
  },
  {
   "cell_type": "markdown",
   "metadata": {},
   "source": [
    "Schleifen können beliebig ineinander verschachtelt werden"
   ]
  },
  {
   "cell_type": "code",
   "execution_count": null,
   "metadata": {},
   "outputs": [],
   "source": [
    "for (int i = 1; i <= 9; i++) {\n",
    "    System.out.print(i);\n",
    "    System.out.print(\"er Reihe: \");\n",
    "    for (int j = 1; j <= 9; j++) {\n",
    "        System.out.print(i * j);\n",
    "        System.out.print(\" \");\n",
    "    }\n",
    "    System.out.println(\"\");\n",
    "}"
   ]
  },
  {
   "cell_type": "markdown",
   "metadata": {
    "slideshow": {
     "slide_type": "slide"
    }
   },
   "source": [
    "### Schleifen verschachteln\n",
    "\n",
    "Mit (verschachtelten) Schleifen können wir mit wenig Code sehr komplexe Verhalten programmieren. "
   ]
  },
  {
   "cell_type": "code",
   "execution_count": null,
   "metadata": {},
   "outputs": [],
   "source": [
    "Turtle turtle = new Turtle();\n",
    "turtle.penColor(java.awt.Color.BLACK);\n",
    "turtle.penDown();\n",
    "\n",
    "\n",
    "int x = 0;\n",
    "for (int i = 0; i < 150; i = i + 1) {\n",
    "    for (int j = 0; j < 5; j = j + 1) {\n",
    "        turtle.forward(20);\n",
    "        turtle.turnRight(60);\n",
    "    }\n",
    "    turtle.forward(50);\n",
    "    turtle.turnRight(11);\n",
    "}\n",
    "\n",
    "turtle.toImage();"
   ]
  },
  {
   "cell_type": "markdown",
   "metadata": {
    "slideshow": {
     "slide_type": "slide"
    }
   },
   "source": [
    "### Übungen\n",
    "\n",
    "* Welches Muster zeichnet der Innere Loop in obigem Programm?\n",
    "* Experimentieren Sie verschiedenen Parametern um andere Muster zu erzeugen\n",
    "\n",
    "* Die harmonische Reihe ist definiert als $\\sum_{i=1}^n 1 / i$.\n",
    "    * Implementieren sie ein Programm, welches diese Reihe berechnet. \n",
    "    * Nutzen Sie geeignete Datentypen für die Variablen\n",
    "\n",
    "* Schreiben Sie ein Programm, das eine positive ganze Zahl in ihre Primfaktoren zerlegt. \n",
    "* Wandeln Sie die folgende Schleife in eine for-Schleife und in eine do while-Schleife um. \n",
    "```java\n",
    "int i = 16;\n",
    "while (i >= 2) {\n",
    "    System.out.println(i);\n",
    "    i = i / 2;        \n",
    "}\n",
    "```"
   ]
  },
  {
   "cell_type": "code",
   "execution_count": null,
   "metadata": {},
   "outputs": [],
   "source": [
    "// harmonische Reihe\n",
    "double sum = 0;\n",
    "double n = 10;\n",
    "for (int i = 1; i <= n; i++) {\n",
    "    sum += 1.0 / i; // Achtung 1.0 ist nötig da ansonsten Ganzzahldivision\n",
    "}\n",
    "System.out.println(sum);"
   ]
  },
  {
   "cell_type": "code",
   "execution_count": null,
   "metadata": {},
   "outputs": [],
   "source": [
    "// primfaktoren\n",
    "int x = 21;\n",
    "int i = 2; // der kleinste Primfaktor ist 2\n",
    "while (x > 1) {\n",
    "    System.out.println(\"trying i = \" + i);\n",
    "    while (x % i == 0) {\n",
    "        System.out.println(\"primfaktor \" +i + \" \");\n",
    "        x = x / i;\n",
    "    }\n",
    "    if (i == 2) {\n",
    "        // Der nächste Faktor den wir testen müssen ist i=3\n",
    "        i++; \n",
    "    } else {\n",
    "        // wir testen alle ungeraden Zahlen.\n",
    "        i = i + 2;\n",
    "    }\n",
    "}"
   ]
  },
  {
   "cell_type": "code",
   "execution_count": null,
   "metadata": {},
   "outputs": [],
   "source": [
    "// while-Schleife als for-Schleife und do-while-Schleife\n",
    "\n",
    "int i = 16;\n",
    "while (i >= 2) {\n",
    "  System.out.println(i);\n",
    "  i = i / 2;        \n",
    "}\n",
    "\n",
    "\n",
    "for (int i = 16; i >= 2; i /= 2) {\n",
    "  System.out.println(i);\n",
    "}\n",
    "\n",
    "int i = 16;\n",
    "do {\n",
    "    System.out.println(i);\n",
    "    i = i / 2;    \n",
    "} while (i >= 2);"
   ]
  }
 ],
 "metadata": {
  "celltoolbar": "Slideshow",
  "kernelspec": {
   "display_name": "Java",
   "language": "java",
   "name": "java"
  },
  "language_info": {
   "codemirror_mode": "java",
   "file_extension": ".java",
   "mimetype": "text/x-java-source",
   "name": "Java",
   "pygments_lexer": "java",
   "version": "11.0.4+11"
  },
  "rise": {}
 },
 "nbformat": 4,
 "nbformat_minor": 2
}
