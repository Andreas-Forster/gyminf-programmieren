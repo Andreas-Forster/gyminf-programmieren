{
 "cells": [
  {
   "cell_type": "markdown",
   "metadata": {
    "slideshow": {
     "slide_type": "slide"
    }
   },
   "source": [
    "### Google Colab Integration\n",
    "\n",
    "Die folgende Zelle können Sie überspringen, wenn Sie mit einer lokalen Installation arbeiten. Wenn Sie das Notebook auf Google-Colab ausführen, dann müssen Sie als erstes diese Zelle ausführen und danach die Seite neu laden (F5)."
   ]
  },
  {
   "cell_type": "code",
   "execution_count": null,
   "metadata": {
    "slideshow": {
     "slide_type": "skip"
    }
   },
   "outputs": [],
   "source": [
    "!echo \"Update environment...\"\n",
    "!apt update -q  &> /dev/null\n",
    "!echo \"Install Java...\"\n",
    "!apt-get install -q openjdk-11-jdk-headless &> /dev/null\n",
    "!echo \"Install Jupyter java kernel...\"\n",
    "!curl -L https://github.com/SpencerPark/IJava/releases/download/v1.3.0/ijava-1.3.0.zip -o ijava-kernel.zip &> /dev/null\n",
    "!unzip -q ijava-kernel.zip -d ijava-kernel && cd ijava-kernel && python3 install.py --sys-prefix &> /dev/null\n",
    "!curl -L https://github.com/Andreas-Forster/gyminf-programmieren/raw/master/docs/images/jupyter-terminal.png -o turtle.png &> /dev/null\n",
    "!echo \"Done.\""
   ]
  },
  {
   "cell_type": "markdown",
   "metadata": {
    "slideshow": {
     "slide_type": "slide"
    }
   },
   "source": [
    "# Schleifen\n",
    "\n",
    "### Andreas Morel-Forster, Departement Mathematik und Informatik, Universität Basel"
   ]
  },
  {
   "cell_type": "code",
   "execution_count": null,
   "metadata": {
    "slideshow": {
     "slide_type": "slide"
    }
   },
   "outputs": [],
   "source": [
    "// Code um Turtle Bibliothek zu importieren, welche wir im Folgenden nutzen\n",
    "%jars jturtle-0.6.jar\n",
    "\n",
    "import static ch.unibas.informatik.jturtle.TurtleCommands.*;"
   ]
  },
  {
   "cell_type": "markdown",
   "metadata": {
    "slideshow": {
     "slide_type": "slide"
    }
   },
   "source": [
    "### While Schleife\n",
    "\n",
    "![while Schleifen](images/while-statement.png)\n",
    "\n",
    "* Schleifenrumpf entspricht Anweisungsblock"
   ]
  },
  {
   "cell_type": "markdown",
   "metadata": {
    "slideshow": {
     "slide_type": "slide"
    }
   },
   "source": [
    "### Beispiel 1\n",
    "\n",
    "* Anzahl Schleifendurchläufe sind bekannt\n"
   ]
  },
  {
   "cell_type": "code",
   "execution_count": null,
   "metadata": {},
   "outputs": [],
   "source": [
    "int i = 0;\n",
    "while (i < 4) {\n",
    "    \n",
    "    // do nothing or something\n",
    "    \n",
    "    i = i + 1;\n",
    "}"
   ]
  },
  {
   "cell_type": "markdown",
   "metadata": {
    "slideshow": {
     "slide_type": "fragment"
    }
   },
   "source": [
    "#### Miniübung\n",
    "\n",
    "* Wie geben Sie die Zahlen von 1 bis 4 anstelle von 0 bis 3 aus?"
   ]
  },
  {
   "cell_type": "markdown",
   "metadata": {
    "slideshow": {
     "slide_type": "slide"
    }
   },
   "source": [
    "### Beispiel 2 (GGT)\n",
    "\n",
    "* Anzahl Schleifendurchläufe nicht offensichtlich\n",
    "\n",
    "#### Miniübung\n",
    "\n",
    "* Finden Sie mit Stift und Papier heraus wie oft die Schleife durchlaufen wird?"
   ]
  },
  {
   "cell_type": "code",
   "execution_count": null,
   "metadata": {},
   "outputs": [],
   "source": [
    "int a = 48;\n",
    "int b = 28;\n",
    "\n",
    "int rest = a % b;\n",
    "while (rest != 0) {\n",
    "    a = b;\n",
    "    b = rest;\n",
    "    rest = a % b;\n",
    "}\n",
    "int ggt = b;\n",
    "System.out.println(ggt);"
   ]
  },
  {
   "cell_type": "markdown",
   "metadata": {
    "slideshow": {
     "slide_type": "slide"
    }
   },
   "source": [
    "### Beispiel 3 (Spirale)"
   ]
  },
  {
   "cell_type": "markdown",
   "metadata": {},
   "source": [
    "Zeichne Spirale mit Turtlegrafik"
   ]
  },
  {
   "cell_type": "code",
   "execution_count": null,
   "metadata": {},
   "outputs": [],
   "source": [
    "home();\n",
    "clear();\n",
    "penDown();\n",
    "\n",
    "int dist = 1;\n",
    "double angle = 90;\n",
    "\n",
    "while (angle > 1) {\n",
    "    forward(dist);\n",
    "    turnLeft(angle);\n",
    "    angle = angle * 0.999;\n",
    "}\n",
    "\n",
    "display(drawing());"
   ]
  },
  {
   "cell_type": "markdown",
   "metadata": {
    "slideshow": {
     "slide_type": "slide"
    }
   },
   "source": [
    "### Do-While-Schleife\n",
    "\n",
    "![coyote](images/do-while.jpg)"
   ]
  },
  {
   "cell_type": "markdown",
   "metadata": {
    "slideshow": {
     "slide_type": "slide"
    }
   },
   "source": [
    "### Do-While-Schleife\n",
    "\n",
    "> Abbruchbedingung wird am Schleifenende geprüft\n",
    "\n",
    "Beispiel: Ziffern einer Zahl ausgeben\n",
    "![do-while-statement](images/do-while-statement.png)"
   ]
  },
  {
   "cell_type": "markdown",
   "metadata": {
    "slideshow": {
     "slide_type": "slide"
    }
   },
   "source": [
    "#### Miniübung\n",
    "\n",
    "* Implementieren Sie obigen Algorithmus (ersetzen Sie  ```readInt``` durch eine Zahl > 100)\n",
    "* Weshalb ist hier die do-while Schleife besser geeignet?\n",
    "* Können Sie den Algorithmus mit einer while Schleife lösen?"
   ]
  },
  {
   "cell_type": "code",
   "execution_count": null,
   "metadata": {},
   "outputs": [],
   "source": []
  },
  {
   "cell_type": "markdown",
   "metadata": {
    "slideshow": {
     "slide_type": "slide"
    }
   },
   "source": [
    "### For-Schleife\n",
    "\n",
    "Häufig ist Anzahl Schleifendurchläufe im Voraus bekannt.\n",
    "\n",
    "```java\n",
    "int sum = 0; \n",
    "int i = 1;\n",
    "while (i <= n) { \n",
    "   sum = sum + 1;\n",
    "   i += 1; // oder i++\n",
    "}\n",
    "```"
   ]
  },
  {
   "cell_type": "markdown",
   "metadata": {
    "slideshow": {
     "slide_type": "fragment"
    }
   },
   "source": [
    "Äquivalentes Programm:\n",
    "\n",
    "```java\n",
    "int sum = 0;\n",
    "for (int i = 1; i <= n; i++) {\n",
    "    sum = sum + i;\n",
    "}\n",
    "```"
   ]
  },
  {
   "cell_type": "markdown",
   "metadata": {
    "slideshow": {
     "slide_type": "slide"
    }
   },
   "source": [
    "### Beispiel: Zeichnen eines Vielecks"
   ]
  },
  {
   "cell_type": "code",
   "execution_count": null,
   "metadata": {},
   "outputs": [],
   "source": [
    "int sideLength = 80;\n",
    "penDown();\n",
    "for (int i = 0; i < 4; i++) {\n",
    "    forward(sideLength);\n",
    "    turnRight(90);\n",
    "}\n",
    "turtle.toImage();"
   ]
  },
  {
   "cell_type": "markdown",
   "metadata": {
    "slideshow": {
     "slide_type": "fragment"
    }
   },
   "source": [
    "#### Mini-Übung\n",
    "\n",
    "* Verallgemeinern Sie den Code, so dass Sie ein n-Eck zeichnen können. (n soll eine Variable sein)\n",
    "* Können Sie einen Kreis zeichnen?\n",
    "* Schreiben Sie einen for loop, welche nur die geraden Zahlen zwischen 7 bis -3 ausgibt."
   ]
  },
  {
   "cell_type": "markdown",
   "metadata": {
    "slideshow": {
     "slide_type": "slide"
    }
   },
   "source": [
    "### Schleifen verschachteln"
   ]
  },
  {
   "cell_type": "markdown",
   "metadata": {},
   "source": [
    "Schleifen können beliebig ineinander verschachtelt werden"
   ]
  },
  {
   "cell_type": "code",
   "execution_count": null,
   "metadata": {},
   "outputs": [],
   "source": [
    "for (int i = 1; i <= 9; i++) {\n",
    "    System.out.print(i);\n",
    "    System.out.print(\"er Reihe: \");\n",
    "    for (int j = 1; j <= 9; j++) {\n",
    "        System.out.print(i * j);\n",
    "        System.out.print(\" \");\n",
    "    }\n",
    "    System.out.println(\"\");\n",
    "}"
   ]
  },
  {
   "cell_type": "markdown",
   "metadata": {},
   "source": [
    "#### Miniübung\n",
    "\n",
    "* Verändern Sie den Code so, dass auch die 10er Reihe ausgegeben wird.\n",
    "* Verändern Sie den Code so, dass jeweils die ersten 15 Elemente der Reihe ausgegeben werden startend von der 0.\n",
    "* Verändern Sie den obign Code so, dass von der 1er Reihe nur 1 Element ausgegeben wird, von der 2er Reihe 2 usw und von der 10er Reihe 10."
   ]
  },
  {
   "cell_type": "markdown",
   "metadata": {
    "slideshow": {
     "slide_type": "slide"
    }
   },
   "source": [
    "### Schleifen verschachteln\n",
    "\n",
    "Mit (verschachtelten) Schleifen können wir mit wenig Code sehr komplexe Verhalten programmieren. "
   ]
  },
  {
   "cell_type": "code",
   "execution_count": null,
   "metadata": {},
   "outputs": [],
   "source": [
    "clear();\n",
    "home();\n",
    "penColor(BLACK);\n",
    "penDown();\n",
    "\n",
    "\n",
    "int x = 0;\n",
    "for (int i = 0; i < 12; i = i + 1) {\n",
    "    for (int j = 0; j < 5; j = j + 1) {\n",
    "        forward(20);\n",
    "        turnRight(60);\n",
    "    }\n",
    "    forward(30);\n",
    "    turnRight(30);\n",
    "}\n",
    "\n",
    "display(drawing())"
   ]
  },
  {
   "cell_type": "markdown",
   "metadata": {
    "slideshow": {
     "slide_type": "slide"
    }
   },
   "source": [
    "### Übungen\n",
    "\n",
    "* Welches Muster zeichnet der Innere Loop in obigem Programm?\n",
    "* Experimentieren Sie verschiedenen Parametern um andere Muster zu erzeugen\n",
    "\n",
    "* Die harmonische Reihe ist definiert als $\\sum_{i=1}^n 1 / i$.\n",
    "    * Implementieren sie ein Programm, welches diese Reihe berechnet. \n",
    "    * Nutzen Sie geeignete Datentypen für die Variablen\n",
    "\n",
    "* Schreiben Sie ein Programm, das eine positive ganze Zahl in ihre Primfaktoren zerlegt. \n",
    "* Wandeln Sie die folgende Schleife in eine for-Schleife und in eine do while-Schleife um. \n",
    "```java\n",
    "int i = 16;\n",
    "while (i >= 2) {\n",
    "    System.out.println(i);\n",
    "    i = i / 2;        \n",
    "}\n",
    "```"
   ]
  },
  {
   "cell_type": "code",
   "execution_count": null,
   "metadata": {},
   "outputs": [],
   "source": [
    "// harmonische Reihe\n"
   ]
  },
  {
   "cell_type": "code",
   "execution_count": null,
   "metadata": {},
   "outputs": [],
   "source": [
    "// primfaktoren"
   ]
  },
  {
   "cell_type": "code",
   "execution_count": null,
   "metadata": {},
   "outputs": [],
   "source": [
    "// while-Schleife als for-Schleife und do-while-Schleife"
   ]
  }
 ],
 "metadata": {
  "celltoolbar": "Slideshow",
  "kernelspec": {
   "display_name": "Java",
   "language": "java",
   "name": "java"
  },
  "language_info": {
   "codemirror_mode": "java",
   "file_extension": ".jshell",
   "mimetype": "text/x-java-source",
   "name": "Java",
   "pygments_lexer": "java",
   "version": "16.0.1+9"
  },
  "rise": {}
 },
 "nbformat": 4,
 "nbformat_minor": 2
}
