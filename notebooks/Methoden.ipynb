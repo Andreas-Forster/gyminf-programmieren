{
 "cells": [
  {
   "cell_type": "markdown",
   "metadata": {},
   "source": [
    "### Google Colab Integration\n",
    "\n",
    "Die folgende Zelle können Sie überspringen, wenn Sie mit einer lokalen Installation arbeiten. Wenn Sie das Notebook auf Google-Colab ausführen, dann müssen Sie als erstes diese Zelle ausführen und danach die Seite neu laden (F5)."
   ]
  },
  {
   "cell_type": "code",
   "execution_count": null,
   "metadata": {
    "slideshow": {
     "slide_type": "skip"
    }
   },
   "outputs": [],
   "source": [
    "!echo \"Update environment...\"\n",
    "!apt update -q  &> /dev/null\n",
    "!echo \"Install Java...\"\n",
    "!apt-get install -q openjdk-11-jdk-headless &> /dev/null\n",
    "!echo \"Install Jupyter java kernel...\"\n",
    "!curl -L https://github.com/SpencerPark/IJava/releases/download/v1.3.0/ijava-1.3.0.zip -o ijava-kernel.zip &> /dev/null\n",
    "!unzip -q ijava-kernel.zip -d ijava-kernel && cd ijava-kernel && python3 install.py --sys-prefix &> /dev/null\n",
    "!echo \"Downloading turtle jar ...\"\n",
    "!curl -L https://github.com/Andreas-Forster/gyminf-programmieren/raw/master/notebooks/jturtle-0.6.jar -o jturtle-0.6.jar &> /dev/null\n",
    "!echo \"Done.\""
   ]
  },
  {
   "cell_type": "markdown",
   "metadata": {
    "slideshow": {
     "slide_type": "slide"
    }
   },
   "source": [
    "# Methoden\n",
    "\n",
    "### Andreas Morel-Forster, Departement Mathematik und Informatik, Universität Basel"
   ]
  },
  {
   "cell_type": "code",
   "execution_count": null,
   "metadata": {
    "slideshow": {
     "slide_type": "skip"
    }
   },
   "outputs": [],
   "source": [
    "%jars jturtle-0.6.jar\n",
    "\n",
    "import static ch.unibas.informatik.jturtle.TurtleCommands.*;"
   ]
  },
  {
   "cell_type": "markdown",
   "metadata": {
    "slideshow": {
     "slide_type": "slide"
    }
   },
   "source": [
    "### Motivation"
   ]
  },
  {
   "cell_type": "markdown",
   "metadata": {
    "slideshow": {
     "slide_type": "-"
    }
   },
   "source": [
    "```java\n",
    "home();\n",
    "clear();\n",
    "penDown();\n",
    "int lengthLegs = 100;\n",
    "forward(lengthLegs);\n",
    "turnRight(90);\n",
    "forward(lengthLegs);\n",
    "turnRight(135);\n",
    "forward(Math.sqrt(lengthLegs * lengthLegs + lengthLegs * lengthLegs)) ;\n",
    "turnRight(90);\n",
    "display(drawing());\n",
    "```\n",
    "\n",
    "* Was macht das Programm?"
   ]
  },
  {
   "cell_type": "markdown",
   "metadata": {
    "slideshow": {
     "slide_type": "fragment"
    }
   },
   "source": [
    "* Intention nicht offensichtlich.\n",
    "* Programm ist schlecht strukturiert"
   ]
  },
  {
   "cell_type": "markdown",
   "metadata": {
    "slideshow": {
     "slide_type": "slide"
    }
   },
   "source": [
    "### Parameterlose Methoden\n",
    "\n",
    "* Lassen uns Codeblöcke benennen\n",
    "\n",
    "```java\n",
    "static void doSomething() { // Methodenkopf\n",
    "    statement1;\n",
    "    ...                     // Methodenrumpf\n",
    "    statmentN;\n",
    "}\n",
    "```\n",
    "\n"
   ]
  },
  {
   "cell_type": "markdown",
   "metadata": {
    "slideshow": {
     "slide_type": "fragment"
    }
   },
   "source": [
    "#### Aufrufen\n",
    "\n",
    "* Können beliebig oft aufgerufen werden. \n",
    "* Aufruf führt Anweisungsfolge aus\n",
    "```java\n",
    "doSomething()\n",
    "```\n"
   ]
  },
  {
   "cell_type": "markdown",
   "metadata": {
    "slideshow": {
     "slide_type": "slide"
    }
   },
   "source": [
    "### Miniübung\n",
    "\n",
    "* Wandeln Sie obiges Programm (Turtle) in eine Methode um. \n",
    "    * Finden Sie einen guten Namen\n",
    "* Rufen Sie das Programm (mehrmals) auf\n"
   ]
  },
  {
   "cell_type": "code",
   "execution_count": null,
   "metadata": {},
   "outputs": [],
   "source": []
  },
  {
   "cell_type": "markdown",
   "metadata": {
    "slideshow": {
     "slide_type": "slide"
    }
   },
   "source": [
    "### Methoden im Klassenkontext\n",
    "\n",
    "* In Java Programmen müssen Methoden immer Teil einer Klasse sein\n",
    "\n",
    "```java\n",
    "class MyClass {\n",
    " \n",
    "    static void method1() {\n",
    "        // Implementation \n",
    "    }\n",
    "    \n",
    "    static void method2() {\n",
    "        // Implementation\n",
    "    }\n",
    "}\n",
    "```"
   ]
  },
  {
   "cell_type": "markdown",
   "metadata": {
    "slideshow": {
     "slide_type": "fragment"
    }
   },
   "source": [
    "> Jupyter-Notebooks und die JShell fügen den Klassenkontext implizit dazu."
   ]
  },
  {
   "cell_type": "markdown",
   "metadata": {
    "slideshow": {
     "slide_type": "slide"
    }
   },
   "source": [
    "### Wie funktionieren Methodenaufrufe?\n",
    "\n",
    "![methodcalls](images/method-calls.png)\n",
    "\n",
    "* Bei Methodenaufruf verzweigt Programm an erste Stelle von Methode und arbeitet Anweisungen ab\n",
    "* Nach Abarbeitung kehrt Methode zur aufrufenden Stelle zurück"
   ]
  },
  {
   "cell_type": "markdown",
   "metadata": {
    "slideshow": {
     "slide_type": "slide"
    }
   },
   "source": [
    "### Namenskonventionen\n",
    "\n",
    "* Methoden Namen sollten mit einem Verb und Kleinbuchstaben beginnen\n",
    "\n",
    "##### Beispiele:\n",
    "* ```printHeader```\n",
    "* ```findMaximum```\n",
    "* ```traverseList```"
   ]
  },
  {
   "cell_type": "markdown",
   "metadata": {
    "slideshow": {
     "slide_type": "slide"
    }
   },
   "source": [
    "### Parameter (1)\n",
    "\n",
    "\n",
    "> Werte, die vom Rufer an die Methode übergeben werden\n",
    "\n",
    "```java\n",
    "static void printMax(int a, int b) {  \n",
    "    if (a > b) { \n",
    "        System.out.println(a);\n",
    "    } else {\n",
    "        System.out.println(b);\n",
    "    }\n",
    "}\n",
    "```\n",
    "\n",
    "* ```a``` und ```b``` (im Methodenkopf) sind *formale Parameter*\n",
    "    * Formale Parameter sind Variablen (benannte Speicherstellen)"
   ]
  },
  {
   "cell_type": "markdown",
   "metadata": {
    "slideshow": {
     "slide_type": "slide"
    }
   },
   "source": [
    "### Parameter (2)\n",
    "\n",
    "\n",
    "Methode kann mit entsprechenden Werten aufgerufen werden\n",
    "\n",
    "```java\n",
    "int i = 5;\n",
    " \n",
    "...\n",
    "\n",
    "printMax(11, i * 2) \n",
    "```\n",
    "\n",
    "* ```11```und ```i``` sind *aktuelle* Parameter\n",
    "    * Aktuelle Parameter sind *Werte* oder Ausdrücke\n",
    "\n",
    "\n"
   ]
  },
  {
   "cell_type": "markdown",
   "metadata": {
    "slideshow": {
     "slide_type": "slide"
    }
   },
   "source": [
    "#### Miniübung\n",
    "\n",
    "* Schreiben Sie eine Methode die die Summe zweier Zahlen berechnet und ausgibt.\n",
    "* Können Sie die Werte von Variablen innerhalb der Methode verändern?\n",
    "    * Verändert sich dadurch der Wert der Variablen ausserhalb der Methode?\n",
    "* Schreiben Sie das Programm zur Zeichnung von rechtwinkligen Dreicken so um, dass es als Parameter die Seitenlänge der beiden Katheten nimmt.\n",
    "* Schreiben Sie eine Methode ```setPos``` welches die Turtleposition setzt und nutzen Sie diese im Programm\n"
   ]
  },
  {
   "cell_type": "code",
   "execution_count": null,
   "metadata": {},
   "outputs": [],
   "source": []
  },
  {
   "cell_type": "markdown",
   "metadata": {
    "slideshow": {
     "slide_type": "slide"
    }
   },
   "source": [
    "### Funktionen\n",
    "\n",
    "> Methoden, die Ergebniswerte an den Rufer liefern\n",
    "\n",
    "```java \n",
    "static int max(int a, int b) {\n",
    "    if (a > b) {\n",
    "        return a;\n",
    "    } else { \n",
    "        return b;\n",
    "    }\n",
    "}\n",
    "```\n",
    "\n",
    "* Typ von Rückgabewert statt ```void``` in Methodenkopf\n",
    "* ```return``` Schlüsselwort um Wert zurückzugeben. "
   ]
  },
  {
   "cell_type": "markdown",
   "metadata": {
    "slideshow": {
     "slide_type": "slide"
    }
   },
   "source": [
    "### Funktionen (Aufruf)\n",
    "\n",
    "Funktionsaufrufe können überall stehen, wo Ausdrücke erlaubt sind\n",
    "\n",
    "Beispiele:\n"
   ]
  },
  {
   "cell_type": "markdown",
   "metadata": {
    "slideshow": {
     "slide_type": "fragment"
    }
   },
   "source": [
    "```java \n",
    "int x = max(5, 3)\n",
    "```    "
   ]
  },
  {
   "cell_type": "markdown",
   "metadata": {
    "slideshow": {
     "slide_type": "fragment"
    }
   },
   "source": [
    "```java\n",
    "int y = System.out.println(max(5, 3));\n",
    "```"
   ]
  },
  {
   "cell_type": "markdown",
   "metadata": {
    "slideshow": {
     "slide_type": "fragment"
    }
   },
   "source": [
    "```java\n",
    "if (max(a, b) == a) {\n",
    "    System.out.println(\"a > b\");\n",
    "} else { \n",
    "   System.out.println(\"b > a\");\n",
    "}\n",
    "```\n",
    "    "
   ]
  },
  {
   "cell_type": "markdown",
   "metadata": {
    "slideshow": {
     "slide_type": "slide"
    }
   },
   "source": [
    "#### Miniübungen\n",
    "\n",
    "* Schreiben Sie eine Funktion, die für eine gegebene Länge der Katheten die Länge der Hypothenuse ausrechnet\n",
    "* Schreiben Sie das Turtle-Programm so um, dass diese Funktion genutzt wird. \n",
    "\n",
    "\n",
    "##### Für schnelle:\n",
    "* Schreiben Sie eine Methode drawCircle, die einen Kreis (mit festem Radius) an einer fixen Position zeichnet.\n",
    "* Schreiben Sie dann eine parameterlose Methode, die die olympischen Ringe zeichnet.\n",
    "\n"
   ]
  },
  {
   "cell_type": "code",
   "execution_count": null,
   "metadata": {},
   "outputs": [],
   "source": [
    "\n"
   ]
  },
  {
   "cell_type": "markdown",
   "metadata": {
    "slideshow": {
     "slide_type": "slide"
    }
   },
   "source": [
    "### Lokale und statische Variablen\n",
    "\n",
    "```java\n",
    "class C {\n",
    "    static int a;\n",
    "    \n",
    "    static void p() { \n",
    "        int x;\n",
    "    }    \n",
    "    \n",
    "    static void q() { \n",
    "        int y;\n",
    "    }    \n",
    "}\n",
    "```\n",
    "\n",
    "* ```a``` ist eine *statische Variable*, welche in jeder Methode der Klasse sichtbar ist. \n",
    "* ```x``` und ```y``` sind *lokale Variablen*.\n",
    "    * Nur in jeweiliger Methode sichtbar\n"
   ]
  },
  {
   "cell_type": "markdown",
   "metadata": {
    "slideshow": {
     "slide_type": "slide"
    }
   },
   "source": [
    "#### Experimente"
   ]
  },
  {
   "cell_type": "code",
   "execution_count": null,
   "metadata": {
    "slideshow": {
     "slide_type": "-"
    }
   },
   "outputs": [],
   "source": [
    "class C {\n",
    "    static int a;\n",
    "    \n",
    "    static void p() { \n",
    "        int x;\n",
    "    }    \n",
    "    \n",
    "    static void q() {\n",
    "        int y;\n",
    "    }    \n",
    "    \n",
    "}\n"
   ]
  },
  {
   "cell_type": "markdown",
   "metadata": {
    "slideshow": {
     "slide_type": "slide"
    }
   },
   "source": [
    "### Sichtbarkeit von Namen\n",
    "\n",
    "![sichtbarkeit](images/scope.png)"
   ]
  },
  {
   "cell_type": "markdown",
   "metadata": {
    "slideshow": {
     "slide_type": "slide"
    }
   },
   "source": [
    "### Experimente mit der Sichtbarkeit"
   ]
  },
  {
   "cell_type": "code",
   "execution_count": null,
   "metadata": {},
   "outputs": [],
   "source": [
    "class Sample {\n",
    "\n",
    "    static int x = 0;\n",
    "    \n",
    "    static void P() {\n",
    "        System.out. println( x); \n",
    "    }\n",
    "\n",
    "    static void experiment() {\n",
    "        System.out. println( x); \n",
    "        int x = 1;\n",
    "        System.out. println( x); \n",
    "        P();\n",
    "        if (x > 0) {\n",
    "             int y;\n",
    "        } else {\n",
    "             int z; \n",
    "        }\n",
    "    }\n",
    "}\n",
    "Sample.experiment();"
   ]
  },
  {
   "cell_type": "markdown",
   "metadata": {
    "slideshow": {
     "slide_type": "slide"
    }
   },
   "source": [
    "### Lokalität\n",
    "\n",
    "> Variablen sollen möglichst lokal deklariert werden\n",
    "\n",
    "##### Vorteile\n",
    "\n",
    "* Übersicht - Deklaration und Nutzung nahe beisammen\n",
    "* Sicherheit - Werte von Variablen werden nicht aus anderen Methoden überschrieben\n",
    "* Effizienz - Zugriff auf lokale Variablen ist oft schneller als auf statische Variablen\n"
   ]
  },
  {
   "cell_type": "markdown",
   "metadata": {
    "slideshow": {
     "slide_type": "slide"
    }
   },
   "source": [
    "### Rekursion"
   ]
  },
  {
   "cell_type": "markdown",
   "metadata": {},
   "source": [
    "Methoden können andere Methoden aufrufen. \n",
    "\n",
    "* Können Methoden sich selbst aufrufen?\n",
    "\n",
    "\n",
    "#### Experiment"
   ]
  },
  {
   "cell_type": "code",
   "execution_count": null,
   "metadata": {},
   "outputs": [],
   "source": [
    "// experiment"
   ]
  },
  {
   "cell_type": "markdown",
   "metadata": {
    "slideshow": {
     "slide_type": "slide"
    }
   },
   "source": [
    "### Rekursion (2)\n",
    "\n",
    "Eine Methode ```m()``` heisst rekursiv, wenn sie sich selbst aufruft;\n",
    "\n",
    "Direkt rekursiv:\n",
    "```java\n",
    "    \n",
    "    public void m() { \n",
    "        m (); \n",
    "    } \n",
    "```\n",
    "\n",
    "Indirekt rekursiv:\n",
    "```java\n",
    "    public void m() { \n",
    "        n(); \n",
    "    }\n",
    "    public void n() {\n",
    "       m();\n",
    "    }\n",
    "```"
   ]
  },
  {
   "cell_type": "markdown",
   "metadata": {
    "slideshow": {
     "slide_type": "slide"
    }
   },
   "source": [
    "### Beispiel 1: Fakultät\n",
    "\n",
    "$n! = (n - 1)! \\cdot n$\n",
    "\n",
    "$1! = 1$\n",
    "\n",
    "\n"
   ]
  },
  {
   "cell_type": "code",
   "execution_count": null,
   "metadata": {},
   "outputs": [],
   "source": [
    "// Implementation"
   ]
  },
  {
   "cell_type": "markdown",
   "metadata": {
    "slideshow": {
     "slide_type": "slide"
    }
   },
   "source": [
    "### Beispiel 2: Fibonacci-Folge\n",
    "\n",
    "$ f_0 = 0 $ \n",
    "\n",
    "$f_1 = 1 $\n",
    "\n",
    "$f_n = f_{n-1} + f_{n - 2}$"
   ]
  },
  {
   "cell_type": "code",
   "execution_count": null,
   "metadata": {},
   "outputs": [],
   "source": [
    "// Implementation"
   ]
  },
  {
   "cell_type": "markdown",
   "metadata": {
    "slideshow": {
     "slide_type": "slide"
    }
   },
   "source": [
    "### Beispiel 3: Sierpinski-Dreieck"
   ]
  },
  {
   "cell_type": "code",
   "execution_count": null,
   "metadata": {},
   "outputs": [],
   "source": [
    "static void drawSierpinskiRec(double length, int depth) {\n",
    "    if (depth==0){\n",
    "        for (int i = 0; i < 3; i++) {\n",
    "            forward(length);\n",
    "            turnLeft(120);\n",
    "        }\n",
    "    }\n",
    "    else {\n",
    "        drawSierpinskiRec(length/2.0 , depth-1);\n",
    "        forward(length/2);\n",
    "        drawSierpinskiRec(length/2.0, depth-1);\n",
    "        backward(length/2);\n",
    "        turnLeft(60);\n",
    "        forward(length/2);\n",
    "        turnRight(60);\n",
    "        drawSierpinskiRec(length/2.0,depth-1);\n",
    "        turnLeft(60);\n",
    "        backward(length/2);\n",
    "        turnRight(60);\n",
    "    }\n",
    "}\n",
    "\n",
    "static void initialize() {\n",
    "    clear();\n",
    "    home();\n",
    "    penUp();\n",
    "    backward(70);\n",
    "    turnRight(90);\n",
    "    backward(70);\n",
    "    drawTurtle(); // zeichnet Position der Turtle\n",
    "    penDown();\n",
    "}\n",
    "\n",
    "static void drawSierpinski(double length, int depth) {\n",
    "    initialize();\n",
    "    drawSierpinskiRec(length, depth);\n",
    "    display(drawing());\n",
    "}"
   ]
  },
  {
   "cell_type": "code",
   "execution_count": null,
   "metadata": {},
   "outputs": [],
   "source": [
    "drawSierpinski(150.0, 8)"
   ]
  },
  {
   "cell_type": "markdown",
   "metadata": {
    "slideshow": {
     "slide_type": "slide"
    }
   },
   "source": [
    "### Miniübung\n",
    "\n",
    "* Versuchen Sie das Muster zu verstehen indem Sie mit dem Programm experimentieren"
   ]
  },
  {
   "cell_type": "markdown",
   "metadata": {
    "slideshow": {
     "slide_type": "-"
    }
   },
   "source": [
    "### Weitere Übungen\n",
    "\n",
    "* Schreiben Sie die Algorithmen ```binarylog``` und  ```ggt```, die in der Einführungsvorlesung (Slides: Informatik-Grundlagen) besprochen wurden als Methoden hin\n",
    "* Schreiben Sie eine Methode ```static void reduce(int z, int n)```, die mithilfe der Methode ```ggt``` den Bruch $\\frac{z}{n}$ kürzt und den gekürzten Bruch ausgibt. \n",
    "* Schreiben Sie eine Methode ```area```, welche für ein Dreieck mit gegebener Seitenlänge```a```, ```b``` und ```c```, die Fläche berechnet (siehe https://en.wikipedia.org/wiki/Heron's_formula ).\n"
   ]
  },
  {
   "cell_type": "code",
   "execution_count": null,
   "metadata": {},
   "outputs": [],
   "source": []
  }
 ],
 "metadata": {
  "celltoolbar": "Slideshow",
  "kernelspec": {
   "display_name": "Java",
   "language": "java",
   "name": "java"
  },
  "language_info": {
   "codemirror_mode": "java",
   "file_extension": ".jshell",
   "mimetype": "text/x-java-source",
   "name": "Java",
   "pygments_lexer": "java",
   "version": "16.0.1+9"
  }
 },
 "nbformat": 4,
 "nbformat_minor": 2
}
