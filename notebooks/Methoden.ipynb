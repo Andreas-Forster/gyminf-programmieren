{
 "cells": [
  {
   "cell_type": "markdown",
   "metadata": {
    "slideshow": {
     "slide_type": "slide"
    }
   },
   "source": [
    "# Methoden\n",
    "\n",
    "### Marcel Lüthi, Departement Mathematik und Informatik, Universität Basel"
   ]
  },
  {
   "cell_type": "code",
   "execution_count": 2,
   "metadata": {
    "slideshow": {
     "slide_type": "skip"
    }
   },
   "outputs": [
    {
     "ename": "EvalException",
     "evalue": "Exception occurred while running line magic 'maven': null",
     "output_type": "error",
     "traceback": [
      "\u001b[1m\u001b[31m---------------------------------------------------------------------------\u001b[0m",
      "\u001b[1m\u001b[31mjava.lang.RuntimeException: Exception occurred while running line magic 'maven': null\u001b[0m",
      "\u001b[1m\u001b[31m\tat .lineMagic(#9:10)\u001b[0m",
      "\u001b[1m\u001b[31m\tat .(#26:1)\u001b[0m"
     ]
    }
   ],
   "source": [
    "// Code um Turtle Bibliothek zu importieren, welche wir im Folgenden nutzen\n",
    "%mavenRepo bintray https://dl.bintray.com/egp/maven\n",
    "%maven ch.unibas.informatik:jturtle:0.5\n",
    "import ch.unibas.informatik.jturtle.Turtle;"
   ]
  },
  {
   "cell_type": "markdown",
   "metadata": {
    "slideshow": {
     "slide_type": "slide"
    }
   },
   "source": [
    "### Motivation"
   ]
  },
  {
   "cell_type": "markdown",
   "metadata": {
    "slideshow": {
     "slide_type": "-"
    }
   },
   "source": [
    "<pre class=\"stretch\"><code data-trim>\n",
    "Turtle turtle = new Turtle();\n",
    "\n",
    "turtle.home();\n",
    "turtle.clear();\n",
    "turtle.penDown();\n",
    "int lengthLegs = 100;\n",
    "turtle.forward(lengthLegs);\n",
    "turtle.turnRight(90);\n",
    "turtle.forward(lengthLegs);\n",
    "turtle.turnRight(135);\n",
    "turtle.forward(Math.sqrt(lengthLegs * lengthLegs + lengthLegs * lengthLegs)) ;\n",
    "turtle.turnRight(90);\n",
    "display(turtle.toImage());\n",
    "</code></pre>\n",
    "\n",
    "* Was macht das Programm?"
   ]
  },
  {
   "cell_type": "markdown",
   "metadata": {
    "slideshow": {
     "slide_type": "fragment"
    }
   },
   "source": [
    "* Intention nicht offensichtlich.\n",
    "* Programm ist schlecht strukturiert"
   ]
  },
  {
   "cell_type": "markdown",
   "metadata": {
    "slideshow": {
     "slide_type": "slide"
    }
   },
   "source": [
    "### Parameterlose Methoden\n",
    "\n",
    "* Lassen uns Codeblöcke benennen\n",
    "\n",
    "```java\n",
    "static void doSomething() { // Methodenkopf\n",
    "    statement1;\n",
    "    ...                     // Methodenrumpf\n",
    "    statmentN;\n",
    "}\n",
    "```\n",
    "\n"
   ]
  },
  {
   "cell_type": "markdown",
   "metadata": {
    "slideshow": {
     "slide_type": "fragment"
    }
   },
   "source": [
    "* Können beliebig oft aufgerufen werden. \n",
    "* Aufruf führt Anweisungsfolge aus\n",
    "```\n",
    "doSomething()\n",
    "```\n"
   ]
  },
  {
   "cell_type": "markdown",
   "metadata": {
    "slideshow": {
     "slide_type": "slide"
    }
   },
   "source": [
    "### Miniübung\n",
    "\n",
    "* Wandelsn Sie obiges Programm (Turtle) in eine Methode um. \n",
    "    * Finden Sie einen guten Namen\n",
    "* Rufen Sie das Programm (mehrmals) auf\n"
   ]
  },
  {
   "cell_type": "code",
   "execution_count": null,
   "metadata": {},
   "outputs": [],
   "source": []
  },
  {
   "cell_type": "markdown",
   "metadata": {
    "slideshow": {
     "slide_type": "slide"
    }
   },
   "source": [
    "### Methoden im Klassenkontext\n",
    "\n",
    "* In Java Programmen müssen Methoden immer Teil einer Klasse sein\n",
    "\n",
    "```java\n",
    "class MyClass {\n",
    " \n",
    "    static void method1() {\n",
    "        // Implementation \n",
    "    }\n",
    "    \n",
    "    static void method2() {\n",
    "        // Implementation\n",
    "    }\n",
    "}\n",
    "```"
   ]
  },
  {
   "cell_type": "markdown",
   "metadata": {
    "slideshow": {
     "slide_type": "fragment"
    }
   },
   "source": [
    "> Jupyter-Notebooks und die JShell fügen den Klassenkontext implizit dazu."
   ]
  },
  {
   "cell_type": "markdown",
   "metadata": {
    "slideshow": {
     "slide_type": "slide"
    }
   },
   "source": [
    "### Wie funktionieren Methodenaufrufe?\n",
    "\n",
    "![methodcalls](images/method-calls.png)\n",
    "\n",
    "* Bei Methodenaufruf verzweigt Programm an erste Stelle von Methode und arbeitet Anweisungen ab\n",
    "* Nach Abarbeitung kehrt Methode zur aufrufenden Stelle zurück"
   ]
  },
  {
   "cell_type": "markdown",
   "metadata": {
    "slideshow": {
     "slide_type": "slide"
    }
   },
   "source": [
    "### Namenskonventionen\n",
    "\n",
    "* Namen sollten mit Verb und Kleinbuchstaben beginnen\n",
    "* Methoden beginnen mit Verb\n",
    "\n",
    "##### Beispiele:\n",
    "* ```printHeader```\n",
    "* ```findMaximum```\n",
    "* ```traverseList```"
   ]
  },
  {
   "cell_type": "markdown",
   "metadata": {
    "slideshow": {
     "slide_type": "slide"
    }
   },
   "source": [
    "### Parameter (1)\n",
    "\n",
    "\n",
    "> Werte, die vom Rufer an die Methode übergeben werden\n",
    "\n",
    "```\n",
    "static void printMax(int a, int b) {  \n",
    "    if (a > b) { \n",
    "        System.out.println(a);\n",
    "    } else {\n",
    "        System.out.println(b);\n",
    "    }\n",
    "}\n",
    "```\n",
    "\n",
    "* ```a``` und ```b``` (im Methodenkopf) sind *formale Parameter*\n",
    "    * Formale Parameter sind Variablen (benannte Speicherstellen)"
   ]
  },
  {
   "cell_type": "markdown",
   "metadata": {
    "slideshow": {
     "slide_type": "slide"
    }
   },
   "source": [
    "### Parameter (2)\n",
    "\n",
    "\n",
    "Methode kann mit entsprechenden Werten aufgerufen werden\n",
    "\n",
    "```java\n",
    "int i = 5;\n",
    " \n",
    "...\n",
    "\n",
    "printMax(11, i * 2) \n",
    "```\n",
    "\n",
    "* ```11```und ```i``` sind *aktuelle* Parameter\n",
    "    * Aktuelle Parameter sind *Werte* oder Ausdrücke\n",
    "\n",
    "\n"
   ]
  },
  {
   "cell_type": "markdown",
   "metadata": {
    "slideshow": {
     "slide_type": "slide"
    }
   },
   "source": [
    "#### Miniübung\n",
    "\n",
    "* Schreiben Sie eine Methode die die Summer zweier Zahlen berechnet und diese ausgibt\n",
    "* Können Sie die Werte von Variablen innerhalb der Methode verändern?\n",
    "    * Verändert sich dadurch der Wert der Variablen ausserhalb der Methode?\n",
    "* Schreiben Sie das Programm zur Zeichnung von rechtwinkligen Dreicken so um, dass es als Parameter die Seitenlänge der beiden Katheten nimmt.\n",
    "* Schreiben Sie eine Methode ```setPos``` welches die Turtleposition setzt und nutzen Sie diese im Programm\n"
   ]
  },
  {
   "cell_type": "code",
   "execution_count": null,
   "metadata": {},
   "outputs": [],
   "source": []
  },
  {
   "cell_type": "markdown",
   "metadata": {
    "slideshow": {
     "slide_type": "slide"
    }
   },
   "source": [
    "### Funktionen\n",
    "\n",
    "> Methoden, die Ergebniswerte an den Rufer liefern\n",
    "\n",
    "```java \n",
    "static int max(int a, int b) {\n",
    "    if (a > b) {\n",
    "        return a;\n",
    "    } else { \n",
    "        return b;\n",
    "    }\n",
    "}\n",
    "```\n",
    "\n",
    "* Typ von Rückgabewert statt ```void``` in Methodenkopf\n",
    "* ```return``` Schlüsselwort um Wert zurückzugeben. "
   ]
  },
  {
   "cell_type": "markdown",
   "metadata": {
    "slideshow": {
     "slide_type": "slide"
    }
   },
   "source": [
    "### Funktionen (Aufruf)\n",
    "\n",
    "Funktionsaufrufe können überall stehen, wo Ausdrücke erlaubt sind\n",
    "\n",
    "Beispiele:\n"
   ]
  },
  {
   "cell_type": "markdown",
   "metadata": {
    "slideshow": {
     "slide_type": "fragment"
    }
   },
   "source": [
    "```java \n",
    "int x = max(5, 3)\n",
    "```    "
   ]
  },
  {
   "cell_type": "markdown",
   "metadata": {
    "slideshow": {
     "slide_type": "fragment"
    }
   },
   "source": [
    "```java\n",
    "int y = System.out.println(max(5, 3));\n",
    "```"
   ]
  },
  {
   "cell_type": "markdown",
   "metadata": {
    "slideshow": {
     "slide_type": "fragment"
    }
   },
   "source": [
    "```java\n",
    "\n",
    "if (max(a, b) == a) {\n",
    "    System.out.println(\"a > b\");\n",
    "} else { \n",
    "   System.out.println(\"b > a\");\n",
    "}\n",
    "    ```\n",
    "    "
   ]
  },
  {
   "cell_type": "markdown",
   "metadata": {
    "slideshow": {
     "slide_type": "slide"
    }
   },
   "source": [
    "#### Miniübungen\n",
    "\n",
    "* Schreiben Sie eine Funktion, die für eine gegebene Länge der Katheten die Länge der Hypothenuse ausrechnet\n",
    "* Schreiben Sie das Turtle-Programm so um, dass diese Funktion genutzt wird. \n",
    "\n",
    "\n",
    "##### Für schnelle:\n",
    "* Schreiben Sie eine Methode drawCircle, die einen Kreis (mit festem Radius) an einer fixen Position zeichnet.\n",
    "* Schreiben Sie dann eine parameterlose Methode, die die olympischen Ringe zeichnet.\n",
    "\n"
   ]
  },
  {
   "cell_type": "markdown",
   "metadata": {
    "slideshow": {
     "slide_type": "slide"
    }
   },
   "source": [
    "### Lokale und statische Variablen\n",
    "\n",
    "<pre class=\"stretch\"><code class=\"java\" data-trim>\n",
    "class C {\n",
    " static int a;\n",
    "    \n",
    "    static void p() { \n",
    "        int x;\n",
    "    }    \n",
    "    \n",
    "    static void q() { \n",
    "        int y;\n",
    "    }    \n",
    "}\n",
    "</code></pre>\n",
    "\n",
    "* ```a``` ist eine *statische Variable*, welche in jeder Methode der Klasse sichtbar ist. \n",
    "* ```x``` und ```y``` sind *lokale Variablen*.\n",
    "    * Nur in jeweiliger Methode sichtbar\n"
   ]
  },
  {
   "cell_type": "markdown",
   "metadata": {
    "slideshow": {
     "slide_type": "slide"
    }
   },
   "source": [
    "#### Experimente"
   ]
  },
  {
   "cell_type": "code",
   "execution_count": 3,
   "metadata": {
    "slideshow": {
     "slide_type": "-"
    }
   },
   "outputs": [],
   "source": [
    "class C {\n",
    " static int a;\n",
    "    \n",
    "    static void p() { \n",
    "        int x;\n",
    "    }    \n",
    "    \n",
    "    static void q() { \n",
    "        int y;\n",
    "    }    \n",
    "\n",
    "}\n"
   ]
  },
  {
   "cell_type": "markdown",
   "metadata": {
    "slideshow": {
     "slide_type": "slide"
    }
   },
   "source": [
    "### Sichtbarkeit von Namen\n",
    "\n",
    "![sichtbarkeit](images/scope.png)"
   ]
  },
  {
   "cell_type": "markdown",
   "metadata": {
    "slideshow": {
     "slide_type": "slide"
    }
   },
   "source": [
    "### Experimente mit der Sichtbarkeit"
   ]
  },
  {
   "cell_type": "code",
   "execution_count": 4,
   "metadata": {},
   "outputs": [],
   "source": [
    "class Sample {\n",
    "\n",
    "    static int x = 0;\n",
    "    \n",
    "    static void P() {\n",
    "        System.out. println( x); \n",
    "    }\n",
    "\n",
    "    void experiment() {\n",
    "        System.out. println( x); \n",
    "        //int x = 1;\n",
    "        System.out. println( x); \n",
    "        P();        \n",
    "        if (x > 0) {\n",
    "             int x;\n",
    "             int y;\n",
    "        } else {\n",
    "             int y; \n",
    "        }\n",
    "        for (int i = 0; i < 5; i++) { System.out.println(i); }\n",
    "        for (int i = 1; i < 5; i++) { System.out.println(i); }\n",
    "    }\n",
    "}"
   ]
  },
  {
   "cell_type": "markdown",
   "metadata": {},
   "source": [
    "### Lokalität\n",
    "\n",
    "> Variablen sollen möglichst lokal deklariert werden\n",
    "\n",
    "##### Vorteile\n",
    "\n",
    "* Übersicht - Deklaration und Nutzung nahe beisammen\n",
    "* Sicherheit - Werte von Variablen werden nicht aus anderen Methoden überschrieben\n",
    "* Effizienz - Zugriff auf lokale Variablen ist oft schneller als auf statische Variablen\n"
   ]
  },
  {
   "cell_type": "markdown",
   "metadata": {
    "slideshow": {
     "slide_type": "slide"
    }
   },
   "source": [
    "### Rekursion"
   ]
  },
  {
   "cell_type": "markdown",
   "metadata": {},
   "source": [
    "Methoden können andere Methoden aufrufen. \n",
    "\n",
    "* Können Methoden sich selbst aufrufen?\n",
    "\n",
    "\n",
    "#### Experiment"
   ]
  },
  {
   "cell_type": "code",
   "execution_count": 5,
   "metadata": {},
   "outputs": [],
   "source": [
    "// void f(int i) { \n",
    "//    f(i);\n",
    "// }"
   ]
  },
  {
   "cell_type": "markdown",
   "metadata": {
    "slideshow": {
     "slide_type": "slide"
    }
   },
   "source": [
    "### Rekursion (2)\n",
    "\n",
    "Eine Methode ```m()``` heisst rekursiv, wenn sie sich selbst aufruft;\n",
    "\n",
    "Direkt rekursiv:\n",
    "```java\n",
    "    \n",
    "    public void m() { \n",
    "        m (); \n",
    "    } \n",
    "```\n",
    "\n",
    "Indirekt rekursiv:\n",
    "```java\n",
    "    public void m() { \n",
    "        n(); \n",
    "    }\n",
    "    public void n() {\n",
    "       m();\n",
    "    }\n",
    "```"
   ]
  },
  {
   "cell_type": "markdown",
   "metadata": {
    "slideshow": {
     "slide_type": "slide"
    }
   },
   "source": [
    "### Beispiel 1: Fakultät\n",
    "\n",
    "$n! = (n - 1)! * n$\n",
    "\n",
    "$1! = 1$\n",
    "\n",
    "\n"
   ]
  },
  {
   "cell_type": "code",
   "execution_count": 6,
   "metadata": {},
   "outputs": [],
   "source": [
    "// Implementation"
   ]
  },
  {
   "cell_type": "markdown",
   "metadata": {
    "slideshow": {
     "slide_type": "slide"
    }
   },
   "source": [
    "### Beispiel 2: Fibonacci-Folge\n",
    "\n",
    "$ f_0 = 0 $ \n",
    "\n",
    "$f_1 = 1 $\n",
    "\n",
    "$f_n = f_{n-1} + f_{n - 2}$"
   ]
  },
  {
   "cell_type": "code",
   "execution_count": 7,
   "metadata": {},
   "outputs": [],
   "source": [
    "// Implementation"
   ]
  },
  {
   "cell_type": "markdown",
   "metadata": {
    "slideshow": {
     "slide_type": "slide"
    }
   },
   "source": [
    "### Beispiel 3: Sierpinski-Dreieck"
   ]
  },
  {
   "cell_type": "code",
   "execution_count": 1,
   "metadata": {},
   "outputs": [
    {
     "ename": "CompilationException",
     "evalue": "",
     "output_type": "error",
     "traceback": [
      "\u001b[1m\u001b[30m|   \u001b[1m\u001b[30m\u001b[0m\u001b[1m\u001b[30m\u001b[41mstatic\u001b[0m\u001b[1m\u001b[30m void drawSierpinskiRec(Turtle turtle, double length, int depth) {\u001b[0m",
      "\u001b[1m\u001b[31mModifier 'static'  not permitted in top-level declarations, ignored\u001b[0m",
      "",
      "\u001b[1m\u001b[30m|   \u001b[1m\u001b[30mstatic void drawSierpinskiRec(Turtle turtle, double length, int depth) {\u001b[0m",
      "\u001b[1m\u001b[30m|   \u001b[1m\u001b[30m    if (depth==0){\u001b[0m",
      "\u001b[1m\u001b[30m|   \u001b[1m\u001b[30m        for (int i = 0; i < 3; i++) {\u001b[0m",
      "\u001b[1m\u001b[30m|   \u001b[1m\u001b[30m            turtle.forward(length);\u001b[0m",
      "\u001b[1m\u001b[30m|   \u001b[1m\u001b[30m            turtle.turnLeft(120);\u001b[0m",
      "\u001b[1m\u001b[30m|   \u001b[1m\u001b[30m        }\u001b[0m",
      "\u001b[1m\u001b[30m|   \u001b[1m\u001b[30m    }\u001b[0m",
      "\u001b[1m\u001b[30m|   \u001b[1m\u001b[30m    else {\u001b[0m",
      "\u001b[1m\u001b[30m|   \u001b[1m\u001b[30m        drawSierpinskiRec(turtle, length/2.0 , depth-1);\u001b[0m",
      "\u001b[1m\u001b[30m|   \u001b[1m\u001b[30m        turtle.forward(length/2);\u001b[0m",
      "\u001b[1m\u001b[30m|   \u001b[1m\u001b[30m        drawSierpinskiRec(turtle, length/2.0, depth-1);\u001b[0m",
      "\u001b[1m\u001b[30m|   \u001b[1m\u001b[30m        turtle.backward(length/2);\u001b[0m",
      "\u001b[1m\u001b[30m|   \u001b[1m\u001b[30m        turtle.turnLeft(60);\u001b[0m",
      "\u001b[1m\u001b[30m|   \u001b[1m\u001b[30m        turtle.forward(length/2);\u001b[0m",
      "\u001b[1m\u001b[30m|   \u001b[1m\u001b[30m        turtle.turnRight(60);\u001b[0m",
      "\u001b[1m\u001b[30m|   \u001b[1m\u001b[30m        drawSierpinskiRec(turtle, length/2.0,depth-1);\u001b[0m",
      "\u001b[1m\u001b[30m|   \u001b[1m\u001b[30m        turtle.turnLeft(60);\u001b[0m",
      "\u001b[1m\u001b[30m|   \u001b[1m\u001b[30m        turtle.backward(length/2);\u001b[0m",
      "\u001b[1m\u001b[30m|   \u001b[1m\u001b[30m        turtle.turnRight(60);\u001b[0m",
      "\u001b[1m\u001b[30m|   \u001b[1m\u001b[30m    }\u001b[0m",
      "\u001b[1m\u001b[30m|   \u001b[1m\u001b[30m}\u001b[0m",
      "\u001b[1m\u001b[31mUnresolved dependencies:\u001b[0m",
      "\u001b[1m\u001b[31m   - class Turtle\u001b[0m"
     ]
    }
   ],
   "source": [
    "static void drawSierpinskiRec(Turtle turtle, double length, int depth) {\n",
    "    if (depth==0){\n",
    "        for (int i = 0; i < 3; i++) {\n",
    "            turtle.forward(length);\n",
    "            turtle.turnLeft(120);\n",
    "        }\n",
    "    }\n",
    "    else {\n",
    "        drawSierpinskiRec(turtle, length/2.0 , depth-1);\n",
    "        turtle.forward(length/2);\n",
    "        drawSierpinskiRec(turtle, length/2.0, depth-1);\n",
    "        turtle.backward(length/2);\n",
    "        turtle.turnLeft(60);\n",
    "        turtle.forward(length/2);\n",
    "        turtle.turnRight(60);\n",
    "        drawSierpinskiRec(turtle, length/2.0,depth-1);\n",
    "        turtle.turnLeft(60);\n",
    "        turtle.backward(length/2);\n",
    "        turtle.turnRight(60);\n",
    "    }\n",
    "}\n",
    "\n",
    "static void drawSierpinski(double length, int depth) {\n",
    "    Turtle turtle = new Turtle();\n",
    "    turtle.penDown();\n",
    "    drawSierpinskiRec(turtle, length, depth);\n",
    "    display(turtle.toImage());\n",
    "}"
   ]
  },
  {
   "cell_type": "code",
   "execution_count": 2,
   "metadata": {},
   "outputs": [
    {
     "ename": "CompilationException",
     "evalue": "",
     "output_type": "error",
     "traceback": [
      "\u001b[1m\u001b[30m|   \u001b[1m\u001b[30m\u001b[0m\u001b[1m\u001b[30m\u001b[41mdrawSierpinski\u001b[0m\u001b[1m\u001b[30m(150.0, 8)\u001b[0m",
      "\u001b[1m\u001b[31mcannot find symbol\u001b[0m",
      "\u001b[1m\u001b[31m  symbol:   method drawSierpinski(double,int)\u001b[0m",
      ""
     ]
    }
   ],
   "source": [
    "drawSierpinski(150.0, 8)"
   ]
  },
  {
   "cell_type": "markdown",
   "metadata": {
    "slideshow": {
     "slide_type": "slide"
    }
   },
   "source": [
    "### Miniübung\n",
    "\n",
    "* Versuchen Sie das Muster zu verstehen indem Sie mit dem Programm experimentieren"
   ]
  },
  {
   "cell_type": "markdown",
   "metadata": {
    "slideshow": {
     "slide_type": "-"
    }
   },
   "source": [
    "### Weitere Übungen\n",
    "\n",
    "* Schreiben Sie die Algorithmen ```binarylog``` und  ```ggt```, die in der Einführungsvorlesung (Slides: Informatik-Grundlagen) besprochen wurden als Methoden hin\n",
    "* Schreiben Sie eine Methode ```static void reduce(int z, int n)```, die mithilfe der Methode ```ggt``` den Bruch $\\frac{z}{n}$ kürzt und den gekürzten Bruch ausgibt. \n",
    "* Schreiben Sie eine Methode ```area```, welche für ein Dreieck mit gegebener Seitenlänge```a```, ```b``` und ```c```, die Fläche berechnet\n"
   ]
  },
  {
   "cell_type": "code",
   "execution_count": null,
   "metadata": {},
   "outputs": [],
   "source": []
  }
 ],
 "metadata": {
  "celltoolbar": "Slideshow",
  "kernelspec": {
   "display_name": "Java",
   "language": "java",
   "name": "java"
  },
  "language_info": {
   "codemirror_mode": "java",
   "file_extension": ".java",
   "mimetype": "text/x-java-source",
   "name": "Java",
   "pygments_lexer": "java",
   "version": "11.0.4+11"
  }
 },
 "nbformat": 4,
 "nbformat_minor": 2
}
