{
 "cells": [
  {
   "cell_type": "markdown",
   "metadata": {},
   "source": [
    "### Google Colab Integration\n",
    "\n",
    "Die folgende Zelle können Sie überspringen, wenn Sie mit einer lokalen Installation arbeiten. Wenn Sie das Notebook auf Google-Colab ausführen, dann müssen Sie als erstes diese Zelle ausführen und danach die Seite neu laden (F5)."
   ]
  },
  {
   "cell_type": "code",
   "execution_count": null,
   "metadata": {
    "slideshow": {
     "slide_type": "skip"
    }
   },
   "outputs": [],
   "source": [
    "!echo \"Update environment...\"\n",
    "!apt update -q  &> /dev/null\n",
    "!echo \"Install Java...\"\n",
    "!apt-get install -q openjdk-11-jdk-headless &> /dev/null\n",
    "!echo \"Install Jupyter java kernel...\"\n",
    "!curl -L https://github.com/SpencerPark/IJava/releases/download/v1.3.0/ijava-1.3.0.zip -o ijava-kernel.zip &> /dev/null\n",
    "!unzip -q ijava-kernel.zip -d ijava-kernel && cd ijava-kernel && python3 install.py --sys-prefix &> /dev/null\n",
    "!echo \"Downloading turtle jar ...\"\n",
    "!curl -L https://github.com/Andreas-Forster/gyminf-programmieren/raw/master/notebooks/jturtle-0.6.jar -o jturtle-0.6.jar &> /dev/null\n",
    "!echo \"Done.\""
   ]
  },
  {
   "cell_type": "markdown",
   "metadata": {
    "slideshow": {
     "slide_type": "slide"
    }
   },
   "source": [
    "# Vererbung\n",
    "\n",
    "#### Andreas Morel-Forster, Departement Mathematik und Informatik, Universität Basel"
   ]
  },
  {
   "cell_type": "markdown",
   "metadata": {
    "slideshow": {
     "slide_type": "slide"
    }
   },
   "source": [
    "### Klassen als eigene Datentypen\n",
    "\n",
    "Klassen lassen uns eigenes Vokabular definieren\n",
    "* Können Konzepte aus Problemdomäne modellieren (Klassen und Methoden)\n",
    "* Autos haben Räder, Türen, können den Motor anlassen, ...\n",
    "\n",
    "```java\n",
    "class Car {\n",
    "    int doors;\n",
    "    int wheels;\n",
    "    void startEngine() {\n",
    "        //....\n",
    "    }\n",
    "}\n",
    "```"
   ]
  },
  {
   "cell_type": "markdown",
   "metadata": {
    "slideshow": {
     "slide_type": "slide"
    }
   },
   "source": [
    "### Beispiel: Punkte und Vektoren\n",
    "\n",
    "* In 2d möglich als Array von Zahlen (**double[ ]**) der Länge 2 zu repräsentieren.\n",
    "* Gefährlich, da in Java kein Unterschied gemacht wird.\n",
    "* Besser wie folgt ..."
   ]
  },
  {
   "cell_type": "code",
   "execution_count": null,
   "metadata": {
    "slideshow": {
     "slide_type": "subslide"
    }
   },
   "outputs": [],
   "source": [
    "class Vector {\n",
    "    double x; \n",
    "    double y;\n",
    "    \n",
    "    Vector(double x, double y) {\n",
    "        this.x = x; this.y = y;\n",
    "    }\n",
    "}"
   ]
  },
  {
   "cell_type": "code",
   "execution_count": null,
   "metadata": {
    "slideshow": {
     "slide_type": "subslide"
    }
   },
   "outputs": [],
   "source": [
    "class Point { \n",
    "    double x;\n",
    "    double y;\n",
    "\n",
    "    Point(double x, double y) {\n",
    "        this.x = x; this.y = y;\n",
    "    }\n",
    "   \n",
    "    Point add(Vector v) { \n",
    "        return new Point(this.x + v.x, this.y + v.y);\n",
    "    }\n",
    "    \n",
    "    Vector minus(Point p2) {\n",
    "        return new Vector(this.x - p2.x, this.y - p2.y);\n",
    "    }\n",
    "}"
   ]
  },
  {
   "cell_type": "markdown",
   "metadata": {
    "slideshow": {
     "slide_type": "slide"
    }
   },
   "source": [
    "### Typsystem\n",
    "\n",
    "Typsystem hilft *Konzepte* auseinanderzuhalten.\n",
    "\n",
    "* Zwingt uns verschiedene Konzepte zu unterscheiden\n",
    "* Verhindert viele Fehler beim Programmieren\n",
    "\n",
    "Beispiel: \n",
    "\n",
    "* Punkt != Vektor"
   ]
  },
  {
   "cell_type": "markdown",
   "metadata": {
    "slideshow": {
     "slide_type": "slide"
    }
   },
   "source": [
    "### Beispiel: Punkte und Vektoren\n"
   ]
  },
  {
   "cell_type": "code",
   "execution_count": null,
   "metadata": {},
   "outputs": [],
   "source": [
    "Point p1 = new Point(1.0, 2.0);\n",
    "Point p2 = new Point(4.0, 4.0);\n",
    "Vector v = p2.minus(p1);\n",
    "System.out.println(\"Vector(\" + v.x + \",\" + v.y + \")\");\n",
    "// Point p = p2.minus(p1); // nicht erlaubt\n",
    "// p1.minus(v); // nicht erlaubt"
   ]
  },
  {
   "cell_type": "markdown",
   "metadata": {
    "slideshow": {
     "slide_type": "slide"
    }
   },
   "source": [
    "### Hierarchien von Konzepten\n",
    "\n",
    "Manche Konzepte können hierarchisch angeordnet werden."
   ]
  },
  {
   "cell_type": "markdown",
   "metadata": {
    "slideshow": {
     "slide_type": "slide"
    }
   },
   "source": [
    "### Hierarchien von Konzepten: Biologie\n",
    "\n",
    "Manche Konzepte können hierarchisch angeordnet werden.\n",
    "\n",
    "* Beispiel aus der Biologie: Tiere, Hund, Katze, ...\n"
   ]
  },
  {
   "cell_type": "code",
   "execution_count": null,
   "metadata": {
    "slideshow": {
     "slide_type": "subslide"
    }
   },
   "outputs": [],
   "source": [
    "class Animal {\n",
    "    void sleep() {\n",
    "        System.out.println(\"sleeping\");\n",
    "    }\n",
    "    void eating() {\n",
    "        System.out.println(\"eating\");\n",
    "    }\n",
    "}\n",
    "\n",
    "class Dog {\n",
    "    void sleep() {\n",
    "        System.out.println(\"sleeping\");\n",
    "    }\n",
    "    void eating() {\n",
    "        System.out.println(\"eating\");\n",
    "    }\n",
    "    void bark() {\n",
    "        System.out.println(\"wouff\");\n",
    "    }\n",
    "}\n",
    "\n",
    "// verwenden der Klassen"
   ]
  },
  {
   "cell_type": "markdown",
   "metadata": {
    "slideshow": {
     "slide_type": "slide"
    }
   },
   "source": [
    "### Hierarchien von Konzepten: Idee\n",
    "\n",
    "* Ein Hund ist ein Tier.\n",
    "* Zuweisung eines Hundes an eine Tier (genereller) soll möglich sein.\n",
    "* Eigenschaften von einem Tier sollen automatisch dem Hund zur Verfügung stehen.\n"
   ]
  },
  {
   "cell_type": "markdown",
   "metadata": {
    "slideshow": {
     "slide_type": "slide"
    }
   },
   "source": [
    "### Hierarchien von Konzepten: Zwei Klassen\n",
    "\n",
    "* ***Oberklasse*** (Basisklasse, Superklasse) ist genereller (Tier)\n",
    "* ***Unterklasse*** ist spezifischer (Hund)\n",
    "* Sprich:***erbt***, ***erweitert***, ***ist abgeleitet***\n",
    "* *Zuweisung an eine Variable vom Typ einer Oberklasse ist erlaubt.*\n",
    "![oberUnterKlasse](images/oberUnterKlasse.png)"
   ]
  },
  {
   "cell_type": "markdown",
   "metadata": {
    "slideshow": {
     "slide_type": "slide"
    }
   },
   "source": [
    "### Hierarchien von Konzepten: Beispiel Zuweisung\n",
    "\n",
    "![class hierarchy](images/class-hierarchy.png)"
   ]
  },
  {
   "cell_type": "code",
   "execution_count": null,
   "metadata": {
    "slideshow": {
     "slide_type": "subslide"
    }
   },
   "outputs": [],
   "source": [
    "// definiere Variable vom Typ Integer\n",
    "// definiere Variable vom Typ Double\n",
    "// Zuweisung der Variablen an eine neue Variable vom Typ Number"
   ]
  },
  {
   "cell_type": "code",
   "execution_count": null,
   "metadata": {},
   "outputs": [],
   "source": [
    "// adaptiere Dog Klasse welche von Animal erbt"
   ]
  },
  {
   "cell_type": "markdown",
   "metadata": {
    "slideshow": {
     "slide_type": "slide"
    }
   },
   "source": [
    "### Vererbung: Übersicht\n",
    "\n",
    "##### Interfaces\n",
    "* Garantiert, dass alle Subklassen dieselben Operationen implementieren\n",
    "\n",
    "##### Abstrakte Klassen\n",
    "* Klasse, welche Teile einer Implementation offenlässt\n",
    "* Subklassen implementieren diese\n",
    "\n",
    "##### Klassen\n",
    "* Klasse ist normale Klasse\n",
    "* Subklasse erweitert Konzept\n",
    "    \n"
   ]
  },
  {
   "cell_type": "markdown",
   "metadata": {
    "slideshow": {
     "slide_type": "slide"
    }
   },
   "source": [
    "### Interfaces"
   ]
  },
  {
   "cell_type": "markdown",
   "metadata": {},
   "source": [
    "Grundidee: Gemeinsame Methoden aller Klassen werden definiert (noch nicht implementiert)."
   ]
  },
  {
   "cell_type": "code",
   "execution_count": null,
   "metadata": {},
   "outputs": [],
   "source": [
    "interface TurtleOps {\n",
    "    void forward(int distance);\n",
    "    void turnRight(double angle);\n",
    "    void printPos();\n",
    "    // ...\n",
    "}"
   ]
  },
  {
   "cell_type": "markdown",
   "metadata": {
    "slideshow": {
     "slide_type": "slide"
    }
   },
   "source": [
    "### Implementation 1"
   ]
  },
  {
   "cell_type": "code",
   "execution_count": null,
   "metadata": {},
   "outputs": [],
   "source": [
    "class Turtle implements TurtleOps { \n",
    "    \n",
    "    private double xPos;\n",
    "    private double yPos;\n",
    "\n",
    "    private double direction = 0;\n",
    "\n",
    "    public void turnRight(double angle) {\n",
    "        this.direction += angle;\n",
    "    }\n",
    "    \n",
    "    public void forward(int distance) { \n",
    "        xPos += Math.cos(this.direction) * distance;\n",
    "        yPos += Math.sin(this.direction) * distance;   \n",
    "    }\n",
    "    \n",
    "    public void printPos() {\n",
    "        System.out.println(\"(\" + xPos + \",\"  + yPos + \")\");\n",
    "    }\n",
    "}"
   ]
  },
  {
   "cell_type": "markdown",
   "metadata": {
    "slideshow": {
     "slide_type": "slide"
    }
   },
   "source": [
    "### Implementation 2"
   ]
  },
  {
   "cell_type": "code",
   "execution_count": null,
   "metadata": {},
   "outputs": [],
   "source": [
    "class TurtleRandomWalker implements TurtleOps { \n",
    "    \n",
    "    private double xPos;\n",
    "    private double yPos;\n",
    "    private Random rng = new Random(42);\n",
    "    private double direction = 0;\n",
    "    \n",
    "    public void turnRight(double angle) {\n",
    "        this.direction += angle;\n",
    "    }\n",
    "    \n",
    "    public void forward(int distance) { \n",
    "        \n",
    "        xPos += Math.cos(rng.nextDouble() * 2 * Math.PI) * distance;\n",
    "        yPos += Math.sin(rng.nextDouble() * 2 * Math.PI) * distance;   \n",
    "    }\n",
    "    \n",
    "    public void printPos() {\n",
    "        System.out.println(\"(\" + xPos + \",\"  + yPos + \")\");\n",
    "    }\n",
    "    \n",
    "}"
   ]
  },
  {
   "cell_type": "markdown",
   "metadata": {
    "slideshow": {
     "slide_type": "slide"
    }
   },
   "source": [
    "### Interfaces als Datentyp\n",
    "\n",
    "* Interface kann als Datentyp benutzt werden. \n",
    "* Zuweisung von allen Klassen die Interface implementieren möglich"
   ]
  },
  {
   "cell_type": "code",
   "execution_count": null,
   "metadata": {},
   "outputs": [],
   "source": [
    "// neue Variable vom Typ TurtleOps initialisiert mit Turtle\n",
    "// neue Variable vom Typ TurtleOps initialisiert mit TurtleRandomWalker\n",
    "// implmentieren einer Methode foo in einer der oberen Klassen\n",
    "// testen des Aufrufen der Methode foo über die Varible vom Typ TurtleOps"
   ]
  },
  {
   "cell_type": "markdown",
   "metadata": {
    "slideshow": {
     "slide_type": "slide"
    }
   },
   "source": [
    "### Interfaces als Datentyp"
   ]
  },
  {
   "cell_type": "markdown",
   "metadata": {},
   "source": [
    "Häufig bei Methodendeklarationen benutzt. \n",
    "\n",
    "* Abstrahiert konkrete Implementation."
   ]
  },
  {
   "cell_type": "code",
   "execution_count": null,
   "metadata": {},
   "outputs": [],
   "source": [
    "void animateTurtle(TurtleOps turtle, int numSteps) {\n",
    "    for (int i = 0; i < numSteps; i += 1) {\n",
    "        forward(i);\n",
    "        printPos();\n",
    "    }\n",
    "}\n",
    "// Aufruf der Methode animateTurtle mit einer neuen Instanz einer implmentierenden Klasse"
   ]
  },
  {
   "cell_type": "markdown",
   "metadata": {
    "slideshow": {
     "slide_type": "slide"
    }
   },
   "source": [
    "### Abstrakte Klassen"
   ]
  },
  {
   "cell_type": "markdown",
   "metadata": {},
   "source": [
    "Einsatz: Klasse kann bis auf wenige Stellen implementiert werden\n",
    "* Subklassen vervollständigen Implementation"
   ]
  },
  {
   "cell_type": "code",
   "execution_count": null,
   "metadata": {},
   "outputs": [],
   "source": [
    "abstract class TurtleLike {\n",
    "\n",
    "    double xPos;\n",
    "    double yPos;\n",
    "    double direction;\n",
    "    Random rng = new Random(42);\n",
    "    \n",
    "    abstract public void forward(int distance);\n",
    "    \n",
    "    public void turnRight(double angle) { \n",
    "        this.direction += angle;\n",
    "    }\n",
    "    \n",
    "    public void printPos() {\n",
    "        System.out.println(\"(\" + xPos + \",\"  + yPos + \")\");\n",
    "    }\n",
    "}"
   ]
  },
  {
   "cell_type": "markdown",
   "metadata": {
    "slideshow": {
     "slide_type": "slide"
    }
   },
   "source": [
    "### Konkrete Implementationen"
   ]
  },
  {
   "cell_type": "code",
   "execution_count": null,
   "metadata": {},
   "outputs": [],
   "source": [
    "class Turtle extends TurtleLike {\n",
    "\n",
    "     @Override\n",
    "     public void forward(int distance) { \n",
    "        xPos += Math.cos(this.direction) * distance;\n",
    "        yPos += Math.sin(this.direction) * distance;   \n",
    "     }\n",
    "}"
   ]
  },
  {
   "cell_type": "code",
   "execution_count": null,
   "metadata": {},
   "outputs": [],
   "source": [
    "class TurtleRandomWalker extends TurtleLike {\n",
    "     \n",
    "     @Override\n",
    "     public void forward(int distance) {\n",
    "        xPos += Math.cos(rng.nextDouble() * 2 * Math.PI) * distance;\n",
    "        yPos += Math.sin(rng.nextDouble() * 2 * Math.PI) * distance;   \n",
    "    }\n",
    "}"
   ]
  },
  {
   "cell_type": "markdown",
   "metadata": {
    "slideshow": {
     "slide_type": "slide"
    }
   },
   "source": [
    "### Verwendung als Datentyp\n",
    "\n",
    "* Abstrakte Klasse kann als Datentyp verwendet werden\n",
    "* Zuweisung von allen Unterklassen möglich"
   ]
  },
  {
   "cell_type": "code",
   "execution_count": null,
   "metadata": {},
   "outputs": [],
   "source": [
    "// neue TurtleLike Variable mit Turtle Instanz\n",
    "// aufrufen von forward und print"
   ]
  },
  {
   "cell_type": "markdown",
   "metadata": {
    "slideshow": {
     "slide_type": "slide"
    }
   },
   "source": [
    "### Vererbung von Klassen"
   ]
  },
  {
   "cell_type": "markdown",
   "metadata": {},
   "source": [
    "Einsatz:\n",
    "- **Erweiterung** einer Klasse mit zusätzlicher Funktionalität\n",
    "- **Überschreiben** der Funktionalität einer Klasse"
   ]
  },
  {
   "cell_type": "code",
   "execution_count": null,
   "metadata": {},
   "outputs": [],
   "source": [
    "class Turtle {\n",
    "\n",
    "    double xPos;\n",
    "    double yPos;\n",
    "    double direction;\n",
    "\n",
    "    public void forward(int distance) { \n",
    "        System.out.println(\"forward in turtle\");\n",
    "        xPos += Math.cos(this.direction) * distance;\n",
    "        yPos += Math.sin(this.direction) * distance;   \n",
    "    }\n",
    "    \n",
    "    public void turnRight(double angle) { \n",
    "        this.direction += angle;\n",
    "    }\n",
    "    \n",
    "    public void printPos() {\n",
    "        System.out.println(\"(\" + xPos + \",\"  + yPos + \")\");\n",
    "    }\n",
    "}"
   ]
  },
  {
   "cell_type": "markdown",
   "metadata": {
    "slideshow": {
     "slide_type": "slide"
    }
   },
   "source": [
    "### Erweiterung"
   ]
  },
  {
   "cell_type": "code",
   "execution_count": null,
   "metadata": {},
   "outputs": [],
   "source": [
    "class TurtleWithColor extends Turtle {\n",
    "\n",
    "    java.awt.Color color = java.awt.Color.BLACK;\n",
    "    \n",
    "    void setPenColor(java.awt.Color color) {\n",
    "        this.color = color;\n",
    "    }\n",
    "}"
   ]
  },
  {
   "cell_type": "code",
   "execution_count": null,
   "metadata": {},
   "outputs": [],
   "source": [
    "// erstellen einer TurtleWithColor\n",
    "// Farbe setzen auf java.awt.Color.BLUE\n",
    "// forwärts laufen"
   ]
  },
  {
   "cell_type": "markdown",
   "metadata": {
    "slideshow": {
     "slide_type": "slide"
    }
   },
   "source": [
    "### Überschreiben von Methoden\n",
    "\n",
    "* Subklassen können Verhalten von Methoden durch *Überschreiben* ändern.\n",
    "* **@Override** hilft um Fehler zu vermeiden, ist nicht nötig aber empfehlenswert."
   ]
  },
  {
   "cell_type": "code",
   "execution_count": null,
   "metadata": {},
   "outputs": [],
   "source": [
    "class LazyTurtle extends Turtle {\n",
    "\n",
    "    @Override\n",
    "    public void forward(int distance) { \n",
    "        System.out.println(\"Ich laufe langsam\");\n",
    "        xPos += Math.cos(this.direction) * distance  / 4;\n",
    "        yPos += Math.sin(this.direction) * distance  / 4;   \n",
    "    }\n",
    "    \n",
    "}"
   ]
  },
  {
   "cell_type": "code",
   "execution_count": null,
   "metadata": {},
   "outputs": [],
   "source": [
    "// erstellen von LazyTurtle und nutzen der Turtle"
   ]
  },
  {
   "cell_type": "markdown",
   "metadata": {
    "slideshow": {
     "slide_type": "slide"
    }
   },
   "source": [
    "### Nutzen der Superklassenimplementation"
   ]
  },
  {
   "cell_type": "markdown",
   "metadata": {},
   "source": [
    "Das Keyword ```super``` erlaubt es auf die Superklassenimplementation zuzugreifen."
   ]
  },
  {
   "cell_type": "code",
   "execution_count": null,
   "metadata": {},
   "outputs": [],
   "source": [
    "class EagerTurtle extends Turtle {\n",
    "\n",
    "    @Override\n",
    "     public void forward(int distance) { \n",
    "        System.out.println(\"Ich laufe doppelt so schnell\");\n",
    "        super.forward(distance);\n",
    "        super.forward(distance);\n",
    "    }   \n",
    "}"
   ]
  },
  {
   "cell_type": "code",
   "execution_count": null,
   "metadata": {},
   "outputs": [],
   "source": [
    "// erstellen von EagerTurtle und nutzen der Turtle"
   ]
  },
  {
   "cell_type": "markdown",
   "metadata": {},
   "source": [
    "### Konstruktor der Oberklasse"
   ]
  },
  {
   "cell_type": "code",
   "execution_count": null,
   "metadata": {},
   "outputs": [],
   "source": [
    "class O {\n",
    "    O() {\n",
    "        System.out.println(\"Konstruktor der Oberklasse\");\n",
    "    }\n",
    "}\n",
    "\n",
    "class A extends O {\n",
    "    A() {\n",
    "        super();\n",
    "        System.out.println(\"Konstruktor der abgeleiteten Klasse\");\n",
    "    }\n",
    "}"
   ]
  },
  {
   "cell_type": "markdown",
   "metadata": {},
   "source": [
    "### Übersicht\n",
    "\n",
    "* Interface, **interface**, **implements**\n",
    "* Abstrakte Klassen, **abstact**\n",
    "* Ableiten einer Klasse, **extends**\n",
    "* **@Override**\n",
    "* **super**, **super()**"
   ]
  },
  {
   "cell_type": "markdown",
   "metadata": {},
   "source": [
    "### Mini Übung\n",
    "\n",
    "* Erstelle ein Interface **Plant** mit zwei Methoden **grow** und **distributeSeeds**.\n",
    "* Erstelle eine Abstrakte Klasse **Tree** welche vom Interface erbt und die Methode **grow** implementiert (etwas auf die Konsole schreibt).\n",
    "* Erstelle eine Baum-Klasse **Oak** welche von der Abstrakten Klasse erbt und die **distributeSeeds** Methode implementiert.\n",
    "* Erstelle eine Blumen-Klasse **Roses** welche direkt vom Interface erbt und beide Methoden implementiert. Zusätzlich soll die Klasse noch eine Methode **prickSleepingBeauty** definieren.\n",
    "* Leite die Klasse **RoseTendrils** von **Roses** ab und überschreibe die Methode **grow**.\n",
    "* Von welchen Typen kann man Objekte erzeugen?\n",
    "* Objekte von welchem Typ können Variablen von welchem Typ zugeordnet werden?\n",
    "* Welche Methoden können auf welchen Variablen aufgerufen werden?\n",
    "* Was kann alles in einem Array von **Plant** gespeichert werden?"
   ]
  },
  {
   "cell_type": "code",
   "execution_count": null,
   "metadata": {},
   "outputs": [],
   "source": []
  }
 ],
 "metadata": {
  "celltoolbar": "Slideshow",
  "kernelspec": {
   "display_name": "Java",
   "language": "java",
   "name": "java"
  },
  "language_info": {
   "codemirror_mode": "java",
   "file_extension": ".jshell",
   "mimetype": "text/x-java-source",
   "name": "Java",
   "pygments_lexer": "java",
   "version": "16.0.1+9"
  },
  "rise": {}
 },
 "nbformat": 4,
 "nbformat_minor": 2
}
