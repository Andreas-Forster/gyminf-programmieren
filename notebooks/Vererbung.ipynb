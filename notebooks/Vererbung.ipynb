{
 "cells": [
  {
   "cell_type": "markdown",
   "metadata": {
    "slideshow": {
     "slide_type": "slide"
    }
   },
   "source": [
    "# Vererbung\n",
    "\n",
    "#### Marcel Lüthi, Departement Mathematik und Informatik, Universität Basel"
   ]
  },
  {
   "cell_type": "markdown",
   "metadata": {
    "slideshow": {
     "slide_type": "slide"
    }
   },
   "source": [
    "### Klassen als eigene Datentypen\n",
    "\n",
    "Klassen lassen uns eigenes Vokabular definieren\n",
    "* Können Konzepte aus Problemdomäne modellieren\n",
    "* Beispiel aus Geometrie: Point, Vector, Line, ...\n"
   ]
  },
  {
   "cell_type": "markdown",
   "metadata": {
    "slideshow": {
     "slide_type": "slide"
    }
   },
   "source": [
    "### Beispiel: Punkte und Vektoren"
   ]
  },
  {
   "cell_type": "code",
   "execution_count": 75,
   "metadata": {},
   "outputs": [],
   "source": [
    "class Vector {\n",
    "    double x; \n",
    "    double y;\n",
    "    \n",
    "    Vector(double x, double y) {\n",
    "        this.x = x; this.y = y;\n",
    "    }\n",
    "}\n"
   ]
  },
  {
   "cell_type": "code",
   "execution_count": 76,
   "metadata": {
    "slideshow": {
     "slide_type": "fragment"
    }
   },
   "outputs": [],
   "source": [
    "\n",
    "class Point { \n",
    "    double x;\n",
    "    double y;\n",
    "\n",
    "    Point(double x, double y) {\n",
    "        this.x = x; this.y = y;\n",
    "    }\n",
    "   \n",
    "    Point add(Vector v) { \n",
    "        return new Point(this.x + v.x, this.y + v.y);\n",
    "    }\n",
    "    \n",
    "    Vector minus(Point p2) {\n",
    "        return new Vector(p2.x - this.x, p2.y - this.y);\n",
    "    }\n",
    "}"
   ]
  },
  {
   "cell_type": "markdown",
   "metadata": {
    "slideshow": {
     "slide_type": "slide"
    }
   },
   "source": [
    "### Typsystem\n",
    "\n",
    "Typsystem hilft Konzepte auseinanderzuhalten\n",
    "\n",
    "* Zwingt uns verschiedene Konzepte zu unterscheiden\n",
    "* Verhindert viele Fehler beim Programmieren\n",
    "\n",
    "Beispiel: \n",
    "\n",
    "* Punkt != Vektor"
   ]
  },
  {
   "cell_type": "markdown",
   "metadata": {
    "slideshow": {
     "slide_type": "slide"
    }
   },
   "source": [
    "### Beispiel: Punkte und Vektoren\n"
   ]
  },
  {
   "cell_type": "code",
   "execution_count": 46,
   "metadata": {},
   "outputs": [
    {
     "ename": "CompilationException",
     "evalue": "",
     "output_type": "error",
     "traceback": [
      "\u001b[1m\u001b[30m|   \u001b[1m\u001b[30mp1.add(\u001b[0m\u001b[1m\u001b[30m\u001b[41mp2\u001b[0m\u001b[1m\u001b[30m);\u001b[0m",
      "\u001b[1m\u001b[31mincompatible types: Point cannot be converted to Vector\u001b[0m",
      ""
     ]
    }
   ],
   "source": [
    "Point p1 = new Point(1, 3);\n",
    "Point p2 = new Point(2, 4);\n",
    "\n",
    "p1.add(v); // Funktioniert\n",
    "p1.add(p2); // Funktioniert nicht\n",
    "\n",
    "Vector v = p1.minus(p2); // Funktioniert \n",
    "Point p = p2.minus(p1); // Funktioniert nicht"
   ]
  },
  {
   "cell_type": "markdown",
   "metadata": {
    "slideshow": {
     "slide_type": "slide"
    }
   },
   "source": [
    "### Hierarchien von Konzepten\n",
    "\n",
    "Manche Konzepte können hierarchisch angeordneter werden\n",
    "* Zuweisung in allgemeineres Konzept soll möglich sein\n",
    "\n",
    "![class hierarchy](images/class-hierarchy.png)"
   ]
  },
  {
   "cell_type": "markdown",
   "metadata": {
    "slideshow": {
     "slide_type": "slide"
    }
   },
   "source": [
    "### Vererbung: Übersicht\n",
    "\n",
    "##### Interfaces\n",
    "* Garantiert, dass alle Subklassen dieselben Operationen implementieren\n",
    "\n",
    "##### Abstrakte Klassen\n",
    "* Klasse lässt Teile einer Implementation offenlässt\n",
    "* Subklassen implementieren diese\n",
    "\n",
    "##### Klassen\n",
    "* Klasse ist normale Klasse\n",
    "* Subklasse erweitert Konzept\n",
    "    \n"
   ]
  },
  {
   "cell_type": "markdown",
   "metadata": {
    "slideshow": {
     "slide_type": "slide"
    }
   },
   "source": [
    "### Interfaces"
   ]
  },
  {
   "cell_type": "markdown",
   "metadata": {},
   "source": [
    "Grundidee: Gemeinsame Methoden aller Klassen werden definiert "
   ]
  },
  {
   "cell_type": "code",
   "execution_count": 82,
   "metadata": {},
   "outputs": [],
   "source": [
    "interface TurtleOps {\n",
    "    void forward(int distance);\n",
    "    void turnRight(double angle);\n",
    "    void printPos();\n",
    "    // ...\n",
    "}"
   ]
  },
  {
   "cell_type": "markdown",
   "metadata": {
    "slideshow": {
     "slide_type": "slide"
    }
   },
   "source": [
    "### Implementation 1"
   ]
  },
  {
   "cell_type": "code",
   "execution_count": 83,
   "metadata": {},
   "outputs": [],
   "source": [
    "class Turtle implements TurtleOps { \n",
    "    \n",
    "    private double xPos;\n",
    "    private double yPos;\n",
    "\n",
    "    private double direction = 0;\n",
    "\n",
    "    public void turnRight(double angle) {\n",
    "        this.direction += angle;\n",
    "    }\n",
    "    \n",
    "    public void forward(int distance) { \n",
    "        xPos += Math.cos(this.direction) * distance;\n",
    "        yPos += Math.sin(this.direction) * distance;   \n",
    "    }\n",
    "    \n",
    "    public void printPos() {\n",
    "        System.out.println(\"(\" + xPos + \",\"  + yPos + \")\");\n",
    "    }\n",
    "    \n",
    "}"
   ]
  },
  {
   "cell_type": "markdown",
   "metadata": {
    "slideshow": {
     "slide_type": "slide"
    }
   },
   "source": [
    "### Implementation 2"
   ]
  },
  {
   "cell_type": "code",
   "execution_count": 84,
   "metadata": {},
   "outputs": [],
   "source": [
    "class TurtleRandomWalker implements TurtleOps { \n",
    "    \n",
    "    private double xPos;\n",
    "    private double yPos;\n",
    "    private Random rng = new Random(42);\n",
    "    private double direction = 0;\n",
    "    \n",
    "    public void turnRight(double angle) {\n",
    "        this.direction += angle;\n",
    "    }\n",
    "    \n",
    "    public void forward(int distance) { \n",
    "        \n",
    "        xPos += Math.cos(rng.nextDouble() * 2 * Math.PI) * distance;\n",
    "        yPos += Math.sin(rng.nextDouble() * 2 * Math.PI) * distance;   \n",
    "    }\n",
    "    \n",
    "    public void printPos() {\n",
    "        System.out.println(\"(\" + xPos + \",\"  + yPos + \")\");\n",
    "    }\n",
    "    \n",
    "}"
   ]
  },
  {
   "cell_type": "markdown",
   "metadata": {
    "slideshow": {
     "slide_type": "slide"
    }
   },
   "source": [
    "### Interfaces als Datentyp\n",
    "\n",
    "* Interface kann als Datentyp benutzt werden. \n",
    "* Zuweisung von allen Klassen die Interface implementieren möglich"
   ]
  },
  {
   "cell_type": "code",
   "execution_count": 87,
   "metadata": {},
   "outputs": [
    {
     "name": "stdout",
     "output_type": "stream",
     "text": [
      "(10.0,0.0)\n",
      "(-1.4050509889147957,-9.132644775945497)\n"
     ]
    }
   ],
   "source": [
    "TurtleOps t1 = new Turtle();\n",
    "TurtleOps t2 = new TurtleRandomWalker();\n",
    "\n",
    "t1.forward(10);\n",
    "t1.printPos();\n",
    "\n",
    "t2.forward(10);\n",
    "t2.printPos();"
   ]
  },
  {
   "cell_type": "markdown",
   "metadata": {
    "slideshow": {
     "slide_type": "slide"
    }
   },
   "source": [
    "### Interfaces als Datentyp"
   ]
  },
  {
   "cell_type": "markdown",
   "metadata": {},
   "source": [
    "Häufig bei Methodendeklarationen benutzt. \n",
    "\n",
    "* Abstrahiert konkrete Implementation."
   ]
  },
  {
   "cell_type": "code",
   "execution_count": 88,
   "metadata": {},
   "outputs": [
    {
     "name": "stdout",
     "output_type": "stream",
     "text": [
      "(0.0,0.0)\n",
      "(-0.3606318298097475,0.9855612120925829)\n",
      "(-1.3727709331432951,-0.15546416189023116)\n",
      "(-3.409628702218913,2.8053622899469834)\n",
      "(-7.305774327233606,-1.1094687678100872)\n",
      "(-2.9344538087326475,0.8331962384124731)\n",
      "(-2.9379906918716725,4.756566968481867)\n",
      "(0.14638239533025077,0.8456643093004987)\n",
      "(2.1472155788910725,-6.260215511486235)\n",
      "(6.372673567135029,-10.959200769063793)\n"
     ]
    }
   ],
   "source": [
    "void animateTurtle(TurtleOps t, int numSteps) {\n",
    "    for (int i = 0; i < 10; i++) {\n",
    "        t.forward(i);\n",
    "        t.printPos();\n",
    "    }\n",
    "}\n",
    "\n",
    "animateTurtle(new TurtleRandomWalker(), 10);"
   ]
  },
  {
   "cell_type": "markdown",
   "metadata": {
    "slideshow": {
     "slide_type": "slide"
    }
   },
   "source": [
    "### Abstrakte Klassen"
   ]
  },
  {
   "cell_type": "markdown",
   "metadata": {},
   "source": [
    "Einsatz: Klasse kann bis auf wenige Stellen implementiert werden\n",
    "* Subklassen vervollständigen Implementation"
   ]
  },
  {
   "cell_type": "code",
   "execution_count": 89,
   "metadata": {},
   "outputs": [],
   "source": [
    "abstract class TurtleLike {\n",
    "\n",
    "    double xPos;\n",
    "    double yPos;\n",
    "    double direction;\n",
    "    Random rng = new Random(42);\n",
    "    \n",
    "    abstract public void forward(int distance);\n",
    "    \n",
    "    public void turnRight(double angle) { \n",
    "        this.direction += angle;\n",
    "    }\n",
    "    \n",
    "    public void printPos() {\n",
    "        System.out.println(\"(\" + xPos + \",\"  + yPos + \")\");\n",
    "    }\n",
    "}"
   ]
  },
  {
   "cell_type": "markdown",
   "metadata": {
    "slideshow": {
     "slide_type": "slide"
    }
   },
   "source": [
    "### Konkrete Implementationen"
   ]
  },
  {
   "cell_type": "code",
   "execution_count": 90,
   "metadata": {},
   "outputs": [],
   "source": [
    "class Turtle extends TurtleLike {\n",
    "     @Override\n",
    "     public void forward(int distance) { \n",
    "        xPos += Math.cos(this.direction) * distance;\n",
    "        yPos += Math.sin(this.direction) * distance;   \n",
    "     }\n",
    "}"
   ]
  },
  {
   "cell_type": "code",
   "execution_count": 91,
   "metadata": {},
   "outputs": [],
   "source": [
    "class TurtleRandomWalker extends TurtleLike {\n",
    "     \n",
    "     @Override\n",
    "     public void forward(int distance) {\n",
    "        xPos += Math.cos(rng.nextDouble() * 2 * Math.PI) * distance;\n",
    "        yPos += Math.sin(rng.nextDouble() * 2 * Math.PI) * distance;   \n",
    "    }\n",
    "     \n",
    "}"
   ]
  },
  {
   "cell_type": "markdown",
   "metadata": {
    "slideshow": {
     "slide_type": "slide"
    }
   },
   "source": [
    "### Terminologie\n",
    "\n",
    "![oo-terminology](images/oo-terminology.png) "
   ]
  },
  {
   "cell_type": "markdown",
   "metadata": {
    "slideshow": {
     "slide_type": "slide"
    }
   },
   "source": [
    "### Verwendung als Datentyp\n",
    "\n",
    "* Abstrakte Klasse kann als Datentyp verwendet werden\n",
    "* Zuweisung von allen Unterklassen möglich"
   ]
  },
  {
   "cell_type": "code",
   "execution_count": 92,
   "metadata": {},
   "outputs": [
    {
     "name": "stdout",
     "output_type": "stream",
     "text": [
      "(10.0,0.0)\n"
     ]
    }
   ],
   "source": [
    "TurtleLike t = new Turtle();\n",
    "t.forward(10);\n",
    "t.printPos();"
   ]
  },
  {
   "cell_type": "markdown",
   "metadata": {
    "slideshow": {
     "slide_type": "slide"
    }
   },
   "source": [
    "### Vererbung von Klassen"
   ]
  },
  {
   "cell_type": "markdown",
   "metadata": {},
   "source": [
    "Einsatz: Erweiterung einer Klasse mit zusätzlicher Funktionalität"
   ]
  },
  {
   "cell_type": "code",
   "execution_count": 93,
   "metadata": {},
   "outputs": [],
   "source": [
    "class Turtle {\n",
    "\n",
    "    double xPos;\n",
    "    double yPos;\n",
    "    double direction;\n",
    "\n",
    "    public void forward(int distance) { \n",
    "        xPos += Math.cos(this.direction) * distance;\n",
    "        yPos += Math.sin(this.direction) * distance;   \n",
    "    }\n",
    "    \n",
    "    public void turnRight(double angle) { \n",
    "        this.direction += angle;\n",
    "    }\n",
    "    \n",
    "    public void printPos() {\n",
    "        System.out.println(\"(\" + xPos + \",\"  + yPos + \")\");\n",
    "    }\n",
    "}"
   ]
  },
  {
   "cell_type": "markdown",
   "metadata": {
    "slideshow": {
     "slide_type": "slide"
    }
   },
   "source": [
    "### Erweiterung"
   ]
  },
  {
   "cell_type": "code",
   "execution_count": 94,
   "metadata": {},
   "outputs": [],
   "source": [
    "class TurtleWithColor extends Turtle {\n",
    "\n",
    "    java.awt.Color color = java.awt.Color.BLACK;\n",
    "    \n",
    "    void setPenColor(java.awt.Color color) {\n",
    "        this.color = color;\n",
    "    }\n",
    "}"
   ]
  },
  {
   "cell_type": "code",
   "execution_count": 95,
   "metadata": {},
   "outputs": [],
   "source": [
    "TurtleWithColor t = new TurtleWithColor();\n",
    "t.setPenColor(java.awt.Color.BLUE);"
   ]
  },
  {
   "cell_type": "markdown",
   "metadata": {
    "slideshow": {
     "slide_type": "slide"
    }
   },
   "source": [
    "### Überschreiben von Methoden\n",
    "\n",
    "* Subklassen können Verhalten von Methoden durch *Überschreiben* ändern."
   ]
  },
  {
   "cell_type": "code",
   "execution_count": 96,
   "metadata": {},
   "outputs": [],
   "source": [
    "class LazyTurtle extends Turtle {\n",
    "\n",
    "    @Override\n",
    "     public void forward(int distance) { \n",
    "        System.out.println(\"Ich laufe langsam\");\n",
    "        xPos += Math.cos(this.direction) * distance  / 4;\n",
    "        yPos += Math.sin(this.direction) * distance  / 4;   \n",
    "    }\n",
    "    \n",
    "}"
   ]
  },
  {
   "cell_type": "markdown",
   "metadata": {
    "slideshow": {
     "slide_type": "slide"
    }
   },
   "source": [
    "### Nutzen der Superklassenimplementation"
   ]
  },
  {
   "cell_type": "markdown",
   "metadata": {},
   "source": [
    "Das Keyword ```super``` erlaubt es auf die Superklassenimplementation zuzugreifen."
   ]
  },
  {
   "cell_type": "code",
   "execution_count": 97,
   "metadata": {},
   "outputs": [],
   "source": [
    "class EagerTurtle extends Turtle {\n",
    "\n",
    "    @Override\n",
    "     public void forward(int distance) { \n",
    "        System.out.println(\"Ich laufe doppelt so schnell\");\n",
    "        super.forward(distance);\n",
    "        super.forward(distance);\n",
    "    }\n",
    "    \n",
    "}"
   ]
  }
 ],
 "metadata": {
  "celltoolbar": "Slideshow",
  "kernelspec": {
   "display_name": "Java",
   "language": "java",
   "name": "java"
  },
  "language_info": {
   "codemirror_mode": "java",
   "file_extension": ".java",
   "mimetype": "text/x-java-source",
   "name": "Java",
   "pygments_lexer": "java",
   "version": "11.0.4+11"
  },
  "rise": {}
 },
 "nbformat": 4,
 "nbformat_minor": 2
}
