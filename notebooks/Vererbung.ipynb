{
 "cells": [
  {
   "cell_type": "markdown",
   "metadata": {},
   "source": [
    "### Google Colab Integration\n",
    "\n",
    "Die folgende Zelle können Sie überspringen, wenn Sie mit einer lokalen Installation arbeiten. Wenn Sie das Notebook auf Google-Colab ausführen, dann müssen Sie als erstes diese Zelle ausführen und danach die Seite neu laden (F5)."
   ]
  },
  {
   "cell_type": "code",
   "execution_count": null,
   "metadata": {
    "slideshow": {
     "slide_type": "skip"
    }
   },
   "outputs": [],
   "source": [
    "!echo \"Update environment...\"\n",
    "!apt update -q  &> /dev/null\n",
    "!echo \"Install Java...\"\n",
    "!apt-get install -q openjdk-11-jdk-headless &> /dev/null\n",
    "!echo \"Install Jupyter java kernel...\"\n",
    "!curl -L https://github.com/SpencerPark/IJava/releases/download/v1.3.0/ijava-1.3.0.zip -o ijava-kernel.zip &> /dev/null\n",
    "!unzip -q ijava-kernel.zip -d ijava-kernel && cd ijava-kernel && python3 install.py --sys-prefix &> /dev/null\n",
    "!echo \"Downloading turtle jar ...\"\n",
    "!curl -L https://github.com/Andreas-Forster/gyminf-programmieren/raw/master/notebooks/jturtle-0.6.jar -o jturtle-0.6.jar &> /dev/null\n",
    "!echo \"Done.\""
   ]
  },
  {
   "cell_type": "markdown",
   "metadata": {
    "slideshow": {
     "slide_type": "slide"
    }
   },
   "source": [
    "# Vererbung\n",
    "\n",
    "#### Andreas Morel-Forster, Departement Mathematik und Informatik, Universität Basel"
   ]
  },
  {
   "cell_type": "markdown",
   "metadata": {
    "slideshow": {
     "slide_type": "slide"
    }
   },
   "source": [
    "### Klassen als eigene Datentypen\n",
    "\n",
    "Klassen lassen uns eigenes Vokabular definieren\n",
    "* Können Konzepte aus Problemdomäne modellieren (Klassen und Methoden)\n",
    "* Autos haben Räder, Türen, können den Motor anlassen, ...\n",
    "\n",
    "```java\n",
    "class Car {\n",
    "    int doors;\n",
    "    int wheels;\n",
    "    void startEngine() {\n",
    "        //....\n",
    "    }\n",
    "}\n",
    "```"
   ]
  },
  {
   "cell_type": "markdown",
   "metadata": {
    "slideshow": {
     "slide_type": "slide"
    }
   },
   "source": [
    "### Beispiel: Punkte und Vektoren\n",
    "\n",
    "* In 2d möglich als Array von Zahlen (**double[ ]**) der Länge 2 zu repräsentieren.\n",
    "* Gefährlich, da in Java kein Unterschied gemacht wird.\n",
    "* Besser wie folgt ..."
   ]
  },
  {
   "cell_type": "code",
   "execution_count": 1,
   "metadata": {
    "slideshow": {
     "slide_type": "subslide"
    }
   },
   "outputs": [],
   "source": [
    "class Vector {\n",
    "    double x; \n",
    "    double y;\n",
    "    \n",
    "    Vector(double x, double y) {\n",
    "        this.x = x; this.y = y;\n",
    "    }\n",
    "}"
   ]
  },
  {
   "cell_type": "code",
   "execution_count": 2,
   "metadata": {
    "slideshow": {
     "slide_type": "subslide"
    }
   },
   "outputs": [],
   "source": [
    "class Point { \n",
    "    double x;\n",
    "    double y;\n",
    "\n",
    "    Point(double x, double y) {\n",
    "        this.x = x; this.y = y;\n",
    "    }\n",
    "   \n",
    "    Point add(Vector v) { \n",
    "        return new Point(this.x + v.x, this.y + v.y);\n",
    "    }\n",
    "    \n",
    "    Vector minus(Point p2) {\n",
    "        return new Vector(this.x - p2.x, this.y - p2.y);\n",
    "    }\n",
    "}"
   ]
  },
  {
   "cell_type": "markdown",
   "metadata": {
    "slideshow": {
     "slide_type": "slide"
    }
   },
   "source": [
    "### Typsystem\n",
    "\n",
    "Typsystem hilft *Konzepte* auseinanderzuhalten.\n",
    "\n",
    "* Zwingt uns verschiedene Konzepte zu unterscheiden\n",
    "* Verhindert viele Fehler beim Programmieren\n",
    "\n",
    "Beispiel: \n",
    "\n",
    "* Punkt != Vektor"
   ]
  },
  {
   "cell_type": "markdown",
   "metadata": {
    "slideshow": {
     "slide_type": "slide"
    }
   },
   "source": [
    "### Beispiel: Punkte und Vektoren\n"
   ]
  },
  {
   "cell_type": "code",
   "execution_count": 6,
   "metadata": {},
   "outputs": [
    {
     "name": "stdout",
     "output_type": "stream",
     "text": [
      "Vector(3.0,2.0)\r\n"
     ]
    }
   ],
   "source": [
    "Point p1 = new Point(1.0, 2.0);\n",
    "Point p2 = new Point(4.0, 4.0);\n",
    "Vector v = p2.minus(p1);\n",
    "System.out.println(\"Vector(\" + v.x + \",\" + v.y + \")\");\n",
    "//Point p = p2.minus(p1); // nicht erlaubt\n",
    "//p1.minus(v); // nicht erlaubt"
   ]
  },
  {
   "cell_type": "markdown",
   "metadata": {
    "slideshow": {
     "slide_type": "slide"
    }
   },
   "source": [
    "### Hierarchien von Konzepten\n",
    "\n",
    "Manche Konzepte können hierarchisch angeordnet werden."
   ]
  },
  {
   "cell_type": "markdown",
   "metadata": {
    "slideshow": {
     "slide_type": "slide"
    }
   },
   "source": [
    "### Hierarchien von Konzepten: Biologie\n",
    "\n",
    "Manche Konzepte können hierarchisch angeordnet werden.\n",
    "\n",
    "* Beispiel aus der Biologie: Tiere, Hund, Katze, ...\n"
   ]
  },
  {
   "cell_type": "code",
   "execution_count": 9,
   "metadata": {
    "slideshow": {
     "slide_type": "subslide"
    }
   },
   "outputs": [
    {
     "name": "stdout",
     "output_type": "stream",
     "text": [
      "sleeping\n",
      "sleeping\n"
     ]
    }
   ],
   "source": [
    "class Animal {\n",
    "    void sleep() {\n",
    "        System.out.println(\"sleeping\");\n",
    "    }\n",
    "    void eating() {\n",
    "        System.out.println(\"eating\");\n",
    "    }\n",
    "}\n",
    "\n",
    "class Dog {\n",
    "    void sleep() {\n",
    "        System.out.println(\"sleeping\");\n",
    "    }\n",
    "    void eating() {\n",
    "        System.out.println(\"eating\");\n",
    "    }\n",
    "    void bark() {\n",
    "        System.out.println(\"wouff\");\n",
    "    }\n",
    "}\n",
    "\n",
    "// verwenden der Klassen\n",
    "Animal es = new Animal();\n",
    "es.sleep();\n",
    "Dog lessie = new Dog();\n",
    "lessie.sleep();"
   ]
  },
  {
   "cell_type": "markdown",
   "metadata": {
    "slideshow": {
     "slide_type": "slide"
    }
   },
   "source": [
    "### Hierarchien von Konzepten: Idee\n",
    "\n",
    "* Ein Hund ist ein Tier.\n",
    "* Zuweisung eines Hundes an eine Tier (genereller) soll möglich sein.\n",
    "* Eigenschaften von einem Tier sollen automatisch dem Hund zur Verfügung stehen.\n"
   ]
  },
  {
   "cell_type": "markdown",
   "metadata": {
    "slideshow": {
     "slide_type": "slide"
    }
   },
   "source": [
    "### Hierarchien von Konzepten: Zwei Klassen\n",
    "\n",
    "* ***Oberklasse*** (Basisklasse, Superklasse) ist genereller (Tier)\n",
    "* ***Unterklasse*** ist spezifischer (Hund)\n",
    "* Sprich:***erbt***, ***erweitert***, ***ist abgeleitet***\n",
    "* *Zuweisung an eine Variable vom Typ einer Oberklasse ist erlaubt.*\n",
    "![oberUnterKlasse](images/oberUnterKlasse.png)"
   ]
  },
  {
   "cell_type": "markdown",
   "metadata": {
    "slideshow": {
     "slide_type": "slide"
    }
   },
   "source": [
    "### Hierarchien von Konzepten: Beispiel Zuweisung\n",
    "\n",
    "![class hierarchy](images/class-hierarchy.png)"
   ]
  },
  {
   "cell_type": "code",
   "execution_count": 17,
   "metadata": {
    "slideshow": {
     "slide_type": "subslide"
    }
   },
   "outputs": [],
   "source": [
    "// definiere Variable vom Typ Integer\n",
    "Integer i; = new Integer(5);\n",
    "// definiere Variable vom Typ Double\n",
    "Double d = new Double(1.0);\n",
    "// Zuweisung der Variablen an eine neue Variable vom Typ Number\n",
    "Number n = i;\n",
    "\n",
    "// Integer b = n; // geht nicht\n"
   ]
  },
  {
   "cell_type": "code",
   "execution_count": 24,
   "metadata": {},
   "outputs": [
    {
     "name": "stdout",
     "output_type": "stream",
     "text": [
      "wouff\n",
      "sleeping\n",
      "sleeping\n"
     ]
    },
    {
     "ename": "CompilationException",
     "evalue": "",
     "output_type": "error",
     "traceback": [
      "\u001b[1m\u001b[30m|   \u001b[1m\u001b[30m\u001b[0m\u001b[1m\u001b[30m\u001b[41mes.bark\u001b[0m\u001b[1m\u001b[30m();\u001b[0m",
      "\u001b[1m\u001b[31mcannot find symbol\u001b[0m",
      "\u001b[1m\u001b[31m  symbol:   method bark()\u001b[0m",
      ""
     ]
    }
   ],
   "source": [
    "// adaptiere Dog Klasse welche von Animal erbt\n",
    "class Dog extends Animal {\n",
    "    void bark() {\n",
    "        System.out.println(\"wouff\");\n",
    "    }\n",
    "}\n",
    "\n",
    "Dog lessie = new Dog();\n",
    "lessie.bark();\n",
    "\n",
    "lessie.sleep();\n",
    "\n",
    "Animal es = lessie;\n",
    "es.sleep();\n",
    "\n",
    "// es.bark(); // geht nicht"
   ]
  },
  {
   "cell_type": "markdown",
   "metadata": {
    "slideshow": {
     "slide_type": "slide"
    }
   },
   "source": [
    "### Vererbung: Übersicht\n",
    "\n",
    "##### Interfaces\n",
    "* Garantiert, dass alle Subklassen dieselben Operationen implementieren\n",
    "\n",
    "##### Abstrakte Klassen\n",
    "* Klasse, welche Teile einer Implementation offenlässt\n",
    "* Subklassen implementieren diese\n",
    "\n",
    "##### Klassen\n",
    "* Klasse ist normale Klasse\n",
    "* Subklasse erweitert Konzept\n",
    "    \n"
   ]
  },
  {
   "cell_type": "markdown",
   "metadata": {
    "slideshow": {
     "slide_type": "slide"
    }
   },
   "source": [
    "### Interfaces"
   ]
  },
  {
   "cell_type": "markdown",
   "metadata": {},
   "source": [
    "Grundidee: Gemeinsame Methoden aller Klassen werden definiert (noch nicht implementiert)."
   ]
  },
  {
   "cell_type": "code",
   "execution_count": 26,
   "metadata": {},
   "outputs": [],
   "source": [
    "interface TurtleOps {\n",
    "    void forward(int distance);\n",
    "    void turnRight(double angle);\n",
    "    void printPos();\n",
    "    // ...\n",
    "}"
   ]
  },
  {
   "cell_type": "markdown",
   "metadata": {
    "slideshow": {
     "slide_type": "slide"
    }
   },
   "source": [
    "### Implementation 1"
   ]
  },
  {
   "cell_type": "code",
   "execution_count": 31,
   "metadata": {},
   "outputs": [],
   "source": [
    "class Turtle implements TurtleOps { \n",
    "    \n",
    "    private double xPos;\n",
    "    private double yPos;\n",
    "\n",
    "    private double direction = 0;\n",
    "    \n",
    "    public void printPos() {\n",
    "        System.out.println(\"(\" + xPos + \",\"  + yPos + \")\");\n",
    "    }\n",
    "\n",
    "    public void turnRight(double angle) {\n",
    "        this.direction += angle;\n",
    "    }\n",
    "    \n",
    "    public void forward(int distance) { \n",
    "        xPos += Math.cos(this.direction) * distance;\n",
    "        yPos += Math.sin(this.direction) * distance;\n",
    "    }\n",
    "}"
   ]
  },
  {
   "cell_type": "markdown",
   "metadata": {
    "slideshow": {
     "slide_type": "slide"
    }
   },
   "source": [
    "### Implementation 2"
   ]
  },
  {
   "cell_type": "code",
   "execution_count": 32,
   "metadata": {},
   "outputs": [],
   "source": [
    "class TurtleRandomWalker implements TurtleOps { \n",
    "    \n",
    "    private double xPos;\n",
    "    private double yPos;\n",
    "    private Random rng = new Random(42);\n",
    "    private double direction = 0;\n",
    "    \n",
    "    public void turnRight(double angle) {\n",
    "        this.direction += angle;\n",
    "    }\n",
    "    \n",
    "    public void forward(int distance) { \n",
    "        \n",
    "        xPos += Math.cos(rng.nextDouble() * 2 * Math.PI) * distance;\n",
    "        yPos += Math.sin(rng.nextDouble() * 2 * Math.PI) * distance;   \n",
    "    }\n",
    "    \n",
    "    public void printPos() {\n",
    "        System.out.println(\"(\" + xPos + \",\"  + yPos + \")\");\n",
    "    }\n",
    "    \n",
    "}"
   ]
  },
  {
   "cell_type": "markdown",
   "metadata": {
    "slideshow": {
     "slide_type": "slide"
    }
   },
   "source": [
    "### Interfaces als Datentyp\n",
    "\n",
    "* Interface kann als Datentyp benutzt werden. \n",
    "* Zuweisung von allen Klassen die Interface implementieren möglich"
   ]
  },
  {
   "cell_type": "code",
   "execution_count": 36,
   "metadata": {},
   "outputs": [
    {
     "name": "stdout",
     "output_type": "stream",
     "text": [
      "(2.0,0.0)\n",
      "(-0.28101019778295916,-1.8265289551890993)\n"
     ]
    }
   ],
   "source": [
    "// neue Variable vom Typ TurtleOps initialisiert mit Turtle\n",
    "TurtleOps t1 = new Turtle();\n",
    "// neue Variable vom Typ TurtleOps initialisiert mit TurtleRandomWalker\n",
    "TurtleOps t2 = new TurtleRandomWalker();\n",
    "t1.forward(2);\n",
    "t1.printPos();\n",
    "t2.forward(2);\n",
    "t2.printPos();\n",
    "// implmentieren einer Methode foo in einer der oberen Klassen\n",
    "// testen des Aufrufen der Methode foo über die Varible vom Typ TurtleOps"
   ]
  },
  {
   "cell_type": "code",
   "execution_count": 51,
   "metadata": {},
   "outputs": [
    {
     "name": "stdout",
     "output_type": "stream",
     "text": [
      "I like meat\n",
      "wouff\n",
      "miau\n"
     ]
    }
   ],
   "source": [
    "interface Animal {\n",
    "    public void makeNoise();\n",
    "}\n",
    "\n",
    "class Dog implements Animal {\n",
    "    public void makeNoise() {\n",
    "        System.out.println(\"wouff\");\n",
    "    }\n",
    "    \n",
    "    public void eat() {\n",
    "        System.out.println(\"I like meat\");\n",
    "    }\n",
    "}\n",
    "\n",
    "class Cat implements Animal {\n",
    "    public void makeNoise() {\n",
    "        System.out.println(\"miau\");\n",
    "    }\n",
    "}\n",
    "Dog someDog = new Dog();\n",
    "someDog.eat();\n",
    "Animal dogAsAnimal = new Dog();\n",
    "// dogAsAnimal.eat(); // nicht erlaubt, Animal hat kein eat()\n",
    "Animal cat = new Cat();\n",
    "dogAsAnimal.makeNoise();\n",
    "cat.makeNoise();"
   ]
  },
  {
   "cell_type": "markdown",
   "metadata": {
    "slideshow": {
     "slide_type": "slide"
    }
   },
   "source": [
    "### Interfaces als Datentyp"
   ]
  },
  {
   "cell_type": "markdown",
   "metadata": {},
   "source": [
    "Häufig bei Methodendeklarationen benutzt. \n",
    "\n",
    "* Abstrahiert konkrete Implementation."
   ]
  },
  {
   "cell_type": "code",
   "execution_count": 57,
   "metadata": {},
   "outputs": [
    {
     "name": "stdout",
     "output_type": "stream",
     "text": [
      "(0.0,0.0)\n",
      "(1.0,0.0)\n",
      "(3.0,0.0)\n",
      "(0.0,0.0)\n",
      "(-0.3606318298097475,0.9855612120925829)\n",
      "(-1.3727709331432951,-0.15546416189023116)\n",
      "\n",
      "(3.0,0.0)\n",
      "(4.0,0.0)\n",
      "(6.0,0.0)\n",
      "(9.0,0.0)\n",
      "(-1.3727709331432951,-0.15546416189023116)\n",
      "(-2.3468073393969684,-1.1341719263294987)\n",
      "(-0.598279131996585,-0.35710592384047457)\n",
      "(-0.6000475735660974,1.6045794411942227)\n"
     ]
    }
   ],
   "source": [
    "// interface TurtleOps\n",
    "// Klasse Turtle\n",
    "// Klasse TurtleRandomWalker\n",
    "\n",
    "void animateTurtle(TurtleOps turtle, int numSteps) {\n",
    "    for (int i = 0; i < numSteps; i += 1) {\n",
    "        turtle.forward(i);\n",
    "        turtle.printPos();\n",
    "    }\n",
    "}\n",
    "// Aufruf der Methode animateTurtle mit einer neuen Instanz einer implmentierenden Klasse\n",
    "Turtle turtle = new Turtle();\n",
    "TurtleRandomWalker random = new TurtleRandomWalker();\n",
    "\n",
    "animateTurtle(turtle, 3);\n",
    "animateTurtle(random, 3);\n",
    "\n",
    "\n",
    "System.out.println();\n",
    "\n",
    "TurtleOps[] turtles = new TurtleOps[2];\n",
    "turtles[0] = turtle;\n",
    "turtles[1] = random;\n",
    "for (int i = 0; i<turtles.length; i++) {\n",
    "    animateTurtle(turtles[i],4);\n",
    "}"
   ]
  },
  {
   "cell_type": "markdown",
   "metadata": {
    "slideshow": {
     "slide_type": "slide"
    }
   },
   "source": [
    "### Abstrakte Klassen"
   ]
  },
  {
   "cell_type": "markdown",
   "metadata": {},
   "source": [
    "Einsatz: Klasse kann bis auf wenige Stellen implementiert werden\n",
    "* Subklassen vervollständigen Implementation"
   ]
  },
  {
   "cell_type": "code",
   "execution_count": 74,
   "metadata": {
    "slideshow": {
     "slide_type": "slide"
    }
   },
   "outputs": [],
   "source": [
    "abstract class TurtleLike {\n",
    "\n",
    "    double xPos;\n",
    "    double yPos;\n",
    "    double direction;\n",
    "    Random rng = new Random(42);\n",
    "    \n",
    "    abstract public void forward(int distance);\n",
    "    \n",
    "    public void turnRight(double angle) { \n",
    "        this.direction += angle;\n",
    "    }\n",
    "    \n",
    "    public void printPos() {\n",
    "        System.out.println(\"(\" + xPos + \",\"  + yPos + \")\");\n",
    "    }\n",
    "}"
   ]
  },
  {
   "cell_type": "markdown",
   "metadata": {
    "slideshow": {
     "slide_type": "slide"
    }
   },
   "source": [
    "### Konkrete Implementationen"
   ]
  },
  {
   "cell_type": "code",
   "execution_count": 70,
   "metadata": {},
   "outputs": [],
   "source": [
    "class Turtle extends TurtleLike {\n",
    "\n",
    "     public void forward(int distance) { \n",
    "        xPos += Math.cos(this.direction) * distance;\n",
    "        yPos += Math.sin(this.direction) * distance;   \n",
    "     }\n",
    "}"
   ]
  },
  {
   "cell_type": "code",
   "execution_count": 72,
   "metadata": {},
   "outputs": [
    {
     "ename": "CompilationException",
     "evalue": "",
     "output_type": "error",
     "traceback": [
      "\u001b[1m\u001b[30m|   \u001b[1m\u001b[30m\u001b[0m\u001b[1m\u001b[30m\u001b[41mclass TurtleRandomWalker extends TurtleLike {\u001b[0m",
      "\u001b[1m\u001b[30m|   \u001b[1m\u001b[30m\u001b[41m     \u001b[0m",
      "\u001b[1m\u001b[30m|   \u001b[1m\u001b[30m\u001b[41m     \u001b[0m",
      "\u001b[1m\u001b[30m|   \u001b[1m\u001b[30m\u001b[41m}\u001b[0m",
      "\u001b[1m\u001b[31mTurtleRandomWalker is not abstract and does not override abstract method forward(int) in TurtleLike\u001b[0m",
      ""
     ]
    }
   ],
   "source": [
    "class TurtleRandomWalker extends TurtleLike {\n",
    "     \n",
    "     public void forward(int distance) {\n",
    "        xPos += Math.cos(rng.nextDouble() * 2 * Math.PI) * distance;\n",
    "        yPos += Math.sin(rng.nextDouble() * 2 * Math.PI) * distance;   \n",
    "    }\n",
    "}"
   ]
  },
  {
   "cell_type": "markdown",
   "metadata": {
    "slideshow": {
     "slide_type": "slide"
    }
   },
   "source": [
    "### Verwendung als Datentyp\n",
    "\n",
    "* Abstrakte Klasse kann als Datentyp verwendet werden\n",
    "* Zuweisung von allen Unterklassen möglich"
   ]
  },
  {
   "cell_type": "code",
   "execution_count": 71,
   "metadata": {},
   "outputs": [
    {
     "name": "stdout",
     "output_type": "stream",
     "text": [
      "(0.0,0.0)\n",
      "(10.0,0.0)\n"
     ]
    }
   ],
   "source": [
    "// neue TurtleLike Variable mit Turtle Instanz\n",
    "TurtleLike turtle = new Turtle();\n",
    "turtle.printPos();\n",
    "turtle.forward(10);\n",
    "turtle.printPos();\n",
    "// aufrufen von forward und print"
   ]
  },
  {
   "cell_type": "markdown",
   "metadata": {
    "slideshow": {
     "slide_type": "slide"
    }
   },
   "source": [
    "### Vererbung von Klassen"
   ]
  },
  {
   "cell_type": "markdown",
   "metadata": {},
   "source": [
    "Einsatz:\n",
    "- **Erweiterung** einer Klasse mit zusätzlicher Funktionalität\n",
    "- **Überschreiben** der Funktionalität einer Klasse"
   ]
  },
  {
   "cell_type": "code",
   "execution_count": 75,
   "metadata": {},
   "outputs": [],
   "source": [
    "class Turtle {\n",
    "\n",
    "    double xPos;\n",
    "    double yPos;\n",
    "    double direction;\n",
    "\n",
    "    public void forward(int distance) { \n",
    "        System.out.println(\"forward in turtle\");\n",
    "        xPos += Math.cos(this.direction) * distance;\n",
    "        yPos += Math.sin(this.direction) * distance;   \n",
    "    }\n",
    "    \n",
    "    public void turnRight(double angle) { \n",
    "        this.direction += angle;\n",
    "    }\n",
    "    \n",
    "    public void printPos() {\n",
    "        System.out.println(\"(\" + xPos + \",\"  + yPos + \")\");\n",
    "    }\n",
    "}"
   ]
  },
  {
   "cell_type": "markdown",
   "metadata": {
    "slideshow": {
     "slide_type": "slide"
    }
   },
   "source": [
    "### Erweiterung"
   ]
  },
  {
   "cell_type": "code",
   "execution_count": 76,
   "metadata": {},
   "outputs": [],
   "source": [
    "class TurtleWithColor extends Turtle {\n",
    "\n",
    "    java.awt.Color color = java.awt.Color.BLACK;\n",
    "    \n",
    "    void setPenColor(java.awt.Color color) {\n",
    "        this.color = color;\n",
    "    }\n",
    "}"
   ]
  },
  {
   "cell_type": "code",
   "execution_count": 83,
   "metadata": {},
   "outputs": [
    {
     "name": "stdout",
     "output_type": "stream",
     "text": [
      "java.awt.Color[r=0,g=0,b=0]\n",
      "java.awt.Color[r=0,g=0,b=255]\n",
      "forward in turtle\n"
     ]
    }
   ],
   "source": [
    "// erstellen einer TurtleWithColor\n",
    "TurtleWithColor twc = new TurtleWithColor();\n",
    "System.out.println(twc.color);\n",
    "// Farbe setzen auf java.awt.Color.BLUE\n",
    "twc.color = java.awt.Color.BLUE;\n",
    "System.out.println(twc.color);\n",
    "// forwärts laufen\n",
    "twc.forward(10);\n",
    "\n",
    "Turtle turtle = twc;\n",
    "// System.out.println(turtle.color); // normale turtle hat keine Farbe"
   ]
  },
  {
   "cell_type": "markdown",
   "metadata": {
    "slideshow": {
     "slide_type": "slide"
    }
   },
   "source": [
    "### Überschreiben von Methoden\n",
    "\n",
    "* Subklassen können Verhalten von Methoden durch *Überschreiben* ändern.\n",
    "* **@Override** hilft um Fehler zu vermeiden, ist nicht nötig aber empfehlenswert."
   ]
  },
  {
   "cell_type": "code",
   "execution_count": 89,
   "metadata": {},
   "outputs": [],
   "source": [
    "class LazyTurtle extends Turtle {\n",
    "\n",
    "    @Override\n",
    "    public void forward(int distance) { \n",
    "        System.out.println(\"Ich laufe langsam\");\n",
    "        xPos += Math.cos(this.direction) * distance  / 4;\n",
    "        yPos += Math.sin(this.direction) * distance  / 4;   \n",
    "    }\n",
    "    \n",
    "}"
   ]
  },
  {
   "cell_type": "code",
   "execution_count": 94,
   "metadata": {},
   "outputs": [
    {
     "name": "stdout",
     "output_type": "stream",
     "text": [
      "Ich laufe langsam\n",
      "Ich laufe langsam\n"
     ]
    }
   ],
   "source": [
    "// erstellen von LazyTurtle und nutzen der Turtle\n",
    "LazyTurtle lt = new LazyTurtle();\n",
    "lt.forward(3);\n",
    "Turtle turtle = lt;\n",
    "turtle.forward(3);"
   ]
  },
  {
   "cell_type": "markdown",
   "metadata": {
    "slideshow": {
     "slide_type": "slide"
    }
   },
   "source": [
    "### Nutzen der Superklassenimplementation"
   ]
  },
  {
   "cell_type": "markdown",
   "metadata": {},
   "source": [
    "Das Keyword ```super``` erlaubt es auf die Superklassenimplementation zuzugreifen."
   ]
  },
  {
   "cell_type": "code",
   "execution_count": 95,
   "metadata": {},
   "outputs": [],
   "source": [
    "class EagerTurtle extends Turtle {\n",
    "\n",
    "    @Override\n",
    "     public void forward(int distance) { \n",
    "        System.out.println(\"Ich laufe doppelt so schnell\");\n",
    "        super.forward(distance);\n",
    "        super.forward(distance);\n",
    "    }   \n",
    "}"
   ]
  },
  {
   "cell_type": "code",
   "execution_count": 98,
   "metadata": {},
   "outputs": [
    {
     "name": "stdout",
     "output_type": "stream",
     "text": [
      "Ich laufe doppelt so schnell\n",
      "forward in turtle\n",
      "forward in turtle\n",
      "Ich laufe doppelt so schnell\n",
      "forward in turtle\n",
      "forward in turtle\n"
     ]
    }
   ],
   "source": [
    "// erstellen von EagerTurtle und nutzen der Turtle\n",
    "EagerTurtle et = new EagerTurtle();\n",
    "et.forward(3);\n",
    "Turtle turtle = et;\n",
    "turtle.forward(3);"
   ]
  },
  {
   "cell_type": "markdown",
   "metadata": {},
   "source": [
    "### Konstruktor der Oberklasse"
   ]
  },
  {
   "cell_type": "code",
   "execution_count": null,
   "metadata": {},
   "outputs": [],
   "source": [
    "class O {\n",
    "    O() {\n",
    "        System.out.println(\"Konstruktor der Oberklasse\");\n",
    "    }\n",
    "}\n",
    "\n",
    "class A extends O {\n",
    "    A() {\n",
    "        super();\n",
    "        System.out.println(\"Konstruktor der abgeleiteten Klasse\");\n",
    "    }\n",
    "}"
   ]
  },
  {
   "cell_type": "markdown",
   "metadata": {},
   "source": [
    "### Übersicht\n",
    "\n",
    "* Interface, **interface**, **implements**\n",
    "* Abstrakte Klassen, **abstract**\n",
    "* Ableiten einer Klasse, **extends**\n",
    "* **@Override**\n",
    "* **super**, **super()**"
   ]
  },
  {
   "cell_type": "markdown",
   "metadata": {},
   "source": [
    "### Mini Übung\n",
    "\n",
    "* Erstelle ein Interface **Plant** mit zwei Methoden **grow** und **distributeSeeds**.\n",
    "* Erstelle eine Abstrakte Klasse **Tree** welche vom Interface erbt und die Methode **grow** implementiert (etwas auf die Konsole schreibt).\n",
    "* Erstelle eine Baum-Klasse **Oak** welche von der Abstrakten Klasse erbt und die **distributeSeeds** Methode implementiert.\n",
    "* Erstelle eine Blumen-Klasse **Roses** welche direkt vom Interface erbt und beide Methoden implementiert. Zusätzlich soll die Klasse noch eine Methode **prickSleepingBeauty** definieren.\n",
    "* Leite die Klasse **RoseTendrils** von **Roses** ab und überschreibe die Methode **grow**.\n",
    "* Von welchen Typen kann man Objekte erzeugen?\n",
    "* Objekte von welchem Typ können Variablen von welchem Typ zugeordnet werden?\n",
    "* Welche Methoden können auf welchen Variablen aufgerufen werden?\n",
    "* Was kann alles in einem Array von **Plant** gespeichert werden?"
   ]
  },
  {
   "cell_type": "code",
   "execution_count": 5,
   "metadata": {},
   "outputs": [
    {
     "ename": "CompilationException",
     "evalue": "",
     "output_type": "error",
     "traceback": [
      "\u001b[1m\u001b[30m|   \u001b[1m\u001b[30mA a = \u001b[0m\u001b[1m\u001b[30m\u001b[41mnew A()\u001b[0m\u001b[1m\u001b[30m;\u001b[0m",
      "\u001b[1m\u001b[31mA is abstract; cannot be instantiated\u001b[0m",
      ""
     ]
    }
   ],
   "source": [
    "abstract class A {\n",
    "   void f() {\n",
    "       System.out.println(\"something\");\n",
    "   };\n",
    "}\n",
    "\n",
    "// A a = new A(); // nicht erlaubt"
   ]
  },
  {
   "cell_type": "code",
   "execution_count": 7,
   "metadata": {},
   "outputs": [],
   "source": [
    "\n",
    "\n",
    "\n",
    "interface Plant {\n",
    "    public void grow();\n",
    "    public void distributeSeeds();\n",
    "}\n",
    "\n",
    "class Roses implements Plant {\n",
    "    public void grow() {\n",
    "        System.out.println(\"growing beauty\");\n",
    "    }\n",
    "    public void distributeSeeds() {\n",
    "        System.out.println(\"spreaded by wind\");\n",
    "    }\n",
    "    public void prickSleepingBeauty() {\n",
    "        System.out.println(\"sleep 100 years\");\n",
    "    }\n",
    "}\n",
    "\n",
    "class RoseTendrils extends Roses {\n",
    "    @Override\n",
    "    public void grow() {\n",
    "        System.out.println(\"grow\\ngrow\\ngrow\\ngrow\\ngrow\\ngrow\");\n",
    "    }\n",
    "}\n",
    "\n",
    "abstract class Tree implements Plant {\n",
    "    public void grow() {\n",
    "        System.out.println(\"Growing steadily...\");\n",
    "    }\n",
    "}\n",
    "\n",
    "\n",
    "class Oak extends Tree {\n",
    "    public void distributeSeeds() {\n",
    "        System.out.println(\"The squirrel buries the acorns!\");\n",
    "    }\n",
    "}\n"
   ]
  },
  {
   "cell_type": "code",
   "execution_count": 9,
   "metadata": {},
   "outputs": [
    {
     "data": {
      "text/plain": [
       "3"
      ]
     },
     "execution_count": 9,
     "metadata": {},
     "output_type": "execute_result"
    }
   ],
   "source": [
    "Plant[] p = {new Oak(), new Roses(), new Oak()};\n",
    "int[] j = { 1, 2, 3};\n",
    "int[] i = new int[3];\n",
    "i[0] = 1;\n",
    "i[1] = 2;\n",
    "i[2] = 3;"
   ]
  },
  {
   "cell_type": "code",
   "execution_count": 140,
   "metadata": {},
   "outputs": [],
   "source": [
    "// Objekte kann man von Klassen erzeugen, welche nicht abstrakt sind.\n",
    "// Plant p = new Plant(); // von Plant kann Objekt erstellt werden, ein Interface ist keine Klasse\n",
    "// Tree t = new Tree(); // Die Tree Klasse ist abstrakt, Sie besitzt nicht für alle Methoden eine Implementation\n",
    "Oak o = new Oak();\n",
    "Roses r = new Roses();\n",
    "RoseTendrils rt = new RoseTendrils();"
   ]
  },
  {
   "cell_type": "code",
   "execution_count": 141,
   "metadata": {},
   "outputs": [],
   "source": [
    "Oak o = new Oak();\n",
    "Roses r = new Roses();\n",
    "RoseTendrils rt = new RoseTendrils();\n",
    "// ein paar mögliche Zuweisungen\n",
    "Plant p = o;\n",
    "p = rt;\n",
    "p = r;\n",
    "Tree t = o;\n",
    "// t = r; // Roses ist keine Unterklasse von Tree\n",
    "// o = r; // Roses ist keine Unterklasse von Oak\n",
    "r = rt;\n",
    "// r = o; // Oak ist keine Unterklasse von Roses\n",
    "// rt = o; // RoseTendrills ist keine Oberklasse von Oak\n",
    "// rt = r; // Roses ist nicht die Unter-, sondern Oberklasse von RoseTendrils\n"
   ]
  },
  {
   "cell_type": "code",
   "execution_count": 143,
   "metadata": {},
   "outputs": [
    {
     "name": "stdout",
     "output_type": "stream",
     "text": [
      "Growing steadily...\n",
      "The squirrel buries the acorns!\n",
      "growing beauty\n",
      "spreaded by wind\n",
      "grow\n",
      "grow\n",
      "grow\n",
      "grow\n",
      "grow\n",
      "grow\n",
      "spreaded by wind\n"
     ]
    }
   ],
   "source": [
    "Oak o = new Oak();\n",
    "Roses r = new Roses();\n",
    "RoseTendrils rt = new RoseTendrils();\n",
    "\n",
    "// ein paar mögliche Methodenaufrufe\n",
    "o.grow();\n",
    "o.distributeSeeds();\n",
    "r.grow();\n",
    "r.distributeSeeds();\n",
    "rt.grow();\n",
    "rt.distributeSeeds();\n",
    "\n",
    "// alle Methodenaufrufe funktionieren auch mit den Oberklassen Tree und Plant\n",
    "// wenn Sie eine zusätzliche Methode in Oak, Roses oder RoseTendrills definiere, könnten Sie diese nicht über deren Oberklasse aufrufen."
   ]
  },
  {
   "cell_type": "code",
   "execution_count": 145,
   "metadata": {},
   "outputs": [
    {
     "data": {
      "text/plain": [
       "REPL.$JShell$152G$RoseTendrils@78f1a660"
      ]
     },
     "execution_count": 145,
     "metadata": {},
     "output_type": "execute_result"
    }
   ],
   "source": [
    "Plant[] plantsOfMyGarden = new Plant[3];\n",
    "plantsOfMyGarden[0] = o;\n",
    "plantsOfMyGarden[0] = r;\n",
    "plantsOfMyGarden[0] = rt;"
   ]
  }
 ],
 "metadata": {
  "celltoolbar": "Slideshow",
  "kernelspec": {
   "display_name": "Java",
   "language": "java",
   "name": "java"
  },
  "language_info": {
   "codemirror_mode": "java",
   "file_extension": ".jshell",
   "mimetype": "text/x-java-source",
   "name": "Java",
   "pygments_lexer": "java",
   "version": "16.0.1+9"
  },
  "rise": {}
 },
 "nbformat": 4,
 "nbformat_minor": 2
}
