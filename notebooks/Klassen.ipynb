{
 "cells": [
  {
   "cell_type": "markdown",
   "metadata": {
    "slideshow": {
     "slide_type": "slide"
    }
   },
   "source": [
    "# Klassen\n",
    "\n",
    "#### Marcel Lüthi, Departement Mathematik und Informatik, Universität Basel"
   ]
  },
  {
   "cell_type": "markdown",
   "metadata": {
    "slideshow": {
     "slide_type": "slide"
    }
   },
   "source": [
    "### Motivation\n",
    "\n",
    "Wie würde man ein Datum speichern (z.B. 11. Oktober 2024)?\n",
    "\n",
    "3 Variablen:\n",
    "\n",
    "```\n",
    "int day; \n",
    "String month;\n",
    "int year; \n",
    "```"
   ]
  },
  {
   "cell_type": "markdown",
   "metadata": {
    "slideshow": {
     "slide_type": "fragment"
    }
   },
   "source": [
    "Unbequem, wenn man mehrere Exemplare braucht\n",
    "\n",
    "```\n",
    "int day1; \n",
    "String month1;\n",
    "int year1;\n",
    "int day2; \n",
    "String month2;\n",
    "int year2;\n",
    "...\n",
    "```\n"
   ]
  },
  {
   "cell_type": "markdown",
   "metadata": {
    "slideshow": {
     "slide_type": "slide"
    }
   },
   "source": [
    "### Idee\n",
    "\n",
    "\n",
    "Wir definieren uns eigenen Datentyp, der Variaben zusammenfasst."
   ]
  },
  {
   "cell_type": "markdown",
   "metadata": {
    "slideshow": {
     "slide_type": "slide"
    }
   },
   "source": [
    "### Eigene Datentypen\n",
    "\n",
    "> Speicherung verschiedenartiger Werte unter einem gemeinsamen Namen \n",
    "\n",
    "##### Deklaration\n",
    "\n",
    "```\n",
    "class Date {\n",
    "    int day;\n",
    "    String month;\n",
    "    int year;\n",
    "}\n",
    "```"
   ]
  },
  {
   "cell_type": "markdown",
   "metadata": {
    "slideshow": {
     "slide_type": "fragment"
    }
   },
   "source": [
    "##### Verwendung als Typ\n",
    "\n",
    "```\n",
    "Date mydate;\n",
    "```"
   ]
  },
  {
   "cell_type": "markdown",
   "metadata": {
    "slideshow": {
     "slide_type": "fragment"
    }
   },
   "source": [
    "##### Zugriff\n",
    "\n",
    "```\n",
    "mydate.day = 13;\n",
    "mydate.month = \"November\";\n",
    "mydate.year = 2002;\n",
    "```"
   ]
  },
  {
   "cell_type": "markdown",
   "metadata": {
    "slideshow": {
     "slide_type": "slide"
    }
   },
   "source": [
    "### Objekte\n",
    "\n",
    "> Objekte einer Klasse müssen vor ihrer ersten Benutzung erzeugt werden. \n",
    "\n",
    "Klassen sind Referenzdatentypen: Deklaration reserviert nur Speicher für die Referenzvariablen\n",
    "```\n",
    "Date mydate;\n",
    "```\n",
    "\n",
    "Erzeugung des Objekts und Referenz (Adresse) zuweisen\n",
    "```\n",
    "mydate = new Date();\n",
    "```"
   ]
  },
  {
   "cell_type": "markdown",
   "metadata": {
    "slideshow": {
     "slide_type": "slide"
    }
   },
   "source": [
    "### Objekte\n",
    "\n",
    "Wir können beliebig viele Objekte einer Klasse erzeugen. "
   ]
  },
  {
   "cell_type": "code",
   "execution_count": 12,
   "metadata": {},
   "outputs": [],
   "source": [
    "class Date {\n",
    "    int day;\n",
    "    String month;\n",
    "    int year;\n",
    "}\n",
    "\n",
    "// Definiere Objekte hier"
   ]
  },
  {
   "cell_type": "markdown",
   "metadata": {
    "slideshow": {
     "slide_type": "slide"
    }
   },
   "source": [
    "### Zuweisungen\n",
    "\n",
    "Nur gleiche Typen dürfen zugewiesen werden:"
   ]
  },
  {
   "cell_type": "code",
   "execution_count": 13,
   "metadata": {
    "slideshow": {
     "slide_type": "fragment"
    }
   },
   "outputs": [],
   "source": [
    "class Address {\n",
    "    String streetname;\n",
    "    int number;\n",
    "}\n",
    "\n",
    "Date d1 = new Date();\n",
    "Address a1 = new Address();\n",
    "\n",
    "// Experiment mit Zuweisung"
   ]
  },
  {
   "cell_type": "markdown",
   "metadata": {
    "slideshow": {
     "slide_type": "slide"
    }
   },
   "source": [
    "### Vergleiche\n",
    "\n",
    "##### Vergleiche der Objektreferenz\n",
    "\n",
    "```x == y ```\n",
    "\n",
    "```x != y ```\n",
    "\n",
    "\n",
    "##### Wertevergleich\n",
    "\n",
    "Muss mittels Vergleichsmethode selbst implementiert werden\n",
    " ```\n",
    " static boolean equalDate(Date x, Date y) {\n",
    "     return x.day == y.day && x.month.equals(y.month) && x.year == y.year;\n",
    "}\n",
    "```\n"
   ]
  },
  {
   "cell_type": "markdown",
   "metadata": {
    "slideshow": {
     "slide_type": "slide"
    }
   },
   "source": [
    "### Deklaration von Klassen\n",
    "\n",
    "> Deklaration auf äusserster Ebene eines Programms (einer Datei)\n",
    "\n",
    "```java\n",
    "class C1 {\n",
    "    ...\n",
    "}\n",
    "```\n",
    "\n",
    "```java\n",
    "class C2 {\n",
    "    ...\n",
    "}\n",
    "```\n",
    "\n",
    "```java\n",
    "class MainProgram {\n",
    "    public static void main(String[] args) {\n",
    "         ...\n",
    "    }\n",
    "}\n",
    "```"
   ]
  },
  {
   "cell_type": "markdown",
   "metadata": {
    "slideshow": {
     "slide_type": "slide"
    }
   },
   "source": [
    "### Beispiel: Repräsentation eines Polygons\n",
    "\n",
    "Polygon\n",
    "![poly-1](images/poly-1.png)\n"
   ]
  },
  {
   "cell_type": "code",
   "execution_count": 5,
   "metadata": {
    "slideshow": {
     "slide_type": "fragment"
    }
   },
   "outputs": [],
   "source": [
    "class Point { \n",
    "    int x;\n",
    "    int y; \n",
    "} \n",
    "\n",
    "class Polygon { Point[] points; }"
   ]
  },
  {
   "cell_type": "markdown",
   "metadata": {
    "slideshow": {
     "slide_type": "slide"
    }
   },
   "source": [
    "### Beispiel: Repräsentation eines Polygons\n",
    "\n",
    "\n",
    "![poly-1](images/poly-2.png)\n"
   ]
  },
  {
   "cell_type": "code",
   "execution_count": 14,
   "metadata": {
    "slideshow": {
     "slide_type": "-"
    }
   },
   "outputs": [],
   "source": [
    "// Definiere Polygon hier"
   ]
  },
  {
   "cell_type": "markdown",
   "metadata": {
    "slideshow": {
     "slide_type": "slide"
    }
   },
   "source": [
    "### Miniübung\n",
    "\n",
    "* Schreiben Sie eine Klasse ```Rectangle```, welche ein Rechteck repräsentiert\n",
    "* Schreiben Sie eine Methode ```intersection```, welche zwei Rechtecke als Argumente nimmt und das Schnittrechteck zurückgibt.\n",
    "* Schreiben Sie eine Methode ```convert``` welche eine Anzahl Sekunden ```s``` vom Typ ```int``` entgegennimmt und diese in Stunden, Minuten und Sekunden umwandelt. Das Resultat soll dem Aufrufer zurückgegeben werden. "
   ]
  },
  {
   "cell_type": "code",
   "execution_count": null,
   "metadata": {},
   "outputs": [],
   "source": []
  }
 ],
 "metadata": {
  "celltoolbar": "Slideshow",
  "kernelspec": {
   "display_name": "Java",
   "language": "java",
   "name": "java"
  },
  "language_info": {
   "codemirror_mode": "java",
   "file_extension": ".java",
   "mimetype": "text/x-java-source",
   "name": "Java",
   "pygments_lexer": "java",
   "version": "11.0.4+11"
  },
  "rise": {}
 },
 "nbformat": 4,
 "nbformat_minor": 2
}
