{
 "cells": [
  {
   "cell_type": "markdown",
   "metadata": {},
   "source": [
    "### Google Colab Integration\n",
    "\n",
    "Die folgende Zelle können Sie überspringen, wenn Sie mit einer lokalen Installation arbeiten. Wenn Sie das Notebook auf Google-Colab ausführen, dann müssen Sie als erstes diese Zelle ausführen und danach die Seite neu laden (F5)."
   ]
  },
  {
   "cell_type": "code",
   "execution_count": null,
   "metadata": {
    "slideshow": {
     "slide_type": "skip"
    }
   },
   "outputs": [],
   "source": [
    "!echo \"Update environment...\"\n",
    "!apt update -q  &> /dev/null\n",
    "!echo \"Install Java...\"\n",
    "!apt-get install -q openjdk-11-jdk-headless &> /dev/null\n",
    "!echo \"Install Jupyter java kernel...\"\n",
    "!curl -L https://github.com/SpencerPark/IJava/releases/download/v1.3.0/ijava-1.3.0.zip -o ijava-kernel.zip &> /dev/null\n",
    "!unzip -q ijava-kernel.zip -d ijava-kernel && cd ijava-kernel && python3 install.py --sys-prefix &> /dev/null\n",
    "!echo \"Downloading turtle jar ...\"\n",
    "!curl -L https://github.com/Andreas-Forster/gyminf-programmieren/raw/master/notebooks/jturtle-0.6.jar -o jturtle-0.6.jar &> /dev/null\n",
    "!echo \"Done.\""
   ]
  },
  {
   "cell_type": "markdown",
   "metadata": {
    "slideshow": {
     "slide_type": "slide"
    }
   },
   "source": [
    "# Klassen\n",
    "\n",
    "#### Andreas Morel-Forster, Departement Mathematik und Informatik, Universität Basel"
   ]
  },
  {
   "cell_type": "markdown",
   "metadata": {
    "slideshow": {
     "slide_type": "slide"
    }
   },
   "source": [
    "### Motivation\n",
    "\n",
    "Wie würde man ein Datum speichern (z.B. 11. Oktober 2024)?"
   ]
  },
  {
   "cell_type": "markdown",
   "metadata": {
    "slideshow": {
     "slide_type": "fragment"
    }
   },
   "source": [
    "3 Variablen:\n",
    "\n",
    "```\n",
    "int day; \n",
    "String month;\n",
    "int year; \n",
    "```"
   ]
  },
  {
   "cell_type": "markdown",
   "metadata": {
    "slideshow": {
     "slide_type": "fragment"
    }
   },
   "source": [
    "Unbequem, wenn man mehrere Exemplare braucht\n",
    "\n",
    "```\n",
    "int day1; \n",
    "String month1;\n",
    "int year1;\n",
    "int day2; \n",
    "String month2;\n",
    "int year2;\n",
    "...\n",
    "```\n"
   ]
  },
  {
   "cell_type": "markdown",
   "metadata": {
    "slideshow": {
     "slide_type": "slide"
    }
   },
   "source": [
    "### Idee\n",
    "\n",
    "\n",
    "Wir definieren uns eigenen Datentyp, der Variablen zusammenfasst."
   ]
  },
  {
   "cell_type": "markdown",
   "metadata": {
    "slideshow": {
     "slide_type": "slide"
    }
   },
   "source": [
    "### Eigene Datentypen\n",
    "\n",
    "> Speicherung verschiedenartiger Werte unter einem gemeinsamen Namen \n",
    "\n",
    "##### Deklaration\n",
    "\n",
    "```\n",
    "class Date {\n",
    "    int day;\n",
    "    String month;\n",
    "    int year;\n",
    "}\n",
    "```"
   ]
  },
  {
   "cell_type": "markdown",
   "metadata": {
    "slideshow": {
     "slide_type": "fragment"
    }
   },
   "source": [
    "##### Verwendung als Typ\n",
    "\n",
    "```\n",
    "Date mydate;\n",
    "```"
   ]
  },
  {
   "cell_type": "markdown",
   "metadata": {
    "slideshow": {
     "slide_type": "slide"
    }
   },
   "source": [
    "##### Zugriff\n",
    "\n",
    "```\n",
    "mydate.day = 13;\n",
    "mydate.month = \"November\";\n",
    "mydate.year = 2002;\n",
    "```"
   ]
  },
  {
   "cell_type": "markdown",
   "metadata": {
    "slideshow": {
     "slide_type": "slide"
    }
   },
   "source": [
    "### Objekte\n",
    "\n",
    "> Objekte einer Klasse müssen vor ihrer ersten Benutzung erzeugt werden. \n",
    "\n",
    "Klassen sind Referenzdatentypen: Deklaration reserviert nur Speicher für die Referenzvariablen\n",
    "```\n",
    "Date mydate;\n",
    "```\n",
    "\n",
    "Erzeugung des Objekts und Referenz (Adresse) zuweisen\n",
    "```\n",
    "mydate = new Date();\n",
    "```"
   ]
  },
  {
   "cell_type": "markdown",
   "metadata": {
    "slideshow": {
     "slide_type": "slide"
    }
   },
   "source": [
    "### Objekte\n",
    "\n",
    "Wir können beliebig viele Objekte einer Klasse erzeugen. "
   ]
  },
  {
   "cell_type": "code",
   "execution_count": 22,
   "metadata": {},
   "outputs": [
    {
     "name": "stdout",
     "output_type": "stream",
     "text": [
      "null\n",
      "0\n",
      "REPL.$JShell$12$Date@1638d8ba\n",
      "Februar\n",
      "0\n",
      "8. Februar 2021\n",
      "0. A month 0\n"
     ]
    }
   ],
   "source": [
    "// Klasse Datum definieren\n",
    "class Date {\n",
    "    int day;\n",
    "    String month;\n",
    "    int year;\n",
    "}\n",
    "Date mydate;\n",
    "int[] x;\n",
    "System.out.println(mydate);\n",
    "// erzeugen eines Objektes, und zuweisen von Werten\n",
    "mydate = new Date();\n",
    "x = new int[8];\n",
    "System.out.println(x[1]);\n",
    "System.out.println(mydate);\n",
    "mydate.day = 8;\n",
    "mydate.month = \"Februar\";\n",
    "mydate.year = 2021;\n",
    "System.out.println(mydate.month);\n",
    "// erzeugen eines zweiten Objektes, und zuweisen von Werten\n",
    "Date yourdate = new Date();\n",
    "System.out.println(yourdate.year);\n",
    "// pretty print Funktion\n",
    "void print(Date something) {\n",
    "    System.out.println(something.day+\". \"+something.month+\" \"+something.year);\n",
    "}\n",
    "// ausgabe der Daten\n",
    "print(mydate);\n",
    "yourdate.month = \"A month\"; // ohne diese Anweisung wird für den Monat \"null\" ausgegeben, weshalb?\n",
    "print(yourdate);"
   ]
  },
  {
   "cell_type": "markdown",
   "metadata": {
    "slideshow": {
     "slide_type": "slide"
    }
   },
   "source": [
    "### Zuweisungen\n",
    "\n",
    "Nur gleiche Typen dürfen zugewiesen werden:"
   ]
  },
  {
   "cell_type": "code",
   "execution_count": 21,
   "metadata": {
    "slideshow": {
     "slide_type": "fragment"
    }
   },
   "outputs": [
    {
     "ename": "CompilationException",
     "evalue": "",
     "output_type": "error",
     "traceback": [
      "\u001b[1m\u001b[30m|   \u001b[1m\u001b[30mmyHome = \u001b[0m\u001b[1m\u001b[30m\u001b[41mmydate\u001b[0m\u001b[1m\u001b[30m;\u001b[0m",
      "\u001b[1m\u001b[31mincompatible types: Date cannot be converted to Adresse\u001b[0m",
      ""
     ]
    }
   ],
   "source": [
    "//yourdate = mydate;\n",
    "//print(yourdate);\n",
    "//yourdate.day = 10;\n",
    "//print(mydate);\n",
    "// definieren der Klasse Adresse\n",
    "class Adresse {\n",
    "    int houseNumber;\n",
    "    String street;\n",
    "    int zipCode;\n",
    "}\n",
    "Adresse myHome = new Adresse();\n",
    "// myHome = mydate; // geht nicht, anderer Klassenname anderer Typ\n",
    "// erzeugen von Objekten der Typen Datum und Adresse\n",
    "// Zuweisung von Adresse an Datum"
   ]
  },
  {
   "cell_type": "markdown",
   "metadata": {
    "slideshow": {
     "slide_type": "slide"
    }
   },
   "source": [
    "### Vergleiche\n",
    "\n",
    "##### Vergleiche der Objektreferenz\n",
    "\n",
    "```x == y ```\n",
    "\n",
    "```x != y ```\n",
    "\n",
    "\n",
    "##### Wertevergleich\n",
    "\n",
    "Muss mittels Vergleichsmethode selbst implementiert werden\n",
    " ```\n",
    " static boolean equalDate(Date x, Date y) {\n",
    "     return x.day == y.day && x.month.equals(y.month) && x.year == y.year;\n",
    "}\n",
    "```\n"
   ]
  },
  {
   "cell_type": "code",
   "execution_count": 38,
   "metadata": {},
   "outputs": [
    {
     "name": "stdout",
     "output_type": "stream",
     "text": [
      "8. Februar 2021\n",
      "0. A month 0\n",
      "== false\n",
      "== false\n",
      "equal true\n"
     ]
    },
    {
     "data": {
      "text/plain": [
       "true"
      ]
     },
     "execution_count": 38,
     "metadata": {},
     "output_type": "execute_result"
    }
   ],
   "source": [
    "// Demo == Operator und equalDate Funktion\n",
    "mydate = new Date();\n",
    "mydate.day = 8;\n",
    "mydate.month = \"Februar\";\n",
    "mydate.year = 2021;\n",
    "\n",
    "print(mydate);\n",
    "print(yourdate);\n",
    "System.out.println(\"== \" + (mydate == yourdate));\n",
    "mydate.day = yourdate.day;\n",
    "mydate.month = yourdate.month;\n",
    "mydate.year = yourdate.year;\n",
    "System.out.println(\"== \" + (mydate == yourdate));\n",
    "\n",
    "\n",
    "static boolean equalDate(Date x, Date y) {\n",
    "    boolean daysAreEqual = x.day == y.day;\n",
    "    boolean monthsAreEqual =  x.month.equals(y.month);\n",
    "    boolean yearsAreEqual = x.year == y.year;\n",
    "     return daysAreEqual && monthsAreEqual && yearsAreEqual;\n",
    "}\n",
    "\n",
    "\n",
    "System.out.println(\"equal \"+equalDate(mydate, yourdate));\n",
    "mydate = yourdate;\n",
    "mydate == yourdate"
   ]
  },
  {
   "cell_type": "markdown",
   "metadata": {
    "slideshow": {
     "slide_type": "slide"
    }
   },
   "source": [
    "### Deklaration von Klassen\n",
    "\n",
    "> Deklaration auf äusserster Ebene eines Programms (einer Datei)\n",
    "\n",
    "```java\n",
    "class C1 {\n",
    "    ...\n",
    "}\n",
    "```\n",
    "\n",
    "```java\n",
    "class C2 {\n",
    "    ...\n",
    "}\n",
    "```\n",
    "\n",
    "```java\n",
    "class MainProgram {\n",
    "    public static void main(String[] args) {\n",
    "         ...\n",
    "    }\n",
    "}\n",
    "```"
   ]
  },
  {
   "cell_type": "markdown",
   "metadata": {
    "slideshow": {
     "slide_type": "slide"
    }
   },
   "source": [
    "### Beispiel: Repräsentation eines Polygons\n",
    "\n",
    "Polygon\n",
    "![poly-1](images/poly-1.png)\n"
   ]
  },
  {
   "cell_type": "code",
   "execution_count": 53,
   "metadata": {
    "slideshow": {
     "slide_type": "fragment"
    }
   },
   "outputs": [
    {
     "name": "stdout",
     "output_type": "stream",
     "text": [
      "7\n",
      "5\n"
     ]
    }
   ],
   "source": [
    "class Point {\n",
    "    int x;\n",
    "    int y;\n",
    "    public Point(int xCoord, int yCoord) {\n",
    "        x = xCoord;\n",
    "        y = yCoord;\n",
    "    }\n",
    "}\n",
    "\n",
    "class Polygon {\n",
    "    Point[] points;\n",
    "}\n",
    "\n",
    "Point p = new Point(7,5);\n",
    "System.out.println(p.x);\n",
    "System.out.println(p.y);"
   ]
  },
  {
   "cell_type": "markdown",
   "metadata": {
    "slideshow": {
     "slide_type": "slide"
    }
   },
   "source": [
    "### Beispiel: Repräsentation eines Polygons\n",
    "\n",
    "\n",
    "![poly-1](images/poly-2.png)\n"
   ]
  },
  {
   "cell_type": "code",
   "execution_count": 52,
   "metadata": {
    "slideshow": {
     "slide_type": "-"
    }
   },
   "outputs": [
    {
     "name": "stdout",
     "output_type": "stream",
     "text": [
      "null\n",
      "0\n"
     ]
    }
   ],
   "source": [
    "Polygon poly; // reserviert Speicher für eine Adresse eines Polygons\n",
    "poly = new Polygon(); // reserviert Speicher für ein Polygon und weisst die Adresse davon der Variablen poly zu\n",
    "poly.points = new Point[4]; // reserviert Speicher für 4 Adressen welche auf Punkte zeigen\n",
    "System.out.println(poly.points[3]);\n",
    "poly.points[3] = new Point(); // reserviert Speicher für einen Punkt\n",
    "System.out.println(poly.points[3].x); // gibt den Wert x aus von dem letzten Punkt vom Polygon"
   ]
  },
  {
   "cell_type": "markdown",
   "metadata": {
    "slideshow": {
     "slide_type": "slide"
    }
   },
   "source": [
    "### Miniübung\n",
    "\n",
    "* Schreiben Sie eine Klasse ```Rectangle```, welche ein Rechteck repräsentiert\n",
    "* Schreiben Sie eine Methode ```intersection```, welche zwei Rechtecke als Argumente nimmt und das Schnittrechteck zurückgibt.\n",
    "* Schreiben Sie eine Klasse ```Time```, welche die Zeit in Stunden, Minuten und Sekunden repräsentiert\n",
    "* Schreiben Sie eine Methode ```convert``` welche eine Anzahl Sekunden ```s``` vom Typ ```int``` entgegennimmt und diese in Stunden, Minuten und Sekunden umwandelt. Das Resultat soll dem Aufrufer als ```Time``` zurückgegeben werden. "
   ]
  },
  {
   "cell_type": "code",
   "execution_count": 60,
   "metadata": {},
   "outputs": [
    {
     "data": {
      "text/plain": [
       "27"
      ]
     },
     "execution_count": 60,
     "metadata": {},
     "output_type": "execute_result"
    }
   ],
   "source": [
    "class Rectangle {\n",
    "    int x;\n",
    "    int y;\n",
    "    int width;\n",
    "    int height;\n",
    "}\n",
    "Rectangle rect; // nur Adresse\n",
    "rect = new Rectangle(); // legt Objekt an\n",
    "rect.x = 4;\n",
    "rect.y = 3;\n",
    "rect.width = 20;\n",
    "rect.height = 10;\n",
    "\n",
    "Rectangle rect2;\n",
    "rect2 = new Rectangle();\n",
    "rect2.x = 7;\n",
    "rect2.y = 1;\n",
    "rect2.width = 13;\n",
    "rect2.height = 27;"
   ]
  },
  {
   "cell_type": "code",
   "execution_count": 63,
   "metadata": {},
   "outputs": [],
   "source": [
    "Rectangle intersection(Rectangle a, Rectangle b) {\n",
    "    Rectangle inter = new Rectangle();\n",
    "    inter.x = Math.max(a.x, b.x);\n",
    "    inter.y = Math.max(a.y, b.y);\n",
    "    inter.width = Math.min((a.x+a.width),(b.x+b.width))-inter.x;\n",
    "    inter.height = Math.min((a.y+a.height),(b.y+b.height))-inter.y;\n",
    "    return inter;\n",
    "}\n"
   ]
  },
  {
   "cell_type": "code",
   "execution_count": null,
   "metadata": {},
   "outputs": [],
   "source": []
  }
 ],
 "metadata": {
  "celltoolbar": "Slideshow",
  "kernelspec": {
   "display_name": "Java",
   "language": "java",
   "name": "java"
  },
  "language_info": {
   "codemirror_mode": "java",
   "file_extension": ".jshell",
   "mimetype": "text/x-java-source",
   "name": "Java",
   "pygments_lexer": "java",
   "version": "16.0.1+9"
  },
  "rise": {}
 },
 "nbformat": 4,
 "nbformat_minor": 2
}
