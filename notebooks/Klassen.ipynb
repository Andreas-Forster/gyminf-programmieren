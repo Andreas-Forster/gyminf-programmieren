{
 "cells": [
  {
   "cell_type": "markdown",
   "metadata": {
    "slideshow": {
     "slide_type": "slide"
    }
   },
   "source": [
    "# Klassen\n",
    "\n",
    "#### Marcel Lüthi, Departement Mathematik und Informatik, Universität Basel"
   ]
  },
  {
   "cell_type": "markdown",
   "metadata": {
    "slideshow": {
     "slide_type": "slide"
    }
   },
   "source": [
    "### Motivation\n",
    "\n",
    "Wie würde man ein Datum speichern (z.B. 11. Oktober 2024)?\n",
    "\n",
    "3 Variablen:\n",
    "\n",
    "```\n",
    "int day; \n",
    "String month;\n",
    "int year; \n",
    "```"
   ]
  },
  {
   "cell_type": "markdown",
   "metadata": {
    "slideshow": {
     "slide_type": "fragment"
    }
   },
   "source": [
    "Unbequem, wenn man mehrere Exemplare braucht\n",
    "\n",
    "```\n",
    "int day1; \n",
    "String month1;\n",
    "int year1;\n",
    "int day2; \n",
    "String month2;\n",
    "int year2;\n",
    "...\n",
    "```\n"
   ]
  },
  {
   "cell_type": "markdown",
   "metadata": {
    "slideshow": {
     "slide_type": "slide"
    }
   },
   "source": [
    "### Idee\n",
    "\n",
    "\n",
    "Wir definieren uns eigenen Datentyp, der Variaben zusammenfasst."
   ]
  },
  {
   "cell_type": "markdown",
   "metadata": {
    "slideshow": {
     "slide_type": "slide"
    }
   },
   "source": [
    "### Eigene Datentypen\n",
    "\n",
    "> Speicherung verschiedenartiger Werte unter einem gemeinsamen Namen \n",
    "\n",
    "##### Deklaration\n",
    "\n",
    "```\n",
    "class Date {\n",
    "    int day;\n",
    "    String month;\n",
    "    int year;\n",
    "}\n",
    "```"
   ]
  },
  {
   "cell_type": "markdown",
   "metadata": {
    "slideshow": {
     "slide_type": "fragment"
    }
   },
   "source": [
    "##### Verwendung als Typ\n",
    "\n",
    "```\n",
    "Date mydate;\n",
    "```"
   ]
  },
  {
   "cell_type": "markdown",
   "metadata": {
    "slideshow": {
     "slide_type": "slide"
    }
   },
   "source": [
    "##### Zugriff\n",
    "\n",
    "```\n",
    "mydate.day = 13;\n",
    "mydate.month = \"November\";\n",
    "mydate.year = 2002;\n",
    "```"
   ]
  },
  {
   "cell_type": "markdown",
   "metadata": {
    "slideshow": {
     "slide_type": "slide"
    }
   },
   "source": [
    "### Objekte\n",
    "\n",
    "> Objekte einer Klasse müssen vor ihrer ersten Benutzung erzeugt werden. \n",
    "\n",
    "Klassen sind Referenzdatentypen: Deklaration reserviert nur Speicher für die Referenzvariablen\n",
    "```\n",
    "Date mydate;\n",
    "```\n",
    "\n",
    "Erzeugung des Objekts und Referenz (Adresse) zuweisen\n",
    "```\n",
    "mydate = new Date();\n",
    "```"
   ]
  },
  {
   "cell_type": "markdown",
   "metadata": {
    "slideshow": {
     "slide_type": "slide"
    }
   },
   "source": [
    "### Objekte\n",
    "\n",
    "Wir können beliebig viele Objekte einer Klasse erzeugen. "
   ]
  },
  {
   "cell_type": "code",
   "execution_count": 1,
   "metadata": {},
   "outputs": [
    {
     "name": "stdout",
     "output_type": "stream",
     "text": [
      "13. Juli 2019\n"
     ]
    }
   ],
   "source": [
    "class Date {\n",
    "    int day;\n",
    "    String month;\n",
    "    int year;\n",
    "}\n",
    "\n",
    "Date d1 = new Date();\n",
    "d1.day = 13;\n",
    "d1.month = \"Juli\";\n",
    "d1.year = 2019;\n",
    "\n",
    "Date d2 = new Date();\n",
    "d2.day = 11;\n",
    "d2.month = \"October\";\n",
    "d2.year = 2020;\n",
    "\n",
    "\n",
    "\n",
    "static void printDate(Date d) {\n",
    "    System.out.println(d.day + \". \" + d.month +\" \" +d.year);\n",
    "};\n",
    "\n",
    "printDate(d1);"
   ]
  },
  {
   "cell_type": "markdown",
   "metadata": {
    "slideshow": {
     "slide_type": "slide"
    }
   },
   "source": [
    "### Zuweisungen\n",
    "\n",
    "Nur gleiche Typen dürfen zugewiesen werden:"
   ]
  },
  {
   "cell_type": "code",
   "execution_count": 2,
   "metadata": {
    "slideshow": {
     "slide_type": "fragment"
    }
   },
   "outputs": [
    {
     "ename": "CompilationException",
     "evalue": "",
     "output_type": "error",
     "traceback": [
      "\u001b[1m\u001b[30m|   \u001b[1m\u001b[30ma1 = \u001b[0m\u001b[1m\u001b[30m\u001b[41md1\u001b[0m\u001b[1m\u001b[30m;\u001b[0m",
      "\u001b[1m\u001b[31mincompatible types: Date cannot be converted to Address\u001b[0m",
      ""
     ]
    }
   ],
   "source": [
    "class Address {\n",
    "    int personId;\n",
    "    String streetname;\n",
    "    int number;\n",
    "}\n",
    "\n",
    "Date d1 = new Date();\n",
    "Address a1 = new Address();\n",
    "\n",
    "// Folgendes funktioniert nicht\n",
    "a1 = d1;"
   ]
  },
  {
   "cell_type": "markdown",
   "metadata": {
    "slideshow": {
     "slide_type": "slide"
    }
   },
   "source": [
    "### Vergleiche\n",
    "\n",
    "##### Vergleiche der Objektreferenz\n",
    "\n",
    "```x == y ```\n",
    "\n",
    "```x != y ```\n",
    "\n",
    "\n",
    "##### Wertevergleich\n",
    "\n",
    "Muss mittels Vergleichsmethode selbst implementiert werden\n",
    " ```\n",
    " static boolean equalDate(Date x, Date y) {\n",
    "     return x.day == y.day && x.month.equals(y.month) && x.year == y.year;\n",
    "}\n",
    "```\n"
   ]
  },
  {
   "cell_type": "markdown",
   "metadata": {
    "slideshow": {
     "slide_type": "slide"
    }
   },
   "source": [
    "### Deklaration von Klassen\n",
    "\n",
    "> Deklaration auf äusserster Ebene eines Programms (einer Datei)\n",
    "\n",
    "```java\n",
    "class C1 {\n",
    "    ...\n",
    "}\n",
    "```\n",
    "\n",
    "```java\n",
    "class C2 {\n",
    "    ...\n",
    "}\n",
    "```\n",
    "\n",
    "```java\n",
    "class MainProgram {\n",
    "    public static void main(String[] args) {\n",
    "         ...\n",
    "    }\n",
    "}\n",
    "```"
   ]
  },
  {
   "cell_type": "markdown",
   "metadata": {
    "slideshow": {
     "slide_type": "slide"
    }
   },
   "source": [
    "### Beispiel: Repräsentation eines Polygons\n",
    "\n",
    "Polygon\n",
    "![poly-1](images/poly-1.png)\n"
   ]
  },
  {
   "cell_type": "code",
   "execution_count": 3,
   "metadata": {
    "slideshow": {
     "slide_type": "fragment"
    }
   },
   "outputs": [],
   "source": [
    "class Point { \n",
    "    int x;\n",
    "    int y; \n",
    "} \n",
    "\n",
    "class Polygon { Point[] points; }"
   ]
  },
  {
   "cell_type": "markdown",
   "metadata": {
    "slideshow": {
     "slide_type": "slide"
    }
   },
   "source": [
    "### Beispiel: Repräsentation eines Polygons\n",
    "\n",
    "\n",
    "![poly-1](images/poly-2.png)\n"
   ]
  },
  {
   "cell_type": "code",
   "execution_count": 4,
   "metadata": {
    "slideshow": {
     "slide_type": "-"
    }
   },
   "outputs": [
    {
     "data": {
      "text/plain": [
       "REPL.$JShell$31$Point@75d924ee"
      ]
     },
     "execution_count": 4,
     "metadata": {},
     "output_type": "execute_result"
    }
   ],
   "source": [
    "// Definiere Polygon hier\n",
    "Polygon poly = new Polygon();\n",
    "poly.points = new Point[4];\n",
    "\n",
    "Point p1 = new Point();\n",
    "p1.x = 10;\n",
    "p1.y = 20;\n",
    "poly.points[0] = p1;\n",
    "    \n",
    "Point p2 = new Point();\n",
    "p2.x =  20;\n",
    "p2.y = 40;\n",
    "poly.points[1]  = p2;\n",
    "\n",
    "/// ..."
   ]
  },
  {
   "cell_type": "markdown",
   "metadata": {
    "slideshow": {
     "slide_type": "slide"
    }
   },
   "source": [
    "### Miniübung\n",
    "\n",
    "* Schreiben Sie eine Klasse ```Rectangle```, welche ein Rechteck repräsentiert\n",
    "* Schreiben Sie eine Methode ```intersection```, welche zwei Rechtecke als Argumente nimmt und das Schnittrechteck zurückgibt.\n",
    "* Schreiben Sie eine Methode ```convert``` welche eine Anzahl Sekunden ```s``` vom Typ ```int``` entgegennimmt und diese in Stunden, Minuten und Sekunden umwandelt. Das Resultat soll dem Aufrufer zurückgegeben werden. "
   ]
  },
  {
   "cell_type": "code",
   "execution_count": 5,
   "metadata": {},
   "outputs": [
    {
     "name": "stdout",
     "output_type": "stream",
     "text": [
      "lower left corner = (15,20)   width = 5 height = 5\n"
     ]
    }
   ],
   "source": [
    "class Rectangle {\n",
    "    int x; // x - lower left\n",
    "    int y; // y - lower left\n",
    "    int width; // x - upper right\n",
    "    int height; // y - upper right\n",
    "}\n",
    "\n",
    "static Rectangle intersection(Rectangle r1, Rectangle r2) {\n",
    "    Rectangle r = new Rectangle();\n",
    "    r.x = Math.max(r1.x, r2.x);\n",
    "    r.y = Math.max(r1.y, r2.y);\n",
    "    int right = Math.min(r1.x + r1.width, r2.x + r2.width);\n",
    "    int bottom = Math.min(r1.y + r1.height, r2.y + r2.height);\n",
    "    if (right > r.x && bottom > r.y) {\n",
    "        r.width = right - r.x;\n",
    "        r.height = bottom - r.y;\n",
    "        return r;\n",
    "    } else {\n",
    "        return null;    \n",
    "    }\n",
    "}\n",
    "\n",
    "Rectangle r1 = new Rectangle();\n",
    "r1.x = 10;\n",
    "r1.y = 20;\n",
    "r1.width = 10;\n",
    "r1.height = 5;\n",
    "\n",
    "Rectangle r2 = new Rectangle();\n",
    "r2.x = 15;\n",
    "r2.y = 15;\n",
    "r2.width = 20;\n",
    "r2.height = 10;\n",
    "\n",
    "Rectangle rIntersect = intersection(r1, r2);\n",
    "System.out.println(\"lower left corner = (\" +rIntersect.x + \",\" + rIntersect.y + \")   \" \n",
    "                   +\"width = \" +rIntersect.width + \" height = \" +rIntersect.height); \n"
   ]
  },
  {
   "cell_type": "code",
   "execution_count": 6,
   "metadata": {},
   "outputs": [
    {
     "name": "stdout",
     "output_type": "stream",
     "text": [
      "1:1:1\n"
     ]
    }
   ],
   "source": [
    "class Time { \n",
    "    int seconds;\n",
    "    int minutes;\n",
    "    int hours;\n",
    "}\n",
    "\n",
    "static Time convert(int sec) {\n",
    "    Time t = new Time();\n",
    "    \n",
    "    t.hours = sec / 3600;\n",
    "    t.minutes = (sec % 3600) / 60;\n",
    "    t.seconds = sec % 60; \n",
    "    \n",
    "    return t;\n",
    "}\n",
    "\n",
    "Time convertedTime = convert(3661);\n",
    "System.out.println(convertedTime.hours +\":\" + convertedTime.minutes + \":\" +convertedTime.seconds);"
   ]
  },
  {
   "cell_type": "code",
   "execution_count": null,
   "metadata": {},
   "outputs": [],
   "source": []
  }
 ],
 "metadata": {
  "celltoolbar": "Slideshow",
  "kernelspec": {
   "display_name": "Java",
   "language": "java",
   "name": "java"
  },
  "language_info": {
   "codemirror_mode": "java",
   "file_extension": ".java",
   "mimetype": "text/x-java-source",
   "name": "Java",
   "pygments_lexer": "java",
   "version": "11.0.4+11"
  },
  "rise": {}
 },
 "nbformat": 4,
 "nbformat_minor": 2
}
