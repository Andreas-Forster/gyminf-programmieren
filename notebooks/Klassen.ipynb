{
 "cells": [
  {
   "cell_type": "markdown",
   "metadata": {},
   "source": [
    "### Google Colab Integration\n",
    "\n",
    "Die folgende Zelle können Sie überspringen, wenn Sie mit einer lokalen Installation arbeiten. Wenn Sie das Notebook auf Google-Colab ausführen, dann müssen Sie als erstes diese Zelle ausführen und danach die Seite neu laden (F5)."
   ]
  },
  {
   "cell_type": "code",
   "execution_count": null,
   "metadata": {
    "slideshow": {
     "slide_type": "skip"
    }
   },
   "outputs": [],
   "source": [
    "!echo \"Update environment...\"\n",
    "!apt update -q  &> /dev/null\n",
    "!echo \"Install Java...\"\n",
    "!apt-get install -q openjdk-11-jdk-headless &> /dev/null\n",
    "!echo \"Install Jupyter java kernel...\"\n",
    "!curl -L https://github.com/SpencerPark/IJava/releases/download/v1.3.0/ijava-1.3.0.zip -o ijava-kernel.zip &> /dev/null\n",
    "!unzip -q ijava-kernel.zip -d ijava-kernel && cd ijava-kernel && python3 install.py --sys-prefix &> /dev/null\n",
    "!echo \"Downloading turtle jar ...\"\n",
    "!curl -L https://github.com/Andreas-Forster/gyminf-programmieren/raw/master/notebooks/jturtle-0.6.jar -o jturtle-0.6.jar &> /dev/null\n",
    "!echo \"Done.\""
   ]
  },
  {
   "cell_type": "markdown",
   "metadata": {
    "slideshow": {
     "slide_type": "slide"
    }
   },
   "source": [
    "# Klassen\n",
    "\n",
    "#### Andreas Morel-Forster, Departement Mathematik und Informatik, Universität Basel"
   ]
  },
  {
   "cell_type": "markdown",
   "metadata": {
    "slideshow": {
     "slide_type": "slide"
    }
   },
   "source": [
    "### Motivation\n",
    "\n",
    "Wie würde man ein Datum speichern (z.B. 11. Oktober 2024)?"
   ]
  },
  {
   "cell_type": "markdown",
   "metadata": {
    "slideshow": {
     "slide_type": "fragment"
    }
   },
   "source": [
    "3 Variablen:\n",
    "\n",
    "```\n",
    "int day; \n",
    "String month;\n",
    "int year; \n",
    "```"
   ]
  },
  {
   "cell_type": "markdown",
   "metadata": {
    "slideshow": {
     "slide_type": "fragment"
    }
   },
   "source": [
    "Unbequem, wenn man mehrere Exemplare braucht\n",
    "\n",
    "```\n",
    "int day1; \n",
    "String month1;\n",
    "int year1;\n",
    "int day2; \n",
    "String month2;\n",
    "int year2;\n",
    "...\n",
    "```\n"
   ]
  },
  {
   "cell_type": "markdown",
   "metadata": {
    "slideshow": {
     "slide_type": "slide"
    }
   },
   "source": [
    "### Idee\n",
    "\n",
    "\n",
    "Wir definieren uns eigenen Datentyp, der Variablen zusammenfasst."
   ]
  },
  {
   "cell_type": "markdown",
   "metadata": {
    "slideshow": {
     "slide_type": "slide"
    }
   },
   "source": [
    "### Eigene Datentypen\n",
    "\n",
    "> Speicherung verschiedenartiger Werte unter einem gemeinsamen Namen \n",
    "\n",
    "##### Deklaration\n",
    "\n",
    "```\n",
    "class Date {\n",
    "    int day;\n",
    "    String month;\n",
    "    int year;\n",
    "}\n",
    "```"
   ]
  },
  {
   "cell_type": "markdown",
   "metadata": {
    "slideshow": {
     "slide_type": "fragment"
    }
   },
   "source": [
    "##### Verwendung als Typ\n",
    "\n",
    "```\n",
    "Date mydate;\n",
    "```"
   ]
  },
  {
   "cell_type": "markdown",
   "metadata": {
    "slideshow": {
     "slide_type": "slide"
    }
   },
   "source": [
    "##### Zugriff\n",
    "\n",
    "```\n",
    "mydate.day = 13;\n",
    "mydate.month = \"November\";\n",
    "mydate.year = 2002;\n",
    "```"
   ]
  },
  {
   "cell_type": "markdown",
   "metadata": {
    "slideshow": {
     "slide_type": "slide"
    }
   },
   "source": [
    "### Objekte\n",
    "\n",
    "> Objekte einer Klasse müssen vor ihrer ersten Benutzung erzeugt werden. \n",
    "\n",
    "Klassen sind Referenzdatentypen: Deklaration reserviert nur Speicher für die Referenzvariablen\n",
    "```\n",
    "Date mydate;\n",
    "```\n",
    "\n",
    "Erzeugung des Objekts und Referenz (Adresse) zuweisen\n",
    "```\n",
    "mydate = new Date();\n",
    "```"
   ]
  },
  {
   "cell_type": "markdown",
   "metadata": {
    "slideshow": {
     "slide_type": "slide"
    }
   },
   "source": [
    "### Objekte\n",
    "\n",
    "Wir können beliebig viele Objekte einer Klasse erzeugen. "
   ]
  },
  {
   "cell_type": "code",
   "execution_count": null,
   "metadata": {},
   "outputs": [],
   "source": [
    "// Klasse Datum definieren\n",
    "// erzeugen eines Objektes, und zuweisen von Werten\n",
    "// erzeugen eines zweiten Objektes, und zuweisen von Werten\n",
    "// pretty print Funktion\n",
    "// ausgabe der Daten"
   ]
  },
  {
   "cell_type": "markdown",
   "metadata": {
    "slideshow": {
     "slide_type": "slide"
    }
   },
   "source": [
    "### Zuweisungen\n",
    "\n",
    "Nur gleiche Typen dürfen zugewiesen werden:"
   ]
  },
  {
   "cell_type": "code",
   "execution_count": null,
   "metadata": {
    "slideshow": {
     "slide_type": "fragment"
    }
   },
   "outputs": [],
   "source": [
    "// definieren der Klasse Adresse\n",
    "// erzeugen von Objekten der Typen Datum und Adresse\n",
    "// Zuweisung von Adresse an Datum"
   ]
  },
  {
   "cell_type": "markdown",
   "metadata": {
    "slideshow": {
     "slide_type": "slide"
    }
   },
   "source": [
    "### Vergleiche\n",
    "\n",
    "##### Vergleiche der Objektreferenz\n",
    "\n",
    "```x == y ```\n",
    "\n",
    "```x != y ```\n",
    "\n",
    "\n",
    "##### Wertevergleich\n",
    "\n",
    "Muss mittels Vergleichsmethode selbst implementiert werden\n",
    " ```\n",
    " static boolean equalDate(Date x, Date y) {\n",
    "     return x.day == y.day && x.month.equals(y.month) && x.year == y.year;\n",
    "}\n",
    "```\n"
   ]
  },
  {
   "cell_type": "markdown",
   "metadata": {
    "slideshow": {
     "slide_type": "slide"
    }
   },
   "source": [
    "### Deklaration von Klassen\n",
    "\n",
    "> Deklaration auf äusserster Ebene eines Programms (einer Datei)\n",
    "\n",
    "```java\n",
    "class C1 {\n",
    "    ...\n",
    "}\n",
    "```\n",
    "\n",
    "```java\n",
    "class C2 {\n",
    "    ...\n",
    "}\n",
    "```\n",
    "\n",
    "```java\n",
    "class MainProgram {\n",
    "    public static void main(String[] args) {\n",
    "         ...\n",
    "    }\n",
    "}\n",
    "```"
   ]
  },
  {
   "cell_type": "markdown",
   "metadata": {
    "slideshow": {
     "slide_type": "slide"
    }
   },
   "source": [
    "### Beispiel: Repräsentation eines Polygons\n",
    "\n",
    "Polygon\n",
    "![poly-1](images/poly-1.png)\n"
   ]
  },
  {
   "cell_type": "code",
   "execution_count": null,
   "metadata": {
    "slideshow": {
     "slide_type": "fragment"
    }
   },
   "outputs": [],
   "source": []
  },
  {
   "cell_type": "markdown",
   "metadata": {
    "slideshow": {
     "slide_type": "slide"
    }
   },
   "source": [
    "### Beispiel: Repräsentation eines Polygons\n",
    "\n",
    "\n",
    "![poly-1](images/poly-2.png)\n"
   ]
  },
  {
   "cell_type": "code",
   "execution_count": null,
   "metadata": {
    "slideshow": {
     "slide_type": "-"
    }
   },
   "outputs": [],
   "source": []
  },
  {
   "cell_type": "markdown",
   "metadata": {
    "slideshow": {
     "slide_type": "slide"
    }
   },
   "source": [
    "### Miniübung\n",
    "\n",
    "* Schreiben Sie eine Klasse ```Rectangle```, welche ein Rechteck repräsentiert\n",
    "* Schreiben Sie eine Methode ```intersection```, welche zwei Rechtecke als Argumente nimmt und das Schnittrechteck zurückgibt.\n",
    "* Schreiben Sie eine Klasse ```Time```, welche die Zeit in Stunden, Minuten und Sekunden repräsentiert\n",
    "* Schreiben Sie eine Methode ```convert``` welche eine Anzahl Sekunden ```s``` vom Typ ```int``` entgegennimmt und diese in Stunden, Minuten und Sekunden umwandelt. Das Resultat soll dem Aufrufer als ```Time``` zurückgegeben werden. "
   ]
  },
  {
   "cell_type": "code",
   "execution_count": null,
   "metadata": {},
   "outputs": [],
   "source": []
  },
  {
   "cell_type": "code",
   "execution_count": null,
   "metadata": {},
   "outputs": [],
   "source": []
  },
  {
   "cell_type": "code",
   "execution_count": null,
   "metadata": {},
   "outputs": [],
   "source": []
  }
 ],
 "metadata": {
  "celltoolbar": "Slideshow",
  "kernelspec": {
   "display_name": "Java",
   "language": "java",
   "name": "java"
  },
  "language_info": {
   "codemirror_mode": "java",
   "file_extension": ".jshell",
   "mimetype": "text/x-java-source",
   "name": "Java",
   "pygments_lexer": "java",
   "version": "16.0.1+9"
  },
  "rise": {}
 },
 "nbformat": 4,
 "nbformat_minor": 2
}
