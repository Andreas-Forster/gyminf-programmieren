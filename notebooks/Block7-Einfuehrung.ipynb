{
 "cells": [
  {
   "cell_type": "markdown",
   "metadata": {
    "slideshow": {
     "slide_type": "-"
    }
   },
   "source": [
    "### Google Colab Integration\n",
    "\n",
    "Die folgende Zelle können Sie überspringen, wenn Sie mit einer lokalen Installation arbeiten. Wenn Sie das Notebook auf Google-Colab ausführen, dann müssen Sie als erstes diese Zelle ausführen und danach die Seite neu laden (F5)."
   ]
  },
  {
   "cell_type": "code",
   "execution_count": null,
   "metadata": {
    "slideshow": {
     "slide_type": "-"
    }
   },
   "outputs": [],
   "source": [
    "!echo \"Update environment...\"\n",
    "!apt update -q  &> /dev/null\n",
    "!echo \"Install Java...\"\n",
    "!apt-get install -q openjdk-11-jdk-headless &> /dev/null\n",
    "!echo \"Install Jupyter java kernel...\"\n",
    "!curl -L https://github.com/SpencerPark/IJava/releases/download/v1.3.0/ijava-1.3.0.zip -o ijava-kernel.zip &> /dev/null\n",
    "!unzip -q ijava-kernel.zip -d ijava-kernel && cd ijava-kernel && python3 install.py --sys-prefix &> /dev/null\n",
    "!echo \"Downloading turtle jar ...\"\n",
    "!curl -L https://github.com/Andreas-Forster/gyminf-programmieren/raw/master/notebooks/jturtle-0.6.jar -o jturtle-0.6.jar &> /dev/null\n",
    "!echo \"Done.\""
   ]
  },
  {
   "cell_type": "markdown",
   "metadata": {
    "slideshow": {
     "slide_type": "slide"
    }
   },
   "source": [
    "# Block 7 - Einführung\n",
    "\n",
    "#### Andreas Morel-Forster, Departement Mathematik und Informatik, Universität Basel"
   ]
  },
  {
   "cell_type": "markdown",
   "metadata": {
    "slideshow": {
     "slide_type": "slide"
    }
   },
   "source": [
    "## Programm\n",
    "\n",
    "- Zusammenfassung der letzten Woche\n",
    "- Besprechung Übungen 1\n",
    "- Klassen\n",
    "- Objekte\n",
    "- Übungen 2 - Vorbesprechung\n"
   ]
  },
  {
   "cell_type": "markdown",
   "metadata": {
    "slideshow": {
     "slide_type": "slide"
    }
   },
   "source": [
    "## Rückblick - Lugano\n",
    "\n",
    "* Ausdrücke\n",
    "* Variablen (Konstanten)\n",
    "* Anweisungen (Zuweisungen)\n",
    "* Verzweigungen\n",
    "* Schleifen\n",
    "* Methoden / Funktionen\n",
    "* zurückgeben / ausgeben\n",
    "* Rekursion\n",
    "* Klassen (to be continued)"
   ]
  },
  {
   "cell_type": "markdown",
   "metadata": {
    "slideshow": {
     "slide_type": "slide"
    }
   },
   "source": [
    "## Ausdrücke\n",
    "\n",
    "* Ein Ausdruck ist Java-Code den man auswerten kann.\n",
    "* Auswertung ergibt **Typ** und **Wert** des Ausdrucks."
   ]
  },
  {
   "cell_type": "markdown",
   "metadata": {
    "slideshow": {
     "slide_type": "fragment"
    }
   },
   "source": [
    "```java\n",
    "2.0 // Typ:double, Wert:2.0\n",
    "2 * 4 // Typ:int, Wert:8\n",
    "\"Rückblick\" // Typ:String, Wert:\"Rückblick\"\n",
    "4.0 * maximum( 4.0, 5.0 ) // Typ:double, Wert:20.0\n",
    "```"
   ]
  },
  {
   "cell_type": "markdown",
   "metadata": {
    "slideshow": {
     "slide_type": "slide"
    }
   },
   "source": [
    "## Variablen\n",
    "\n",
    "* Eine Variable hat einen fixen Typ und einen Namen.\n",
    "* Der Wert ist veränderbar.\n",
    "* Speichern eines Wertes durch die Zuweisung eines Ausdrucks an die Variable.\n",
    "* Namenskonvention: beginnt mit kleinem Buchstaben."
   ]
  },
  {
   "cell_type": "markdown",
   "metadata": {
    "slideshow": {
     "slide_type": "fragment"
    }
   },
   "source": [
    "```java\n",
    "int x; // Deklaration mit Typ int und Namen x\n",
    "double d = 2.0; // gleichzeitige Deklaration und Initialisierung\n",
    "String s = \"Ausblick\"; // Der Typ kann auch eine Klasse sein\n",
    "x = 5 % 2; // Zuweisung\n",
    "String someText = \"Dies ist ein Text.\"; // camelCase\n",
    "```"
   ]
  },
  {
   "cell_type": "markdown",
   "metadata": {
    "slideshow": {
     "slide_type": "slide"
    }
   },
   "source": [
    "## Konstanten\n",
    "\n",
    "* Variable die ihren Wert nicht verändern kann.\n",
    "* Wird mit dem *Keyword* **final** gekennzeichnet und muss sofort initialisiert werden.\n",
    "* Namenskonvention: nur Grossbuchstaben"
   ]
  },
  {
   "cell_type": "markdown",
   "metadata": {
    "slideshow": {
     "slide_type": "fragment"
    }
   },
   "source": [
    "```java\n",
    "final int NUMBERS_ON_DICE = 6; // snake_case\n",
    "```"
   ]
  },
  {
   "cell_type": "markdown",
   "metadata": {
    "slideshow": {
     "slide_type": "slide"
    }
   },
   "source": [
    "## Verzweigungen\n",
    "\n",
    "* **if**-**else**-Anweisung, es kann auch der **if**-Teil alleine vorkommen."
   ]
  },
  {
   "cell_type": "markdown",
   "metadata": {
    "slideshow": {
     "slide_type": "fragment"
    }
   },
   "source": [
    "```java\n",
    "if ( /*boolean-Ausdruck*/ ) {\n",
    "    // if-Zweig, ausgeführt wenn Ausdruck zu true auswertet\n",
    "} else {\n",
    "    // else-Zweig, ausgeführt bei false\n",
    "}\n",
    "```"
   ]
  },
  {
   "cell_type": "markdown",
   "metadata": {
    "slideshow": {
     "slide_type": "slide"
    }
   },
   "source": [
    "## Schleifen\n",
    "\n",
    "* Widerholtes ausführen einer Sequenz von Anweisungen solange eine Bedingung erfüllt ist.\n",
    "* Die Abweisschleife **while** testet zuerst ob etwas ausgeführt wird.\n",
    "* Die Durchlaufschleife **do-while** testet nach dem Durchlaufen ob etwas widerholt wird.\n",
    "* Die **for**-Schleife ist nur eine Kurzschreibweise spezieller **while**-Schleifen."
   ]
  },
  {
   "cell_type": "markdown",
   "metadata": {
    "slideshow": {
     "slide_type": "subslide"
    }
   },
   "source": [
    "```java\n",
    "for( /*Schleifenvariable*/ ; /*boolean-Ausdruck*/ ; /*Increment*/ ) {\n",
    "    // Schleifenkörper\n",
    "}\n",
    "while ( /*boolean-Ausdruck*/ ) {\n",
    "    // Schleifenkörper\n",
    "}\n",
    "do {\n",
    "    // Schleifenkörper\n",
    "} while ( /*boolean-Ausdruck*/ );\n",
    "\n",
    "```"
   ]
  },
  {
   "cell_type": "markdown",
   "metadata": {
    "slideshow": {
     "slide_type": "slide"
    }
   },
   "source": [
    "## Methoden & Funktionen\n",
    "\n",
    "* Fassen mehrere Anweisungen unter einem Namen zusammen (z.B. Zuweisung, Schleifen, Verzweigungen, etc.).\n",
    "* Kann einen Wert an den Aufrufer zurückgeben.\n",
    "* Beim Aufruf können Parameter übergeben werden."
   ]
  },
  {
   "cell_type": "markdown",
   "metadata": {
    "slideshow": {
     "slide_type": "fragment"
    }
   },
   "source": [
    "```java\n",
    "/*RTYPE*/ /*NAME*/ ( /*PARAMETER_LISTE*/ ) {\n",
    "    // Methoden-Rumpf\n",
    "}\n",
    "void f() {} // Parameterlose Methode welche nichts zurück gibt\n",
    "boolean g(int i) { return i<42; } // Funktion welche\n",
    "// einen Parameter vom Typ int entgegen nimmt und\n",
    "// einen Wert vom Typ boolean an den Aufrufer zurück gibt\n",
    "```"
   ]
  },
  {
   "cell_type": "markdown",
   "metadata": {
    "slideshow": {
     "slide_type": "slide"
    }
   },
   "source": [
    "## Zurückgeben / Ausgeben\n",
    "\n",
    "* Ausgeben -> `System.out.println();`\n",
    "* Zurückgeben -> `return /*Ausdruck*/;`"
   ]
  },
  {
   "cell_type": "markdown",
   "metadata": {
    "slideshow": {
     "slide_type": "slide"
    }
   },
   "source": [
    "## Rekursion\n",
    "\n",
    "* Methoden oder Funktionen sind rekursiv, wenn Sie sich selber aufrufen.\n",
    "* Dies kann auch durch eine zweite Methode passierte, dann spricht man von indirekter Rekursion."
   ]
  },
  {
   "cell_type": "markdown",
   "metadata": {
    "slideshow": {
     "slide_type": "subslide"
    }
   },
   "source": [
    "```java\n",
    "// direkte Rekursion\n",
    "int f(int n) {\n",
    "    if (n==0) { // Abbruchbedingung der Rekursion\n",
    "        return 0;\n",
    "    } else { // rekursiver Aufruf\n",
    "        return n + f(n-1);\n",
    "    }\n",
    "}\n",
    "```"
   ]
  },
  {
   "cell_type": "markdown",
   "metadata": {
    "slideshow": {
     "slide_type": "subslide"
    }
   },
   "source": [
    "```java\n",
    "// indirekte Rekursion\n",
    "int f(int n) {\n",
    "    if (n==0) {\n",
    "        return 0;\n",
    "    } else {\n",
    "        return n + g(n-1);\n",
    "    }\n",
    "}\n",
    "int g(int n) {\n",
    "    return f(n);\n",
    "}\n",
    "```"
   ]
  },
  {
   "cell_type": "markdown",
   "metadata": {
    "slideshow": {
     "slide_type": "slide"
    }
   },
   "source": [
    "## Klassen (to be continued)\n",
    "\n",
    "* Bisher: Sammlung von Methoden, Funktionen und Variablen\n",
    "* Bisher: Alles `static`\n",
    "* Es können keine allgemeinen Anweisungen direkt in der Klasse stehen (Verzweigungen, Schleifen, Zuweisungen)"
   ]
  },
  {
   "cell_type": "markdown",
   "metadata": {
    "slideshow": {
     "slide_type": "fragment"
    }
   },
   "source": [
    "```java\n",
    "class /*NAME*/ {\n",
    "    // Klassen Variablen und Methoden\n",
    "}\n",
    "```"
   ]
  },
  {
   "cell_type": "markdown",
   "metadata": {
    "slideshow": {
     "slide_type": "subslide"
    }
   },
   "source": [
    "```java\n",
    "class A {\n",
    "    static int a = 3;\n",
    "    static void print() {\n",
    "        System.out.println(a);\n",
    "    }\n",
    "}\n",
    "\n",
    "class Bad {\n",
    "    for( int i = 0; i<10; i++) {} // dies kompiliert nicht\n",
    "}\n",
    "```"
   ]
  },
  {
   "cell_type": "markdown",
   "metadata": {
    "slideshow": {
     "slide_type": "slide"
    }
   },
   "source": [
    "## Fragen ???"
   ]
  }
 ],
 "metadata": {
  "celltoolbar": "Slideshow",
  "kernelspec": {
   "display_name": "Java",
   "language": "java",
   "name": "java"
  },
  "language_info": {
   "codemirror_mode": "java",
   "file_extension": ".jshell",
   "mimetype": "text/x-java-source",
   "name": "Java",
   "pygments_lexer": "java",
   "version": "16.0.1+9"
  },
  "rise": {}
 },
 "nbformat": 4,
 "nbformat_minor": 2
}
