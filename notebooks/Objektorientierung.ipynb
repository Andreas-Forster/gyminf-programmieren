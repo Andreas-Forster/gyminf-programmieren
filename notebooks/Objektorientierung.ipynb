{
 "cells": [
  {
   "cell_type": "markdown",
   "metadata": {
    "slideshow": {
     "slide_type": "slide"
    }
   },
   "source": [
    "# Objektorientierung\n",
    "\n",
    "#### Marcel Lüthi, Departement Mathematik und Informatik, Universität Basel"
   ]
  },
  {
   "cell_type": "markdown",
   "metadata": {
    "slideshow": {
     "slide_type": "slide"
    }
   },
   "source": [
    "### Datentypen\n",
    "\n",
    "Datentypen definieren:\n",
    "\n",
    "1. Menge von Werten die zu diesem Typ gehören\n",
    "2. Menge von Operationen die auf diesem Typ ausgeführt werden können\n",
    "\n",
    "#### Primitive Ganzzahltypen:\n",
    "\n",
    "| Name | Grösse | Wertebereich <img width=100/> |  |\n",
    "|------|--------|-------------------------------|--|\n",
    "| byte  | 8 Bit | $-2^7 \\ldots, 2^7-1 $ | $(-128, \\ldots, 127 )$  |\n",
    "| short | 16 Bit | $-2^{15} \\ldots, 2^{15} - 1$ | $(-32768, \\ldots, 32767)$ |\n",
    "| int   | 32 Bit | $-2^{31} \\ldots, 2^{31}-1$ | $(-2141483648, \\ldots,  2147483647)$|\n",
    "| long  | 64 Bit | $-2^{63} \\ldots, 2^{63}-1$ | |\n",
    "\n",
    "#### Operationen\n",
    "```+```, ```-```, ```*``` , ```/```, ..."
   ]
  },
  {
   "cell_type": "markdown",
   "metadata": {
    "slideshow": {
     "slide_type": "slide"
    }
   },
   "source": [
    "### Eigene Datentypen\n",
    "\n",
    "Klassen lassen uns Daten und Methoden kombinieren.\n",
    "\n"
   ]
  },
  {
   "cell_type": "code",
   "execution_count": null,
   "metadata": {},
   "outputs": [],
   "source": [
    "class Fraction {\n",
    "     \n",
    "    int numerator;\n",
    "    int denominator;\n",
    "\n",
    "    Fraction mult(Fraction f) { \n",
    "        Fraction result = new Fraction();\n",
    "        result.numerator = this.numerator * f.numerator;\n",
    "        result.denominator = this.denominator * f.denominator;\n",
    "        return result;\n",
    "    }\n",
    "}"
   ]
  },
  {
   "cell_type": "markdown",
   "metadata": {},
   "source": [
    "* ```this``` bezeichnet Objekt, auf dem Methode angewendet wird"
   ]
  },
  {
   "cell_type": "markdown",
   "metadata": {
    "slideshow": {
     "slide_type": "slide"
    }
   },
   "source": [
    "### Aufruf von Methoden"
   ]
  },
  {
   "cell_type": "code",
   "execution_count": null,
   "metadata": {},
   "outputs": [],
   "source": [
    "Fraction a = new Fraction();\n",
    "Fraction b = new Fraction();\n",
    "Fraction res = a.mult(b);"
   ]
  },
  {
   "cell_type": "markdown",
   "metadata": {
    "slideshow": {
     "slide_type": "-"
    }
   },
   "source": [
    "Auf das Objekt ```a``` wird Operation ```mult``` angewendet (mit Parameter ```b```)"
   ]
  },
  {
   "cell_type": "markdown",
   "metadata": {
    "slideshow": {
     "slide_type": "slide"
    }
   },
   "source": [
    "### Aufruf von Methoden\n",
    "\n",
    "Bei Parameterübergabe ist ```this``` ein versteckter Parameter\n",
    "\n",
    "* Wird implizit jeder Methode übergeben\n",
    "\n",
    "```java\n",
    "Fraction mult (/* Fraction this, */ Fraction f) { \n",
    "     Fraction result = new Fraction();\n",
    "     result.numerator = this.numerator * f.numerator;\n",
    "     result.denominator = this.denominator * f.denominator;\n",
    "     return result;\n",
    "}\n",
    "```\n",
    "   "
   ]
  },
  {
   "cell_type": "markdown",
   "metadata": {
    "slideshow": {
     "slide_type": "slide"
    }
   },
   "source": [
    "### Weglassen von ```this``` (Normalfall)\n",
    "\n",
    "```this``` kann weggelassen werden, wenn Name eindeutig ist"
   ]
  },
  {
   "cell_type": "code",
   "execution_count": null,
   "metadata": {},
   "outputs": [],
   "source": [
    "class Fraction {\n",
    "\n",
    "    int numerator;\n",
    "    int denominator;\n",
    "\n",
    "    Fraction mult (Fraction f) { \n",
    "         Fraction result = new Fraction();\n",
    "         result.numerator = numerator * f.numerator;\n",
    "         result.denominator = denominator * f.denominator;\n",
    "         return result;\n",
    "    }\n",
    "}"
   ]
  },
  {
   "cell_type": "markdown",
   "metadata": {
    "slideshow": {
     "slide_type": "slide"
    }
   },
   "source": [
    "### Konstruktoren\n",
    "\n",
    "Spezielle Methoden, die beim erzeugen eines Objekts automatisch aufgerufen werden\n",
    "\n",
    "* dienen zur Initialisierung eines Objekts\n",
    "* heissen wie die Klasse\n",
    "* haben keinen Rückgabewert\n",
    "\n",
    "<pre class=\"stretch\"><code data-trim>\n",
    "class Fraction {\n",
    "\n",
    "    int numerator;\n",
    "    int denominator;\n",
    "\n",
    "    Fraction(int n, int d) {\n",
    "        this.numerator = n;\n",
    "        this.denominator = d;\n",
    "    }\n",
    "}\n",
    "</code></pre>"
   ]
  },
  {
   "cell_type": "markdown",
   "metadata": {
    "slideshow": {
     "slide_type": "slide"
    }
   },
   "source": [
    "### Aufruf des Konstruktors\n",
    "\n",
    "Konstruktor wird beim Erzeugen des Objekts mit ```new``` aufgerufen\n",
    "\n",
    "```\n",
    "Fraction f = new Fraction(3, 5);\n",
    "```"
   ]
  },
  {
   "cell_type": "markdown",
   "metadata": {
    "slideshow": {
     "slide_type": "fragment"
    }
   },
   "source": [
    "#### Beispiel"
   ]
  },
  {
   "cell_type": "code",
   "execution_count": null,
   "metadata": {},
   "outputs": [],
   "source": [
    "class Test {\n",
    "    Test(String s) { \n",
    "        System.out.println(\"Constructor with argument \" +s + \" called\");\n",
    "    }\n",
    "}\n",
    "\n",
    "Test t = new Test(\"abc\");"
   ]
  },
  {
   "cell_type": "markdown",
   "metadata": {
    "slideshow": {
     "slide_type": "slide"
    }
   },
   "source": [
    "### Static\n",
    "\n",
    "Mit ```static``` bezeichnete Felder (Klassenfelder) existieren nur 1 mal pro Klasse\n",
    "\n",
    "Mit ```static``` bezeichnete Methoden (Klassenmethoden) haben nur Zugriff auf als ```static``` deklarierte Felder\n",
    "\n",
    "\n",
    "##### Beispiel: Fensterverwaltung \n",
    "\n",
    "<pre class=\"stretch\"><code data-trim>\n",
    "class Window {\n",
    "    static int borderWidth; // Breite des Rahmens. Gleich für alle Fenster\n",
    "    \n",
    "    int xPos; // x-Position eines Fensters. Muss pro Fenster existieren\n",
    "    int yPos; // y-Position eines Fensters. \n",
    "    \n",
    "    static setBorderWidth(int width) { borderWidth = width; }\n",
    "    void drawWindow() { // ... };\n",
    "}\n",
    "</code></pre>"
   ]
  },
  {
   "cell_type": "markdown",
   "metadata": {
    "slideshow": {
     "slide_type": "slide"
    }
   },
   "source": [
    "### Static (II)\n",
    "\n",
    "* Zugriffe auf static-Elemente über den Klassennamen:\n",
    "```\n",
    "Window.setBorderWidth(5)\n",
    "```\n",
    "    * Methoden der Klasse Window können Klassennamen weglassen\n",
    "\n",
    "\n",
    "* Zugriff auf nonstatic- Elemente über einen Objektnamen\n",
    "``` \n",
    "Window win = new Window( 100, 50);\n",
    "win.x = 500; \n",
    "win.redraw();\n",
    "```"
   ]
  },
  {
   "cell_type": "markdown",
   "metadata": {
    "slideshow": {
     "slide_type": "slide"
    }
   },
   "source": [
    "### Static (III)\n",
    "\n",
    "Was geschieht wann:\n",
    "\n",
    "Beim Laden der Klasse\n",
    "\n",
    "* Klassenfelder werden angelegt\n",
    "\n",
    "\n",
    "Beim Erzeugen des Objekts\n",
    "\n",
    "* Objektfelder werden angelegt\n",
    "* Konstruktor wird aufgerufen"
   ]
  },
  {
   "cell_type": "markdown",
   "metadata": {
    "slideshow": {
     "slide_type": "slide"
    }
   },
   "source": [
    "### Sichtbarkeitsattribute\n",
    "\n",
    "```java \n",
    "public class Time {\n",
    "    private int timeInSeconds;\n",
    "    \n",
    "    public int getHours() { \n",
    "        return timeInSeconds / 3600;\n",
    "    }\n",
    "    public int getMinutes() { \n",
    "        return timeInSeconds % 3600 / 60;\n",
    "    }\n",
    "}\n",
    "```\n",
    "\n",
    "\n",
    "Die Sichtbarkeitsattribute ```public``` und ```private``` definieren, ob eine Methode oder ein Feld in anderen Klassen verwendet werden kann.\n",
    "\n",
    "* Wenn nichts angegeben wird, ist die Methode/das Feld in anderen Klassen sichtbar\n",
    "* Klassen dürfen als ```public``` nicht jedoch als ```private``` deklariert werden\n",
    "    * Details zu den Zugriffsrechten folgen in Programmieren II\n",
    "\n",
    "\n"
   ]
  },
  {
   "cell_type": "markdown",
   "metadata": {
    "slideshow": {
     "slide_type": "slide"
    }
   },
   "source": [
    "### Sichtbarkeit: Experimente"
   ]
  },
  {
   "cell_type": "code",
   "execution_count": null,
   "metadata": {},
   "outputs": [],
   "source": [
    "class Time {\n",
    "    private int timeInSeconds;\n",
    "    \n",
    "    public Time(int seconds) {\n",
    "        this.timeInSeconds = seconds;\n",
    "    }\n",
    "    \n",
    "    public int getHours() {\n",
    "        return timeInSeconds / 3600;\n",
    "    }\n",
    "}\n",
    "\n",
    "Time t = new Time(10000);\n",
    "t.getHours();\n"
   ]
  },
  {
   "cell_type": "markdown",
   "metadata": {
    "slideshow": {
     "slide_type": "slide"
    }
   },
   "source": [
    "### Wrapperklassen\n",
    "\n",
    "Zu jedem primitiven Typ existiert in Java eine Klasse vom Objekttyp\n",
    "\n",
    "| Primitiver Typ | Klasse |\n",
    "| ---------------|--------|\n",
    "| byte | Byte|\n",
    "| short | Short |\n",
    "| int | Integer | \n",
    "| long | Long | \n",
    "| float | Float |\n",
    "| double | Double |\n",
    "| char | Character | \n",
    "| boolean | Boolean |"
   ]
  },
  {
   "cell_type": "code",
   "execution_count": null,
   "metadata": {},
   "outputs": [],
   "source": [
    "// Experimente"
   ]
  },
  {
   "cell_type": "markdown",
   "metadata": {
    "slideshow": {
     "slide_type": "slide"
    }
   },
   "source": [
    "#### Miniübungen \n",
    "\n",
    "* Definieren Sie eine Klasse ```Point```, sowie eine Klasse ```Vector```, welche einen Punkt respektive einen Vektor im 2-Dimensionalen Raum repräsentieren.\n",
    "    * Definieren Sie folgende Operationen auf der Klasse ```Vector```\n",
    "        * Vektoraddition. Rückgabewert ist neuer Vektor (vom Typ ```Vector```)\n",
    "        * Skalarprodukt zweier Vektoren. Rückgabewert ist das Skalarprodukt (vom Typ ```Double```).\n",
    "        * Berechnung der Norm eines Vektors (Rückgabewert ist die Norm vom Vektor (vom Typ ```Double```).\n",
    "    * Definieren Sie folgende Operationen auf der Klasse ```Point```\n",
    "        * Addition des Punktes mit einem Vektor. Rückgabewert ist ein neuer Punkt (vom Typ ```Point```)\n",
    "    \n",
    "* Schauen Sie sich die [API-Dokumentation](https://docs.oracle.com/javase/10/docs/api/java/lang/Integer.html) der Klasse ```Integer``` an \n",
    "    * Welche Klassenmethoden haben Sie zur Verfügung \n",
    "    * Welche Methoden haben Sie zur Verfügung\n",
    "    * Experimentieren Sie!\n",
    "    "
   ]
  },
  {
   "cell_type": "code",
   "execution_count": null,
   "metadata": {},
   "outputs": [],
   "source": []
  }
 ],
 "metadata": {
  "celltoolbar": "Slideshow",
  "kernelspec": {
   "display_name": "Java",
   "language": "java",
   "name": "java"
  },
  "language_info": {
   "codemirror_mode": "java",
   "file_extension": ".java",
   "mimetype": "text/x-java-source",
   "name": "Java",
   "pygments_lexer": "java",
   "version": "11.0.4+11"
  },
  "rise": {}
 },
 "nbformat": 4,
 "nbformat_minor": 2
}
