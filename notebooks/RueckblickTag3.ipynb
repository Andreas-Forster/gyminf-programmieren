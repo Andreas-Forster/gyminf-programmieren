{
 "cells": [
  {
   "cell_type": "markdown",
   "id": "d7719024",
   "metadata": {
    "slideshow": {
     "slide_type": "slide"
    }
   },
   "source": [
    "# Rückblick Tag 3 - Java\n",
    "\n",
    "#### Andreas Morel-Forster, Departement Mathematik und Informatik, Universität Basel"
   ]
  },
  {
   "cell_type": "markdown",
   "id": "222e7749",
   "metadata": {
    "slideshow": {
     "slide_type": "slide"
    }
   },
   "source": [
    "## Kommentare\n",
    "\n",
    "```Java\n",
    "// Zeilenendkommentar\n",
    "```\n",
    "\n",
    "```Java\n",
    "/* Klammer- ...\n",
    "... kommentar nie schachteln. */\n",
    "```\n",
    "\n",
    "* Kein Einfluss auf das Programm.\n",
    "* Alles ausser Kommentaren muss gültiger Java Code sein.\n",
    "* Soll nicht widerholen was im Code steht, sondern komplementär dazu sein."
   ]
  },
  {
   "cell_type": "markdown",
   "id": "59edaf98",
   "metadata": {
    "slideshow": {
     "slide_type": "slide"
    }
   },
   "source": [
    "## Namen\n",
    "\n",
    "* Enthalten nur Buchstaben, Zahlen und \"_\" .\n",
    "* Dürfen nicht mit einer Zahl beginnen.\n",
    "* Gross-/Kleinschreibung wird unterschieden.\n",
    "* Keine Schlüsselwörter ( if, else, class, ... )\n",
    "\n",
    "```java\n",
    "i\n",
    "x32\n",
    "adressBook\n",
    "```"
   ]
  },
  {
   "cell_type": "markdown",
   "id": "d5a2e26b",
   "metadata": {
    "slideshow": {
     "slide_type": "slide"
    }
   },
   "source": [
    "## Variablen\n",
    "\n",
    "* Deklaration: TYP NAME `;`\n",
    "* Initialisierung - Erste Wertzuweisung\n",
    "* Gleichzeitig: TYP NAME `=` WERT `;`\n",
    "* *statisch Typisiert* - Variablen können den Wert, jedoch nicht den Typ ändern\n",
    "* Zuweisung mit `=` nur an gleiche oder mächtigere Typen von Variablen\n",
    "\n",
    "```java\n",
    "int i; // nur Deklaration\n",
    "double d = 2.0; // gleichzeitige Deklaration und Zuweisung\n",
    "d = i; // erlaubt da double mächtiger ist als int\n",
    "```"
   ]
  },
  {
   "cell_type": "markdown",
   "id": "d5afaff2",
   "metadata": {
    "slideshow": {
     "slide_type": "slide"
    }
   },
   "source": [
    "## Zahlen\n",
    "\n",
    "* Ganze Zahlen - `byte`, `short`, `int`, `long`\n",
    "* Am besten immer `int` verwenden, wenns mal grösser wird `long`\n",
    "* Gleitkomma Zahlen - `float`, `double`\n",
    "* Im Zweifelsfall `double`\n",
    "* Konstanten:  `static final` TYP NAME `=` WERT `;`\n",
    "\n",
    "```java\n",
    "1234 // int\n",
    "1.0f // float\n",
    "3.1415 // double\n",
    "1e6 // eine Million\n",
    "```"
   ]
  },
  {
   "cell_type": "markdown",
   "id": "eb09d304",
   "metadata": {
    "slideshow": {
     "slide_type": "slide"
    }
   },
   "source": [
    "## Operatoren und Vergleiche\n",
    "\n",
    "* Ganze Zahlen `+`, `-`, `*`, `/` (ganzzahlige Division), `%` (Modulo, Divisionsrest), Vorzeichen `+` und `-`\n",
    "* Gleitkommazahlen `+`, `-`, `*`, `/`, Vorzeichen `+` und `-`\n",
    "* Vergleiche `==`, `!=`, `<`, `>`, `>=`, `<=` (aufpassen mit Un-/Gleichheit bei `double` und `float`)\n",
    "* Kurzformen `+=`, `-=`, `*=`, `/=`, (nicht empfohlen `++`, `--`)"
   ]
  },
  {
   "cell_type": "markdown",
   "id": "2095e126",
   "metadata": {
    "slideshow": {
     "slide_type": "slide"
    }
   },
   "source": [
    "## Verzweigungen\n",
    " \n",
    "`if (` BEDINGUNG `) {`\n",
    "    IF-ZWEIG\n",
    "`}`\n",
    "\n",
    "\n",
    "`if (` BEDINGUNG `) {`\n",
    "    IF-ZWEIG\n",
    "`} else {`\n",
    "    ELSE-ZWEIG\n",
    "`}`\n",
    "\n",
    "* If- und Else-Zweig können beliebig viele Anweisungen enthalten, auch geschachtelte If-Anweisungen."
   ]
  },
  {
   "cell_type": "markdown",
   "id": "ffa2a603",
   "metadata": {
    "slideshow": {
     "slide_type": "slide"
    }
   },
   "source": [
    "... Fortsetzung Notebook Verzweigungen"
   ]
  }
 ],
 "metadata": {
  "celltoolbar": "Slideshow",
  "kernelspec": {
   "display_name": "Java",
   "language": "java",
   "name": "java"
  },
  "language_info": {
   "codemirror_mode": "java",
   "file_extension": ".jshell",
   "mimetype": "text/x-java-source",
   "name": "Java",
   "pygments_lexer": "java",
   "version": "16.0.1+9"
  }
 },
 "nbformat": 4,
 "nbformat_minor": 5
}
