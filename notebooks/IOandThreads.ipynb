{
 "cells": [
  {
   "cell_type": "markdown",
   "metadata": {
    "slideshow": {
     "slide_type": "slide"
    }
   },
   "source": [
    "# IO und Threads\n",
    "\n",
    "#### Marcel Lüthi, Departement Mathematik und Informatik, Universität Basel"
   ]
  },
  {
   "cell_type": "markdown",
   "metadata": {
    "slideshow": {
     "slide_type": "slide"
    }
   },
   "source": [
    "### Input / Output\n",
    "\n",
    "> Java bietet flexible Bibliothek für Ein/Ausgabeoperationen\n",
    "\n",
    "* Schwierig zu Nutzen für kleine Anwendungen\n",
    "    * aber flexibel und mächtig für professionelle Anwenung\n",
    "\n",
    "Strategie:\n",
    "* Lernen nach Beispiel / Tutorials\n",
    "* Lesen der Dokumentation\n",
    "\n",
    "[Java IO Tutorial](https://docs.oracle.com/javase/tutorial/essential/io/)\n",
    "[API-Dokumentation](https://docs.oracle.com/en/java/javase/11/docs/api/java.base/java/io/package-summary.html)\n"
   ]
  },
  {
   "cell_type": "markdown",
   "metadata": {},
   "source": [
    "### Streams\n",
    "\n",
    "Wichtigste Abstraktion für Input und Output\n",
    "\n",
    "* Sequenz von Daten \n",
    "\n",
    "![streams](images/io-stream1.gif)\n",
    "![streams](images/io-stream2.gif)\n",
    "*Quelle: Oracle: Java Tutorial*"
   ]
  },
  {
   "cell_type": "markdown",
   "metadata": {},
   "source": [
    "### Arten von Streams\n",
    "\n",
    "* Bytestream - Liest einzelne Bytes\n",
    "    * Wichtige Unterklassen : FileInputStream und FileOuputStream\n",
    "* Characterstream - Konvertiert zusätzlich zwischen Zeichensätzen\n",
    "    * Wichtige Unterklassen: FileReader, FileWriter, PrintWriter\n",
    "* Filterstreams - Adapter um Streams, z.B. für automatisches Puffern von Daten\n",
    "    * Wichtige Unterklassen: BufferedReader, BufferedWriter, BufferedInputStream, BufferedOutputStream\n",
    "* Datastreams - Lesen/Schreiben von Datentypen im Binärformat\n",
    "\n",
    "Filter können ineinander verschachtelt werden\n",
    "![io-filters](images/io-filters.png)\n",
    "\n",
    "\n"
   ]
  },
  {
   "cell_type": "markdown",
   "metadata": {},
   "source": [
    "### Beispiel: Lesen und Schreiben einer Textdatei"
   ]
  },
  {
   "cell_type": "code",
   "execution_count": null,
   "metadata": {},
   "outputs": [],
   "source": [
    "import java.io.FileReader;\n",
    "import java.io.FileWriter;\n",
    "import java.io.BufferedReader;\n",
    "import java.io.PrintWriter;\n",
    "import java.io.IOException;\n",
    "\n",
    "BufferedReader inputStream = null;\n",
    "PrintWriter outputStream = null;\n",
    "\n",
    "try {\n",
    "    inputStream = new BufferedReader(new FileReader(\"xanadu.txt\"));\n",
    "    outputStream = new PrintWriter(new FileWriter(\"xanadu-uppercase.txt\"));\n",
    "\n",
    "    String l;\n",
    "    while ((l = inputStream.readLine()) != null) {\n",
    "        System.out.println(l); // Ausgeben auf Konsole\n",
    "        outputStream.println(l.toUpperCase()); // In File schreiben\n",
    "    }\n",
    "} catch (IOException e) {\n",
    "    System.out.println(\"An error occured during IO: \" +e.getMessage());\n",
    "} finally {\n",
    "    if (inputStream != null) {\n",
    "        inputStream.close();\n",
    "    }\n",
    "    if (outputStream != null) {\n",
    "        outputStream.close();\n",
    "    }\n",
    "}\n"
   ]
  },
  {
   "cell_type": "markdown",
   "metadata": {
    "slideshow": {
     "slide_type": "slide"
    }
   },
   "source": [
    "### File: Abstraktion für Dateinamen"
   ]
  },
  {
   "cell_type": "markdown",
   "metadata": {
    "slideshow": {
     "slide_type": "slide"
    }
   },
   "source": [
    "# Threads"
   ]
  },
  {
   "attachments": {},
   "cell_type": "markdown",
   "metadata": {
    "slideshow": {
     "slide_type": "slide"
    }
   },
   "source": [
    "### Gleichzeitige Ausführung von Programmteilen\n",
    "\n",
    "Verschiedene Teile eines Programms sollen \"gleichzeitig\" laufen\n",
    "\n",
    "Beispiel:\n",
    "* Fortschrittsbalken soll aktualisiert werden während Berechnung läuft\n",
    "\n",
    "Umsetzung in Java\n",
    "\n",
    "* Thread als Konzept für nebenläufige Berechnungen \n",
    "\n",
    "\n",
    "![threads](images/threads.png)\n",
    "\n",
    "\n",
    "Threads laufen nur quasi-parallel! \n",
    "In Wirklichkeit  läuft jeder Thread nur für sehr kurze Zeit und gibt dann Kontrolle an den nächsten Thread ab. \n"
   ]
  },
  {
   "attachments": {},
   "cell_type": "markdown",
   "metadata": {
    "slideshow": {
     "slide_type": "slide"
    }
   },
   "source": [
    "### Erzeugen von Threads\n",
    "\n",
    "Einfaches Rezept zum Erzeugen eines Threads\n",
    "\n",
    "1. Eigene Klasse von  java.lang.Thread ableiten.\n",
    "2. Eigenen Kode in die  run() Methode  schreiben.\n",
    "3. Thread mit der  start() Methode starten."
   ]
  },
  {
   "cell_type": "markdown",
   "metadata": {
    "slideshow": {
     "slide_type": "slide"
    }
   },
   "source": [
    "### Beispiel\n",
    "\n",
    "Folgende Berechnung soll in verschiedenen Threads mehrmals ausgeführt werden"
   ]
  },
  {
   "cell_type": "code",
   "execution_count": 61,
   "metadata": {},
   "outputs": [],
   "source": [
    "// Sinnfreie, aber lange Rechnung, \n",
    "// die nicht jedesmal gleich lange braucht\n",
    "double longRunningComputation() { \n",
    "    java.util.Random rng = new java.util.Random();\n",
    "    int n = rng.nextInt() / 8;\n",
    "    double sum = 0; \n",
    "    for (int j = 0; j < n; j++) {\n",
    "        sum += Math.sin(j);\n",
    "    }\n",
    "    return sum;\n",
    "}"
   ]
  },
  {
   "cell_type": "code",
   "execution_count": 62,
   "metadata": {},
   "outputs": [
    {
     "data": {
      "text/plain": [
       "0.0"
      ]
     },
     "execution_count": 62,
     "metadata": {},
     "output_type": "execute_result"
    }
   ],
   "source": [
    "longRunningComputation()"
   ]
  },
  {
   "cell_type": "markdown",
   "metadata": {
    "slideshow": {
     "slide_type": "slide"
    }
   },
   "source": [
    "### Beispiel (cont): Subklasse von Thread definieren"
   ]
  },
  {
   "cell_type": "code",
   "execution_count": 63,
   "metadata": {},
   "outputs": [],
   "source": [
    "class MyThread extends Thread {\n",
    "\n",
    "    PrintWriter writer;\n",
    "    String name;\n",
    "   \n",
    "    MyThread(String name, PrintWriter writer) {\n",
    "       this.name  = name;\n",
    "       this.writer = writer;\n",
    "    }\n",
    "    \n",
    "    @Override\n",
    "    public void run() { \n",
    "        \n",
    "        for (int i = 0; i < 10; i++) {\n",
    "            double res = longRunningComputation();\n",
    "            writer.println(\"Resultat in thread \" +name +res);\n",
    "        }\n",
    "    }\n",
    "}"
   ]
  },
  {
   "cell_type": "markdown",
   "metadata": {},
   "source": [
    "### Threads starten"
   ]
  },
  {
   "cell_type": "code",
   "execution_count": 64,
   "metadata": {},
   "outputs": [],
   "source": [
    "StringWriter writer = new StringWriter();\n",
    "PrintWriter outputStream = new PrintWriter(writer);\n",
    "\n",
    "MyThread thread1 = new MyThread(\"Thread1\", outputStream);\n",
    "MyThread thread2 = new MyThread(\"Thread2\", outputStream);\n",
    "\n",
    "thread1.start();\n",
    "thread2.start();"
   ]
  },
  {
   "cell_type": "code",
   "execution_count": 60,
   "metadata": {},
   "outputs": [
    {
     "data": {
      "text/plain": [
       "Resultat in thread Thread20.0\r\n"
      ]
     },
     "execution_count": 60,
     "metadata": {},
     "output_type": "execute_result"
    }
   ],
   "source": [
    "writer.toString()"
   ]
  }
 ],
 "metadata": {
  "celltoolbar": "Slideshow",
  "kernelspec": {
   "display_name": "Java",
   "language": "java",
   "name": "java"
  },
  "language_info": {
   "codemirror_mode": "java",
   "file_extension": ".java",
   "mimetype": "text/x-java-source",
   "name": "Java",
   "pygments_lexer": "java",
   "version": "11.0.4+11"
  },
  "rise": {}
 },
 "nbformat": 4,
 "nbformat_minor": 2
}
