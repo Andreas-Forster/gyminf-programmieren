{
 "cells": [
  {
   "cell_type": "markdown",
   "metadata": {},
   "source": [
    "### Google Colab Integration\n",
    "\n",
    "Die folgende Zelle können Sie überspringen, wenn Sie mit einer lokalen Installation arbeiten. Wenn Sie das Notebook auf Google-Colab ausführen, dann müssen Sie als erstes diese Zelle ausführen und danach die Seite neu laden (F5)."
   ]
  },
  {
   "cell_type": "code",
   "execution_count": null,
   "metadata": {
    "slideshow": {
     "slide_type": "skip"
    }
   },
   "outputs": [],
   "source": [
    "!echo \"Update environment...\"\n",
    "!apt update -q  &> /dev/null\n",
    "!echo \"Install Java...\"\n",
    "!apt-get install -q openjdk-11-jdk-headless &> /dev/null\n",
    "!echo \"Install Jupyter java kernel...\"\n",
    "!curl -L https://github.com/SpencerPark/IJava/releases/download/v1.3.0/ijava-1.3.0.zip -o ijava-kernel.zip &> /dev/null\n",
    "!unzip -q ijava-kernel.zip -d ijava-kernel && cd ijava-kernel && python3 install.py --sys-prefix &> /dev/null\n",
    "!echo \"Downloading turtle jar ...\"\n",
    "!curl -L https://github.com/Andreas-Forster/gyminf-programmieren/raw/master/notebooks/jturtle-0.6.jar -o jturtle-0.6.jar &> /dev/null\n",
    "!echo \"Done.\""
   ]
  },
  {
   "cell_type": "markdown",
   "metadata": {
    "slideshow": {
     "slide_type": "slide"
    }
   },
   "source": [
    "# IO und Threads\n",
    "\n",
    "#### Marcel Lüthi, Departement Mathematik und Informatik, Universität Basel"
   ]
  },
  {
   "cell_type": "markdown",
   "metadata": {
    "slideshow": {
     "slide_type": "slide"
    }
   },
   "source": [
    "### Input / Output\n",
    "\n",
    "> Java bietet flexible Bibliothek für Ein/Ausgabeoperationen\n",
    "\n",
    "* Schwierig zu Nutzen für kleine Anwendungen\n",
    "    * aber flexibel und mächtig für professionelle Anwendung\n",
    "\n",
    "Strategie:\n",
    "* Lernen nach Beispiel / Tutorials\n",
    "* Lesen der Dokumentation\n",
    "\n",
    "[Java IO Tutorial](https://docs.oracle.com/javase/tutorial/essential/io/)\n",
    "[API-Dokumentation](https://docs.oracle.com/en/java/javase/11/docs/api/java.base/java/io/package-summary.html)\n"
   ]
  },
  {
   "cell_type": "markdown",
   "metadata": {
    "slideshow": {
     "slide_type": "slide"
    }
   },
   "source": [
    "### Streams\n",
    "\n",
    "Wichtigste Abstraktion für Input und Output\n",
    "\n",
    "* Sequenz von Daten \n",
    "\n",
    "![streams](images/io-stream1.gif)\n",
    "![streams](images/io-stream2.gif)\n",
    "*Quelle: Oracle Java Tutorial*"
   ]
  },
  {
   "cell_type": "markdown",
   "metadata": {
    "slideshow": {
     "slide_type": "slide"
    }
   },
   "source": [
    "### Arten von Streams\n",
    "\n",
    "* Bytestream - Liest einzelne Bytes\n",
    "    * Wichtige Unterklassen : FileInputStream und FileOuputStream"
   ]
  },
  {
   "cell_type": "markdown",
   "metadata": {
    "slideshow": {
     "slide_type": "fragment"
    }
   },
   "source": [
    "* Characterstream - Liest Characters \n",
    "    * Wichtige Unterklassen: FileReader, FileWriter, PrintWriter"
   ]
  },
  {
   "cell_type": "markdown",
   "metadata": {
    "slideshow": {
     "slide_type": "fragment"
    }
   },
   "source": [
    "* Filterstreams - Adapter um Streams, z.B. für automatisches Puffern von Daten\n",
    "    * Wichtige Unterklassen: BufferedReader, BufferedWriter, BufferedInputStream, BufferedOutputStream"
   ]
  },
  {
   "cell_type": "markdown",
   "metadata": {
    "slideshow": {
     "slide_type": "fragment"
    }
   },
   "source": [
    "* Datastreams - Lesen/Schreiben von Datentypen im Binärformat"
   ]
  },
  {
   "cell_type": "markdown",
   "metadata": {
    "slideshow": {
     "slide_type": "slide"
    }
   },
   "source": [
    "### Verschachteln von Streams\n",
    "\n",
    "\n",
    "Filter können ineinander verschachtelt werden\n",
    "![io-filters](images/io-filters.png)\n",
    "\n",
    "```java\n",
    "new DataOutputStream(new BufferedOutputStream(new FileOutputStream(\"file.txt\")));\n",
    "```"
   ]
  },
  {
   "cell_type": "markdown",
   "metadata": {
    "slideshow": {
     "slide_type": "slide"
    }
   },
   "source": [
    "### Beispiel: Lesen und Schreiben einer Textdatei"
   ]
  },
  {
   "cell_type": "code",
   "execution_count": null,
   "metadata": {},
   "outputs": [],
   "source": [
    "// Beispiel wird hier entwickelt"
   ]
  },
  {
   "cell_type": "markdown",
   "metadata": {
    "slideshow": {
     "slide_type": "slide"
    }
   },
   "source": [
    "### File: Abstraktion für Dateinamen\n",
    "\n",
    "> Plattformunabhänige Definition von Datei und Verzeichnis Namen. \n",
    "\n",
    "Erzeugen eines File Objekts\n",
    "```java\n",
    "\tFile myfile = new File(“/some/path/to/a/file”); \t\t\n",
    "```\n",
    "\n",
    "Abfragen des Pfads:\n",
    "```java\n",
    "    myfile.getName(); // Gibt Dateiname aus\n",
    "    myfile.getPath(); // Gibt relativen Pfad zurück\n",
    "    myfile.getAbsolutePath(); // Gibt Absoluten Pfad zurück\n",
    "```"
   ]
  },
  {
   "cell_type": "markdown",
   "metadata": {
    "slideshow": {
     "slide_type": "slide"
    }
   },
   "source": [
    "### Miniübung\n",
    "\n",
    "* Experimentieren Sie mit dem File Objekt. Welche Methoden stellt es zur Verfügung?\n",
    "    * Wie bauen Sie Pfade aus einzelnen Verzeichnissen auf\n",
    "    * Wie können Sie nachschauen, ob eine Datei existiert\n",
    "    * Können Sie ein Verzeichnis erstellen?"
   ]
  },
  {
   "cell_type": "code",
   "execution_count": null,
   "metadata": {},
   "outputs": [],
   "source": [
    "// Ihre Experimente"
   ]
  },
  {
   "cell_type": "markdown",
   "metadata": {
    "slideshow": {
     "slide_type": "slide"
    }
   },
   "source": [
    "# Threads"
   ]
  },
  {
   "cell_type": "markdown",
   "metadata": {
    "slideshow": {
     "slide_type": "slide"
    }
   },
   "source": [
    "### Gleichzeitige Ausführung von Programmteilen\n",
    "\n",
    "Manchmal sollen verschiedene Teile eines Programms \"gleichzeitig\" laufen\n",
    "* Beispiel: Fortschrittsbalken aktualisieren während Berechnung läuft\n",
    "\n",
    "#### Umsetzung in Java: Threads\n",
    "\n",
    "![threads](images/threads.png)\n",
    "\n",
    "Quasiparallele Ausführung verschiedener Programmteile"
   ]
  },
  {
   "cell_type": "markdown",
   "metadata": {
    "slideshow": {
     "slide_type": "slide"
    }
   },
   "source": [
    "### Erzeugen von Threads\n",
    "\n",
    "Einfaches Rezept zum Erzeugen eines Threads\n",
    "\n",
    "1. Eigene Klasse von  java.lang.Thread ableiten.\n",
    "2. Eigenen Kode in die  run() Methode  schreiben.\n",
    "3. Thread mit der  start() Methode starten."
   ]
  },
  {
   "cell_type": "markdown",
   "metadata": {
    "slideshow": {
     "slide_type": "slide"
    }
   },
   "source": [
    "### Beispiel\n",
    "\n",
    "Folgende Berechnung soll in verschiedenen Threads mehrmals ausgeführt werden"
   ]
  },
  {
   "cell_type": "code",
   "execution_count": null,
   "metadata": {},
   "outputs": [],
   "source": [
    "// Sinnfreie, aber lange Rechnung, \n",
    "// die nicht jedesmal gleich lange braucht\n",
    "double longRunningComputation() { \n",
    "    java.util.Random rng = new java.util.Random();\n",
    "    int n = rng.nextInt() / 8;\n",
    "    double sum = 0; \n",
    "    for (int j = 0; j < n; j++) {\n",
    "        sum += Math.sin(j);\n",
    "    }\n",
    "    return sum;\n",
    "}"
   ]
  },
  {
   "cell_type": "code",
   "execution_count": null,
   "metadata": {},
   "outputs": [],
   "source": [
    "longRunningComputation()"
   ]
  },
  {
   "cell_type": "markdown",
   "metadata": {
    "slideshow": {
     "slide_type": "slide"
    }
   },
   "source": [
    "### Beispiel (cont): Subklasse von Thread definieren"
   ]
  },
  {
   "cell_type": "code",
   "execution_count": null,
   "metadata": {},
   "outputs": [],
   "source": [
    "class MyThread extends Thread {\n",
    "\n",
    "    PrintWriter writer;\n",
    "    String name;\n",
    "   \n",
    "    MyThread(String name, PrintWriter writer) {\n",
    "       this.name  = name;\n",
    "       this.writer = writer;\n",
    "    }\n",
    "    \n",
    "    @Override\n",
    "    public void run() { \n",
    "        \n",
    "        for (int i = 0; i < 10; i++) {\n",
    "            double res = longRunningComputation();\n",
    "            writer.println(\"Resultat in thread \" +name +res);\n",
    "        }\n",
    "    }\n",
    "}"
   ]
  },
  {
   "cell_type": "markdown",
   "metadata": {
    "slideshow": {
     "slide_type": "slide"
    }
   },
   "source": [
    "### Threads starten"
   ]
  },
  {
   "cell_type": "code",
   "execution_count": null,
   "metadata": {},
   "outputs": [],
   "source": [
    "StringWriter writer = new StringWriter();\n",
    "PrintWriter outputStream = new PrintWriter(writer);\n",
    "\n",
    "MyThread thread1 = new MyThread(\"Thread1\", outputStream);\n",
    "MyThread thread2 = new MyThread(\"Thread2\", outputStream);\n",
    "\n",
    "thread1.start();\n",
    "thread2.start();"
   ]
  },
  {
   "cell_type": "code",
   "execution_count": null,
   "metadata": {},
   "outputs": [],
   "source": [
    "writer.toString()"
   ]
  }
 ],
 "metadata": {
  "celltoolbar": "Slideshow",
  "kernelspec": {
   "display_name": "Java",
   "language": "java",
   "name": "java"
  },
  "language_info": {
   "codemirror_mode": "java",
   "file_extension": ".jshell",
   "mimetype": "text/x-java-source",
   "name": "Java",
   "pygments_lexer": "java",
   "version": "16.0.1+9"
  },
  "rise": {}
 },
 "nbformat": 4,
 "nbformat_minor": 2
}
