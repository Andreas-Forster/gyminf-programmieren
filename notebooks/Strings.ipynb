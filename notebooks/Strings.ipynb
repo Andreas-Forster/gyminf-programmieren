{
 "cells": [
  {
   "cell_type": "markdown",
   "metadata": {
    "slideshow": {
     "slide_type": "slide"
    }
   },
   "source": [
    "# Character und Strings\n",
    "\n",
    "#### Marcel Lüthi, Departement Mathematik und Informatik, Universität Basel"
   ]
  },
  {
   "cell_type": "markdown",
   "metadata": {
    "slideshow": {
     "slide_type": "slide"
    }
   },
   "source": [
    "### Datentyp Char\n",
    "\n",
    "```java\n",
    "char ch = 'x';\n",
    "```\n",
    "\n",
    "##### Zeichenkonstanten\n",
    "\n",
    "Zeichen wird in einfache Hochkommas gesetzt.\n",
    "\n",
    "Beispiele\n",
    "* 'x' - Der Buchstaben x\n",
    "* '0' - Das Zeichen (nicht Zahl) 0\n",
    "* '?' - Fragezeichen"
   ]
  },
  {
   "cell_type": "markdown",
   "metadata": {
    "slideshow": {
     "slide_type": "fragment"
    }
   },
   "source": [
    "> Zeichen werden intern durch (Binär-)zahlen codiert"
   ]
  },
  {
   "cell_type": "markdown",
   "metadata": {
    "slideshow": {
     "slide_type": "slide"
    }
   },
   "source": [
    "### Zeichencodes\n",
    "\n",
    "ASCII-Code *(Ascii = American Standard Code for Information Interchange)*\n",
    "\n",
    "![ascii](images/ascii.png)"
   ]
  },
  {
   "cell_type": "markdown",
   "metadata": {
    "slideshow": {
     "slide_type": "slide"
    }
   },
   "source": [
    "### Unicode\n",
    "\n",
    "Erweiterung des Zeichensatzes für die globale Welt.\n",
    "\n",
    "|Wertebreich | Zeichenklasse |\n",
    "|------------|---------------|\n",
    "| 0 - 128    |  ASCII-Zeichen |\n",
    "| 129 - 591  | Umlaute, Akezente, Sonderzeichen |\n",
    "| 880 - 1023 | Griechische Zeichen |\n",
    "| 1024-1279  | kyrillische Zeichen |\n",
    "| 1536-1791  |  arabische Zeichen |\n"
   ]
  },
  {
   "cell_type": "markdown",
   "metadata": {
    "slideshow": {
     "slide_type": "slide"
    }
   },
   "source": [
    "### Spezielle Zeichen in ASCII (und Unicode)\n",
    "\n",
    "* `'\\n'`Line feed\n",
    "* `'\\r'` Carriage return\n",
    "* `'\\t'` Tabulator\n",
    "* `'\\\\'` Backslash \\\n",
    "* `'\\''`  Hochkomma '"
   ]
  },
  {
   "cell_type": "code",
   "execution_count": null,
   "metadata": {},
   "outputs": [],
   "source": [
    "// probieren Sie es aus\n",
    "\n",
    "System.out.print(\"*\"); // markiert Anfang\n",
    "System.out.print('?'); // Ihr Character\n",
    "System.out.print(\"*\"); // markiert Ende"
   ]
  },
  {
   "cell_type": "markdown",
   "metadata": {
    "slideshow": {
     "slide_type": "slide"
    }
   },
   "source": [
    "### Zeichen-Operationen (I)\n",
    "\n",
    "##### Zuweisungen \n",
    "\n",
    "```java \n",
    "char c1 = 'a';\n",
    "```\n",
    "\n",
    "Char kann int-Variable zugewiesen werden\n",
    "```java\n",
    "int i = c1;\n",
    "```\n",
    "\n",
    "Zuweisung von int-Variable zu char brauch Cast (warum?)\n",
    "```java\n",
    "char c2 = (int) i;\n",
    "```"
   ]
  },
  {
   "cell_type": "code",
   "execution_count": null,
   "metadata": {
    "slideshow": {
     "slide_type": "fragment"
    }
   },
   "outputs": [],
   "source": [
    "// Experimentierbereich"
   ]
  },
  {
   "cell_type": "markdown",
   "metadata": {
    "slideshow": {
     "slide_type": "slide"
    }
   },
   "source": [
    "### Zeichen-Operationen (II)\n",
    "\n",
    "##### Vergleiche\n",
    "\n",
    "Übliche Zeichenoperationen (`==`, `!=`, `<`, `<=`, `>=`, `>`, `>=`) werden unterstützt\n",
    "* Ordnung: gemäss Unicode-Wert\n",
    "\n",
    "#### Arithmetische Operationen \n",
    "\n",
    "Char unterstzt die Operationen (`+`, `-`, `*`, `/`, `%`). \n",
    "* Ergebnistyp ist *int* \n"
   ]
  },
  {
   "cell_type": "markdown",
   "metadata": {
    "slideshow": {
     "slide_type": "slide"
    }
   },
   "source": [
    "### Standardfunktionen mit Zeichen\n",
    "\n",
    "Die Java-Klasse Character definiert Standardfunktionen um mit Character zu arbeiten\n",
    "\n",
    "Beispiele:\n",
    "\n",
    "* ```Character.isLetter(c)```  - Wahr, wenn c ein Unicode-Buchstabe ist\n",
    "* ```Character.isDigit(c)``` - Wahr, wenn c eine Ziffer ist\n",
    "* ```Character.isLowerCase(c)``` - Wahr, wenn c ein Kleinbuchstabe ist\n",
    "* ```Character.toUpperCase(c)``` - Wandelt Zeichen c in Grossbuchstabe um \n"
   ]
  },
  {
   "cell_type": "markdown",
   "metadata": {
    "slideshow": {
     "slide_type": "slide"
    }
   },
   "source": [
    "#### Miniübung\n",
    "\n",
    "* Was gibt folgendes Programm aus? Weshalb?\n",
    "\n",
    "```java\n",
    "char c = '7';\n",
    "System.out.println(c - '0');\n",
    "```\n",
    "\n",
    "* Schreiben Sie ein Programm, welche die ersten 128 Unicode Zeichen ausgibt. \n",
    "* Experimentieren Sie mit den Methoden in der Klasse Character. Eine Liste aller Methoden erhalten Sie, wenn Sie Character. in eine Codezelle schreiben und danach die Tab Taste drücken. \n",
    "* Definieren Sie ein Array von Charactern, welches dem Text \"hello world\" entspricht.\n",
    "    * Schreiben Sie eine Methode ```printText```, die ein Char-Array nimmt und dieses mithilfe der Methode ```System.out.print``` ausgibt.\n",
    "* Schreiben Sie eine Methode ```boolean containsPattern(char[] pat, char[] text)```, welches true zurückgibt, wenn die Zeichen in ```pat``` als Zeichenfolge im Text ```text``` vorkommen. "
   ]
  },
  {
   "cell_type": "code",
   "execution_count": null,
   "metadata": {},
   "outputs": [],
   "source": []
  },
  {
   "cell_type": "markdown",
   "metadata": {
    "slideshow": {
     "slide_type": "slide"
    }
   },
   "source": [
    "### Strings\n",
    "\n",
    "```String```: Standard-Datentyp von Java um Zeichenketten zu repräsentieren.\n",
    "\n",
    "\n",
    "##### Stringkonstanten\n",
    "\n",
    "Zeichenketten werden in doppelte Hochkommas gesetzt. \n",
    "\n",
    "#### Initialisierung\n",
    "\n",
    "Direkt mit Stringkonstante \n",
    "```java \n",
    "String s = \"hello world\";\n",
    "```\n",
    "oder \n",
    "\n",
    "explizit mit ```new``` Operator \n",
    "```java\n",
    "String s = new String(\"hello world\");\n",
    "```\n"
   ]
  },
  {
   "cell_type": "markdown",
   "metadata": {
    "slideshow": {
     "slide_type": "slide"
    }
   },
   "source": [
    "### Gleichheit von Strings\n",
    "\n",
    "String ist (wie Array) ein Referenzdatentyp. \n",
    "\n",
    "* Stringvariable enthält nur Referenz auf Zeichenkette\n",
    "* Gleichheitsoperator ```==``` vergleicht Referenzen und nicht Inhalt\n",
    "\n",
    "> Vergleich von Strings erfolgt mittels der Methode ```equals```;\n",
    "\n"
   ]
  },
  {
   "cell_type": "code",
   "execution_count": null,
   "metadata": {},
   "outputs": [],
   "source": [
    "String s1 = new String(\"abc\");\n",
    "String s2 = new String(\"abc\");\n",
    "\n",
    "System.out.println(s1 == s2);\n",
    "System.out.println(s1.equals(s2));"
   ]
  },
  {
   "cell_type": "markdown",
   "metadata": {
    "slideshow": {
     "slide_type": "slide"
    }
   },
   "source": [
    "### Stringkonkatenation\n",
    "\n",
    "```s1 + s2``` Erzeugt neues Stringobjekt durch Verkettung von ```s1``` und ```s2```\n",
    "\n",
    "* Relativ teure Operation\n"
   ]
  },
  {
   "cell_type": "code",
   "execution_count": null,
   "metadata": {},
   "outputs": [],
   "source": [
    "String s1 = \"hello \";;\n",
    "String s2 = \"world\";\n",
    "\n",
    "String s3 = s1 + s2;\n",
    "System.out.println(s3);\n",
    "// oder direkt\n",
    "System.out.println(s1 + s2);"
   ]
  },
  {
   "cell_type": "markdown",
   "metadata": {
    "slideshow": {
     "slide_type": "slide"
    }
   },
   "source": [
    "### Standardfunktionen auf Strings\n",
    "\n",
    "Die Klasse String definiert viele nützliche Standardfunktionen\n",
    "\n",
    "Beispiele:\n",
    "```java \n",
    "String s = \"a long String\";\n",
    "```\n",
    "\n",
    "* ```int len = s.length()``` - Länge vom String\n",
    "* ```char ch = s.charAt(3)``` - Zeichen mit Index 3 (viertes Zeichen) im String\n",
    "* ```int i = s.indexOf(\"ng\")``` Liefert Index des 1. Vorkommens von \"ng\" in ```s``` (hier 4)\n",
    "* ```int i = s.indexOf(\"ng\", 5)``` Liefert Index des 1. Vorkommens von \"ng\" in ```s``` ab Position 5 (hier 11)\n",
    "* ```String x = s.substring(2, 6); ``` Liefert Teilstring ```s[2..5]``` (hier \"long\")\n",
    "* ```s.startsWith(\"abc\")```Gibt Wahr, falls ```s``` mit \"abc\" beginnt.\n",
    "\n"
   ]
  },
  {
   "cell_type": "code",
   "execution_count": null,
   "metadata": {},
   "outputs": [],
   "source": [
    "// Experimentierbereich"
   ]
  },
  {
   "cell_type": "markdown",
   "metadata": {
    "slideshow": {
     "slide_type": "slide"
    }
   },
   "source": [
    "#### Miniübungen\n",
    "\n",
    "* Explorieren Sie welche Methoden Sie auf Strings zur Verfügung haben. Sie erhalten eine Liste der Methoden indem sie in einer Codezelle ein String Objekt mit anschliessenden Punkt schreiben (also z.b \"abc\".) und danach die Tabulatortaste drücken.\n",
    "* Experimentieren Sie mit den verschiedenen Methoden\n",
    "* Finden Sie eine Methode, mit der Sie einen gegebenen String verändern können?"
   ]
  },
  {
   "cell_type": "markdown",
   "metadata": {
    "slideshow": {
     "slide_type": "slide"
    }
   },
   "source": [
    "#### Aufbauen von String mit StringBuffer\n",
    "\n",
    "> StringBuffer: Wie String, aber modifizierbar\n",
    "\n",
    "StringBuffer erzeugen\n",
    "```java\n",
    "StringBuffer sb = new StringBuffer();\n",
    "```\n",
    "\n",
    "Werte hinzufügen\n",
    "```java\n",
    "sb.append(\"a\");\n",
    "sb.append(7);\n",
    "sb.append('c')\n",
    "```\n",
    "\n",
    "In String umwandeln\n",
    "```java\n",
    "String s = sb.toString();\n",
    "```\n"
   ]
  },
  {
   "cell_type": "markdown",
   "metadata": {
    "slideshow": {
     "slide_type": "slide"
    }
   },
   "source": [
    "### Miniübung\n",
    "\n",
    "* Implementieren Sie eine Methode ```reverse```, die einen String als Argument nimmt und den String rückwärts zurückgibt. Also \"abc\" wird zu \"cba\". Nutzen Sie dazu einen StringBuffer.\n",
    "* Welche anderen Methoden stellt StringBuffer zur Verfügung? Experimentieren Sie.\n",
    "\n"
   ]
  },
  {
   "cell_type": "code",
   "execution_count": null,
   "metadata": {},
   "outputs": [],
   "source": []
  }
 ],
 "metadata": {
  "celltoolbar": "Slideshow",
  "kernelspec": {
   "display_name": "Java",
   "language": "java",
   "name": "java"
  },
  "language_info": {
   "codemirror_mode": "java",
   "file_extension": ".java",
   "mimetype": "text/x-java-source",
   "name": "Java",
   "pygments_lexer": "java",
   "version": "11.0.4+11"
  }
 },
 "nbformat": 4,
 "nbformat_minor": 2
}
