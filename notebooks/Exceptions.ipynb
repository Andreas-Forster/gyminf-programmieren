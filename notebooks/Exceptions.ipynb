{
 "cells": [
  {
   "cell_type": "markdown",
   "metadata": {
    "slideshow": {
     "slide_type": "slide"
    }
   },
   "source": [
    "# Fehlerbehandlung mit Exceptions\n",
    "\n",
    "#### Marcel Lüthi, Departement Mathematik und Informatik, Universität Basel"
   ]
  },
  {
   "cell_type": "markdown",
   "metadata": {
    "slideshow": {
     "slide_type": "slide"
    }
   },
   "source": [
    "### Fehlerbehandlung"
   ]
  },
  {
   "cell_type": "markdown",
   "metadata": {},
   "source": [
    "Methoden können unter gewissen Umständen fehlschlagen\n",
    "\n",
    "Beispiele:\n",
    "* Lesen eines nicht existierenden Elements in Array\n",
    "* Nutzen einer Datei, die nicht vorhanden ist\n",
    "* Division durch 0\n",
    "* ...\n",
    "\n",
    "> Gute Fehlerbehandlung Schlüssel zu stabilen Programmen"
   ]
  },
  {
   "cell_type": "markdown",
   "metadata": {
    "slideshow": {
     "slide_type": "slide"
    }
   },
   "source": [
    "### Fehlerbehandlung\n",
    "\n",
    "Was soll die folgende Methode zurückgeben wenn durch 0 dividiert wird?\n",
    "```java\n",
    "int divide(int a, int b) {\n",
    "    return a / b;\n",
    "}\n",
    "```"
   ]
  },
  {
   "cell_type": "markdown",
   "metadata": {
    "slideshow": {
     "slide_type": "slide"
    }
   },
   "source": [
    "### Fehlerbehandlung mit \"Hausmitteln\"\n",
    "\n",
    "```java\n",
    "static final int ERROR = -9999999999;\n",
    "\n",
    "int divide(int a, int b) { \n",
    "    if (b == 0) {\n",
    "        return ERROR;\n",
    "    } else { \n",
    "        return a / b;\n",
    "    }\n",
    "}\n",
    "```"
   ]
  },
  {
   "cell_type": "markdown",
   "metadata": {
    "slideshow": {
     "slide_type": "slide"
    }
   },
   "source": [
    "### Fehlerbehandlung mit \"Hausmitteln\"\n",
    "\n",
    "Beispiel: Berechne ```(a / b) / d```"
   ]
  },
  {
   "cell_type": "code",
   "execution_count": null,
   "metadata": {},
   "outputs": [],
   "source": [
    "// Code"
   ]
  },
  {
   "cell_type": "markdown",
   "metadata": {
    "slideshow": {
     "slide_type": "slide"
    }
   },
   "source": [
    "### Nachteile unserer Fehlerbehandlung\n",
    "\n",
    "* Brauchen speziellen Fehlerwert. \n",
    "    * Was ist wenn Resultat Fehlerwert entspricht?\n",
    "* Fehler kann von Nutzer der Methode vergessen oder ignoriert werden\n",
    "* Tief-verschachtelte ```if's``` wenn mehrere Aufrufe zu Fehler führen können"
   ]
  },
  {
   "cell_type": "markdown",
   "metadata": {
    "slideshow": {
     "slide_type": "slide"
    }
   },
   "source": [
    "### Was macht Java?\n"
   ]
  },
  {
   "cell_type": "code",
   "execution_count": null,
   "metadata": {},
   "outputs": [],
   "source": [
    "int div(int a, int b) {\n",
    "    return a / b;\n",
    "}\n",
    "div(1, 0);"
   ]
  },
  {
   "cell_type": "markdown",
   "metadata": {
    "slideshow": {
     "slide_type": "slide"
    }
   },
   "source": [
    "### Exceptions\n",
    "\n",
    "> Klassen der Java Bibliothek, die Fehler anzeigen\n",
    "\n",
    "Grundsätzliche normale Java-Klasse (siehe [API-Documentation](https://docs.oracle.com/en/java/javase/11/docs/api/java.base/java/lang/ArithmeticException.html) )"
   ]
  },
  {
   "cell_type": "code",
   "execution_count": 5,
   "metadata": {},
   "outputs": [
    {
     "name": "stdout",
     "output_type": "stream",
     "text": [
      "Fehler in Berechnung\n"
     ]
    }
   ],
   "source": [
    "ArithmeticException e = new ArithmeticException(\"Fehler in Berechnung\");\n",
    "System.out.println(e.getMessage());"
   ]
  },
  {
   "cell_type": "markdown",
   "metadata": {
    "slideshow": {
     "slide_type": "slide"
    }
   },
   "source": [
    "#### Miniübung\n",
    "\n",
    "Schauen Sie sich die [API-Documentation](https://docs.oracle.com/en/java/javase/11/docs/api/java.base/java/lang/ArithmeticException.html) an.\n",
    "\n",
    "* Von welcher Klasse erbt ArithmeticException?\n",
    "* Können Sie eine eigene Exception definieren?\n",
    "* Was macht die Methode printStackTrace()?\n",
    "* Probieren Sie es aus.\n"
   ]
  },
  {
   "cell_type": "code",
   "execution_count": null,
   "metadata": {},
   "outputs": [],
   "source": []
  },
  {
   "cell_type": "markdown",
   "metadata": {
    "slideshow": {
     "slide_type": "slide"
    }
   },
   "source": [
    "### Anzeigen von Fehler\n",
    "\n",
    "* ```throws```-Klausel deklariert, dass Fehler in Methode auftreten können\n",
    "* ```throw```-Anweisung gibt Fehler aus\n",
    "\n",
    "\n",
    "```\n",
    "int div(int a, int b) throws ArithmeticException {\n",
    "    if (b == 0) { \n",
    "        throw new ArithmeticException(\"dividion by 0\");\n",
    "    } else { \n",
    "        return a / b;\n",
    "    }\n",
    "}\n",
    "```"
   ]
  },
  {
   "cell_type": "markdown",
   "metadata": {
    "slideshow": {
     "slide_type": "slide"
    }
   },
   "source": [
    "### Anzeigen von Fehler - Beispiel"
   ]
  },
  {
   "cell_type": "code",
   "execution_count": 7,
   "metadata": {},
   "outputs": [],
   "source": [
    "class MyException extends Exception {\n",
    "    MyException(String message) {\n",
    "        super(message);\n",
    "    }\n",
    "}\n",
    "\n",
    "int div(int a, int b) throws MyException {\n",
    "    if (b == 0) { \n",
    "        throw new MyException(\"division by 0\");\n",
    "    } else { \n",
    "        return a / b;\n",
    "    }\n",
    "}"
   ]
  },
  {
   "cell_type": "code",
   "execution_count": 8,
   "metadata": {},
   "outputs": [],
   "source": [
    "// Experimente"
   ]
  },
  {
   "cell_type": "markdown",
   "metadata": {
    "slideshow": {
     "slide_type": "slide"
    }
   },
   "source": [
    "### Throw Anweisung\n",
    "\n",
    "> \"Wirft\" ein Ausnahmeobjekt mit entsprechenden Fehlerinformationen:\n",
    "\n",
    "1. bricht normale Programmausführung ab\n",
    "2. sucht passenden Ausnahmebehandler \n",
    "3. führt Ausnahmebehandler aus und übergibt ihm Ausnahmeobjekt als Parameter\n",
    "4. setzt Programmausführung nach Ausnahmebehandlung fort\n"
   ]
  },
  {
   "cell_type": "markdown",
   "metadata": {
    "slideshow": {
     "slide_type": "slide"
    }
   },
   "source": [
    "### Fehlerbehandlung: try-catch\n",
    "\n",
    "> Programmteile die Fehler werfern werden in try-catch Block \"geschützt\"\n",
    "\n",
    "```java\n",
    "try {\n",
    "    // java code, der Exception wirft wirft\n",
    "} catch (Exception e) {\n",
    "    // Fehlerbehandlung\n",
    "}\n",
    "```"
   ]
  },
  {
   "cell_type": "markdown",
   "metadata": {
    "slideshow": {
     "slide_type": "slide"
    }
   },
   "source": [
    "### Beispiel"
   ]
  },
  {
   "cell_type": "code",
   "execution_count": 9,
   "metadata": {},
   "outputs": [],
   "source": [
    "// Beispiel Try-catch Block"
   ]
  },
  {
   "cell_type": "markdown",
   "metadata": {
    "slideshow": {
     "slide_type": "slide"
    }
   },
   "source": [
    "### Fehlerbehandlung: Try-catch-finally\n",
    "\n",
    "Optionale ```finally``` Klausel nach Catch Block\n",
    "* Code wird immer ausgeführt\n",
    "    * Sogar wenn in catch-block wieder Exceptions geworfen werden\n",
    "* Wird zum Aufräumen benutzt"
   ]
  },
  {
   "cell_type": "code",
   "execution_count": 10,
   "metadata": {},
   "outputs": [
    {
     "name": "stdout",
     "output_type": "stream",
     "text": [
      "division by 0\n",
      "in finally clause\n"
     ]
    },
    {
     "ename": "EvalException",
     "evalue": "something terrible happened - bailing out",
     "output_type": "error",
     "traceback": [
      "\u001b[1m\u001b[31m---------------------------------------------------------------------------\u001b[0m",
      "\u001b[1m\u001b[31mjava.lang.Exception: something terrible happened - bailing out\u001b[0m",
      "\u001b[1m\u001b[31m\tat .(#29:1)\u001b[0m"
     ]
    }
   ],
   "source": [
    "int a = 7;\n",
    "int b = 0;\n",
    "\n",
    "try { \n",
    "    div (a,  b);\n",
    "} catch (MyException e) {\n",
    "    System.out.println(e.getMessage());\n",
    "    throw new Exception(\"something terrible happened - bailing out\");\n",
    "} finally {\n",
    "    System.out.println(\"in finally clause\");\n",
    "}\n",
    "\n",
    "System.out.println(\"Ausführung geht hier weiter\")"
   ]
  },
  {
   "cell_type": "markdown",
   "metadata": {
    "slideshow": {
     "slide_type": "slide"
    }
   },
   "source": [
    "### Fehlerbehandlung: Check durch Compiler\n",
    "\n",
    "* Exceptions müssen entweder behandelt oder weiterpropagiert werden\n",
    "    * Propagieren von Exception wird durch ```throws```-Klausel angezeigt\n",
    "* Compiler prüft, dass Fehler behandelt werden"
   ]
  },
  {
   "cell_type": "code",
   "execution_count": 11,
   "metadata": {},
   "outputs": [
    {
     "name": "stdout",
     "output_type": "stream",
     "text": [
      "division by 0\n"
     ]
    }
   ],
   "source": [
    "void f(int a, int b) throws MyException{ \n",
    "    // Exception wird weiterpropagiert\n",
    "    div(a, b);\n",
    "}\n",
    "\n",
    "void g() {\n",
    "    try {\n",
    "        f(3, 0);\n",
    "    } catch (MyException e) {\n",
    "        System.out.println(e.getMessage());\n",
    "    }\n",
    "}\n",
    "\n",
    "g();"
   ]
  },
  {
   "cell_type": "markdown",
   "metadata": {
    "slideshow": {
     "slide_type": "slide"
    }
   },
   "source": [
    "### Weitere Aspekte\n",
    "\n",
    "Aspekte von Exceptions, die über diese Einführung hinausgehen:\n",
    "\n",
    "* Java unterscheidet verschiedene Klassen von Exceptions\n",
    "    * Einige dürfen, andere müssen gefangen werden\n",
    "* Try-catch Block kann beliebig viele verschiedene Exceptions behandeln"
   ]
  },
  {
   "cell_type": "markdown",
   "metadata": {
    "slideshow": {
     "slide_type": "slide"
    }
   },
   "source": [
    "#### Miniübung\n",
    "\n",
    "* Schreiben Sie eine eigene Exception Klasse mit dem Namen ```SwearWordException```. \n",
    "* Schreiben Sie eine Methode ```void printText(String text)```.  Diese soll wenn ein unschönes Wort im Text erscheint, eine Exception vom Typ ```SwearWordException``` werfen. Das entsprechende Wort soll in der Exception gespeichert werden.\n",
    "* Schreiben Sie eine Methode ```void printCensored(String text)``` welche die Methode ```printText``` aufruft. Im Fall, dass eine Exception auftritt, soll der Text \"censored\" ausgegeben werden.  "
   ]
  },
  {
   "cell_type": "code",
   "execution_count": null,
   "metadata": {},
   "outputs": [],
   "source": []
  }
 ],
 "metadata": {
  "celltoolbar": "Slideshow",
  "kernelspec": {
   "display_name": "Java",
   "language": "java",
   "name": "java"
  },
  "language_info": {
   "codemirror_mode": "java",
   "file_extension": ".java",
   "mimetype": "text/x-java-source",
   "name": "Java",
   "pygments_lexer": "java",
   "version": "11.0.4+11"
  },
  "rise": {}
 },
 "nbformat": 4,
 "nbformat_minor": 2
}
