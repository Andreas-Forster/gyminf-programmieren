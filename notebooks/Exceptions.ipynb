{
 "cells": [
  {
   "cell_type": "markdown",
   "metadata": {
    "slideshow": {
     "slide_type": "slide"
    }
   },
   "source": [
    "# Fehlerbehandlung\n",
    "\n",
    "#### Marcel Lüthi, Departement Mathematik und Informatik, Universität Basel"
   ]
  },
  {
   "cell_type": "markdown",
   "metadata": {
    "slideshow": {
     "slide_type": "slide"
    }
   },
   "source": [
    "### Fehlerbehandlung"
   ]
  },
  {
   "cell_type": "markdown",
   "metadata": {},
   "source": [
    "Methoden können unter gewissen umständen Fehlschlagen\n",
    "\n",
    "Beispiele:\n",
    "* Lesen eines nicht existierenden Elements in Array\n",
    "* Nutzen einer Datei, die nicht vorhanden ist\n",
    "* Division durch 0\n",
    "* ...\n",
    "\n",
    "> Gute Fehlerbehandlung Schlüssel zu stabilen Programmen"
   ]
  },
  {
   "cell_type": "markdown",
   "metadata": {
    "slideshow": {
     "slide_type": "slide"
    }
   },
   "source": [
    "### Fehlerbehandlung\n",
    "\n",
    "Was soll die folgende Methode zurückgeben wenn durch 0 dividiert wird?\n",
    "```java\n",
    "int divide(int a, int b) {\n",
    "    return a / b;\n",
    "}\n",
    "```"
   ]
  },
  {
   "cell_type": "markdown",
   "metadata": {
    "slideshow": {
     "slide_type": "slide"
    }
   },
   "source": [
    "### Fehlerbehandlung mit \"Hausmitteln\"\n",
    "\n",
    "```\n",
    "static final int ERROR = -9999999999\n",
    "\n",
    "int divide(int a, int b) { \n",
    "    if (b == ) {\n",
    "        return ERROR;\n",
    "    } else { \n",
    "        return a / b;\n",
    "    }\n",
    "```"
   ]
  },
  {
   "cell_type": "markdown",
   "metadata": {
    "slideshow": {
     "slide_type": "slide"
    }
   },
   "source": [
    "### Fehlerbehandlung mit \"Hausmitteln\"\n",
    "\n",
    "Aufruf\n",
    "\n",
    "```java\n",
    "// Berechne (a / b) / d;\n",
    "\n",
    "int resDiv1 = divide(a, b);\n",
    "if (resDiv1 == ERROR) {\n",
    "    System.out.println(\"Division durch 0\");\n",
    "```\n",
    "```java\n",
    "} else { \n",
    "    int resDiv2 = resDiv1 / d;\n",
    "    if (resDiv2 == ERROR) { \n",
    "        System.out.println(\"Division durch 0\");\n",
    "    } else { \n",
    "        System.out.println(\"Resultat \" + resDiv2);\n",
    "    }\n",
    "}\n",
    "```"
   ]
  },
  {
   "cell_type": "markdown",
   "metadata": {
    "slideshow": {
     "slide_type": "slide"
    }
   },
   "source": [
    "### Nachteile\n",
    "\n",
    "* Brauchen speziellen Fehlerwert. \n",
    "    * Was ist wenn Resultat Fehlerwert entspricht?\n",
    "* Fehler kann von Nutzer der Methode vergessen oder ignoriert werden\n",
    "* Tief-verschachtelte Ifs bei vielen Fehlermöglichkeiten"
   ]
  },
  {
   "cell_type": "markdown",
   "metadata": {
    "slideshow": {
     "slide_type": "slide"
    }
   },
   "source": [
    "### Was macht Java?\n"
   ]
  },
  {
   "cell_type": "code",
   "execution_count": 3,
   "metadata": {},
   "outputs": [
    {
     "ename": "EvalException",
     "evalue": "/ by zero",
     "output_type": "error",
     "traceback": [
      "\u001b[1m\u001b[31m---------------------------------------------------------------------------\u001b[0m",
      "\u001b[1m\u001b[31mjava.lang.ArithmeticException: / by zero\u001b[0m",
      "\u001b[1m\u001b[31m\tat .div(#16:2)\u001b[0m",
      "\u001b[1m\u001b[31m\tat .(#19:1)\u001b[0m"
     ]
    }
   ],
   "source": [
    "int div(int a, int b) {\n",
    "    return a / b;\n",
    "}\n",
    "div(1, 0);"
   ]
  },
  {
   "cell_type": "markdown",
   "metadata": {
    "slideshow": {
     "slide_type": "slide"
    }
   },
   "source": [
    "### Exceptions:\n",
    "\n",
    "> Klassen der Java Bibliothek, die Fehler anzeigen\n",
    "\n",
    "Grundsätzliche normale Java-Klasse (seihe [API-Documentation](https://docs.oracle.com/en/java/javase/11/docs/api/java.base/java/lang/ArithmeticException.html) )"
   ]
  },
  {
   "cell_type": "code",
   "execution_count": 8,
   "metadata": {},
   "outputs": [
    {
     "name": "stdout",
     "output_type": "stream",
     "text": [
      "Fehler in Berechnung\n"
     ]
    }
   ],
   "source": [
    "ArithmeticException e = new ArithmeticException(\"Fehler in Berechnung\");\n",
    "System.out.println(e.getMessage());"
   ]
  },
  {
   "cell_type": "markdown",
   "metadata": {
    "slideshow": {
     "slide_type": "slide"
    }
   },
   "source": [
    "### Anzeigen von Fehler\n",
    "\n",
    "* ```throws```-Klausel deklariert, dass Fehler in Methode auftreten können\n",
    "* ```throw```-Anweisung gibt Fehler aus\n",
    "\n",
    "\n",
    "```\n",
    "int div(int a, int b) throws ArithmeticException {\n",
    "    if (b == 0) { \n",
    "        throw new ArithmeticException(\"dividion by 0\");\n",
    "    } else { \n",
    "        return a / b;\n",
    "    }\n",
    "}\n",
    "```"
   ]
  },
  {
   "cell_type": "markdown",
   "metadata": {
    "slideshow": {
     "slide_type": "slide"
    }
   },
   "source": [
    "### Anzeigen von Fehler - Beispiel"
   ]
  },
  {
   "cell_type": "code",
   "execution_count": 11,
   "metadata": {},
   "outputs": [],
   "source": [
    "class MyException extends Exception {\n",
    "    MyException(String message) {\n",
    "        super(message);\n",
    "    }\n",
    "}\n",
    "\n",
    "int div(int a, int b) throws MyException {\n",
    "    if (b == 0) { \n",
    "        throw new MyException(\"division by 0\");\n",
    "    } else { \n",
    "        return a / b;\n",
    "    }\n",
    "}"
   ]
  },
  {
   "cell_type": "code",
   "execution_count": 7,
   "metadata": {},
   "outputs": [
    {
     "name": "stdout",
     "output_type": "stream",
     "text": [
      "0\n"
     ]
    },
    {
     "ename": "EvalException",
     "evalue": "division by 0",
     "output_type": "error",
     "traceback": [
      "\u001b[1m\u001b[31m---------------------------------------------------------------------------\u001b[0m",
      "\u001b[1m\u001b[31mREPL.$JShell$23$MyException: division by 0\u001b[0m",
      "\u001b[1m\u001b[31m\tat .div(#24:1)\u001b[0m",
      "\u001b[1m\u001b[31m\tat .(#26:1)\u001b[0m"
     ]
    }
   ],
   "source": [
    "System.out.println(div(1, 3));\n",
    "System.out.println(div(1, 0));"
   ]
  },
  {
   "cell_type": "markdown",
   "metadata": {
    "slideshow": {
     "slide_type": "slide"
    }
   },
   "source": [
    "### Throw Anweisung\n",
    "\n",
    "> \"Wirft\" ein Ausnahmeobjekt mit entsprechenden Fehlerinformationen:\n",
    "\n",
    "* bricht normale Programmausführung ab,\n",
    "* sucht passenden Ausnahmebehandler \n",
    "* führt Ausnahmebehandler aus und übergibt ihm Ausnahmeobjekt als Parameter,\n",
    "* setzt Programmausführung nach Ausnahmebehandlung fort\n"
   ]
  },
  {
   "cell_type": "markdown",
   "metadata": {
    "slideshow": {
     "slide_type": "slide"
    }
   },
   "source": [
    "### Fehlerbehandlung\n",
    "\n",
    "![Exceptions](images/exception-1.png)\n",
    "\n",
    "Wenn ein Fehler (eine Ausnahme) auftritt:\n",
    "\n",
    "* Ausführung wird abgebrochen.\n",
    "* Fehlerbehandlungscode wird ausgeführt.\n",
    "* Programm wird nach Fehlerbehandlungscode weiter ausgeführt"
   ]
  },
  {
   "cell_type": "markdown",
   "metadata": {
    "slideshow": {
     "slide_type": "slide"
    }
   },
   "source": [
    "### Fehlerbehandlung: Try-Catch\n",
    "\n",
    "> Programmteile die Fehler werfern werden in Try-catch Block \"geschützt\"\n",
    "\n",
    "```java\n",
    "try {\n",
    "    // java code, der Exception wirft wirft\n",
    "} catch (Exception e) {\n",
    "    // Fehlerbehandlung\n",
    "}\n",
    "```"
   ]
  },
  {
   "cell_type": "markdown",
   "metadata": {
    "slideshow": {
     "slide_type": "slide"
    }
   },
   "source": [
    "### Beispiel"
   ]
  },
  {
   "cell_type": "code",
   "execution_count": 8,
   "metadata": {},
   "outputs": [
    {
     "name": "stdout",
     "output_type": "stream",
     "text": [
      "division by 0\n",
      "Ausführung geht hier weiter\n"
     ]
    }
   ],
   "source": [
    "int a = 7;\n",
    "int b = 0;\n",
    "\n",
    "try { \n",
    "    div (a,  b);\n",
    "} catch (MyException e) {\n",
    "    System.out.println(e.getMessage());\n",
    "}\n",
    "\n",
    "System.out.println(\"Ausführung geht hier weiter\")"
   ]
  },
  {
   "cell_type": "markdown",
   "metadata": {
    "slideshow": {
     "slide_type": "slide"
    }
   },
   "source": [
    "### Fehlerbehandlung: Try-catch-finally\n",
    "\n",
    "Optionale ```finally``` Klausel nach Catch Block\n",
    "* Code wird immer ausgeführt\n",
    "    * Sogar wenn in catch-block wieder Exceptions geworfen werden\n",
    "* Wird zum Aufräument benutzt"
   ]
  },
  {
   "cell_type": "code",
   "execution_count": 17,
   "metadata": {},
   "outputs": [
    {
     "name": "stdout",
     "output_type": "stream",
     "text": [
      "division by 0\n",
      "in finally clause\n"
     ]
    },
    {
     "ename": "EvalException",
     "evalue": "something terrible happend - bailung out",
     "output_type": "error",
     "traceback": [
      "\u001b[1m\u001b[31m---------------------------------------------------------------------------\u001b[0m",
      "\u001b[1m\u001b[31mjava.lang.Exception: something terrible happend - bailung out\u001b[0m",
      "\u001b[1m\u001b[31m\tat .(#38:1)\u001b[0m"
     ]
    }
   ],
   "source": [
    "int a = 7;\n",
    "int b = 0;\n",
    "\n",
    "try { \n",
    "    div (a,  b);\n",
    "} catch (MyException e) {\n",
    "    System.out.println(e.getMessage());\n",
    "    throw new Exception(\"something terrible happend - bailung out\");\n",
    "} finally {\n",
    "    System.out.println(\"in finally clause\");\n",
    "}\n",
    "\n",
    "System.out.println(\"Ausführung geht hier weiter\")"
   ]
  },
  {
   "cell_type": "markdown",
   "metadata": {
    "slideshow": {
     "slide_type": "slide"
    }
   },
   "source": [
    "### Fehlerbehandlung: Check durch Compiler\n",
    "\n",
    "* Exceptions müssen entweder behandelt oder weiterpropagiert werden\n",
    "    * Propagieren von Exception wird durch ```throws```-Klausel angezeigt\n",
    "* Compiler prüft, dass Fehler behandelt werden"
   ]
  },
  {
   "cell_type": "code",
   "execution_count": 1,
   "metadata": {},
   "outputs": [
    {
     "ename": "CompilationException",
     "evalue": "",
     "output_type": "error",
     "traceback": [
      "\u001b[1m\u001b[30m|   \u001b[1m\u001b[30mvoid f(int a, int b) throws MyException{ \u001b[0m",
      "\u001b[1m\u001b[30m|   \u001b[1m\u001b[30m    // Exception wird weiterpropagiert\u001b[0m",
      "\u001b[1m\u001b[30m|   \u001b[1m\u001b[30m    div(a, b);\u001b[0m",
      "\u001b[1m\u001b[30m|   \u001b[1m\u001b[30m}\u001b[0m",
      "\u001b[1m\u001b[31mUnresolved dependencies:\u001b[0m",
      "\u001b[1m\u001b[31m   - class MyException\u001b[0m",
      "\u001b[1m\u001b[31m   - method div(int,int)\u001b[0m"
     ]
    }
   ],
   "source": [
    "void f(int a, int b) throws MyException{ \n",
    "    // Exception wird weiterpropagiert\n",
    "    div(a, b);\n",
    "}\n",
    "\n",
    "void g() {\n",
    "    try {\n",
    "        f(3, 0);\n",
    "    } catch (MyException e) {\n",
    "        System.out.println(e.getMessage());\n",
    "    }\n",
    "}\n",
    "\n",
    "g();"
   ]
  },
  {
   "cell_type": "markdown",
   "metadata": {
    "slideshow": {
     "slide_type": "slide"
    }
   },
   "source": [
    "### Weitere Aspekte\n",
    "\n",
    "Aspekte von Exception die über diese Einführung hinausgehen:\n",
    "\n",
    "* Java unterscheidet verschiedener Klassen von Exceptions\n",
    "    * Einige dürfen, andere müssen gefangen werden\n",
    "* Try-catch Block kann beliebig viele verschiedene Exceptions behandeln"
   ]
  },
  {
   "cell_type": "code",
   "execution_count": null,
   "metadata": {},
   "outputs": [],
   "source": []
  }
 ],
 "metadata": {
  "celltoolbar": "Slideshow",
  "kernelspec": {
   "display_name": "Java",
   "language": "java",
   "name": "java"
  },
  "language_info": {
   "codemirror_mode": "java",
   "file_extension": ".java",
   "mimetype": "text/x-java-source",
   "name": "Java",
   "pygments_lexer": "java",
   "version": "11.0.4+11"
  },
  "rise": {}
 },
 "nbformat": 4,
 "nbformat_minor": 2
}
