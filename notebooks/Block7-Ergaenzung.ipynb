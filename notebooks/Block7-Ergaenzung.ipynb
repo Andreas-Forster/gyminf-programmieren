{
 "cells": [
  {
   "cell_type": "markdown",
   "metadata": {
    "slideshow": {
     "slide_type": "skip"
    }
   },
   "source": [
    "### Google Colab Integration\n",
    "\n",
    "Die folgende Zelle können Sie überspringen, wenn Sie mit einer lokalen Installation arbeiten. Wenn Sie das Notebook auf Google-Colab ausführen, dann müssen Sie als erstes diese Zelle ausführen und danach die Seite neu laden (F5)."
   ]
  },
  {
   "cell_type": "code",
   "execution_count": null,
   "metadata": {
    "slideshow": {
     "slide_type": "skip"
    }
   },
   "outputs": [],
   "source": [
    "!echo \"Update environment...\"\n",
    "!apt update -q  &> /dev/null\n",
    "!echo \"Install Java...\"\n",
    "!apt-get install -q openjdk-11-jdk-headless &> /dev/null\n",
    "!echo \"Install Jupyter java kernel...\"\n",
    "!curl -L https://github.com/SpencerPark/IJava/releases/download/v1.3.0/ijava-1.3.0.zip -o ijava-kernel.zip &> /dev/null\n",
    "!unzip -q ijava-kernel.zip -d ijava-kernel && cd ijava-kernel && python3 install.py --sys-prefix &> /dev/null\n",
    "!echo \"Downloading turtle jar ...\"\n",
    "!curl -L https://github.com/Andreas-Forster/gyminf-programmieren/raw/master/notebooks/jturtle-0.6.jar -o jturtle-0.6.jar &> /dev/null\n",
    "!echo \"Done.\""
   ]
  },
  {
   "cell_type": "markdown",
   "metadata": {
    "slideshow": {
     "slide_type": "slide"
    }
   },
   "source": [
    "# Block 7 - Ergänzung\n",
    "\n",
    "#### Andreas Morel-Forster, Departement Mathematik und Informatik, Universität Basel"
   ]
  },
  {
   "cell_type": "markdown",
   "metadata": {
    "slideshow": {
     "slide_type": "slide"
    }
   },
   "source": [
    "## Fallstudie - Prüfung in Java\n",
    "\n",
    "Wir wollen die Prüfungsergebnisse von Personen in einer Java-Klasse speichern. Jedes Ergebnis einer Person soll dabei als ein Objekt erstellt werden. Dabei soll für jede Person der Name und die erreichten Punkte gespeichert werden. Dafür müssen wir:\n",
    "\n",
    "- Den Namen und die Punkte als Objektvariablen definieren. Wenn wir neue Objekte erzeugen, gibt es für jedes dieser Objekt eine neues Paar dieser Variablen.\n",
    "- Wir schreiben uns für die einfachere Verwendung einen Konstruktor.\n",
    "- Wir schreiben zudem eine Methode welche die Punkte und den Namen ausgibt. Diese Methode muss eine Objektmethode sein, da nur Objektmethoden auf Objektvariablen zugreifen können.\n",
    "\n",
    "Das folgende Beispiel erstellt dann von dieser Klasse zwei Objekte mit unterschiedlichen Werten und gibt diese dann auf die Konsole aus."
   ]
  },
  {
   "cell_type": "code",
   "execution_count": null,
   "metadata": {},
   "outputs": [],
   "source": [
    "class Exam {\n",
    "    \n",
    "    // Objektvariablen der Daten für jeder Person, werden für jedes neue Objekt neu angelegt\n",
    "    String name;\n",
    "    double reachedPoints;\n",
    "    \n",
    "    // Konstruktor\n",
    "    Exam(String name, double points) {\n",
    "        this.name = name;\n",
    "        reachedPoints = points;\n",
    "    }\n",
    "    \n",
    "    // Objekt-Methode, hat Zugriff auf die Objektvariablen\n",
    "    void printPoints() {\n",
    "        System.out.println(\"Erreichte Punkte von \"+name+\": \"+reachedPoints);\n",
    "    }\n",
    "}\n",
    "\n",
    "// Erzeugen von zwei Objekten, danach gibt es zwei Namen und zwei erreichte Punkte Variablen im Speicher\n",
    "Exam e1 = new Exam(\"Siri\", 24.5);\n",
    "Exam e2 = new Exam(\"Alexa\", 22.5);\n",
    "\n",
    "// Aufrufen der Objektmethoden erfolgt auf den Objekt-Variablen\n",
    "e1.printPoints();\n",
    "e2.printPoints();"
   ]
  },
  {
   "cell_type": "markdown",
   "metadata": {},
   "source": [
    "### Die Prüfung - Notenskala\n",
    "\n",
    "Wir wollen für eine Prüfung eine Notenskala definieren. Es soll eine lineare Notenskala sein. Die Notenskala ist definiert durch die benötigten Punkte für eine 4 und eine 6. Wir wollen dann eine Methode die für eine gewisse Anzahl Punkten die entsprechende Note berechnet.\n",
    "\n",
    "Weil die Notenskala für alle Prüfungen gilt, können wir Sie auf Klassenebene definieren. Dafür müssen wir:\n",
    "\n",
    "- Die benötigten Punkte für die Note 4 und die Note 6 speichern. Um Klassenvariablen zu definieren müssen wir die Variablen als **static** definieren.\n",
    "- Wir definieren eine Klassenmethode. Die Klassenmethode kann auf die Klassenvariablen zugreifen."
   ]
  },
  {
   "cell_type": "code",
   "execution_count": null,
   "metadata": {},
   "outputs": [],
   "source": [
    "class Exam {\n",
    "    \n",
    "    // Klassenvariablen existieren nur einmal im Speicher, egal wie viele Objekte erzeugt wurden.\n",
    "    static double neededPointsFor4 = 17.0;\n",
    "    static double neededPointsFor6 = 24.0;\n",
    "    \n",
    "    // Klassenmethode, kann auf Klassenvariablen, nicht aber auf Objektvariablen zugreifen.\n",
    "    static double calculateGrade(double points) {\n",
    "        double pointsPerGrade = (neededPointsFor6 - neededPointsFor4)/2.0;\n",
    "        return 4.0 + (points - neededPointsFor4) / pointsPerGrade;\n",
    "    }\n",
    "}\n",
    "\n",
    "// Klassenmethode wird mit Hilfe des Klassennamens aufgerufen\n",
    "double grade = Exam.calculateGrade(10.0);\n",
    "System.out.println(\"Die Note für zehn Punkte ist: \"+grade);"
   ]
  },
  {
   "cell_type": "markdown",
   "metadata": {},
   "source": [
    "### Die komplette Prüfung\n",
    "\n",
    "Wir können nun beides in der gleichen Klasse implementieren. Dabei können wir nun auch ausnutzen und eine zweite Objektmethode implementieren, welche die Note der Person ausgibt. Dies ist möglich, weil wir von Objektmethoden auch Klassenmethoden aufrufen können."
   ]
  },
  {
   "cell_type": "code",
   "execution_count": null,
   "metadata": {},
   "outputs": [],
   "source": [
    "class Exam {\n",
    "\n",
    "    static double neededPointsFor4 = 17.0;\n",
    "    static double neededPointsFor6 = 24.0;\n",
    "    \n",
    "    String name;\n",
    "    double reachedPoints;\n",
    "    \n",
    "    Exam(String name, double points) {\n",
    "        this.name = name;\n",
    "        reachedPoints = points;\n",
    "    }\n",
    "    \n",
    "    void printPoints() {\n",
    "        System.out.println(\"Erreichte Punkte von \"+name+\": \"+reachedPoints);\n",
    "    }\n",
    "    \n",
    "    static double calculateGrade(double points) {\n",
    "        double pointsPerGrade = (neededPointsFor6 - neededPointsFor4)/2.0;\n",
    "        return 4.0 + (points - neededPointsFor4) / pointsPerGrade;\n",
    "    }\n",
    "    \n",
    "    // eine Objektmethode kann eine Klassenmethode ohne die Angabe des Klassennamens aufrufen\n",
    "    void printGrade() {\n",
    "        System.out.println(\"Erreichte Note von \"+name+\": \"+ calculateGrade(reachedPoints));\n",
    "    }\n",
    "}\n",
    "\n",
    "Exam e1 = new Exam(\"Siri\", 24.5);\n",
    "Exam e2 = new Exam(\"Alexa\", 22.5);\n",
    "\n",
    "e1.printPoints();\n",
    "e2.printPoints();\n",
    "e1.printGrade();\n",
    "e2.printGrade();"
   ]
  },
  {
   "cell_type": "markdown",
   "metadata": {},
   "source": [
    "### Ändern der Notenskala\n",
    "\n",
    "Im folgenden ist noch die Änderung der Notenskala gezeigt. Wir müssen nur die Klassenvariable ändern, dann ändert sich die Notenberechnung für alle Prüfungen."
   ]
  },
  {
   "cell_type": "code",
   "execution_count": null,
   "metadata": {},
   "outputs": [],
   "source": [
    "System.out.println(\"change grading scheme ....\");\n",
    "Exam.neededPointsFor6 = 26.0;\n",
    "e1.printGrade();\n",
    "e2.printGrade();"
   ]
  },
  {
   "cell_type": "markdown",
   "metadata": {},
   "source": [
    "### Ändern der Punkte einer Person\n",
    "\n",
    "Wenn wir die Punkte einer Person ändern, ändern sich die anderen Prüfungen nicht."
   ]
  },
  {
   "cell_type": "code",
   "execution_count": null,
   "metadata": {},
   "outputs": [],
   "source": [
    "System.out.println(\"change reached points ....\");\n",
    "e2.reachedPoints = 25.0;\n",
    "e1.printGrade();\n",
    "e2.printGrade();"
   ]
  },
  {
   "cell_type": "code",
   "execution_count": null,
   "metadata": {},
   "outputs": [],
   "source": []
  }
 ],
 "metadata": {
  "celltoolbar": "Slideshow",
  "kernelspec": {
   "display_name": "Java",
   "language": "java",
   "name": "java"
  },
  "language_info": {
   "codemirror_mode": "java",
   "file_extension": ".jshell",
   "mimetype": "text/x-java-source",
   "name": "Java",
   "pygments_lexer": "java",
   "version": "16.0.1+9"
  },
  "rise": {}
 },
 "nbformat": 4,
 "nbformat_minor": 2
}
