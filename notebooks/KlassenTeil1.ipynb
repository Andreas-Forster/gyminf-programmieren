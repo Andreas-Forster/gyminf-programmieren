{
 "cells": [
  {
   "cell_type": "markdown",
   "metadata": {},
   "source": [
    "### Google Colab Integration\n",
    "\n",
    "Die folgende Zelle können Sie überspringen, wenn Sie mit einer lokalen Installation arbeiten. Wenn Sie das Notebook auf Google-Colab ausführen, dann müssen Sie als erstes diese Zelle ausführen und danach die Seite neu laden (F5)."
   ]
  },
  {
   "cell_type": "code",
   "execution_count": null,
   "metadata": {
    "slideshow": {
     "slide_type": "skip"
    }
   },
   "outputs": [],
   "source": [
    "!echo \"Update environment...\"\n",
    "!apt update -q  &> /dev/null\n",
    "!echo \"Install Java...\"\n",
    "!apt-get install -q openjdk-11-jdk-headless &> /dev/null\n",
    "!echo \"Install Jupyter java kernel...\"\n",
    "!curl -L https://github.com/SpencerPark/IJava/releases/download/v1.3.0/ijava-1.3.0.zip -o ijava-kernel.zip &> /dev/null\n",
    "!unzip -q ijava-kernel.zip -d ijava-kernel && cd ijava-kernel && python3 install.py --sys-prefix &> /dev/null\n",
    "!echo \"Downloading turtle jar ...\"\n",
    "!curl -L https://github.com/Andreas-Forster/gyminf-programmieren/raw/master/notebooks/jturtle-0.6.jar -o jturtle-0.6.jar &> /dev/null\n",
    "!echo \"Done.\""
   ]
  },
  {
   "cell_type": "markdown",
   "metadata": {
    "slideshow": {
     "slide_type": "slide"
    }
   },
   "source": [
    "# Klassen (Kurze Einführung)\n",
    "\n",
    "### Andreas Morel-Forster, Departement Mathematik und Informatik, Universität Basel"
   ]
  },
  {
   "cell_type": "code",
   "execution_count": null,
   "metadata": {
    "slideshow": {
     "slide_type": "skip"
    }
   },
   "outputs": [],
   "source": [
    "%jars jturtle-0.6.jar\n",
    "\n",
    "import static ch.unibas.informatik.jturtle.TurtleCommands.*;"
   ]
  },
  {
   "cell_type": "markdown",
   "metadata": {},
   "source": [
    "# Klasse\n",
    "\n",
    "* Definiert einen neuen Typ.\n",
    "* Wir verwenden Klasse *im Moment* um Methoden und Variablen zusammenzufassen.\n",
    "\n",
    "Minimale Klasse\n",
    "\n",
    "```java\n",
    "class C {\n",
    "\n",
    "}\n",
    "```"
   ]
  },
  {
   "cell_type": "markdown",
   "metadata": {
    "slideshow": {
     "slide_type": "slide"
    }
   },
   "source": [
    "### Methoden im Klassenkontext\n",
    "\n",
    "* In Java Programmen müssen Methoden immer Teil einer Klasse sein\n",
    "\n",
    "```java\n",
    "class MyClass {\n",
    " \n",
    "    static void method1() {\n",
    "        // Implementation \n",
    "    }\n",
    "    \n",
    "    static void method2() {\n",
    "        // Implementation\n",
    "    }\n",
    "}\n",
    "```"
   ]
  },
  {
   "cell_type": "markdown",
   "metadata": {
    "slideshow": {
     "slide_type": "fragment"
    }
   },
   "source": [
    "> Jupyter-Notebooks und die JShell fügen den Klassenkontext implizit dazu."
   ]
  },
  {
   "cell_type": "markdown",
   "metadata": {
    "slideshow": {
     "slide_type": "slide"
    }
   },
   "source": [
    "## Aufrufen von Klassen-Methoden\n",
    "\n",
    "* Innerhalb der Klasse können die Methoden mit ihrem Namen aufgerufen werden.\n",
    "* Von ausserhalb der Klasse muss man vor dem Methodennamen den Klassennamen angeben, getrennt durch einen Punkt.\n",
    "\n",
    "```java\n",
    "class MyClass {\n",
    "    static void method1() {\n",
    "        method2(); \n",
    "    }\n",
    "    \n",
    "    static void method2() {  }\n",
    "}\n",
    "\n",
    "MyClass.method1();\n",
    "\n",
    "```"
   ]
  },
  {
   "cell_type": "markdown",
   "metadata": {
    "slideshow": {
     "slide_type": "slide"
    }
   },
   "source": [
    "#### Miniübung\n",
    "\n",
    "* Rufen Sie eine Methode nach der Klasse auf.\n",
    "* Rufen Sie innerhalb einer Methode die andere Methode auf."
   ]
  },
  {
   "cell_type": "code",
   "execution_count": null,
   "metadata": {
    "slideshow": {
     "slide_type": "-"
    }
   },
   "outputs": [],
   "source": [
    "class Robot {\n",
    "    static void doIt() {\n",
    "        // Implementation\n",
    "    }\n",
    "\n",
    "    static void make() {\n",
    "        // Implementation\n",
    "    }\n",
    "}"
   ]
  },
  {
   "cell_type": "markdown",
   "metadata": {
    "slideshow": {
     "slide_type": "slide"
    }
   },
   "source": [
    "### Lokale und statische Variablen\n",
    "\n",
    "```java\n",
    "class C {\n",
    "    static int a;\n",
    "    \n",
    "    static void p() { \n",
    "        int x;\n",
    "    }    \n",
    "    \n",
    "    static void q() { \n",
    "        int y;\n",
    "    }    \n",
    "}\n",
    "```\n",
    "\n",
    "* ```a``` ist eine *statische Variable*, welche in jeder Methode der Klasse sichtbar ist. \n",
    "* ```x``` und ```y``` sind *lokale Variablen*.\n",
    "    * Nur in jeweiliger Methode sichtbar\n"
   ]
  },
  {
   "cell_type": "markdown",
   "metadata": {
    "slideshow": {
     "slide_type": "slide"
    }
   },
   "source": [
    "#### Experiment"
   ]
  },
  {
   "cell_type": "code",
   "execution_count": 7,
   "metadata": {
    "slideshow": {
     "slide_type": "-"
    }
   },
   "outputs": [],
   "source": [
    "class C {\n",
    "    static int a;\n",
    "    \n",
    "    static void p() { \n",
    "        int x;\n",
    "    }    \n",
    "    \n",
    "    static void q() {\n",
    "        int y;\n",
    "    }\n",
    "}"
   ]
  },
  {
   "cell_type": "markdown",
   "metadata": {
    "slideshow": {
     "slide_type": "slide"
    }
   },
   "source": [
    "### Sichtbarkeit von Namen\n",
    "\n",
    "![sichtbarkeit](images/scope.png)"
   ]
  },
  {
   "cell_type": "markdown",
   "metadata": {
    "slideshow": {
     "slide_type": "slide"
    }
   },
   "source": [
    "### Experimente mit der Sichtbarkeit"
   ]
  },
  {
   "cell_type": "code",
   "execution_count": null,
   "metadata": {},
   "outputs": [],
   "source": [
    "class Sample {\n",
    "\n",
    "    static int x = 0;\n",
    "    \n",
    "    static void P() {\n",
    "        System.out.println( x); \n",
    "    }\n",
    "\n",
    "    static void experiment() {\n",
    "        System.out.println( x); \n",
    "        int x = 1;\n",
    "        System.out.println( x); \n",
    "        P();\n",
    "        if (x > 0) {\n",
    "             int y;\n",
    "        } else {\n",
    "             int z; \n",
    "        }\n",
    "    }\n",
    "}\n",
    "Sample.experiment();"
   ]
  },
  {
   "cell_type": "markdown",
   "metadata": {
    "slideshow": {
     "slide_type": "slide"
    }
   },
   "source": [
    "### Lokalität\n",
    "\n",
    "> Variablen sollen möglichst lokal deklariert werden\n",
    "\n",
    "##### Vorteile\n",
    "\n",
    "* Übersicht - Deklaration und Nutzung nahe beisammen\n",
    "* Sicherheit - Werte von Variablen werden nicht aus anderen Methoden überschrieben\n",
    "* Effizienz - Zugriff auf lokale Variablen ist oft schneller als auf statische Variablen\n"
   ]
  },
  {
   "cell_type": "code",
   "execution_count": null,
   "metadata": {},
   "outputs": [],
   "source": []
  }
 ],
 "metadata": {
  "celltoolbar": "Slideshow",
  "kernelspec": {
   "display_name": "Java",
   "language": "java",
   "name": "java"
  },
  "language_info": {
   "codemirror_mode": "java",
   "file_extension": ".jshell",
   "mimetype": "text/x-java-source",
   "name": "Java",
   "pygments_lexer": "java",
   "version": "16.0.1+9"
  }
 },
 "nbformat": 4,
 "nbformat_minor": 2
}
